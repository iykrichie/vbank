{
 "cells": [
  {
   "cell_type": "markdown",
   "metadata": {
    "application/vnd.databricks.v1+cell": {
     "cellMetadata": {
      "byteLimit": 2048000,
      "rowLimit": 10000
     },
     "inputWidgets": {},
     "nuid": "3b145176-22f7-41ee-81ca-44151d7d44ec",
     "showTitle": false,
     "title": ""
    }
   },
   "source": [
    "# Client Demographs "
   ]
  },
  {
   "cell_type": "code",
   "execution_count": 0,
   "metadata": {
    "application/vnd.databricks.v1+cell": {
     "cellMetadata": {
      "byteLimit": 2048000,
      "rowLimit": 10000
     },
     "inputWidgets": {},
     "nuid": "7525fa0a-d0cc-4128-841e-3c7d150c6f9a",
     "showTitle": false,
     "title": ""
    },
    "tags": []
   },
   "outputs": [],
   "source": [
    "from sqlalchemy import create_engine\n",
    "import pandas as pd \n",
    "import numpy as np \n",
    "\n",
    "import json\n",
    "with open('/Workspace/Credentials/db_data.json', 'r') as fp:\n",
    "    data = json.load(fp)\n",
    "\n",
    "\n",
    "host = data['redshift']['host']\n",
    "user = data['redshift']['user']\n",
    "passwd = data['redshift']['passwd']\n",
    "database = data['redshift']['database']\n",
    "\n",
    "conn = create_engine(f\"postgresql+psycopg2://{user}:{passwd}@{host}:5439/{database}\")\n",
    "\n",
    "\n",
    "pd.set_option('display.float_format', lambda x: '%.2f' % x)\n",
    "\n",
    "\n",
    "from datetime import datetime, timedelta\n",
    "today = datetime.today().strftime('%Y-%m-%d')\n",
    "yesterday =  (datetime.today() - timedelta(days = 1)).strftime('%Y-%m-%d')\n",
    "print(today)\n",
    "print(yesterday)\n",
    "\n",
    "\n",
    "last_2_wks = datetime.today() - timedelta(days = 14)\n",
    "last_2_wks = last_2_wks.strftime('%Y-%m-%d')\n",
    "print('------------------------------------')\n",
    "print(last_2_wks)\n",
    "\n",
    "print('\\n')\n",
    "now = datetime.today().strftime('%Y-%m-%d %H:%M:%S')\n",
    "\n",
    "last_30_mins = (datetime.today() - timedelta(days = 1)).strftime('%Y-%m-%d %H:%M:%S')\n",
    "trunc_last_30_mins = (datetime.today() - timedelta(days = 1)).strftime('%Y-%m-%d %H:%M')\n",
    "print(last_30_mins, 'to', now)\n"
   ]
  },
  {
   "cell_type": "markdown",
   "metadata": {
    "application/vnd.databricks.v1+cell": {
     "cellMetadata": {
      "byteLimit": 2048000,
      "rowLimit": 10000
     },
     "inputWidgets": {},
     "nuid": "7674dd03-faf1-4b62-9b8e-e3546c07bdf1",
     "showTitle": false,
     "title": ""
    }
   },
   "source": [
    "## Generation demographic attributes"
   ]
  },
  {
   "cell_type": "code",
   "execution_count": 0,
   "metadata": {
    "application/vnd.databricks.v1+cell": {
     "cellMetadata": {
      "byteLimit": 2048000,
      "rowLimit": 10000
     },
     "inputWidgets": {},
     "nuid": "ccfc01de-cf3b-4f1c-8b02-ad95bd194fb0",
     "showTitle": false,
     "title": ""
    },
    "tags": []
   },
   "outputs": [],
   "source": [
    "%%time\n",
    "\n",
    "rcdem = pd.read_sql_query(f'''\n",
    "-- CLIENT DEMOGRAPH\n",
    "\n",
    "SELECT\n",
    "    DISTINCT dac.client_id,\n",
    "    dac.client_name,\n",
    "    dac.mobile_number,\n",
    "    dcbd.bvn_phone_no AS bvn_phone_no,\n",
    "    dac.email_address,\n",
    "    dac.state,\n",
    "    dcbd.bvn_email bvn_email,\n",
    "    dcbd.bvn,\n",
    "    dcbd.bvn_gender AS gender,\n",
    "    dcbd.bvn_dob AS date_of_birth,\n",
    "    CASE\n",
    "        WHEN dcbd.bvn_dob IS NULL THEN 'Not Found'\n",
    "        WHEN RIGHT(dcbd.bvn_dob, 4) < '1945' THEN 'Silent Generation'\n",
    "        WHEN RIGHT(dcbd.bvn_dob, 4) BETWEEN '1946' AND '1964' THEN 'Baby Boomers'\n",
    "        WHEN RIGHT(dcbd.bvn_dob, 4) BETWEEN '1965' AND '1979' THEN 'Generation X'\n",
    "        WHEN RIGHT(dcbd.bvn_dob, 4) BETWEEN '1980' AND '1994' THEN 'Millennials'\n",
    "        WHEN RIGHT(dcbd.bvn_dob, 4) BETWEEN '1995' AND '2012' THEN 'Generation Z'\n",
    "        WHEN RIGHT(dcbd.bvn_dob, 4) > '2012' THEN 'Generation Alpha'\n",
    "    END AS generation,\n",
    "    dcbd.bvn_state_of_origin AS state_of_origin,\n",
    "    dcbd.bvn_state_of_residence AS residence_state,\n",
    "    dac.client_tier,\n",
    "    dac.client_category,\n",
    "   /* rb.client_id AS referral_id,\n",
    "    rb.client_name AS referral_name,\n",
    "    rb.referral_code,*/\n",
    "    MIN(dac.activation_date) AS date_onboarded,\n",
    "    CURRENT_DATE as run_date\n",
    "    \n",
    "FROM\n",
    "    dwh_all_clients dac\n",
    "-- LEFT JOIN referred_by rb ON rb.client_id = dac.referred_by_id\n",
    "LEFT OUTER JOIN dwh_clients_bvn_data dcbd ON dac.client_id = dcbd.client_id\n",
    "WHERE\n",
    "    dac.client_status != 'closed' \n",
    "GROUP BY\n",
    "    dac.client_id,\n",
    "    dac.client_name,\n",
    "    dac.mobile_number,\n",
    "    dac.email_address,\n",
    "    dcbd.bvn_email,\n",
    "    dac.state,\n",
    "    dcbd.bvn,\n",
    "    dcbd.bvn_phone_no,\n",
    "    dcbd.bvn_gender,\n",
    "    dcbd.bvn_dob,\n",
    "    dcbd.bvn_state_of_origin,\n",
    "    dcbd.bvn_state_of_residence,\n",
    "    dac.client_tier,\n",
    "    dac.client_category\n",
    "/*    rb.client_id,\n",
    "    rb.client_name,\n",
    "    rb.referral_code*/\n",
    "--  LIMIT 1000;\n",
    "\n",
    "\n",
    "\n",
    "''' , conn)\n",
    "\n",
    "\n",
    "rcdem"
   ]
  },
  {
   "cell_type": "code",
   "execution_count": 0,
   "metadata": {
    "application/vnd.databricks.v1+cell": {
     "cellMetadata": {
      "byteLimit": 2048000,
      "rowLimit": 10000
     },
     "inputWidgets": {},
     "nuid": "7ea85704-d493-448a-9b92-936673cf8ed8",
     "showTitle": false,
     "title": ""
    },
    "tags": []
   },
   "outputs": [],
   "source": [
    "%%time\n",
    "rcdem.to_sql(\"dwh_clients_demograph\", conn, index = False, if_exists = 'replace', chunksize = 30000, method = 'multi')"
   ]
  },
  {
   "cell_type": "code",
   "execution_count": 0,
   "metadata": {
    "application/vnd.databricks.v1+cell": {
     "cellMetadata": {
      "byteLimit": 2048000,
      "rowLimit": 10000
     },
     "inputWidgets": {},
     "nuid": "ef0b4323-f255-4f5c-86be-e1f8911dde48",
     "showTitle": false,
     "title": ""
    }
   },
   "outputs": [],
   "source": [
    "'''\n",
    "\n",
    "# Write the data in iterative batches into Redshift\n",
    "batch_size = 10000\n",
    "for i in range(0, len(rcdem), batch_size):\n",
    "    rcdem_batch = rcdem[i:i+batch_size]\n",
    "    rcdem_batch.to_sql(\"dwh_clients_demograph\", conn, index=False, if_exists='replace')\n",
    "'''\n",
    "\n"
   ]
  },
  {
   "cell_type": "code",
   "execution_count": 0,
   "metadata": {
    "application/vnd.databricks.v1+cell": {
     "cellMetadata": {
      "byteLimit": 2048000,
      "rowLimit": 10000
     },
     "inputWidgets": {},
     "nuid": "481072b5-cd4d-45a0-81eb-ee24cea36e14",
     "showTitle": false,
     "title": ""
    }
   },
   "outputs": [],
   "source": []
  },
  {
   "cell_type": "code",
   "execution_count": 0,
   "metadata": {
    "application/vnd.databricks.v1+cell": {
     "cellMetadata": {
      "byteLimit": 2048000,
      "rowLimit": 10000
     },
     "inputWidgets": {},
     "nuid": "5fa9f34c-2094-4ed7-a21e-a734dad697e5",
     "showTitle": false,
     "title": ""
    }
   },
   "outputs": [],
   "source": [
    "print(\"run completed successfully on \" + now)"
   ]
  },
  {
   "cell_type": "markdown",
   "metadata": {
    "application/vnd.databricks.v1+cell": {
     "cellMetadata": {
      "byteLimit": 2048000,
      "rowLimit": 10000
     },
     "inputWidgets": {},
     "nuid": "c82cfa93-ebfd-49af-a22d-836a9f73146a",
     "showTitle": false,
     "title": ""
    }
   },
   "source": [
    "## resulting tables on redshift public schema includes \n",
    "\n",
    "* dwh_clients_demograph - client attributes and features\n"
   ]
  }
 ],
 "metadata": {
  "application/vnd.databricks.v1+notebook": {
   "dashboards": [],
   "environmentMetadata": null,
   "language": "python",
   "notebookMetadata": {
    "pythonIndentUnit": 4
   },
   "notebookName": "clients_demograph",
   "widgets": {}
  },
  "kernelspec": {
   "display_name": "dslab",
   "language": "python",
   "name": "dslab"
  },
  "language_info": {
   "codemirror_mode": {
    "name": "ipython",
    "version": 3
   },
   "file_extension": ".py",
   "mimetype": "text/x-python",
   "name": "python",
   "nbconvert_exporter": "python",
   "pygments_lexer": "ipython3",
   "version": "3.11.4"
  }
 },
 "nbformat": 4,
 "nbformat_minor": 0
}
