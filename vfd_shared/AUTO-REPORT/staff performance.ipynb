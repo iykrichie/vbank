{
 "cells": [
  {
   "cell_type": "code",
   "execution_count": 0,
   "metadata": {
    "application/vnd.databricks.v1+cell": {
     "cellMetadata": {
      "byteLimit": 2048000,
      "rowLimit": 10000
     },
     "inputWidgets": {},
     "nuid": "f575d15b-9a50-4b45-8eb5-5aff49ffc886",
     "showTitle": false,
     "title": ""
    }
   },
   "outputs": [],
   "source": [
    "print(\"Healthy\")"
   ]
  },
  {
   "cell_type": "code",
   "execution_count": 0,
   "metadata": {
    "application/vnd.databricks.v1+cell": {
     "cellMetadata": {
      "byteLimit": 2048000,
      "rowLimit": 10000
     },
     "inputWidgets": {},
     "nuid": "6d45566c-70ae-448a-8c04-a790ad136da7",
     "showTitle": false,
     "title": ""
    },
    "tags": []
   },
   "outputs": [],
   "source": [
    "global pd \n",
    "import pandas as pd\n",
    "import numpy as np \n",
    "import duckdb\n",
    "from re import search\n",
    "from sqlalchemy import create_engine\n",
    "\n",
    "import warnings\n",
    "warnings.filterwarnings('ignore')\n",
    "\n",
    "\n",
    "from datetime import datetime, timedelta\n",
    "d = datetime.today() - timedelta(days = 1)\n",
    "d = d.strftime('%Y-%m-%d')\n",
    "\n",
    "date = \"'\" + d + \"'\"\n",
    "print(date, d)\n",
    "\n",
    "import smtplib\n",
    "from email.mime.multipart import MIMEMultipart\n",
    "from email.mime.base import MIMEBase\n",
    "from email.mime.text import MIMEText\n",
    "from email import encoders\n",
    "\n",
    "import mysql.connector\n",
    "import json\n",
    "with open('/Workspace/Credentials/db_data.json', 'r') as fp:\n",
    "    data = json.load(fp)\n",
    "\n",
    "\n",
    "Mifosdb = mysql.connector.connect(\n",
    "  host=data['mifos']['host'],\n",
    "  user=data['mifos']['user'],\n",
    "  passwd=data['mifos']['passwd'],\n",
    "  database = data['mifos']['database']\n",
    ")\n",
    "\n",
    "Dumpdb = mysql.connector.connect(\n",
    "  host=data['Dumpdb']['host'],\n",
    "  user=data['Dumpdb']['user'],\n",
    "  passwd=data['Dumpdb']['passwd'],\n",
    "  database = data['Dumpdb']['database']\n",
    ")\n",
    "\n",
    "\n",
    "host = data['redshift']['host']\n",
    "user = data['redshift']['user']\n",
    "passwd = data['redshift']['passwd']\n",
    "database = data['redshift']['database']\n",
    "\n",
    "conn = create_engine(f\"postgresql+psycopg2://{user}:{passwd}@{host}:5439/{database}\")\n",
    "pd.set_option('display.float_format', lambda x: '%.2f' % x)\n",
    "pd.set_option('display.max_columns', None)\n"
   ]
  },
  {
   "cell_type": "code",
   "execution_count": 0,
   "metadata": {
    "application/vnd.databricks.v1+cell": {
     "cellMetadata": {
      "byteLimit": 2048000,
      "rowLimit": 10000
     },
     "inputWidgets": {},
     "nuid": "e1ddd79f-2b32-4b30-88c9-9da63b763437",
     "showTitle": false,
     "title": ""
    },
    "tags": []
   },
   "outputs": [],
   "source": [
    "\n",
    "# fetch last day of the month for a range of dates\n",
    "def get_last_day_of_month(start_date, end_date):\n",
    "    from datetime import datetime\n",
    "    date1 = datetime.strptime(start_date, '%Y-%m-%d')\n",
    "    date2 = datetime.strptime(end_date, '%Y-%m-%d')\n",
    "\n",
    "    df_dates = pd.date_range(start=f\"{date1}\", end=f\"{date2}\").tolist()\n",
    "\n",
    "    dates1 = [x.strftime('%Y-%m-%d') for x in df_dates]\n",
    "    dates2 = [x.strftime('%b-%y') for x in df_dates]\n",
    "\n",
    "    months= sorted(list(set([(x.strftime('%Y-%m'), x.strftime('%Y_%m'), x.strftime('%b_%y')) for x in df_dates])))\n",
    "    # month_names = set([x.strftime('%b_%Y') for x in df_dates])\n",
    "    last_days = []\n",
    "    for dt in months:\n",
    "        md = dt[0]\n",
    "        d = dt[1]\n",
    "        n = dt[2].lower()\n",
    "        if d.split('_')[1] in ['01', '03', '05', '07', '08', '10', '12']:\n",
    "            last_days.append((md+\"-31\", d+\"_31\", n))\n",
    "        elif d.split('_')[1] in ['04', '06', '09', '11']:\n",
    "            last_days.append((md+\"-30\", d+\"_30\", n))\n",
    "        else:\n",
    "            last_days.append((md+\"-28\", d+\"_28\", n))\n",
    "    \n",
    "    return last_days"
   ]
  },
  {
   "cell_type": "code",
   "execution_count": 0,
   "metadata": {
    "application/vnd.databricks.v1+cell": {
     "cellMetadata": {
      "byteLimit": 2048000,
      "rowLimit": 10000
     },
     "inputWidgets": {},
     "nuid": "a3108bbf-da35-4268-a513-139340da0a2c",
     "showTitle": false,
     "title": ""
    },
    "tags": []
   },
   "outputs": [],
   "source": [
    "# get days of the month from within a date range\n",
    "def get_days_of_month(start_date, end_date):\n",
    "    from datetime import datetime\n",
    "    date1 = datetime.strptime(start_date, '%Y-%m-%d')\n",
    "    date2 = datetime.strptime(end_date, '%Y-%m-%d')\n",
    "\n",
    "    df_dates = pd.date_range(start=f\"{date1}\", end=f\"{date2}\").tolist()\n",
    "\n",
    "    dates1 = [x.strftime('%Y-%m-%d') for x in df_dates]\n",
    "    dates2 = [x.strftime('%b_%y') for x in df_dates]\n",
    "    \n",
    "    joint_dates = [(x.strftime('%Y-%m-%d'), (x.strftime('%Y_%m_%d')).lower()) for x in df_dates]\n",
    "    \n",
    "    return joint_dates"
   ]
  },
  {
   "cell_type": "code",
   "execution_count": 0,
   "metadata": {
    "application/vnd.databricks.v1+cell": {
     "cellMetadata": {
      "byteLimit": 2048000,
      "rowLimit": 10000
     },
     "inputWidgets": {},
     "nuid": "ab1d1aea-802a-4fce-92f5-a2dd63a24062",
     "showTitle": false,
     "title": ""
    },
    "tags": []
   },
   "outputs": [],
   "source": [
    "dates = get_days_of_month('2024-01-01', '2024-06-30')"
   ]
  },
  {
   "cell_type": "markdown",
   "metadata": {
    "application/vnd.databricks.v1+cell": {
     "cellMetadata": {},
     "inputWidgets": {},
     "nuid": "80fe1b5f-c32a-41bb-8134-2ed3c40f341b",
     "showTitle": false,
     "title": ""
    }
   },
   "source": [
    "## Spooling Deposit balances"
   ]
  },
  {
   "cell_type": "code",
   "execution_count": 0,
   "metadata": {
    "application/vnd.databricks.v1+cell": {
     "cellMetadata": {
      "byteLimit": 2048000,
      "rowLimit": 10000
     },
     "inputWidgets": {},
     "nuid": "a3506361-3ab5-4bc7-865c-77b22caa905d",
     "showTitle": false,
     "title": ""
    },
    "tags": []
   },
   "outputs": [],
   "source": [
    "# 1. import all accounts opened till the current date of interest from the db\n",
    "ja = '''\n",
    "SELECT\n",
    "ifnull(mc.referred_by_id, 0) as staff_client_id,\n",
    "ifnull(mc.id, mg.id) AS 'client_id',\n",
    "replace(ifnull(mc.display_name, mg.display_name), 'null', '') AS 'client_name',\n",
    "msa.account_no AS 'account_no',\n",
    "msa.product_id as 'product_id',\n",
    "msp.name as product_name,\n",
    "msa.closedon_date,\n",
    "msa.approvedon_date\n",
    "from m_savings_account msa\n",
    "left JOIN m_client mc ON msa.client_id = mc.id\n",
    "left join m_group mg on mg.id = msa.group_id\n",
    "left JOIN m_savings_product msp on msp.id = msa.product_id\n",
    "WHERE left(msa.closedon_date, 4) = '2024'\n",
    "and msp.id in (24, 26, 29, 30, 31, 32, 33, 36)\n",
    "and msa.activatedon_date <= '2024-06-30'\n",
    "\n",
    "UNION\n",
    "\n",
    "SELECT \n",
    "ifnull(mc.referred_by_id, 0) as staff_client_id,\n",
    "ifnull(mc.id, mg.id) AS 'client_id',\n",
    "replace(ifnull(mc.display_name, mg.display_name), 'null', '') AS 'client_name',\n",
    "msa.account_no AS 'account_no',\n",
    "msa.product_id as 'product_id',\n",
    "msp.name as product_name,\n",
    "msa.closedon_date,\n",
    "msa.approvedon_date\n",
    "from m_savings_account msa\n",
    "left JOIN m_client mc ON msa.client_id = mc.id\n",
    "left join m_group mg on mg.id = msa.group_id\n",
    "left JOIN m_savings_product msp on msp.id = msa.product_id\n",
    "WHERE isnull(msa.closedon_date)\n",
    "and msp.id in (24, 26, 29, 30, 31, 32, 33, 36)\n",
    "and msa.activatedon_date <= '2024-06-30';\n",
    "'''\n",
    "\n",
    "df_ja = pd.read_sql_query(ja, Mifosdb)\n",
    "df_ja['account_no'] = df_ja['account_no'].astype(str)\n",
    "df_ja\n"
   ]
  },
  {
   "cell_type": "code",
   "execution_count": 0,
   "metadata": {
    "application/vnd.databricks.v1+cell": {
     "cellMetadata": {
      "byteLimit": 2048000,
      "rowLimit": 10000
     },
     "inputWidgets": {},
     "nuid": "6f6d1a2f-9ff1-48fb-9efa-caa657307a23",
     "showTitle": false,
     "title": ""
    },
    "tags": []
   },
   "outputs": [],
   "source": [
    "staff = pd.read_excel(\"/Workspace/ReportDump/Staff_Performance/Active Staff List Jul-24.xlsx\")\n",
    "\n",
    "# use staff account numbers to fetch their referral codes \n",
    "def get_referral_codes(account_list):\n",
    "    \n",
    "    accounts = ','.join([str(x) for x in account_list])\n",
    "    \n",
    "    mif = f'''select mc.referred_by_id, mc.id as staff_client_id, mc.referral_id as staff_code, mc.display_name as staff_name, ai.`Email Address`, ai.`Mobile Number`, sa.account_no, sa.id account_id, sa.product_id, \n",
    "    sp.name as product, sa.account_balance_derived, \n",
    "    sa.approvedon_date, sa.closedon_date\n",
    "    from m_client mc join m_savings_account sa on sa.client_id = mc.id \n",
    "    join m_savings_product sp on sp.id = sa.product_id\n",
    "    left join `Address Info` ai on ai.client_id = mc.id\n",
    "    where sa.account_no in ({accounts})\n",
    "    order by 8 desc\n",
    "    '''\n",
    "    \n",
    "    dfmif = pd.read_sql_query(mif, Mifosdb)\n",
    "    \n",
    "    return dfmif[['staff_client_id', 'staff_code', 'staff_name']]\n",
    "\n",
    "\n",
    "df = get_referral_codes(staff['Account Numbers'].tolist())\n",
    "\n",
    "\n",
    "# staff downlines\n",
    "staff_dl = pd.merge(df, df_ja, on = 'staff_client_id', how = 'inner')\n",
    "staff_dl = staff_dl[[col for col in staff_dl.columns if col != 'closedon_date']]\n",
    "staff_dl"
   ]
  },
  {
   "cell_type": "code",
   "execution_count": 0,
   "metadata": {
    "application/vnd.databricks.v1+cell": {
     "cellMetadata": {
      "byteLimit": 2048000,
      "rowLimit": 10000
     },
     "inputWidgets": {},
     "nuid": "751f6743-4b29-44fa-8c5f-e9d7d93a9e6f",
     "showTitle": false,
     "title": ""
    },
    "tags": []
   },
   "outputs": [],
   "source": [
    "# for Winifred-1013349512\n",
    "# Referral DTNVG \n",
    "\n",
    "# Esther Nwafor\n",
    "# 1012606371\n",
    "# KB5QB\n",
    "#KQWU5 , XAXFW, KB5QB, DTNVG"
   ]
  },
  {
   "cell_type": "code",
   "execution_count": 0,
   "metadata": {
    "application/vnd.databricks.v1+cell": {
     "cellMetadata": {
      "byteLimit": 2048000,
      "rowLimit": 10000
     },
     "inputWidgets": {},
     "nuid": "0633040a-1543-468a-8080-3c022eb5156b",
     "showTitle": false,
     "title": ""
    },
    "tags": []
   },
   "outputs": [],
   "source": [
    "def compute_avg_balance(start_date, end_date, full_df):\n",
    "    \n",
    "    accts = ','.join([str(x) for x in full_df['account_no'].tolist()])\n",
    "    dates2 = [d[1] for d in get_days_of_month(start_date, end_date)]\n",
    "\n",
    "    dts = ['\"'+x+'\"' for x in dates2]\n",
    "    c = ','.join([str(x) for x in dts])\n",
    "    \n",
    "    ttw = f'''\n",
    "    select\n",
    "    account_no,\n",
    "    {c}  \n",
    "    from twenty_twenty_two_deposit_balances tt2\n",
    "    where tt2.account_no in ({accts})\n",
    "        '''\n",
    "\n",
    "    df_ttw = pd.read_sql_query(ttw, conn)\n",
    "    df_ttw['account_no'] = df_ttw['account_no'].astype(str)\n",
    "    \n",
    "    df_acc = pd.merge(full_df, df_ttw, on = 'account_no', how = 'left')\n",
    "    final_df = df_acc[['staff_client_id', 'staff_code', 'staff_name', 'client_id', 'client_name', 'account_no', 'product_name', 'approvedon_date']]\n",
    "    for dt in set([d[:7] for d in dates2]):\n",
    "\n",
    "        lis = ['account_no']\n",
    "        lis.extend([col for col in df_acc.columns if dt in col])\n",
    "        dff = df_acc[lis]\n",
    "        \n",
    "        col_name = f'Avg_Deposit_{dt}'\n",
    "        \n",
    "        dff[col_name] = dff[[col for col in dff.columns[1:]]].mean(axis=1)\n",
    "\n",
    "        dff = dff[[f'{dff.columns[0]}', f'{dff.columns[-1]}']]\n",
    "        final_df = pd.merge(final_df, dff, on = 'account_no', how = 'inner')\n",
    "        final_df.drop_duplicates(subset = 'account_no',  inplace = True)\n",
    "        final_df = final_df.reset_index(drop = True)\n",
    "        \n",
    "    \n",
    "    return final_df"
   ]
  },
  {
   "cell_type": "code",
   "execution_count": 0,
   "metadata": {
    "application/vnd.databricks.v1+cell": {
     "cellMetadata": {
      "byteLimit": 2048000,
      "rowLimit": 10000
     },
     "inputWidgets": {},
     "nuid": "b1a8a2e9-3e62-4b52-bba4-799c9af24651",
     "showTitle": false,
     "title": ""
    },
    "tags": []
   },
   "outputs": [],
   "source": [
    "%%time\n",
    "dep_bal = compute_avg_balance('2024-01-01', '2024-06-30', staff_dl)"
   ]
  },
  {
   "cell_type": "code",
   "execution_count": 0,
   "metadata": {
    "application/vnd.databricks.v1+cell": {
     "cellMetadata": {
      "byteLimit": 2048000,
      "rowLimit": 10000
     },
     "inputWidgets": {},
     "nuid": "3203dd01-28c0-4c28-8d7d-19ece56933eb",
     "showTitle": false,
     "title": ""
    },
    "tags": []
   },
   "outputs": [],
   "source": [
    "# Esther and winifred staff codes only\n",
    "#ew = dep_bal[dep_bal['staff_code'].isin(['GJ6TR'])].reset_index(drop = True) \n",
    "#ew.head()"
   ]
  },
  {
   "cell_type": "code",
   "execution_count": 0,
   "metadata": {
    "application/vnd.databricks.v1+cell": {
     "cellMetadata": {
      "byteLimit": 2048000,
      "rowLimit": 10000
     },
     "inputWidgets": {},
     "nuid": "8f5e759e-0582-430b-b768-30bc190f0f90",
     "showTitle": false,
     "title": ""
    },
    "tags": []
   },
   "outputs": [],
   "source": [
    "#ew['staff_code'].unique()"
   ]
  },
  {
   "cell_type": "code",
   "execution_count": 0,
   "metadata": {
    "application/vnd.databricks.v1+cell": {
     "cellMetadata": {
      "byteLimit": 2048000,
      "rowLimit": 10000
     },
     "inputWidgets": {},
     "nuid": "9de46065-06ce-4015-9e6e-5b417b1ef8cd",
     "showTitle": false,
     "title": ""
    }
   },
   "outputs": [],
   "source": [
    "#dep_bal.to_excel('Jun-24 Staff Deposit Performance.xlsx', index = False)"
   ]
  },
  {
   "cell_type": "code",
   "execution_count": 0,
   "metadata": {
    "application/vnd.databricks.v1+cell": {
     "cellMetadata": {
      "byteLimit": 2048000,
      "rowLimit": 10000
     },
     "inputWidgets": {},
     "nuid": "ed03df15-5df1-4119-8b60-290f324adbd4",
     "showTitle": false,
     "title": ""
    },
    "tags": []
   },
   "outputs": [],
   "source": [
    "dep_bal.shape"
   ]
  },
  {
   "cell_type": "markdown",
   "metadata": {
    "application/vnd.databricks.v1+cell": {
     "cellMetadata": {},
     "inputWidgets": {},
     "nuid": "91209e10-74d3-4e03-a640-9beed6fb48e3",
     "showTitle": false,
     "title": ""
    }
   },
   "source": [
    "## Spooling Loan balances"
   ]
  },
  {
   "cell_type": "code",
   "execution_count": 0,
   "metadata": {
    "application/vnd.databricks.v1+cell": {
     "cellMetadata": {
      "byteLimit": 2048000,
      "rowLimit": 10000
     },
     "inputWidgets": {},
     "nuid": "5615a6fb-850e-4b9b-8cd5-3e80e356b26b",
     "showTitle": false,
     "title": ""
    },
    "tags": []
   },
   "outputs": [],
   "source": [
    "%%time\n",
    "la = '''\n",
    "SELECT \n",
    "ifnull(mc.referred_by_id, 0) as staff_client_id,\n",
    "ifnull(mc.id, mg.id) AS 'client_id',\n",
    "replace(ifnull(mc.display_name, mg.display_name), 'null', '') as client_name,\n",
    "ml.account_no AS 'account_no',\n",
    "mpl.id AS loan_product_id,\n",
    "mpl.name AS loan_type,\n",
    "ml.disbursedon_date,\n",
    "ml.closedon_date\n",
    "FROM m_loan ml\n",
    "left JOIN m_client mc ON mc.id = ml.client_id\n",
    "left join m_group mg on mg.id = ml.group_id\n",
    "left join m_product_loan mpl ON mpl.id = ml.product_id\n",
    "WHERE LEFT(ml.closedon_date, 4) = '2024' \n",
    "AND !ISNULL(ml.disbursedon_date)\n",
    "and ml.disbursedon_date <= '2024-06-30'\n",
    "\n",
    "\n",
    "UNION\n",
    "\n",
    "\n",
    "SELECT \n",
    "ifnull(mc.referred_by_id, 0) as staff_client_id,\n",
    "ifnull(mc.id, mg.id) AS 'client_id',\n",
    "replace(ifnull(mc.display_name, mg.display_name), 'null', '') as client_name,\n",
    "ml.account_no AS 'account_no',\n",
    "mpl.id AS loan_product_id,\n",
    "mpl.name AS loan_type,\n",
    "ml.disbursedon_date,\n",
    "ml.closedon_date\n",
    "FROM m_loan ml\n",
    "JOIN m_client mc ON mc.id = ml.client_id\n",
    "left join m_group mg on mg.id = ml.group_id\n",
    "left join m_product_loan mpl ON mpl.id = ml.product_id\n",
    "WHERE isnull(ml.closedon_date) \n",
    "AND !ISNULL(ml.disbursedon_date)\n",
    "and ml.disbursedon_date <= '2024-06-30';\n",
    "'''\n",
    "\n",
    "df_la = pd.read_sql_query(la, Mifosdb)\n",
    "df_la['account_no'] = df_la['account_no'].astype(str)\n",
    "df_la"
   ]
  },
  {
   "cell_type": "code",
   "execution_count": 0,
   "metadata": {
    "application/vnd.databricks.v1+cell": {
     "cellMetadata": {
      "byteLimit": 2048000,
      "rowLimit": 10000
     },
     "inputWidgets": {},
     "nuid": "e3040278-009e-4201-b348-18c78dc98c69",
     "showTitle": false,
     "title": ""
    },
    "tags": []
   },
   "outputs": [],
   "source": [
    "dflo = get_referral_codes(staff['Account Numbers'].tolist())\n",
    "\n",
    "\n",
    "# staff downlines\n",
    "stafflo_dl = pd.merge(dflo, df_la, on = 'staff_client_id', how = 'inner')\n",
    "stafflo_dl.drop_duplicates(subset = 'account_no', inplace = True)\n",
    "stafflo_dl = stafflo_dl[[col for col in stafflo_dl.columns if col != 'closedon_date']]\n",
    "stafflo_dl"
   ]
  },
  {
   "cell_type": "code",
   "execution_count": 0,
   "metadata": {
    "application/vnd.databricks.v1+cell": {
     "cellMetadata": {
      "byteLimit": 2048000,
      "rowLimit": 10000
     },
     "inputWidgets": {},
     "nuid": "2fa32b0f-9c83-41f3-8483-2ddfd839725b",
     "showTitle": false,
     "title": ""
    }
   },
   "outputs": [],
   "source": [
    "def compute_loan_balance(start_date, end_date, full_df):\n",
    "    \n",
    "    accts = ','.join([str(x) for x in full_df['account_no'].tolist()])\n",
    "    dates2 = [d[1] for d in get_days_of_month(start_date, end_date)]\n",
    "\n",
    "    dts = ['\"'+x+'\"' for x in dates2]\n",
    "    c = ','.join([str(x) for x in dts])\n",
    "    \n",
    "    ttw = f'''\n",
    "    select\n",
    "    account_no,\n",
    "    {c}  \n",
    "    from twenty_twenty_two_loan_balances tt2\n",
    "    where tt2.account_no in ({accts})\n",
    "        '''\n",
    "\n",
    "    df_ttw = pd.read_sql_query(ttw, conn)\n",
    "    df_ttw['account_no'] = df_ttw['account_no'].astype(str)\n",
    "    \n",
    "    df_acc = pd.merge(full_df, df_ttw, on = 'account_no', how = 'left')\n",
    "    final_df = df_acc[['staff_client_id', 'staff_code', 'staff_name', 'client_id', 'client_name', 'account_no', 'loan_type', 'disbursedon_date']]\n",
    "    for dt in set([d[:7] for d in dates2]):\n",
    "\n",
    "        lis = ['account_no']\n",
    "        lis.extend([col for col in df_acc.columns if dt in col])\n",
    "        dff = df_acc[lis]\n",
    "        \n",
    "        col_name = f'Avg_Loan_{dt}'\n",
    "        \n",
    "        dff[col_name] = dff[[col for col in dff.columns[1:]]].mean(axis=1)\n",
    "\n",
    "        dff = dff[[f'{dff.columns[0]}', f'{dff.columns[-1]}']]\n",
    "        final_df = pd.merge(final_df, dff, on = 'account_no', how = 'inner')\n",
    "        final_df.drop_duplicates(subset = 'account_no',  inplace = True)\n",
    "        final_df = final_df.reset_index(drop = True)\n",
    "        \n",
    "    \n",
    "    return final_df"
   ]
  },
  {
   "cell_type": "code",
   "execution_count": 0,
   "metadata": {
    "application/vnd.databricks.v1+cell": {
     "cellMetadata": {
      "byteLimit": 2048000,
      "rowLimit": 10000
     },
     "inputWidgets": {},
     "nuid": "8613932f-1a3b-4137-b748-6408b3612415",
     "showTitle": false,
     "title": ""
    },
    "tags": []
   },
   "outputs": [],
   "source": [
    "%%time\n",
    "lo_bal = compute_loan_balance('2024-01-01', '2024-06-30', stafflo_dl)"
   ]
  },
  {
   "cell_type": "code",
   "execution_count": 0,
   "metadata": {
    "application/vnd.databricks.v1+cell": {
     "cellMetadata": {
      "byteLimit": 2048000,
      "rowLimit": 10000
     },
     "inputWidgets": {},
     "nuid": "498cf047-f5f5-43c6-990d-607f4f84c401",
     "showTitle": false,
     "title": ""
    },
    "tags": []
   },
   "outputs": [],
   "source": [
    "#ewlo = lo_bal[lo_bal['staff_code'].isin(['GJ6TR'])].reset_index(drop = True) \n",
    "#ewlo.head()"
   ]
  },
  {
   "cell_type": "code",
   "execution_count": 0,
   "metadata": {
    "application/vnd.databricks.v1+cell": {
     "cellMetadata": {
      "byteLimit": 2048000,
      "rowLimit": 10000
     },
     "inputWidgets": {},
     "nuid": "1956cde4-8b39-4552-86bc-5855b076936e",
     "showTitle": false,
     "title": ""
    },
    "tags": []
   },
   "outputs": [],
   "source": [
    "#s_code = ewlo['staff_code'].unique()[0]\n",
    "#s_code"
   ]
  },
  {
   "cell_type": "code",
   "execution_count": 0,
   "metadata": {
    "application/vnd.databricks.v1+cell": {
     "cellMetadata": {
      "byteLimit": 2048000,
      "rowLimit": 10000
     },
     "inputWidgets": {},
     "nuid": "a94c0d05-75d6-46b3-9d98-224b8c2ac464",
     "showTitle": false,
     "title": ""
    },
    "tags": []
   },
   "outputs": [],
   "source": [
    "#lo_bal.to_excel('Feb-24 Staff Loan Performance.xlsx', index = False)"
   ]
  },
  {
   "cell_type": "code",
   "execution_count": 0,
   "metadata": {
    "application/vnd.databricks.v1+cell": {
     "cellMetadata": {
      "byteLimit": 2048000,
      "rowLimit": 10000
     },
     "inputWidgets": {},
     "nuid": "480ba791-2fe5-454b-be08-99e52b2416cd",
     "showTitle": false,
     "title": ""
    },
    "tags": []
   },
   "outputs": [],
   "source": [
    "lo_bal.shape"
   ]
  },
  {
   "cell_type": "code",
   "execution_count": 0,
   "metadata": {
    "application/vnd.databricks.v1+cell": {
     "cellMetadata": {
      "byteLimit": 2048000,
      "rowLimit": 10000
     },
     "inputWidgets": {},
     "nuid": "8f0f8d73-f8c6-4388-81a7-fc6d9e74da7b",
     "showTitle": false,
     "title": ""
    },
    "tags": []
   },
   "outputs": [],
   "source": [
    "#with pd.ExcelWriter(f\"C:/Users/babatunde.omotayo/Downloads/V_bank_tasks/projects/staff performance/{s_code} Jan-Apr 2024.xlsx\") as writer:\n",
    "#    ew.to_excel(writer, sheet_name = 'deposits', index = False)\n",
    "#    ewlo.to_excel(writer, sheet_name = 'loans', index = False)"
   ]
  },
  {
   "cell_type": "code",
   "execution_count": 0,
   "metadata": {
    "application/vnd.databricks.v1+cell": {
     "cellMetadata": {
      "byteLimit": 2048000,
      "rowLimit": 10000
     },
     "inputWidgets": {},
     "nuid": "e65c3e8a-c23e-44a7-b4a4-cd10f5355574",
     "showTitle": false,
     "title": ""
    },
    "tags": []
   },
   "outputs": [],
   "source": [
    "with pd.ExcelWriter(f\"/Workspace/ReportDump/Staff_Performance/V4 Staff Financial performance H1-24.xlsx\") as writer:\n",
    "    dep_bal.to_excel(writer, sheet_name = 'deposits', index = False)\n",
    "    lo_bal.to_excel(writer, sheet_name = 'loans', index = False)"
   ]
  },
  {
   "cell_type": "code",
   "execution_count": 0,
   "metadata": {
    "application/vnd.databricks.v1+cell": {
     "cellMetadata": {},
     "inputWidgets": {},
     "nuid": "737f9b96-00bd-4ef2-ab46-edfe4b5e38d4",
     "showTitle": false,
     "title": ""
    }
   },
   "outputs": [],
   "source": []
  },
  {
   "cell_type": "code",
   "execution_count": 0,
   "metadata": {
    "application/vnd.databricks.v1+cell": {
     "cellMetadata": {},
     "inputWidgets": {},
     "nuid": "13b8aff4-c071-443c-85a4-f701a8afee99",
     "showTitle": false,
     "title": ""
    },
    "tags": []
   },
   "outputs": [],
   "source": []
  },
  {
   "cell_type": "code",
   "execution_count": 0,
   "metadata": {
    "application/vnd.databricks.v1+cell": {
     "cellMetadata": {},
     "inputWidgets": {},
     "nuid": "72d84b28-144a-4bb8-8012-9c3be60e3af5",
     "showTitle": false,
     "title": ""
    }
   },
   "outputs": [],
   "source": []
  },
  {
   "cell_type": "code",
   "execution_count": 0,
   "metadata": {
    "application/vnd.databricks.v1+cell": {
     "cellMetadata": {},
     "inputWidgets": {},
     "nuid": "9f614d30-19bb-4188-b33b-ce14fe6a23cb",
     "showTitle": false,
     "title": ""
    }
   },
   "outputs": [],
   "source": []
  },
  {
   "cell_type": "code",
   "execution_count": 0,
   "metadata": {
    "application/vnd.databricks.v1+cell": {
     "cellMetadata": {},
     "inputWidgets": {},
     "nuid": "27d5a65f-6d0c-470b-8e27-ea7f5a0cc0da",
     "showTitle": false,
     "title": ""
    }
   },
   "outputs": [],
   "source": []
  },
  {
   "cell_type": "code",
   "execution_count": 0,
   "metadata": {
    "application/vnd.databricks.v1+cell": {
     "cellMetadata": {},
     "inputWidgets": {},
     "nuid": "1c2e7430-0c14-45c7-a3e8-2a2cc9128733",
     "showTitle": false,
     "title": ""
    }
   },
   "outputs": [],
   "source": []
  },
  {
   "cell_type": "code",
   "execution_count": 0,
   "metadata": {
    "application/vnd.databricks.v1+cell": {
     "cellMetadata": {},
     "inputWidgets": {},
     "nuid": "2d421b78-0f52-40b4-8fef-8b19926ac5b5",
     "showTitle": false,
     "title": ""
    }
   },
   "outputs": [],
   "source": []
  },
  {
   "cell_type": "code",
   "execution_count": 0,
   "metadata": {
    "application/vnd.databricks.v1+cell": {
     "cellMetadata": {},
     "inputWidgets": {},
     "nuid": "6c7bfc8d-0806-41a7-8cf9-d712487ca072",
     "showTitle": false,
     "title": ""
    }
   },
   "outputs": [],
   "source": []
  },
  {
   "cell_type": "code",
   "execution_count": 0,
   "metadata": {
    "application/vnd.databricks.v1+cell": {
     "cellMetadata": {},
     "inputWidgets": {},
     "nuid": "31a2a518-4fbb-499f-9c46-734fbd7b5ace",
     "showTitle": false,
     "title": ""
    }
   },
   "outputs": [],
   "source": []
  },
  {
   "cell_type": "code",
   "execution_count": 0,
   "metadata": {
    "application/vnd.databricks.v1+cell": {
     "cellMetadata": {},
     "inputWidgets": {},
     "nuid": "50500122-f4d7-4aeb-ad25-975de1342075",
     "showTitle": false,
     "title": ""
    }
   },
   "outputs": [],
   "source": []
  },
  {
   "cell_type": "code",
   "execution_count": 0,
   "metadata": {
    "application/vnd.databricks.v1+cell": {
     "cellMetadata": {},
     "inputWidgets": {},
     "nuid": "752868c5-c3ba-445a-8a20-b77d656ebe27",
     "showTitle": false,
     "title": ""
    }
   },
   "outputs": [],
   "source": []
  },
  {
   "cell_type": "code",
   "execution_count": 0,
   "metadata": {
    "application/vnd.databricks.v1+cell": {
     "cellMetadata": {},
     "inputWidgets": {},
     "nuid": "bd782dde-86e0-49ce-bfdb-51b984e10b25",
     "showTitle": false,
     "title": ""
    }
   },
   "outputs": [],
   "source": []
  },
  {
   "cell_type": "code",
   "execution_count": 0,
   "metadata": {
    "application/vnd.databricks.v1+cell": {
     "cellMetadata": {},
     "inputWidgets": {},
     "nuid": "877ac6a2-1533-4c0b-88ad-b07580ab594f",
     "showTitle": false,
     "title": ""
    }
   },
   "outputs": [],
   "source": []
  },
  {
   "cell_type": "code",
   "execution_count": 0,
   "metadata": {
    "application/vnd.databricks.v1+cell": {
     "cellMetadata": {},
     "inputWidgets": {},
     "nuid": "06e2297e-96e9-4278-8cf8-3dcf10d8db20",
     "showTitle": false,
     "title": ""
    }
   },
   "outputs": [],
   "source": []
  },
  {
   "cell_type": "code",
   "execution_count": 0,
   "metadata": {
    "application/vnd.databricks.v1+cell": {
     "cellMetadata": {},
     "inputWidgets": {},
     "nuid": "3155c34a-509a-4cbe-bf0a-ffcec09f3132",
     "showTitle": false,
     "title": ""
    }
   },
   "outputs": [],
   "source": []
  },
  {
   "cell_type": "code",
   "execution_count": 0,
   "metadata": {
    "application/vnd.databricks.v1+cell": {
     "cellMetadata": {},
     "inputWidgets": {},
     "nuid": "f600f188-467d-45d7-be4f-db7ec765f553",
     "showTitle": false,
     "title": ""
    }
   },
   "outputs": [],
   "source": []
  },
  {
   "cell_type": "code",
   "execution_count": 0,
   "metadata": {
    "application/vnd.databricks.v1+cell": {
     "cellMetadata": {},
     "inputWidgets": {},
     "nuid": "8f12f59b-9fb1-491c-9a6d-69e70877138e",
     "showTitle": false,
     "title": ""
    }
   },
   "outputs": [],
   "source": []
  },
  {
   "cell_type": "code",
   "execution_count": 0,
   "metadata": {
    "application/vnd.databricks.v1+cell": {
     "cellMetadata": {},
     "inputWidgets": {},
     "nuid": "0bf607d3-ef92-4941-b766-a673e81ecddf",
     "showTitle": false,
     "title": ""
    }
   },
   "outputs": [],
   "source": []
  },
  {
   "cell_type": "code",
   "execution_count": 0,
   "metadata": {
    "application/vnd.databricks.v1+cell": {
     "cellMetadata": {},
     "inputWidgets": {},
     "nuid": "0f9bf752-a174-4bc3-ae63-eb707c62a91b",
     "showTitle": false,
     "title": ""
    }
   },
   "outputs": [],
   "source": []
  },
  {
   "cell_type": "code",
   "execution_count": 0,
   "metadata": {
    "application/vnd.databricks.v1+cell": {
     "cellMetadata": {},
     "inputWidgets": {},
     "nuid": "d011e043-cd7c-4b20-aeb1-a6e6b679ae76",
     "showTitle": false,
     "title": ""
    }
   },
   "outputs": [],
   "source": []
  },
  {
   "cell_type": "code",
   "execution_count": 0,
   "metadata": {
    "application/vnd.databricks.v1+cell": {
     "cellMetadata": {},
     "inputWidgets": {},
     "nuid": "30166f00-a81a-4bf1-8ccb-3f5240d75a6b",
     "showTitle": false,
     "title": ""
    }
   },
   "outputs": [],
   "source": []
  },
  {
   "cell_type": "code",
   "execution_count": 0,
   "metadata": {
    "application/vnd.databricks.v1+cell": {
     "cellMetadata": {},
     "inputWidgets": {},
     "nuid": "2b436975-df29-4d42-9efe-1dcf4c25aab1",
     "showTitle": false,
     "title": ""
    }
   },
   "outputs": [],
   "source": []
  },
  {
   "cell_type": "code",
   "execution_count": 0,
   "metadata": {
    "application/vnd.databricks.v1+cell": {
     "cellMetadata": {},
     "inputWidgets": {},
     "nuid": "3feefbc2-acdc-4680-94b3-d2259d81f030",
     "showTitle": false,
     "title": ""
    }
   },
   "outputs": [],
   "source": []
  },
  {
   "cell_type": "code",
   "execution_count": 0,
   "metadata": {
    "application/vnd.databricks.v1+cell": {
     "cellMetadata": {},
     "inputWidgets": {},
     "nuid": "17b14063-ce19-4500-b02c-90e0ddf50968",
     "showTitle": false,
     "title": ""
    },
    "tags": []
   },
   "outputs": [],
   "source": [
    "# use staff referral codes to fetch their downline accounts \n",
    "def get_accounts(referral_code):\n",
    "    rf = pd.read_sql_query(f'''select id, display_name from m_client \n",
    "    where referral_id = '{referral_code}'\n",
    "    ''', Mifosdb)\n",
    "    \n",
    "    referred_by_id = rf['id'][0]\n",
    "    \n",
    "    mif = f'''select \"{referral_code}\" as staff_code, mc.display_name as client_id, sa.account_no, sa.id as account_id, sa.product_id, sp.name as product_name, \n",
    "    sa.account_balance_derived, sa.approvedon_date as activation_date,\n",
    "    sa.closedon_date, referred_by_id\n",
    "    from m_client mc \n",
    "    join m_savings_account sa on sa.client_id = mc.id \n",
    "    join m_savings_product sp on sp.id = sa.product_id\n",
    "    where mc.referred_by_id = '{referred_by_id}'\n",
    "    and left(sa.approvedon_date, 7) >= '2023-01'\n",
    "    '''\n",
    "    \n",
    "    dfmif = pd.read_sql_query(mif, Mifosdb)\n",
    "    \n",
    "    \n",
    "    lo = f'''select \"{referral_code}\" as staff_code, mc.display_name as client_name, sa.account_no, sa.id as loan_id, sa.product_id, sp.name as product_name, \n",
    "    sa.principal_disbursed_derived as principal_disbursed, sa.principal_outstanding_derived as principal_outstanding, sa.disbursedon_date as disbursement_date,\n",
    "    sa.closedon_date, referred_by_id\n",
    "    from m_client mc \n",
    "    left join m_loan sa on sa.client_id = mc.id \n",
    "    join m_product_loan sp on sp.id = sa.product_id\n",
    "    where mc.referred_by_id = '{referred_by_id}'\n",
    "    and left(sa.disbursedon_date, 7) >= '2023-01'\n",
    "    '''\n",
    "    \n",
    "    dflo = pd.read_sql_query(lo, Mifosdb)\n",
    "    \n",
    "    return rf, dfmif, dflo\n",
    "\n",
    "# df = get_referrals('JTZLM')\n"
   ]
  },
  {
   "cell_type": "code",
   "execution_count": 0,
   "metadata": {
    "application/vnd.databricks.v1+cell": {
     "cellMetadata": {},
     "inputWidgets": {},
     "nuid": "b4fb6711-af35-4911-b52c-363831f3c730",
     "showTitle": false,
     "title": ""
    },
    "tags": []
   },
   "outputs": [],
   "source": []
  },
  {
   "cell_type": "code",
   "execution_count": 0,
   "metadata": {
    "application/vnd.databricks.v1+cell": {
     "cellMetadata": {},
     "inputWidgets": {},
     "nuid": "8a69315b-98f9-4baf-9e39-07306933ef71",
     "showTitle": false,
     "title": ""
    },
    "tags": []
   },
   "outputs": [],
   "source": []
  },
  {
   "cell_type": "code",
   "execution_count": 0,
   "metadata": {
    "application/vnd.databricks.v1+cell": {
     "cellMetadata": {},
     "inputWidgets": {},
     "nuid": "36639ffc-b1d2-4d25-9f61-9f206c507415",
     "showTitle": false,
     "title": ""
    }
   },
   "outputs": [],
   "source": []
  },
  {
   "cell_type": "code",
   "execution_count": 0,
   "metadata": {
    "application/vnd.databricks.v1+cell": {
     "cellMetadata": {},
     "inputWidgets": {},
     "nuid": "0d72e316-c45c-4ad5-8616-413ee421c58f",
     "showTitle": false,
     "title": ""
    },
    "tags": []
   },
   "outputs": [],
   "source": []
  },
  {
   "cell_type": "code",
   "execution_count": 0,
   "metadata": {
    "application/vnd.databricks.v1+cell": {
     "cellMetadata": {},
     "inputWidgets": {},
     "nuid": "e16f8dcd-b12f-4473-a1bf-150622730cbf",
     "showTitle": false,
     "title": ""
    }
   },
   "outputs": [],
   "source": []
  },
  {
   "cell_type": "code",
   "execution_count": 0,
   "metadata": {
    "application/vnd.databricks.v1+cell": {
     "cellMetadata": {},
     "inputWidgets": {},
     "nuid": "707e064c-6961-4468-9c00-a3274353fe8e",
     "showTitle": false,
     "title": ""
    },
    "tags": []
   },
   "outputs": [],
   "source": [
    "# comput average monthly balance of deposit account lists\n",
    "def compute_avg_deposit_bal(account_df, start_date, end_date):\n",
    "    account_list = account_df['account_no'].tolist()\n",
    "    account_df['account_no'] = account_df['account_no'].astype('int64')\n",
    "    \n",
    "    dates = get_last_day_of_month(start_date, end_date)\n",
    "\n",
    "    dep_bal = pd.DataFrame(columns = ['account_no'])\n",
    "    for dt in dates:\n",
    "        d = dt[0]\n",
    "        n = dt[1]\n",
    "        try:\n",
    "            temp = pd.read_sql_query(f'''\n",
    "                            select\n",
    "                            account_no,\n",
    "                            \"{d}\" as \"{n}\"\n",
    "                            from twenty_twenty_two_deposit_balances\n",
    "                            where account_no in ({','.join([str(x) for x in account_list])})\n",
    "                            ''', conn)\n",
    "            if len(dep_bal) < len(temp):\n",
    "                dep_bal = pd.merge(temp, dep_bal, on = 'account_no', how = 'left')\n",
    "            else:\n",
    "                dep_bal = pd.merge(dep_bal, temp, on = 'account_no', how = 'left')\n",
    "\n",
    "        except Exception as e:\n",
    "            continue\n",
    "\n",
    "\n",
    "    import math\n",
    "    avgd = []\n",
    "    values = dep_bal.iloc[:, 1:]\n",
    "    for column in values.columns:\n",
    "        values[column] = values[column].astype(float)\n",
    "        \n",
    "    for row in values.itertuples():\n",
    "        row = [i for i in row][1:]\n",
    "        items = [a for a in row if math.isnan(a) == False]\n",
    "        nulls = [a for a in row if math.isnan(a) == True]\n",
    "\n",
    "        try:\n",
    "            avg = sum(items)/len(items)\n",
    "        except ZeroDivisionError:\n",
    "            avg = np.nan\n",
    "        avgd.append(avg)\n",
    "\n",
    "    dep_bal['average_monthly_balance'] = avgd\n",
    "    dep_bal['account_no'] = dep_bal['account_no'].astype('int64')\n",
    "    \n",
    "    \n",
    "    dep_bal = pd.merge(dep_bal, account_df[['staff_code', 'account_no']], on = 'account_no', how = 'left')\n",
    "    \n",
    "    return dep_bal\n"
   ]
  },
  {
   "cell_type": "code",
   "execution_count": 0,
   "metadata": {
    "application/vnd.databricks.v1+cell": {
     "cellMetadata": {},
     "inputWidgets": {},
     "nuid": "846ac49a-96af-45ee-a830-abcfb1677cde",
     "showTitle": false,
     "title": ""
    },
    "tags": []
   },
   "outputs": [],
   "source": [
    "# compute average monthly balance of loan account lists\n",
    "def compute_avg_loan_bal(account_df, start_date, end_date):\n",
    "    loan_account_list = account_df['account_no'].tolist()\n",
    "    \n",
    "    account_df['account_no'] = account_df['account_no'].astype('int64')\n",
    "    \n",
    "    dates = get_last_day_of_month(start_date, end_date)\n",
    "\n",
    "    lon_bal = pd.DataFrame(columns = ['account_no'])\n",
    "    for dt in dates:\n",
    "        d = dt[0]\n",
    "        n = dt[1]\n",
    "        try:\n",
    "            temp = pd.read_sql_query(f'''\n",
    "                            select\n",
    "                            account_no,\n",
    "                            \"{d}\" as \"{n}\"\n",
    "                            from twenty_twenty_two_loan_balances\n",
    "                            where account_no in ({','.join([str(x) for x in loan_account_list])})\n",
    "                            ''', conn)\n",
    "            if len(lon_bal) < len(temp):\n",
    "                lon_bal = pd.merge(temp, lon_bal, on = 'account_no', how = 'left')\n",
    "            else:\n",
    "                lon_bal = pd.merge(lon_bal, temp, on = 'account_no', how = 'left')\n",
    "\n",
    "        except Exception as e:\n",
    "            continue\n",
    "\n",
    "\n",
    "    import math\n",
    "    avgd = []\n",
    "    values = lon_bal.iloc[:, 1:]\n",
    "    for column in values.columns:\n",
    "        values[column] = values[column].astype(float)\n",
    "    for row in values.itertuples():\n",
    "        row = [i for i in row][1:]\n",
    "        items = [a for a in row if math.isnan(a) == False]\n",
    "        nulls = [a for a in row if math.isnan(a) == True]\n",
    "\n",
    "        try:\n",
    "            avg = sum(items)/len(items)\n",
    "        except ZeroDivisionError:\n",
    "            avg = np.nan\n",
    "        avgd.append(avg)\n",
    "\n",
    "    lon_bal['average_monthly_balance'] = avgd\n",
    "    lon_bal['account_no'] = lon_bal['account_no'].astype('int64')\n",
    "    \n",
    "    lon_bal = pd.merge(lon_bal, account_df[['staff_code', 'account_no']], on = 'account_no', how = 'left')\n",
    "    \n",
    "    return lon_bal\n"
   ]
  },
  {
   "cell_type": "code",
   "execution_count": 0,
   "metadata": {
    "application/vnd.databricks.v1+cell": {
     "cellMetadata": {},
     "inputWidgets": {},
     "nuid": "5c0091d3-047e-4bb8-b852-fc0fc324c67c",
     "showTitle": false,
     "title": ""
    },
    "tags": []
   },
   "outputs": [],
   "source": [
    "def monthly_agg_balance(staff, df):\n",
    "    staff = staff.upper()\n",
    "    condition = lambda x: x != 0\n",
    "    sums = []\n",
    "    counts = []\n",
    "    months = []\n",
    "    for col in df.columns:\n",
    "        if col not in (['client_id', 'account_no', 'average_monthly_balance']):\n",
    "            df[col] = df[col].fillna(0)\n",
    "            total = df[col].sum()\n",
    "            sums.append(total)\n",
    "            ct = len(list(filter(condition, df[col])))\n",
    "            counts.append(ct)\n",
    "            months.append(col[:7])\n",
    "            \n",
    "            \n",
    "    output = [(a, i, j) for a, i, j in zip(months, sums, counts)]\n",
    "    dfout = pd.DataFrame(output, columns = ['month', 'total_value', 'total_count'])\n",
    "    dfout['staff_code'] = staff\n",
    "    \n",
    "    return dfout"
   ]
  },
  {
   "cell_type": "code",
   "execution_count": 0,
   "metadata": {
    "application/vnd.databricks.v1+cell": {
     "cellMetadata": {},
     "inputWidgets": {},
     "nuid": "80fd5fd4-e664-4d9e-b01c-db0eea2031b8",
     "showTitle": false,
     "title": ""
    },
    "tags": []
   },
   "outputs": [],
   "source": [
    "for staff in staff_list[:]:\n",
    "    df = get_referrals(staff)\n",
    "    dep = df[1]\n",
    "    lo = df[2]\n",
    "\n",
    "    lon_bal = compute_avg_loan_bal(lo, '2023-01-01', '2023-06-30')\n",
    "    dep_bal = compute_avg_deposit_bal(dep, '2023-01-01', '2023-06-30')"
   ]
  },
  {
   "cell_type": "code",
   "execution_count": 0,
   "metadata": {
    "application/vnd.databricks.v1+cell": {
     "cellMetadata": {},
     "inputWidgets": {},
     "nuid": "aab17b5b-9578-41eb-a2a2-a46e792fda97",
     "showTitle": false,
     "title": ""
    },
    "tags": []
   },
   "outputs": [],
   "source": [
    "lon_bal"
   ]
  },
  {
   "cell_type": "code",
   "execution_count": 0,
   "metadata": {
    "application/vnd.databricks.v1+cell": {
     "cellMetadata": {},
     "inputWidgets": {},
     "nuid": "704ee1de-17d4-48bc-9471-9c2e30444c50",
     "showTitle": false,
     "title": ""
    },
    "tags": []
   },
   "outputs": [],
   "source": [
    "dep_bal"
   ]
  },
  {
   "cell_type": "code",
   "execution_count": 0,
   "metadata": {
    "application/vnd.databricks.v1+cell": {
     "cellMetadata": {},
     "inputWidgets": {},
     "nuid": "f902baac-de67-40a8-9402-820c270f44f9",
     "showTitle": false,
     "title": ""
    }
   },
   "outputs": [],
   "source": []
  },
  {
   "cell_type": "code",
   "execution_count": 0,
   "metadata": {
    "application/vnd.databricks.v1+cell": {
     "cellMetadata": {},
     "inputWidgets": {},
     "nuid": "f3c5674b-a2f4-410b-8395-90eba8e4a88e",
     "showTitle": false,
     "title": ""
    },
    "tags": []
   },
   "outputs": [],
   "source": [
    "# All staff figures appended on the same table \n",
    "def all_staff(staff_list, start_date, end_date):\n",
    "    col_headers = ['account_no']\n",
    "    col_headers.extend([i[1] for i in get_last_day_of_month(start_date, end_date)])\n",
    "    col_headers.extend(['average_monthly_balance', 'staff_code'])\n",
    "\n",
    "    loan_data = pd.DataFrame(columns = col_headers)\n",
    "    deposit_data = pd.DataFrame(columns = col_headers)\n",
    "    \n",
    "    full_loan = pd.DataFrame(columns = ['staff_code', 'month', 'total_value', 'total_count'])\n",
    "\n",
    "    full_deposit = pd.DataFrame(columns = ['staff_code', 'month', 'total_value', 'total_count'])\n",
    "\n",
    "    for staff in staff_list:\n",
    "        df = get_referrals(staff)\n",
    "        dep = df[1]\n",
    "        lo = df[2]\n",
    "\n",
    "        lon_bal = compute_avg_loan_bal(lo, start_date, end_date)\n",
    "        dep_bal = compute_avg_deposit_bal(dep, start_date, end_date)\n",
    "        \n",
    "        # this generates the raw data containing individual loan accounts and their corresponding month end balances referred by each staff\n",
    "        loan_data = pd.concat([loan_data, lon_bal], ignore_index = True)\n",
    "        # this generates the raw data containing individual deposit accounts and their corresponding month end balances referred by each staff\n",
    "        deposit_data = pd.concat([deposit_data, dep_bal], ignore_index = True)\n",
    "        \n",
    "        \n",
    "        loans = monthly_agg_balance(staff, lon_bal)\n",
    "\n",
    "        deposits = monthly_agg_balance(staff, dep_bal)\n",
    "\n",
    "        full_loan = pd.concat([full_loan, loans], ignore_index = True)\n",
    "\n",
    "        full_deposit = pd.concat([full_deposit, deposits], ignore_index = True)\n",
    "        \n",
    "        \n",
    "    \n",
    "    return loan_data, deposit_data"
   ]
  },
  {
   "cell_type": "code",
   "execution_count": 0,
   "metadata": {
    "application/vnd.databricks.v1+cell": {
     "cellMetadata": {},
     "inputWidgets": {},
     "nuid": "0d608029-152d-46a3-8b71-2fd554933adf",
     "showTitle": false,
     "title": ""
    },
    "tags": []
   },
   "outputs": [],
   "source": []
  },
  {
   "cell_type": "code",
   "execution_count": 0,
   "metadata": {
    "application/vnd.databricks.v1+cell": {
     "cellMetadata": {},
     "inputWidgets": {},
     "nuid": "a2c16bf6-d377-4ae2-9d49-ea0546cf0113",
     "showTitle": false,
     "title": ""
    },
    "tags": []
   },
   "outputs": [],
   "source": [
    "%%time\n",
    "tst = all_staff(staff_list, '2023-01-01', '2023-06-30')"
   ]
  },
  {
   "cell_type": "code",
   "execution_count": 0,
   "metadata": {
    "application/vnd.databricks.v1+cell": {
     "cellMetadata": {},
     "inputWidgets": {},
     "nuid": "0a29103d-b707-4cb9-a0f5-832c7e709053",
     "showTitle": false,
     "title": ""
    },
    "tags": []
   },
   "outputs": [],
   "source": [
    "l = tst[0]\n",
    "l"
   ]
  },
  {
   "cell_type": "code",
   "execution_count": 0,
   "metadata": {
    "application/vnd.databricks.v1+cell": {
     "cellMetadata": {},
     "inputWidgets": {},
     "nuid": "9b5e388c-5a8b-4ad5-b8ca-77de58fe0693",
     "showTitle": false,
     "title": ""
    }
   },
   "outputs": [],
   "source": []
  },
  {
   "cell_type": "code",
   "execution_count": 0,
   "metadata": {
    "application/vnd.databricks.v1+cell": {
     "cellMetadata": {},
     "inputWidgets": {},
     "nuid": "dc3cadba-2c39-47df-a11e-360118fb0ae2",
     "showTitle": false,
     "title": ""
    },
    "tags": []
   },
   "outputs": [],
   "source": [
    "d = tst[1]\n",
    "d"
   ]
  },
  {
   "cell_type": "code",
   "execution_count": 0,
   "metadata": {
    "application/vnd.databricks.v1+cell": {
     "cellMetadata": {},
     "inputWidgets": {},
     "nuid": "0446eb68-121d-4e2e-b8c6-b4144feb82eb",
     "showTitle": false,
     "title": ""
    },
    "tags": []
   },
   "outputs": [],
   "source": []
  },
  {
   "cell_type": "code",
   "execution_count": 0,
   "metadata": {
    "application/vnd.databricks.v1+cell": {
     "cellMetadata": {},
     "inputWidgets": {},
     "nuid": "1042cec7-768d-4042-8d2e-3196984c9965",
     "showTitle": false,
     "title": ""
    },
    "tags": []
   },
   "outputs": [],
   "source": [
    "loclt = pd.read_sql_query(f'''\n",
    "                select\n",
    "                ml.client_id,\n",
    "                mc.display_name as client_name,\n",
    "                ml.account_no,\n",
    "                mpl.name as product_name,\n",
    "                ml.closedon_date\n",
    "                from m_loan ml\n",
    "                left join m_client mc on mc.id = ml.client_id\n",
    "                left join m_product_loan mpl on mpl.id = ml.product_id\n",
    "                where ml.account_no in ({','.join([str(x) for x in l['account_no'].tolist()])})\n",
    "                ''', Mifosdb)\n",
    "loclt['account_no'] = loclt['account_no'].astype('int64')\n",
    "loclt"
   ]
  },
  {
   "cell_type": "code",
   "execution_count": 0,
   "metadata": {
    "application/vnd.databricks.v1+cell": {
     "cellMetadata": {},
     "inputWidgets": {},
     "nuid": "359a93e7-1bf9-45b9-b3f0-09df5d522e9e",
     "showTitle": false,
     "title": ""
    },
    "tags": []
   },
   "outputs": [],
   "source": []
  },
  {
   "cell_type": "code",
   "execution_count": 0,
   "metadata": {
    "application/vnd.databricks.v1+cell": {
     "cellMetadata": {},
     "inputWidgets": {},
     "nuid": "e534f18f-e8ab-4849-8e60-3d76958c4ad8",
     "showTitle": false,
     "title": ""
    },
    "tags": []
   },
   "outputs": [],
   "source": [
    "l = pd.merge(df, l, on = 'staff_code', how = 'inner')\n",
    "loan_data = pd.merge(l, loclt, on = 'account_no', how = 'inner')\n",
    "loan_data = loan_data[['staff_code', 'staff_name', 'client_id', 'client_name', 'account_no', 'product_name', 'closedon_date', \n",
    "                       'jan-23', 'feb-23', 'mar-23', 'apr-23', 'may-23', 'jun-23', 'average_monthly_balance']]\n",
    "\n",
    "loan_data"
   ]
  },
  {
   "cell_type": "code",
   "execution_count": 0,
   "metadata": {
    "application/vnd.databricks.v1+cell": {
     "cellMetadata": {},
     "inputWidgets": {},
     "nuid": "2b904ba1-231f-48a2-84fd-2c81019f4e38",
     "showTitle": false,
     "title": ""
    },
    "tags": []
   },
   "outputs": [],
   "source": []
  },
  {
   "cell_type": "code",
   "execution_count": 0,
   "metadata": {
    "application/vnd.databricks.v1+cell": {
     "cellMetadata": {},
     "inputWidgets": {},
     "nuid": "df00dcdc-6eed-44c0-bbc2-ec2a2e89ba99",
     "showTitle": false,
     "title": ""
    }
   },
   "outputs": [],
   "source": []
  },
  {
   "cell_type": "code",
   "execution_count": 0,
   "metadata": {
    "application/vnd.databricks.v1+cell": {
     "cellMetadata": {},
     "inputWidgets": {},
     "nuid": "55bbba5d-48a8-4c20-8e77-10c2b0765e74",
     "showTitle": false,
     "title": ""
    },
    "tags": []
   },
   "outputs": [],
   "source": [
    "declt = pd.read_sql_query(f'''\n",
    "                select\n",
    "                ml.client_id,\n",
    "                mc.display_name as client_name,\n",
    "                ml.account_no,\n",
    "                mpl.name as product_name,\n",
    "                ml.closedon_date\n",
    "                from m_savings_account ml\n",
    "                left join m_client mc on mc.id = ml.client_id\n",
    "                left join m_savings_product mpl on mpl.id = ml.product_id\n",
    "                where ml.account_no in ({','.join([str(x) for x in d['account_no'].tolist()])})\n",
    "                ''', Mifosdb)\n",
    "declt['account_no'] = declt['account_no'].astype('int64')\n",
    "declt"
   ]
  },
  {
   "cell_type": "code",
   "execution_count": 0,
   "metadata": {
    "application/vnd.databricks.v1+cell": {
     "cellMetadata": {},
     "inputWidgets": {},
     "nuid": "4f4ddca2-0fa4-41ed-8d06-9c869d9f440d",
     "showTitle": false,
     "title": ""
    },
    "tags": []
   },
   "outputs": [],
   "source": []
  },
  {
   "cell_type": "code",
   "execution_count": 0,
   "metadata": {
    "application/vnd.databricks.v1+cell": {
     "cellMetadata": {},
     "inputWidgets": {},
     "nuid": "aff7f9f2-f368-41a7-b23a-bded50e189e7",
     "showTitle": false,
     "title": ""
    },
    "tags": []
   },
   "outputs": [],
   "source": [
    "d = pd.merge(df, d, on = 'staff_code', how = 'inner')\n",
    "deposit_data = pd.merge(d, declt, on = 'account_no', how = 'inner')\n",
    "deposit_data = deposit_data[['staff_code', 'staff_name', 'client_id', 'client_name', 'account_no', 'product_name', 'closedon_date', \n",
    "                       'jan-23', 'feb-23', 'mar-23', 'apr-23', 'may-23', 'jun-23', 'average_monthly_balance']]\n",
    "\n",
    "deposit_data"
   ]
  },
  {
   "cell_type": "code",
   "execution_count": 0,
   "metadata": {
    "application/vnd.databricks.v1+cell": {
     "cellMetadata": {},
     "inputWidgets": {},
     "nuid": "87a8407a-b9d8-4708-834a-92b3359c8ada",
     "showTitle": false,
     "title": ""
    }
   },
   "outputs": [],
   "source": []
  },
  {
   "cell_type": "code",
   "execution_count": 0,
   "metadata": {
    "application/vnd.databricks.v1+cell": {
     "cellMetadata": {},
     "inputWidgets": {},
     "nuid": "ee184c01-5e26-40ce-acaf-ea3439496fa1",
     "showTitle": false,
     "title": ""
    }
   },
   "outputs": [],
   "source": []
  },
  {
   "cell_type": "code",
   "execution_count": 0,
   "metadata": {
    "application/vnd.databricks.v1+cell": {
     "cellMetadata": {},
     "inputWidgets": {},
     "nuid": "603bf0fb-6820-49b1-a428-85820bfb7a9f",
     "showTitle": false,
     "title": ""
    }
   },
   "outputs": [],
   "source": []
  },
  {
   "cell_type": "code",
   "execution_count": 0,
   "metadata": {
    "application/vnd.databricks.v1+cell": {
     "cellMetadata": {},
     "inputWidgets": {},
     "nuid": "4b2a196b-66aa-4b62-b514-dc992549093e",
     "showTitle": false,
     "title": ""
    }
   },
   "outputs": [],
   "source": []
  },
  {
   "cell_type": "code",
   "execution_count": 0,
   "metadata": {
    "application/vnd.databricks.v1+cell": {
     "cellMetadata": {},
     "inputWidgets": {},
     "nuid": "f6796881-5ece-457f-8629-d20ed169f95b",
     "showTitle": false,
     "title": ""
    },
    "tags": []
   },
   "outputs": [],
   "source": [
    "loan = tst[0]\n",
    "\n",
    "loan = duckdb.query(f'''\n",
    "        select\n",
    "        staff_code,\n",
    "        sum(case when month = '2023_01' then total_value end) as jan_loan_value,\n",
    "        sum(case when month = '2023_01' then total_count end) as jan_loan_count,\n",
    "        \n",
    "        sum(case when month = '2023_02' then total_value end) as feb_loan_value,\n",
    "        sum(case when month = '2023_02' then total_count end) as feb_loan_count,\n",
    "        \n",
    "        sum(case when month = '2023_03' then total_value end) as mar_loan_value,\n",
    "        sum(case when month = '2023_03' then total_count end) as mar_loan_count,\n",
    "        \n",
    "        sum(case when month = '2023_04' then total_value end) as apr_loan_value,\n",
    "        sum(case when month = '2023_04' then total_count end) as apr_loan_count,\n",
    "        \n",
    "        sum(case when month = '2023_05' then total_value end) as may_loan_value,\n",
    "        sum(case when month = '2023_05' then total_count end) as may_loan_count,\n",
    "        \n",
    "        sum(case when month = '2023_06' then total_value end) as jun_loan_value,\n",
    "        sum(case when month = '2023_06' then total_count end) as jun_loan_count\n",
    "        \n",
    "        from loan\n",
    "        group by 1\n",
    "        ''').to_df()\n",
    "\n",
    "loan"
   ]
  },
  {
   "cell_type": "code",
   "execution_count": 0,
   "metadata": {
    "application/vnd.databricks.v1+cell": {
     "cellMetadata": {},
     "inputWidgets": {},
     "nuid": "74e7438e-0763-45c6-a45c-e085ff2a44a4",
     "showTitle": false,
     "title": ""
    },
    "tags": []
   },
   "outputs": [],
   "source": [
    "deposit = tst[1]\n",
    "\n",
    "deposit = duckdb.query(f'''\n",
    "        select\n",
    "        staff_code,\n",
    "        sum(case when month = '2023_01' then total_value end) as jan_loan_value,\n",
    "        sum(case when month = '2023_01' then total_count end) as jan_loan_count,\n",
    "        \n",
    "        sum(case when month = '2023_02' then total_value end) as feb_loan_value,\n",
    "        sum(case when month = '2023_02' then total_count end) as feb_loan_count,\n",
    "        \n",
    "        sum(case when month = '2023_03' then total_value end) as mar_loan_value,\n",
    "        sum(case when month = '2023_03' then total_count end) as mar_loan_count,\n",
    "        \n",
    "        sum(case when month = '2023_04' then total_value end) as apr_loan_value,\n",
    "        sum(case when month = '2023_04' then total_count end) as apr_loan_count,\n",
    "        \n",
    "        sum(case when month = '2023_05' then total_value end) as may_loan_value,\n",
    "        sum(case when month = '2023_05' then total_count end) as may_loan_count,\n",
    "        \n",
    "        sum(case when month = '2023_06' then total_value end) as jun_loan_value,\n",
    "        sum(case when month = '2023_06' then total_count end) as jun_loan_count\n",
    "        \n",
    "        from deposit\n",
    "        group by 1\n",
    "        ''').to_df()\n",
    "\n",
    "deposit"
   ]
  },
  {
   "cell_type": "code",
   "execution_count": 0,
   "metadata": {
    "application/vnd.databricks.v1+cell": {
     "cellMetadata": {},
     "inputWidgets": {},
     "nuid": "719bf9f4-fe95-4e64-a85e-74dd798544e3",
     "showTitle": false,
     "title": ""
    },
    "tags": []
   },
   "outputs": [],
   "source": []
  },
  {
   "cell_type": "code",
   "execution_count": 0,
   "metadata": {
    "application/vnd.databricks.v1+cell": {
     "cellMetadata": {},
     "inputWidgets": {},
     "nuid": "a2ea0511-94d4-4a56-939f-89c22af3334f",
     "showTitle": false,
     "title": ""
    },
    "tags": []
   },
   "outputs": [],
   "source": [
    "final_deposit = pd.merge(df, deposit, on = 'staff_code', how = 'left')\n",
    "\n",
    "final_deposit"
   ]
  },
  {
   "cell_type": "code",
   "execution_count": 0,
   "metadata": {
    "application/vnd.databricks.v1+cell": {
     "cellMetadata": {},
     "inputWidgets": {},
     "nuid": "34ecda3a-658c-4606-ba3a-0cf7db9bdbc5",
     "showTitle": false,
     "title": ""
    },
    "tags": []
   },
   "outputs": [],
   "source": [
    "final_loan = pd.merge(df, loan, on = 'staff_code', how = 'left')\n",
    "\n",
    "final_loan"
   ]
  },
  {
   "cell_type": "code",
   "execution_count": 0,
   "metadata": {
    "application/vnd.databricks.v1+cell": {
     "cellMetadata": {},
     "inputWidgets": {},
     "nuid": "9a945530-63d1-4a22-9e54-e75009eee67f",
     "showTitle": false,
     "title": ""
    },
    "tags": []
   },
   "outputs": [],
   "source": [
    "with pd.ExcelWriter(\"C:/Users/babatunde.omotayo/Downloads/V_bank_tasks/projects/staff performance/Staff financial performance Jan-Jun 2023.xlsx\") as writer:\n",
    "    deposit_data.to_excel(writer, sheet_name = 'deposit performance', index = False)\n",
    "    loan_data.to_excel(writer, sheet_name = 'loan performance', index = False)"
   ]
  },
  {
   "cell_type": "code",
   "execution_count": 0,
   "metadata": {
    "application/vnd.databricks.v1+cell": {
     "cellMetadata": {},
     "inputWidgets": {},
     "nuid": "2830eedf-5e98-4b03-bb62-60f2720c9b36",
     "showTitle": false,
     "title": ""
    }
   },
   "outputs": [],
   "source": []
  },
  {
   "cell_type": "code",
   "execution_count": 0,
   "metadata": {
    "application/vnd.databricks.v1+cell": {
     "cellMetadata": {},
     "inputWidgets": {},
     "nuid": "d6605d25-6ab6-406a-bb3c-bdd5bc56f879",
     "showTitle": false,
     "title": ""
    }
   },
   "outputs": [],
   "source": []
  },
  {
   "cell_type": "code",
   "execution_count": 0,
   "metadata": {
    "application/vnd.databricks.v1+cell": {
     "cellMetadata": {},
     "inputWidgets": {},
     "nuid": "8e1e87b4-9112-4ba2-97fe-57c00051857e",
     "showTitle": false,
     "title": ""
    }
   },
   "outputs": [],
   "source": []
  },
  {
   "cell_type": "code",
   "execution_count": 0,
   "metadata": {
    "application/vnd.databricks.v1+cell": {
     "cellMetadata": {},
     "inputWidgets": {},
     "nuid": "0c16d01d-d4f8-4abc-9384-035c73845d0c",
     "showTitle": false,
     "title": ""
    }
   },
   "outputs": [],
   "source": []
  },
  {
   "cell_type": "code",
   "execution_count": 0,
   "metadata": {
    "application/vnd.databricks.v1+cell": {
     "cellMetadata": {},
     "inputWidgets": {},
     "nuid": "bf7c3a56-ba55-45ec-824e-44fa8f1c3aef",
     "showTitle": false,
     "title": ""
    }
   },
   "outputs": [],
   "source": []
  },
  {
   "cell_type": "code",
   "execution_count": 0,
   "metadata": {
    "application/vnd.databricks.v1+cell": {
     "cellMetadata": {},
     "inputWidgets": {},
     "nuid": "7de5ccc4-8c49-4d68-9ad1-91fc31d67fa4",
     "showTitle": false,
     "title": ""
    },
    "tags": []
   },
   "outputs": [],
   "source": [
    "%%time\n",
    "\n",
    "import pandas as pd\n",
    "import smtplib\n",
    "from email.mime.text import MIMEText\n",
    "from email.mime.multipart import MIMEMultipart\n",
    "from email.mime.application import MIMEApplication\n",
    "\n",
    "# Assuming you have multiple Pandas DataFrames named df1, df2, df3\n",
    "dataframes = [loans, deposits]\n",
    "\n",
    "# Create email content\n",
    "msg = MIMEMultipart()\n",
    "msg['From'] = 'babatunde.omotayo@vfdtech.ng'\n",
    "msg['To'] = 'oluwatobi.odusanya@vfd-mfb.com'\n",
    "msg['Subject'] = 'Loans & Deposit figures for 3PZKO'\n",
    "\n",
    "# Attach each DataFrame as a separate CSV file to the email\n",
    "for i, df in enumerate(dataframes, start=1):\n",
    "    csv_data = df.to_csv(index=False)\n",
    "    attachment = MIMEApplication(csv_data)\n",
    "    attachment.add_header('Content-Disposition', 'attachment', filename=f'data{i}.csv')\n",
    "    msg.attach(attachment)\n",
    "\n",
    "# Send the email\n",
    "smtp_server = 'smtp.office365.com'\n",
    "smtp_port = 587\n",
    "username = 'Babatunde.Omotayo@vfdtech.ng'\n",
    "password = 'wmglfvqvnhdqgrrc'\n",
    "\n",
    "with smtplib.SMTP(smtp_server, smtp_port) as server:\n",
    "    server.starttls()\n",
    "    server.login(username, password)\n",
    "    server.sendmail(msg['From'], msg['To'], msg.as_string())"
   ]
  },
  {
   "cell_type": "code",
   "execution_count": 0,
   "metadata": {
    "application/vnd.databricks.v1+cell": {
     "cellMetadata": {},
     "inputWidgets": {},
     "nuid": "6072b066-d6f6-468f-98f9-f816ba74a237",
     "showTitle": false,
     "title": ""
    }
   },
   "outputs": [],
   "source": []
  },
  {
   "cell_type": "code",
   "execution_count": 0,
   "metadata": {
    "application/vnd.databricks.v1+cell": {
     "cellMetadata": {},
     "inputWidgets": {},
     "nuid": "26ecec5e-1563-45f5-ace6-2636a8c33e55",
     "showTitle": false,
     "title": ""
    }
   },
   "outputs": [],
   "source": []
  },
  {
   "cell_type": "code",
   "execution_count": 0,
   "metadata": {
    "application/vnd.databricks.v1+cell": {
     "cellMetadata": {},
     "inputWidgets": {},
     "nuid": "101cd511-d7c0-482f-aa74-a453b36c0c02",
     "showTitle": false,
     "title": ""
    }
   },
   "outputs": [],
   "source": []
  }
 ],
 "metadata": {
  "application/vnd.databricks.v1+notebook": {
   "dashboards": [],
   "environmentMetadata": null,
   "language": "python",
   "notebookMetadata": {
    "pythonIndentUnit": 4
   },
   "notebookName": "staff performance",
   "widgets": {}
  },
  "kernelspec": {
   "display_name": "Python 3 (ipykernel)",
   "language": "python",
   "name": "python3"
  },
  "language_info": {
   "codemirror_mode": {
    "name": "ipython",
    "version": 3
   },
   "file_extension": ".py",
   "mimetype": "text/x-python",
   "name": "python",
   "nbconvert_exporter": "python",
   "pygments_lexer": "ipython3",
   "version": "3.8.16"
  }
 },
 "nbformat": 4,
 "nbformat_minor": 0
}
