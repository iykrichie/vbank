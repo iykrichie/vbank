{
 "cells": [
  {
   "cell_type": "code",
   "execution_count": 0,
   "metadata": {
    "application/vnd.databricks.v1+cell": {
     "cellMetadata": {
      "byteLimit": 2048000,
      "rowLimit": 10000
     },
     "inputWidgets": {},
     "nuid": "94f4e27c-8cc5-4e2d-bcf6-7068af59249c",
     "showTitle": false,
     "title": ""
    },
    "tags": []
   },
   "outputs": [],
   "source": [
    "from re import search\n",
    "from sqlalchemy import create_engine\n",
    "\n",
    "import duckdb\n",
    "import pandas as pd \n",
    "import numpy as np \n",
    "\n",
    "import mysql.connector\n",
    "\n",
    "import warnings\n",
    "warnings.filterwarnings('ignore')\n",
    "\n",
    "from custom_packages.email_operations import EmailOperations\n",
    "\n",
    "# pd.options.display.max_rows = None\n",
    "\n",
    "pd.set_option('display.float_format', lambda x: '%.2f' % x)\n",
    "\n",
    "import json\n",
    "with open('/Workspace/Credentials/db_data.json', 'r') as fp:\n",
    "    data = json.load(fp)\n",
    "\n",
    "Dumpdb = mysql.connector.connect(\n",
    "  host=data['Dumpdb']['host'],\n",
    "  user=data['Dumpdb']['user'],\n",
    "  passwd=data['Dumpdb']['passwd'],\n",
    "  database = data['Dumpdb']['database']\n",
    ")\n",
    "\n",
    "\n",
    "Mifosdb = mysql.connector.connect(\n",
    "  host=data['mifos']['host'],\n",
    "  user=data['mifos']['user'],\n",
    "  passwd=data['mifos']['passwd'],\n",
    "  database = data['mifos']['database']\n",
    ")\n",
    "\n",
    "\n",
    "vbizdb = mysql.connector.connect(\n",
    "     host=data['vbizdb']['host'],\n",
    "  user=data['vbizdb']['user'],\n",
    "  passwd=data['vbizdb']['passwd'],\n",
    "  database = data['vbizdb']['database']\n",
    ")\n",
    "\n",
    "\n",
    "host = data['redshift']['host']\n",
    "user = data['redshift']['user']\n",
    "passwd = data['redshift']['passwd']\n",
    "database = data['redshift']['database']\n",
    "\n",
    "conn = create_engine(f\"postgresql+psycopg2://{user}:{passwd}@{host}:5439/{database}\")\n",
    "pd.set_option('display.float_format', lambda x: '%.2f' % x)\n",
    "# , fast_executemany=True)"
   ]
  },
  {
   "cell_type": "code",
   "execution_count": 0,
   "metadata": {
    "application/vnd.databricks.v1+cell": {
     "cellMetadata": {
      "byteLimit": 2048000,
      "rowLimit": 10000
     },
     "inputWidgets": {},
     "nuid": "51afb8da-049f-41de-ba4f-464e1f263b28",
     "showTitle": false,
     "title": ""
    },
    "tags": []
   },
   "outputs": [],
   "source": [
    "from datetime import datetime, timedelta\n",
    "\n",
    "today = datetime.today().strftime('%Y-%m-%d')\n",
    "print(today)"
   ]
  },
  {
   "cell_type": "code",
   "execution_count": 0,
   "metadata": {
    "application/vnd.databricks.v1+cell": {
     "cellMetadata": {},
     "inputWidgets": {},
     "nuid": "f81102a4-2182-4e7a-978a-03c0ceeb9d01",
     "showTitle": false,
     "title": ""
    },
    "tags": []
   },
   "outputs": [],
   "source": [
    "%%time\n",
    "def get_referrals(referral_code):\n",
    "    rf = pd.read_sql_query(f'''select referral_id, mc.id, display_name, sa.account_no, sa.product_id, sp.name from m_client mc \n",
    "    left join m_savings_account sa on sa.client_id = mc.id\n",
    "    left join m_savings_product sp on sp.id = sa.product_id\n",
    "    where referral_id = '{referral_code}'\n",
    "    ''', Mifosdb)\n",
    "    \n",
    "    referred_by_id = rf['id'][0]\n",
    "    \n",
    "    mif = f'''select mc.id as client_id, mc.display_name as client_name, sa.account_no, sa.id as account_id, sa.product_id, sp.name as product_name, \n",
    "    sa.account_balance_derived, sa.approvedon_date as activation_date,\n",
    "    sa.closedon_date, referred_by_id\n",
    "    from m_client mc \n",
    "    join m_savings_account sa on sa.client_id = mc.id \n",
    "    join m_savings_product sp on sp.id = sa.product_id\n",
    "    where mc.referred_by_id = '{referred_by_id}'\n",
    "    and isnull(sa.closedon_date)\n",
    "    -- AND LEFT(sa.approvedon_date, 7) >= '2023-01'\n",
    "    order by 7 desc\n",
    "    '''\n",
    "    \n",
    "    dfmif = pd.read_sql_query(mif, Mifosdb)\n",
    "    \n",
    "    \n",
    "    lo = f'''select mc.display_name as client_name, sa.account_no, sa.id as loan_id, sa.product_id, sp.name as product_name, \n",
    "    sa.principal_disbursed_derived as principal_disbursed, sa.principal_outstanding_derived as principal_outstanding, sa.disbursedon_date as disbursement_date,\n",
    "    sa.closedon_date, referred_by_id\n",
    "    from m_client mc \n",
    "    left join m_loan sa on sa.client_id = mc.id \n",
    "    join m_product_loan sp on sp.id = sa.product_id\n",
    "    where mc.referred_by_id = '{referred_by_id}'\n",
    "    -- and left(sa.disbursedon_date, 7) >= '2023-01'\n",
    "    -- and isnull(sa.closedon_date)\n",
    "    -- and !isnull(sa.disbursedon_date)\n",
    "    order by 6 desc\n",
    "    '''\n",
    "    \n",
    "    dflo = pd.read_sql_query(lo, Mifosdb)\n",
    "    \n",
    "    return rf, dfmif, dflo\n",
    "\n",
    "df = get_referrals('FSNH4') #('TVSKX') # , XAXFW, KB5QB, DTNVG') #, KB5QB, DTNVG') #TVSKX  5PL7O WK12A k7m4e\n",
    "ref = df[0]['referral_id'][0]"
   ]
  },
  {
   "cell_type": "code",
   "execution_count": 0,
   "metadata": {
    "application/vnd.databricks.v1+cell": {
     "cellMetadata": {},
     "inputWidgets": {},
     "nuid": "89a5ac94-70b3-4a93-925b-99cd2d35046c",
     "showTitle": false,
     "title": ""
    },
    "tags": []
   },
   "outputs": [],
   "source": [
    "# with pd.ExcelWriter(f\"C:\\\\Users\\\\babatunde.omotayo\\\\Downloads\\\\V_bank_tasks\\\\Raphael downlines\\\\{ref} accounts as at {today}.xlsx\") as writer:\n",
    "#     df[1].to_excel(writer, sheet_name = 'deposits', index = False)\n",
    "#     df[2].to_excel(writer, sheet_name = 'loans', index = False)\n"
   ]
  },
  {
   "cell_type": "code",
   "execution_count": 0,
   "metadata": {
    "application/vnd.databricks.v1+cell": {
     "cellMetadata": {},
     "inputWidgets": {},
     "nuid": "46d72d70-fa0f-4aee-81fc-1cdfe10c4bc7",
     "showTitle": false,
     "title": ""
    },
    "tags": []
   },
   "outputs": [],
   "source": []
  },
  {
   "cell_type": "code",
   "execution_count": 0,
   "metadata": {
    "application/vnd.databricks.v1+cell": {
     "cellMetadata": {},
     "inputWidgets": {},
     "nuid": "bcd0a1ab-82a9-43b9-b624-a0f59acf071d",
     "showTitle": false,
     "title": ""
    },
    "tags": []
   },
   "outputs": [],
   "source": [
    "staff_list = [('Raphael', '5PL7O', 'raphael.oluwole@vfd-mfb.com'), \n",
    "              ('Joshua', 'K7M4E', 'joshua.vincent@vfd-mfb.com'),\n",
    "             ('Simisola', 'VGFAZ',  'simisola.olanrewaju@vfd-mfb.com'),\n",
    "              ('Vivian', 'FSNH4', 'vivian.ezeani@vfd-mfb.com')]\n",
    "             #('Tobi', '3PZKO', 'oluwatobi.odusanya@vfd-mfb.com'),\n",
    "             "
   ]
  },
  {
   "cell_type": "code",
   "execution_count": 0,
   "metadata": {
    "application/vnd.databricks.v1+cell": {
     "cellMetadata": {},
     "inputWidgets": {},
     "nuid": "b5cce6e5-df54-4e42-8be7-92a3f7a8f301",
     "showTitle": false,
     "title": ""
    }
   },
   "outputs": [],
   "source": [
    "staff_list.extend([\n",
    "    ('Jonathan', 'VZJT2', 'Jonathan.Ozoekwem@vfd-mfb.com'),\n",
    "    ('Nosa', 'MUJOX', 'Nosa.Osemwegie@vfd-mfb.com'),\n",
    "    ('Patrick', 'JWZ8P', 'Patrick.Chukwurah@vfd-mfb.com'),\n",
    "    ('Simisola', 'VGFAZ', 'Simisola.Olanrewaju@vfd-mfb.com'),\n",
    "    ('Elizabeth', 'SEDFI', 'Elizabeth.Enifeni@vfd-mfb.com'),\n",
    "    ('Catherine', 'ZXMH5', 'Catherine.Onelum@vfd-mfb.com'),\n",
    "    ('Raphael', 'KKPBV', 'Raphael.Egbe@vfd-mfb.com'),\n",
    "    ('Yonodu', 'MLMD8', 'Yonodu.Okeugo@vfd-mfb.com'),\n",
    "    ('Stephen', '3NDR5', 'Stephen.Tewogbade@vfd-mfb.com'),\n",
    "    ('Mayowa', 'WK12A', 'Mayowa.Francis@vfd-mfb.com'),\n",
    "    ('Vivian', 'FSNH4', 'Vivian.Ezeani@vfd-mfb.com'),\n",
    "     # ('Ibrahim', 'DPHJS', 'Ibrahim.Ajiboye@vfd-mfb.com'),\n",
    "    ('Blessing', 'TVSKX', 'Blessing.Idogei@vfd-mfb.com')\n",
    "   \n",
    "   \n",
    "])\n"
   ]
  },
  {
   "cell_type": "code",
   "execution_count": 0,
   "metadata": {
    "application/vnd.databricks.v1+cell": {
     "cellMetadata": {},
     "inputWidgets": {},
     "nuid": "2479c1d1-577e-4d6c-b5ba-7aa395952f19",
     "showTitle": false,
     "title": ""
    }
   },
   "outputs": [],
   "source": [
    "staff_list"
   ]
  },
  {
   "cell_type": "code",
   "execution_count": 0,
   "metadata": {
    "application/vnd.databricks.v1+cell": {
     "cellMetadata": {},
     "inputWidgets": {},
     "nuid": "6700ed02-e524-46a4-aa0d-8571a472d6fe",
     "showTitle": false,
     "title": ""
    }
   },
   "outputs": [],
   "source": [
    "%%time\n",
    "for staff in staff_list[:]:\n",
    "    df = get_referrals(staff[1]) #\n",
    "    ref = df[0]['referral_id'][0]\n",
    "    \n",
    "    bal = df[1]\n",
    "    ods = bal[bal['account_balance_derived'] < 0]\n",
    "    deps = bal[bal['account_balance_derived'] >= 0]\n",
    "    loans = df[2]\n",
    "    with pd.ExcelWriter(f\"C:\\\\Users\\\\babatunde.omotayo\\\\Downloads\\\\V_bank_tasks\\\\Raphael downlines\\\\{ref} accounts as at {today}.xlsx\") as writer:\n",
    "        deps.to_excel(writer, sheet_name = 'deposits', index = False)\n",
    "        loans.to_excel(writer, sheet_name = 'loans', index = False)\n",
    "        ods.to_excel(writer, sheet_name = 'overdrafts', index = False)\n",
    "        \n",
    "    # Initialize email object and its parameters\n",
    "\n",
    "    email = EmailOperations\n",
    "\n",
    "    filenames = [f\"{ref} accounts as at {today}.xlsx\"]\n",
    "\n",
    "    SourcePathName  = f\"C:\\\\Users\\\\babatunde.omotayo\\\\Downloads\\\\V_bank_tasks\\\\Raphael downlines\\\\\"  \n",
    "\n",
    "    subject =   f'Referral_id - {ref} Downline Accounts'\n",
    "\n",
    "    name = staff[0]\n",
    "\n",
    "    body = f'Your downline account deposits and loans is attached for your review.'\n",
    "\n",
    "    recipient = staff[2]\n",
    "\n",
    "    ## Send mail\n",
    "    email.send_mail(filenames, SourcePathName, today, recipient, subject, name, body)"
   ]
  },
  {
   "cell_type": "code",
   "execution_count": 0,
   "metadata": {
    "application/vnd.databricks.v1+cell": {
     "cellMetadata": {},
     "inputWidgets": {},
     "nuid": "5041dcf4-c9aa-4ff8-ae7a-3ef547a2513f",
     "showTitle": false,
     "title": ""
    },
    "tags": []
   },
   "outputs": [],
   "source": [
    "deps"
   ]
  }
 ],
 "metadata": {
  "application/vnd.databricks.v1+notebook": {
   "dashboards": [],
   "environmentMetadata": null,
   "language": "python",
   "notebookMetadata": {
    "pythonIndentUnit": 4
   },
   "notebookName": "sales_downlines",
   "widgets": {}
  },
  "kernelspec": {
   "display_name": "Python 3 (ipykernel)",
   "language": "python",
   "name": "python3"
  },
  "language_info": {
   "codemirror_mode": {
    "name": "ipython",
    "version": 3
   },
   "file_extension": ".py",
   "mimetype": "text/x-python",
   "name": "python",
   "nbconvert_exporter": "python",
   "pygments_lexer": "ipython3",
   "version": "3.8.16"
  }
 },
 "nbformat": 4,
 "nbformat_minor": 0
}
