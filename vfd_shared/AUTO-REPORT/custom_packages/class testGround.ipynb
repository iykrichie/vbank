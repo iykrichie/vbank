{
 "cells": [
  {
   "cell_type": "code",
   "execution_count": 0,
   "metadata": {
    "application/vnd.databricks.v1+cell": {
     "cellMetadata": {
      "byteLimit": 2048000,
      "rowLimit": 10000
     },
     "inputWidgets": {},
     "nuid": "f2090661-3192-4823-bd43-c001f65761f3",
     "showTitle": false,
     "title": ""
    },
    "tags": []
   },
   "outputs": [],
   "source": [
    "## Below is cmd command to set custom python packages to PYTHON PATH via Anaconda prompt\n",
    "!set PYTHONPATH=C:\\Users\\babatunde.omotayo\\Downloads\\V_bank_tasks\\custom_packages;%PYTHONPATH%"
   ]
  },
  {
   "cell_type": "code",
   "execution_count": 0,
   "metadata": {
    "application/vnd.databricks.v1+cell": {
     "cellMetadata": {
      "byteLimit": 2048000,
      "rowLimit": 10000
     },
     "inputWidgets": {},
     "nuid": "18b8b819-b669-4557-9baa-24dc1f7516de",
     "showTitle": false,
     "title": ""
    },
    "tags": []
   },
   "outputs": [],
   "source": [
    "import site\n",
    "import os\n",
    "\n",
    "# Specify the name of the package you want to find the path for\n",
    "package_name = 'numpy'  # Replace with the package name you're interested in\n",
    "\n",
    "# Get the list of site-specific package directories\n",
    "site_packages = site.getsitepackages()\n",
    "\n",
    "# Search for the package within the site-specific directories\n",
    "package_path = None\n",
    "for site_package in site_packages:\n",
    "    potential_path = os.path.join(site_package, package_name)\n",
    "    if os.path.exists(potential_path):\n",
    "        package_path = potential_path\n",
    "        break\n",
    "\n",
    "if package_path:\n",
    "    print(f\"The path of {package_name} is: {package_path}\")\n",
    "else:\n",
    "    print(f\"{package_name} was not found in any site packages.\")\n"
   ]
  },
  {
   "cell_type": "code",
   "execution_count": 0,
   "metadata": {
    "application/vnd.databricks.v1+cell": {
     "cellMetadata": {},
     "inputWidgets": {},
     "nuid": "be6a58f1-af1e-4d6d-91af-226df5de8a08",
     "showTitle": false,
     "title": ""
    },
    "tags": []
   },
   "outputs": [],
   "source": [
    "!conda info --envs"
   ]
  },
  {
   "cell_type": "code",
   "execution_count": 0,
   "metadata": {
    "application/vnd.databricks.v1+cell": {
     "cellMetadata": {},
     "inputWidgets": {},
     "nuid": "d9bb50d8-1c89-4de5-bb68-6b841aefa497",
     "showTitle": false,
     "title": ""
    },
    "tags": []
   },
   "outputs": [],
   "source": [
    "from custom_packages.date_operations import DateOperations"
   ]
  },
  {
   "cell_type": "code",
   "execution_count": 0,
   "metadata": {
    "application/vnd.databricks.v1+cell": {
     "cellMetadata": {},
     "inputWidgets": {},
     "nuid": "a7d4feb0-3859-4aac-ab62-7847ee299acf",
     "showTitle": false,
     "title": ""
    },
    "tags": []
   },
   "outputs": [],
   "source": [
    "class DateOperations:\n",
    "    def date_range(start_date, end_date):\n",
    "         \n",
    "        from datetime import datetime\n",
    "        import pandas as pd\n",
    "        date1 = datetime.strptime(f'{start_date}', '%Y-%m-%d')\n",
    "        date2 = datetime.strptime(f'{end_date}', '%Y-%m-%d')\n",
    "\n",
    "        df_dates = pd.date_range(start=f\"{date1}\", end=f\"{date2}\").tolist()\n",
    "        dates = sorted(list(set([(x.strftime('%Y-%m-%d'), x.strftime('%b-%d, %Y')) for x in df_dates])))\n",
    "        \n",
    "        return dates\n",
    "    \n",
    "    \n",
    "    def month_range(start_date, end_date):\n",
    "         \n",
    "        from datetime import datetime\n",
    "        import pandas as pd\n",
    "        date1 = datetime.strptime(f'{start_date}', '%Y-%m-%d')\n",
    "        date2 = datetime.strptime(f'{end_date}', '%Y-%m-%d')\n",
    "\n",
    "        df_dates = pd.date_range(start=f\"{date1}\", end=f\"{date2}\").tolist()\n",
    "        months= sorted(list(set([(x.strftime('%Y-%m'), x.strftime('%b-%y')) for x in df_dates])))\n",
    "        \n",
    "        return months\n",
    "    \n",
    "    \n",
    "    def year_range(start_date, end_date):\n",
    "         \n",
    "        from datetime import datetime\n",
    "        import pandas as pd\n",
    "        date1 = datetime.strptime(f'{start_date}', '%Y-%m-%d')\n",
    "        date2 = datetime.strptime(f'{end_date}', '%Y-%m-%d')\n",
    "\n",
    "        df_dates = pd.date_range(start=f\"{date1}\", end=f\"{date2}\").tolist()\n",
    "        months= sorted(list(set([x.strftime('%Y') for x in df_dates])))\n",
    "        \n",
    "        return months"
   ]
  },
  {
   "cell_type": "code",
   "execution_count": 0,
   "metadata": {
    "application/vnd.databricks.v1+cell": {
     "cellMetadata": {},
     "inputWidgets": {},
     "nuid": "4742f877-24ad-4c6f-87b3-a14e6195b1f4",
     "showTitle": false,
     "title": ""
    }
   },
   "outputs": [],
   "source": []
  },
  {
   "cell_type": "code",
   "execution_count": 0,
   "metadata": {
    "application/vnd.databricks.v1+cell": {
     "cellMetadata": {},
     "inputWidgets": {},
     "nuid": "67b269af-d684-4953-93ba-98378380e7d5",
     "showTitle": false,
     "title": ""
    },
    "tags": []
   },
   "outputs": [],
   "source": [
    "DateOperations.year_range('2022-01-01', '2023-12-31')"
   ]
  },
  {
   "cell_type": "code",
   "execution_count": 0,
   "metadata": {
    "application/vnd.databricks.v1+cell": {
     "cellMetadata": {},
     "inputWidgets": {},
     "nuid": "cc11505e-2bad-4651-93c7-a673e88c506a",
     "showTitle": false,
     "title": ""
    }
   },
   "outputs": [],
   "source": []
  }
 ],
 "metadata": {
  "application/vnd.databricks.v1+notebook": {
   "dashboards": [],
   "environmentMetadata": null,
   "language": "python",
   "notebookMetadata": {
    "pythonIndentUnit": 4
   },
   "notebookName": "class testGround",
   "widgets": {}
  },
  "kernelspec": {
   "display_name": "Python 3 (ipykernel)",
   "language": "python",
   "name": "python3"
  },
  "language_info": {
   "codemirror_mode": {
    "name": "ipython",
    "version": 3
   },
   "file_extension": ".py",
   "mimetype": "text/x-python",
   "name": "python",
   "nbconvert_exporter": "python",
   "pygments_lexer": "ipython3",
   "version": "3.8.16"
  }
 },
 "nbformat": 4,
 "nbformat_minor": 0
}
