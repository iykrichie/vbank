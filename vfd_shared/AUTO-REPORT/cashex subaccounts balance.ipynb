{
 "cells": [
  {
   "cell_type": "code",
   "execution_count": 0,
   "metadata": {
    "application/vnd.databricks.v1+cell": {
     "cellMetadata": {
      "byteLimit": 2048000,
      "rowLimit": 10000
     },
     "inputWidgets": {},
     "nuid": "8a0ff8b6-839a-4a8e-bbac-aaa62fe8bd11",
     "showTitle": false,
     "title": ""
    }
   },
   "outputs": [],
   "source": [
    "print(\"Healthy\")"
   ]
  },
  {
   "cell_type": "code",
   "execution_count": 0,
   "metadata": {
    "application/vnd.databricks.v1+cell": {
     "cellMetadata": {
      "byteLimit": 2048000,
      "rowLimit": 10000
     },
     "inputWidgets": {},
     "nuid": "fada6d22-5ae6-4e52-bd50-1cf9fa4e522c",
     "showTitle": false,
     "title": ""
    }
   },
   "outputs": [],
   "source": [
    "from re import search\n",
    "from sqlalchemy import create_engine\n",
    "\n",
    "import pandas as pd \n",
    "import numpy as np \n",
    "\n",
    "import mysql.connector\n",
    "\n",
    "import warnings\n",
    "warnings.filterwarnings('ignore')\n"
   ]
  },
  {
   "cell_type": "code",
   "execution_count": 0,
   "metadata": {
    "application/vnd.databricks.v1+cell": {
     "cellMetadata": {
      "byteLimit": 2048000,
      "rowLimit": 10000
     },
     "inputWidgets": {},
     "nuid": "80831fa5-0403-48d8-b81c-8a0c1abe099e",
     "showTitle": false,
     "title": ""
    }
   },
   "outputs": [],
   "source": [
    "from datetime import datetime, timedelta\n",
    "today = datetime.today().strftime('%Y-%m-%d')\n",
    "yesterday =  (datetime.today() - timedelta(days = 1)).strftime('%Y-%m-%d')\n",
    "time_now = datetime.today().strftime('%Y-%m-%d %H')\n",
    "prev_time = (datetime.today() - timedelta(days = 1)).strftime('%Y-%m-%d 18')\n",
    "\n",
    "print(prev_time, time_now)\n",
    "print(yesterday, today)\n",
    "print(len(prev_time))"
   ]
  },
  {
   "cell_type": "code",
   "execution_count": 0,
   "metadata": {
    "application/vnd.databricks.v1+cell": {
     "cellMetadata": {
      "byteLimit": 2048000,
      "rowLimit": 10000
     },
     "inputWidgets": {},
     "nuid": "d2dc9839-4cf1-409f-afe0-16b35d92df71",
     "showTitle": false,
     "title": ""
    }
   },
   "outputs": [],
   "source": [
    "import itables\n",
    "\n",
    "from re import search\n",
    "from sqlalchemy import create_engine\n",
    "import duckdb\n",
    "\n",
    "import pandas as pd \n",
    "import numpy as np \n",
    "import mysql.connector\n",
    "\n",
    "#from custom_packages.email_operations import EmailOperations\n",
    "\n",
    "\n",
    "import warnings\n",
    "warnings.filterwarnings('ignore')\n",
    "\n",
    "pd.set_option('display.max_columns', None)\n",
    "\n",
    "\n",
    "import json\n",
    "with open('/Workspace/Credentials/db_data.json', 'r') as fp:\n",
    "    data = json.load(fp)\n",
    "\n",
    "Dumpdb = mysql.connector.connect(\n",
    "  host=data['Dumpdb']['host'],\n",
    "  user=data['Dumpdb']['user'],\n",
    "  passwd=data['Dumpdb']['passwd'],\n",
    "  database = data['Dumpdb']['database']\n",
    ")\n",
    "\n",
    "\n",
    "Mifosdb = mysql.connector.connect(\n",
    "  host=data['mifos']['host'],\n",
    "  user=data['mifos']['user'],\n",
    "  passwd=data['mifos']['passwd'],\n",
    "  database = data['mifos']['database']\n",
    ")\n",
    "\n",
    "\n",
    "vbizdb = mysql.connector.connect(\n",
    "     host=data['vbizdb']['host'],\n",
    "  user=data['vbizdb']['user'],\n",
    "  passwd=data['vbizdb']['passwd'],\n",
    "  database = data['vbizdb']['database']\n",
    ")\n",
    "\n",
    "\n",
    "host = data['redshift']['host']\n",
    "user = data['redshift']['user']\n",
    "passwd = data['redshift']['passwd']\n",
    "database = data['redshift']['database']\n",
    "\n",
    "conn = create_engine(f\"postgresql+psycopg2://{user}:{passwd}@{host}:5439/{database}\")\n",
    "pd.set_option('display.float_format', lambda x: '%.2f' % x)\n",
    "\n"
   ]
  },
  {
   "cell_type": "code",
   "execution_count": 0,
   "metadata": {
    "application/vnd.databricks.v1+cell": {
     "cellMetadata": {
      "byteLimit": 2048000,
      "rowLimit": 10000
     },
     "inputWidgets": {},
     "nuid": "1de6015e-1add-46f2-8601-916063da1a10",
     "showTitle": false,
     "title": ""
    }
   },
   "outputs": [],
   "source": [
    "username = data['auto-report']['email']\n",
    "passwd = data['auto-report']['passwd']\n",
    "print(username)"
   ]
  },
  {
   "cell_type": "code",
   "execution_count": 0,
   "metadata": {
    "application/vnd.databricks.v1+cell": {
     "cellMetadata": {
      "byteLimit": 2048000,
      "rowLimit": 10000
     },
     "inputWidgets": {},
     "nuid": "8d256b9e-83e5-4236-8e01-c2861a599151",
     "showTitle": false,
     "title": ""
    }
   },
   "outputs": [],
   "source": [
    "bal = '''\n",
    "SELECT\n",
    "mc.display_name AS client_name,\n",
    "sa.account_no,\n",
    "sp.name AS product_name,\n",
    "sa.account_balance_derived,\n",
    "MAX(st.created_date) AS last_transaction_date,\n",
    "st.running_balance_derived AS balance_as_at_last_transaction\n",
    "FROM m_savings_account sa\n",
    "JOIN m_client mc ON mc.id = sa.client_id\n",
    "JOIN m_savings_product sp ON sp.id = sa.product_id\n",
    "LEFT JOIN m_savings_account_transaction st ON st.savings_account_id = sa.id\n",
    "WHERE sp.id = 136\n",
    "GROUP BY sa.account_no\n",
    "'''\n",
    "\n",
    "dfbal = pd.read_sql_query(bal, Mifosdb)\n",
    "\n",
    "dfbal"
   ]
  },
  {
   "cell_type": "code",
   "execution_count": 0,
   "metadata": {
    "application/vnd.databricks.v1+cell": {
     "cellMetadata": {
      "byteLimit": 2048000,
      "rowLimit": 10000
     },
     "inputWidgets": {},
     "nuid": "f2b7906c-ea54-469c-95fe-1e51caef0e51",
     "showTitle": false,
     "title": ""
    }
   },
   "outputs": [],
   "source": [
    "with pd.ExcelWriter(f\"/Workspace/ReportDump/Cashex_Subaccount/Cashex subaccount daily balance as at {today}.xlsx\") as writer:\n",
    "    dfbal.to_excel(writer, sheet_name = f'cashex subaccount balances', index = False)\n",
    "    "
   ]
  },
  {
   "cell_type": "code",
   "execution_count": 0,
   "metadata": {
    "application/vnd.databricks.v1+cell": {
     "cellMetadata": {
      "byteLimit": 2048000,
      "rowLimit": 10000
     },
     "inputWidgets": {},
     "nuid": "6f3cd4c1-9add-4830-b5ca-ca96c64a828a",
     "showTitle": false,
     "title": ""
    }
   },
   "outputs": [],
   "source": [
    "# FILE TO SEND AND ITS PATH\n",
    "filename = f'Cashex subaccount daily balance as at {today}.xlsx'\n",
    "SourcePathName  = \"/Workspace/ReportDump/Cashex_Subaccount/\" + filename\n"
   ]
  },
  {
   "cell_type": "code",
   "execution_count": 0,
   "metadata": {
    "application/vnd.databricks.v1+cell": {
     "cellMetadata": {
      "byteLimit": 2048000,
      "rowLimit": 10000
     },
     "inputWidgets": {},
     "nuid": "1e092b09-bef1-4d27-97b3-0b7d0bb64bfa",
     "showTitle": false,
     "title": ""
    }
   },
   "outputs": [],
   "source": [
    "import csv, smtplib, ssl\n",
    "from email.mime.multipart import MIMEMultipart\n",
    "from email.mime.base import MIMEBase\n",
    "from email.mime.text import MIMEText\n",
    "from email import encoders\n",
    "\n",
    "\n",
    "\n",
    "msg = MIMEMultipart()\n",
    "msg['From'] = 'auto-report@vfdtech.ng'\n",
    "# msg['To'] = 'Henry.Nnonyelu@vfdtech.ng'\n",
    "msg['To'] = \"treasury@cashex.app, scott@cashex.app\"\n",
    "msg['cc'] = 'Henry.Nnonyelu@vfdtech.ng, Olugbenga.Paseda@vfdtech.ng'\n",
    "msg['Bcc'] = 'data-team@vfdtech.ng'\n",
    "msg['Subject'] = f'CASHEX SUBACCOUNT BALANCES'\n",
    "body = f\"\"\"\n",
    "Hello Cashex,\n",
    "\n",
    "Please find attached report for subaccount balances as at {today}.\n",
    "\n",
    "Regards,\n",
    "\"\"\"\n",
    "msg.attach(MIMEText(body, 'plain'))\n",
    "\n",
    "\n",
    "\n",
    "## ATTACHMENT PART OF THE CODE IS HERE\n",
    "attachment = open(SourcePathName, 'rb')\n",
    "part = MIMEBase('application', \"octet-stream\")\n",
    "part.set_payload((attachment).read())\n",
    "encoders.encode_base64(part)\n",
    "part.add_header('Content-Disposition', \"attachment; filename= %s\" % filename)\n",
    "msg.attach(part)\n",
    "\n",
    "server = smtplib.SMTP('smtp.office365.com', 587)  ### put your relevant SMTP here\n",
    "server.ehlo()\n",
    "server.starttls()\n",
    "server.ehlo()\n",
    "server.login(username, passwd)  ### if applicable\n",
    "server.send_message(msg)\n",
    "server.quit()"
   ]
  },
  {
   "cell_type": "code",
   "execution_count": 0,
   "metadata": {
    "application/vnd.databricks.v1+cell": {
     "cellMetadata": {},
     "inputWidgets": {},
     "nuid": "1a62f7df-f9d7-4d93-afbb-e8c8a1c0ccf6",
     "showTitle": false,
     "title": ""
    }
   },
   "outputs": [],
   "source": []
  }
 ],
 "metadata": {
  "application/vnd.databricks.v1+notebook": {
   "dashboards": [],
   "environmentMetadata": null,
   "language": "python",
   "notebookMetadata": {
    "pythonIndentUnit": 4
   },
   "notebookName": "cashex subaccounts balance",
   "widgets": {}
  },
  "kernelspec": {
   "display_name": "Python 3 (ipykernel)",
   "language": "python",
   "name": "python3"
  },
  "language_info": {
   "codemirror_mode": {
    "name": "ipython",
    "version": 3
   },
   "file_extension": ".py",
   "mimetype": "text/x-python",
   "name": "python",
   "nbconvert_exporter": "python",
   "pygments_lexer": "ipython3",
   "version": "3.8.16"
  }
 },
 "nbformat": 4,
 "nbformat_minor": 0
}
