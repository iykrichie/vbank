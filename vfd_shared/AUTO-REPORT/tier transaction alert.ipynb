{
 "cells": [
  {
   "cell_type": "code",
   "execution_count": 0,
   "metadata": {
    "application/vnd.databricks.v1+cell": {
     "cellMetadata": {
      "byteLimit": 2048000,
      "rowLimit": 10000
     },
     "inputWidgets": {},
     "nuid": "f733a8bb-0b5d-4b5d-bf2d-a21c3c407403",
     "showTitle": false,
     "title": ""
    }
   },
   "outputs": [],
   "source": [
    "print(\"Healthy\")"
   ]
  },
  {
   "cell_type": "code",
   "execution_count": 0,
   "metadata": {
    "application/vnd.databricks.v1+cell": {
     "cellMetadata": {
      "byteLimit": 2048000,
      "rowLimit": 10000
     },
     "inputWidgets": {},
     "nuid": "d1f126fd-2a04-475a-b1c5-b54a713555aa",
     "showTitle": false,
     "title": ""
    },
    "tags": []
   },
   "outputs": [],
   "source": [
    "from re import search\n",
    "from sqlalchemy import create_engine\n",
    "import duckdb\n",
    "\n",
    "import pandas as pd \n",
    "import numpy as np \n",
    "import mysql.connector\n",
    "\n",
    "#from custom_packages.email_operations import EmailOperations\n",
    "\n",
    "pd.set_option('display.max_columns', None)\n",
    "\n",
    "import warnings\n",
    "warnings.filterwarnings('ignore')\n",
    "\n",
    "import json\n",
    "with open('/Workspace/Credentials/db_data.json', 'r') as fp:\n",
    "    data = json.load(fp)\n",
    "\n",
    "Dumpdb = mysql.connector.connect(\n",
    "  host=data['Dumpdb']['host'],\n",
    "  user=data['Dumpdb']['user'],\n",
    "  passwd=data['Dumpdb']['passwd'],\n",
    "  database = data['Dumpdb']['database']\n",
    ")\n",
    "\n",
    "\n",
    "Mifosdb = mysql.connector.connect(\n",
    "  host=data['mifos']['host'],\n",
    "  user=data['mifos']['user'],\n",
    "  passwd=data['mifos']['passwd'],\n",
    "  database = data['mifos']['database']\n",
    ")\n",
    "\n",
    "\n",
    "vbizdb = mysql.connector.connect(\n",
    "     host=data['vbizdb']['host'],\n",
    "  user=data['vbizdb']['user'],\n",
    "  passwd=data['vbizdb']['passwd'],\n",
    "  database = data['vbizdb']['database']\n",
    ")\n",
    "\n",
    "\n",
    "host = data['redshift']['host']\n",
    "user = data['redshift']['user']\n",
    "passwd = data['redshift']['passwd']\n",
    "database = data['redshift']['database']\n",
    "\n",
    "conn = create_engine(f\"postgresql+psycopg2://{user}:{passwd}@{host}:5439/{database}\")\n",
    "\n",
    "pd.set_option('display.float_format', lambda x: '%.2f' % x)\n",
    "\n"
   ]
  },
  {
   "cell_type": "code",
   "execution_count": 0,
   "metadata": {
    "application/vnd.databricks.v1+cell": {
     "cellMetadata": {
      "byteLimit": 2048000,
      "rowLimit": 10000
     },
     "inputWidgets": {},
     "nuid": "4b9d3f21-c68f-42e0-9138-89b76ba9249a",
     "showTitle": false,
     "title": ""
    }
   },
   "outputs": [],
   "source": [
    "from datetime import datetime, timedelta\n",
    "today = datetime.today().strftime('%Y-%m-%d')\n",
    "yesterday =  (datetime.today() - timedelta(days = 1)).strftime('%Y-%m-%d')\n",
    "\n",
    "\n",
    "\n",
    "print(today)\n",
    "print(yesterday)\n",
    "\n",
    "\n",
    "last_2_wks = datetime.today() - timedelta(days = 14)\n",
    "last_2_wks = last_2_wks.strftime('%Y-%m-%d')\n",
    "print('------------------------------------')\n",
    "print(last_2_wks)\n",
    "\n",
    "print('\\n')\n",
    "now = datetime.today().strftime('%Y-%m-%d %H:%M:%S')\n",
    "\n",
    "last_30_mins = (datetime.today() - timedelta(days = 1)).strftime('%Y-%m-%d %H:%M:%S')\n",
    "trunc_last_30_mins = (datetime.today() - timedelta(days = 1)).strftime('%Y-%m-%d %H:%M')\n",
    "print(last_30_mins, 'to', now)"
   ]
  },
  {
   "cell_type": "code",
   "execution_count": 0,
   "metadata": {
    "application/vnd.databricks.v1+cell": {
     "cellMetadata": {
      "byteLimit": 2048000,
      "rowLimit": 10000
     },
     "inputWidgets": {},
     "nuid": "1e17fc79-957c-4d0e-a113-13147c2fff66",
     "showTitle": false,
     "title": ""
    }
   },
   "outputs": [],
   "source": [
    "username = data['auto-report']['email']\n",
    "passwd = data['auto-report']['passwd']\n",
    "print(username)"
   ]
  },
  {
   "cell_type": "markdown",
   "metadata": {
    "application/vnd.databricks.v1+cell": {
     "cellMetadata": {
      "byteLimit": 2048000,
      "rowLimit": 10000
     },
     "inputWidgets": {},
     "nuid": "f6f60a86-5714-45aa-aec6-00b1d3581542",
     "showTitle": false,
     "title": ""
    }
   },
   "source": [
    "\n",
    "\n",
    "SUSPICIOUS TRANSACTIONS ALERT\n",
    "\n",
    " \n",
    "\n",
    "Large/frequent cash deposit into customer’s account.\n",
    "i.                     Tier 1: Single deposit transaction more that N100,000\n",
    "\n",
    "ii.                   Tier 2: Single deposit of transaction more than N200,000\n",
    "\n",
    "iii.                 Tier 3: Multiple of same value"
   ]
  },
  {
   "cell_type": "code",
   "execution_count": 0,
   "metadata": {
    "application/vnd.databricks.v1+cell": {
     "cellMetadata": {
      "byteLimit": 2048000,
      "rowLimit": 10000
     },
     "inputWidgets": {},
     "nuid": "6028cbc2-75e6-45ec-bb71-95728288f361",
     "showTitle": false,
     "title": ""
    },
    "tags": []
   },
   "outputs": [],
   "source": [
    "%%time\n",
    "\n",
    "sql = f\"\"\"\n",
    "select\n",
    "dat.client_id,\n",
    "dat.client_name,\n",
    "dat.account_no,\n",
    "dat.product_name,\n",
    "dac.client_tier,\n",
    "transaction_type,\n",
    "amount,\n",
    "running_balance as balance,\n",
    "transaction_date,\n",
    "transaction_remarks,\n",
    "email_address,\n",
    "mobile_number\n",
    "from dwh_all_transactions dat\n",
    "left join dwh_all_clients dac on dac.client_id = dat.client_id\n",
    "left join dwh_all_accounts daa on daa.account_no = dat.account_no\n",
    "\n",
    "where dac.client_tier = 'Tier 1'\n",
    "and left(dat.transaction_date, 10) = '{yesterday}'\n",
    "and transaction_type_enum in (1, 2)\n",
    "and is_reversed = 'No'\n",
    "and amount >= 100000\n",
    "and product_id in (29, 33) -- (26, 36, 24, 31, 32, 30)\n",
    "\n",
    "and (transaction_remarks not like '%%FD Book%%' and transaction_remarks not like '%%Roll over%%' \n",
    "and transaction_remarks not like '%%Loan Disbu%%' and transaction_remarks not like '%%Partial Liquidat%%');\n",
    "\"\"\"\n",
    "tier1 = pd.read_sql_query(sql, conn)\n",
    "tier1.head()"
   ]
  },
  {
   "cell_type": "code",
   "execution_count": 0,
   "metadata": {
    "application/vnd.databricks.v1+cell": {
     "cellMetadata": {
      "byteLimit": 2048000,
      "rowLimit": 10000
     },
     "inputWidgets": {},
     "nuid": "f7d03d7e-6d33-41a2-af19-08ff5d8b68f8",
     "showTitle": false,
     "title": ""
    }
   },
   "outputs": [],
   "source": [
    "display(tier1)"
   ]
  },
  {
   "cell_type": "code",
   "execution_count": 0,
   "metadata": {
    "application/vnd.databricks.v1+cell": {
     "cellMetadata": {
      "byteLimit": 2048000,
      "rowLimit": 10000
     },
     "inputWidgets": {},
     "nuid": "4512efb6-4aea-49dd-ad3a-904c85ff03b6",
     "showTitle": false,
     "title": ""
    },
    "tags": []
   },
   "outputs": [],
   "source": [
    "%%time\n",
    "sql = f\"\"\"\n",
    "select\n",
    "dat.client_id,\n",
    "dat.client_name,\n",
    "dat.account_no,\n",
    "dat.product_name,\n",
    "dac.client_tier,\n",
    "transaction_type,\n",
    "amount,\n",
    "running_balance as balance,\n",
    "transaction_date,\n",
    "transaction_remarks,\n",
    "email_address,\n",
    "mobile_number\n",
    "from dwh_all_transactions dat\n",
    "left join dwh_all_clients dac on dac.client_id = dat.client_id\n",
    "left join dwh_all_accounts daa on daa.account_no = dat.account_no\n",
    "where dac.client_tier = 'Tier 2'\n",
    "and left(dat.transaction_date, 10) = '{yesterday}'\n",
    "and transaction_type_enum in (1, 2)\n",
    "and is_reversed = 'No'\n",
    "and amount >= 200000\n",
    "and product_id in (29, 33)\n",
    "and (transaction_remarks not like '%%FD Book%%' and transaction_remarks not like '%%Roll over%%' \n",
    "    and transaction_remarks not like '%%Loan Disbu%%' and transaction_remarks not like '%%Partial Liquid%%')\n",
    "\"\"\"\n",
    "tier2 = pd.read_sql_query(sql, conn)\n",
    "tier2.head()"
   ]
  },
  {
   "cell_type": "code",
   "execution_count": 0,
   "metadata": {
    "application/vnd.databricks.v1+cell": {
     "cellMetadata": {
      "byteLimit": 2048000,
      "rowLimit": 10000
     },
     "inputWidgets": {},
     "nuid": "fe2cf7bb-68f7-49e3-b469-afc8fd805761",
     "showTitle": false,
     "title": ""
    }
   },
   "outputs": [],
   "source": [
    "display(tier2)"
   ]
  },
  {
   "cell_type": "code",
   "execution_count": 0,
   "metadata": {
    "application/vnd.databricks.v1+cell": {
     "cellMetadata": {
      "byteLimit": 2048000,
      "rowLimit": 10000
     },
     "inputWidgets": {},
     "nuid": "ca24ffca-26bf-4fb3-ae5a-81d6580e1462",
     "showTitle": false,
     "title": ""
    },
    "tags": []
   },
   "outputs": [],
   "source": [
    "%%time\n",
    "sql = f\"\"\"\n",
    "select\n",
    "dat.client_id,\n",
    "dat.client_name,\n",
    "dat.account_no,\n",
    "dat.product_name,\n",
    "dac.client_tier,\n",
    "transaction_type,\n",
    "amount,\n",
    "running_balance as balance,\n",
    "transaction_date,\n",
    "transaction_remarks,\n",
    "email_address,\n",
    "mobile_number\n",
    "from dwh_all_transactions dat\n",
    "left join dwh_all_clients dac on dac.client_id = dat.client_id\n",
    "left join dwh_all_accounts daa on daa.account_no = dat.account_no\n",
    "where dac.client_tier = 'Tier 3'\n",
    "and left(dat.transaction_date, 10) = '{yesterday}'\n",
    "and transaction_type_enum in (1, 2)\n",
    "and is_reversed = 'No'\n",
    "and amount >= 200000\n",
    "and product_id in (33, 29) -- 26, 36, 24, 31, 32, 30)\n",
    "and (transaction_remarks not like '%%FD Book%%' and transaction_remarks not like '%%Roll over%%' and transaction_remarks not like '%%Loan Disbu%%' \n",
    "and transaction_remarks not like '%%Partial Liquid%%')\n",
    "order by 1\n",
    "\"\"\"\n",
    "tier3 = pd.read_sql_query(sql, conn)\n",
    "tier3.head()"
   ]
  },
  {
   "cell_type": "code",
   "execution_count": 0,
   "metadata": {
    "application/vnd.databricks.v1+cell": {
     "cellMetadata": {
      "byteLimit": 2048000,
      "rowLimit": 10000
     },
     "inputWidgets": {},
     "nuid": "93a9dc0d-a659-4e1d-8954-a76e62f3f658",
     "showTitle": false,
     "title": ""
    }
   },
   "outputs": [],
   "source": [
    "display(tier3)"
   ]
  },
  {
   "cell_type": "code",
   "execution_count": 0,
   "metadata": {
    "application/vnd.databricks.v1+cell": {
     "cellMetadata": {
      "byteLimit": 2048000,
      "rowLimit": 10000
     },
     "inputWidgets": {},
     "nuid": "34c35c3f-b045-4a81-8438-6556c951202a",
     "showTitle": false,
     "title": ""
    }
   },
   "outputs": [],
   "source": [
    "tier3 = tier3[tier3['transaction_remarks'] != 'send Scarves OLUWATOBILOBA ODUBELA JOSEPH \btransfe/ To BADA SAMUEL OLATUNBOSUN']\n",
    "tier3.head()"
   ]
  },
  {
   "cell_type": "code",
   "execution_count": 0,
   "metadata": {
    "application/vnd.databricks.v1+cell": {
     "cellMetadata": {
      "byteLimit": 2048000,
      "rowLimit": 10000
     },
     "inputWidgets": {},
     "nuid": "3425fef2-5ab1-4ca5-b264-9dac6977892c",
     "showTitle": false,
     "title": ""
    }
   },
   "outputs": [],
   "source": [
    "\"\"\"\n",
    "SELECT\n",
    "mc.id AS client_id,\n",
    "mc.display_name AS client_name,\n",
    "msa.account_no,\n",
    "msp.name AS product_name,\n",
    "case mc.client_level_cv_id \n",
    "\twhen '99' then 'Tier 1'\n",
    "\twhen '100' then 'Tier 2'\n",
    "\twhen '101' then 'Tier 3' END AS client_tier,\n",
    "renum.enum_value as transaction_type,\n",
    "st.amount,\n",
    "st.running_balance_derived AS balance,\n",
    "st.transaction_date,\n",
    "ai.`Email Address` AS email_address,\n",
    "ai.`Mobile Number` AS mobile_number\n",
    "from m_savings_account_transaction st\n",
    "left join m_savings_account msa on msa.id = st.savings_account_id\n",
    "left join m_savings_product msp on msp.id = msa.product_id\n",
    "left join m_client mc on mc.id = msa.client_id\n",
    "left join m_group mg on mg.id = msa.group_id\n",
    "left join (SELECT\n",
    "       rv.enum_name,\n",
    "       rv.enum_id,\n",
    "       rv.enum_message_property,\n",
    "       rv.enum_value\n",
    "       FROM r_enum_value rv\n",
    "       WHERE rv.enum_name = 'savings_transaction_type_enum') renum on renum.enum_id = st.transaction_type_enum\n",
    "left join m_appuser map on map.id = st.appuser_id\n",
    "left JOIN m_payment_detail mpd ON mpd.id = st.payment_detail_id\n",
    "left JOIN m_payment_type mpt ON mpt.id = mpd.payment_type_id\n",
    "left join m_transaction_request mtr on mtr.transaction_id = st.id\n",
    "LEFT JOIN `Address Info` ai ON ai.client_id = mc.id\n",
    "WHERE LEFT(st.transaction_date, 10) = '{yesterday}'\n",
    "AND st.transaction_type_enum IN (1,2)\n",
    "AND st.is_reversed_by_contra_entry = '0'\n",
    "AND st.amount >= '200000'\n",
    "AND msa.product_id IN (33,29)\n",
    "AND (mtr.remarks  not like '%FD Book%' and mtr.remarks  not like '%Roll over%' and mtr.remarks  not like '%Loan Disbu%' \n",
    "and mtr.remarks not like '%Partial Liquid%')\n",
    "\"\"\""
   ]
  },
  {
   "cell_type": "code",
   "execution_count": 0,
   "metadata": {
    "application/vnd.databricks.v1+cell": {
     "cellMetadata": {
      "byteLimit": 2048000,
      "rowLimit": 10000
     },
     "inputWidgets": {},
     "nuid": "a88cff82-f0a2-4b04-b226-f96d4f520a9b",
     "showTitle": false,
     "title": ""
    },
    "tags": []
   },
   "outputs": [],
   "source": [
    "inf = duckdb.query(f\"\"\"\n",
    "        select\n",
    "        client_id,\n",
    "        count(account_no),\n",
    "        count(amount)\n",
    "        from tier3\n",
    "        where transaction_type = 'deposit'\n",
    "        group by 1\n",
    "        having count(account_no) > 1 and count(amount) > 1\n",
    "        \"\"\").to_df()\n",
    "\n",
    "inf3 = tier3[tier3['client_id'].isin(inf['client_id'].tolist())].reset_index(drop = True)\n",
    "\n",
    "inf3.head()"
   ]
  },
  {
   "cell_type": "code",
   "execution_count": 0,
   "metadata": {
    "application/vnd.databricks.v1+cell": {
     "cellMetadata": {
      "byteLimit": 2048000,
      "rowLimit": 10000
     },
     "inputWidgets": {},
     "nuid": "c5138506-10d4-4758-acda-4ed0485a48ea",
     "showTitle": false,
     "title": ""
    },
    "tags": []
   },
   "outputs": [],
   "source": [
    "out = duckdb.query(f\"\"\"\n",
    "        select\n",
    "        client_id,\n",
    "        count(account_no),\n",
    "        count(amount)\n",
    "        from tier3\n",
    "        where transaction_type = 'withdrawal'\n",
    "        group by 1\n",
    "        having count(account_no) > 1 and count(amount) > 1\n",
    "        \"\"\").to_df()\n",
    "\n",
    "out3 = tier3[tier3['client_id'].isin(out['client_id'].tolist())].reset_index(drop = True)\n",
    "\n",
    "out3.head()"
   ]
  },
  {
   "cell_type": "code",
   "execution_count": 0,
   "metadata": {
    "application/vnd.databricks.v1+cell": {
     "cellMetadata": {
      "byteLimit": 2048000,
      "rowLimit": 10000
     },
     "inputWidgets": {},
     "nuid": "cf28ca76-fa8d-44d9-943b-f08d8cb716b8",
     "showTitle": false,
     "title": ""
    },
    "tags": []
   },
   "outputs": [],
   "source": [
    "with pd.ExcelWriter(f\"/Workspace/ReportDump/Tier_Level_Alert/Tier level {yesterday}.xlsx\") as writer:\n",
    "    tier1[tier1['transaction_type'] == 'deposit'].to_excel(writer, sheet_name = 'Tier 1 inflows', index = False)\n",
    "    tier1[tier1['transaction_type'] == 'withdrawal'].to_excel(writer, sheet_name = 'Tier 1 outflows', index = False)\n",
    "    tier2[tier2['transaction_type'] == 'deposit'].to_excel(writer, sheet_name = 'Tier 2 inflows', index = False)\n",
    "    tier2[tier2['transaction_type'] == 'withdrawal'].to_excel(writer, sheet_name = 'Tier 2 outflows', index = False)\n",
    "    inf3.to_excel(writer, sheet_name = 'Tier 3 inflows', index = False)\n",
    "    out3.to_excel(writer, sheet_name = 'Tier 3 outflows', index = False)\n"
   ]
  },
  {
   "cell_type": "code",
   "execution_count": 0,
   "metadata": {
    "application/vnd.databricks.v1+cell": {
     "cellMetadata": {
      "byteLimit": 2048000,
      "rowLimit": 10000
     },
     "inputWidgets": {},
     "nuid": "60c154b8-7560-4124-9eb5-36d98f4dd094",
     "showTitle": false,
     "title": ""
    }
   },
   "outputs": [],
   "source": [
    "# FILE TO SEND AND ITS PATH\n",
    "filename = f'Tier level {yesterday}.xlsx'\n",
    "SourcePathName  = \"/Workspace/ReportDump/Tier_Level_Alert/\" + filename\n",
    "\n",
    "\n",
    "import csv, smtplib, ssl\n",
    "from email.mime.multipart import MIMEMultipart\n",
    "from email.mime.base import MIMEBase\n",
    "from email.mime.text import MIMEText\n",
    "from email import encoders\n",
    "\n",
    "\n",
    "\n",
    "msg = MIMEMultipart()\n",
    "msg['From'] = 'auto-report@vfdtech.ng'\n",
    "msg['To'] = f'bolaji.jimoh@vfd-mfb.com, damilola.fatunmise@vfd-mfb.com, data-team@vfdtech.ng, joseph.ogbeche@vfd-mfb.com'\n",
    "# msg['cc'] = 'productteam@vfd-mfb.com, salesteam@vfd-mfb.com'\n",
    "msg['Bcc'] = ' data-team@vfdtech.ng'\n",
    "msg['Subject'] = f'Tier Level Transaction Alert for {yesterday}'\n",
    "body = f'Please find attached tier level transaction report as at {yesterday}'\n",
    "msg.attach(MIMEText(body, 'plain'))\n",
    "\n",
    "\n",
    "## ATTACHMENT PART OF THE CODE IS HERE\n",
    "attachment = open(SourcePathName, 'rb')\n",
    "part = MIMEBase('application', \"octet-stream\")\n",
    "part.set_payload((attachment).read())\n",
    "encoders.encode_base64(part)\n",
    "part.add_header('Content-Disposition', \"attachment; filename= %s\" % filename)\n",
    "msg.attach(part)\n",
    "\n",
    "server = smtplib.SMTP('smtp.office365.com', 587)  ### put your relevant SMTP here\n",
    "server.ehlo()\n",
    "server.starttls()\n",
    "server.ehlo()\n",
    "server.login(username, passwd)  ### if applicable\n",
    "server.send_message(msg)\n",
    "server.quit()"
   ]
  },
  {
   "cell_type": "markdown",
   "metadata": {
    "application/vnd.databricks.v1+cell": {
     "cellMetadata": {
      "byteLimit": 2048000,
      "rowLimit": 10000
     },
     "inputWidgets": {},
     "nuid": "f352ef05-d070-4317-9e1d-6fd8eb241b25",
     "showTitle": false,
     "title": ""
    }
   },
   "source": [
    "## Manually activated accounts "
   ]
  },
  {
   "cell_type": "markdown",
   "metadata": {
    "application/vnd.databricks.v1+cell": {
     "cellMetadata": {
      "byteLimit": 2048000,
      "rowLimit": 10000
     },
     "inputWidgets": {},
     "nuid": "e58d65e0-18a7-4b7e-9344-9e5f44d29310",
     "showTitle": false,
     "title": ""
    }
   },
   "source": [
    " Please we want a daily auto generated report on all manually opened Corporate and Individual accounts. We will appreciate if this report can start coming in from tomorrow."
   ]
  },
  {
   "cell_type": "code",
   "execution_count": 0,
   "metadata": {
    "application/vnd.databricks.v1+cell": {
     "cellMetadata": {
      "byteLimit": 2048000,
      "rowLimit": 10000
     },
     "inputWidgets": {},
     "nuid": "2e6c5dc8-948c-4c59-b122-06fd77d98be0",
     "showTitle": false,
     "title": ""
    },
    "tags": []
   },
   "outputs": [],
   "source": [
    "%%time\n",
    "rmanual_accts = pd.read_sql(f'''\n",
    "                select \n",
    "                distinct\n",
    "                COALESCE(dac.client_id, dgc.group_client_id, daa.client_id) as client_id,\n",
    "                dac.client_name,\n",
    "                dac.client_tier,\n",
    "                --dbw.bvn,\n",
    "                dab.account_no,\n",
    "                dbw.restriction_status,\n",
    "                daa.product_id,\n",
    "                daa.product_name,\n",
    "                dab.balance,\n",
    "                dab.approvedon_date as activation_date,\n",
    "                dac.email_address,\n",
    "                dac.mobile_number,\n",
    "                dac.mailing_address,\n",
    "                dab.request_sbumittedby_user_fullname as submission_request_username,\n",
    "                dab.activatedby_user_fullname\n",
    "                from dwh_account_balances dab\n",
    "                left join dwh_all_accounts daa on daa.account_id = dab.account_id\n",
    "                left join dwh_group_clients dgc on dgc.group_client_id = daa.client_id\n",
    "                left join dwh_all_clients dac on dac.client_id = daa.client_id\n",
    "                left join dwh_bvn_watchlist dbw on dbw.client_id = dac.client_id\n",
    "                where dab.request_submittedby_userid  != 31\n",
    "                and left(dab.approvedon_date, 10) = '{yesterday}' \n",
    "                and length(COALESCE(dac.client_id, dgc.group_client_id, daa.client_id)) > 1\n",
    "                ''', conn)\n",
    "rmanual_accts.head()"
   ]
  },
  {
   "cell_type": "code",
   "execution_count": 0,
   "metadata": {
    "application/vnd.databricks.v1+cell": {
     "cellMetadata": {
      "byteLimit": 2048000,
      "rowLimit": 10000
     },
     "inputWidgets": {},
     "nuid": "5ec0f8c7-7cb3-4459-8aba-bf138815e8da",
     "showTitle": false,
     "title": ""
    }
   },
   "outputs": [],
   "source": [
    "len(rmanual_accts)"
   ]
  },
  {
   "cell_type": "code",
   "execution_count": 0,
   "metadata": {
    "application/vnd.databricks.v1+cell": {
     "cellMetadata": {
      "byteLimit": 2048000,
      "rowLimit": 10000
     },
     "inputWidgets": {},
     "nuid": "223e243c-7af9-481f-8718-c37664666f89",
     "showTitle": false,
     "title": ""
    }
   },
   "outputs": [],
   "source": [
    "## AML rating score \n",
    "aml = pd.read_sql(f'''\n",
    "            select\n",
    "            client_id as client_id,\n",
    "            final_risk_score as aml_risk_score,\n",
    "            case when final_risk_score <= 1.5 then 'Low risk'\n",
    "                when final_risk_score > 1.5  and final_risk_score < 4 then 'Medium risk'\n",
    "                when final_risk_score >= 4 then 'High risk' end as aml_risk_rating\n",
    "            from aml_customer_risk_rating acr\n",
    "            where client_id in ({','.join([str(x) for x in rmanual_accts['client_id'].tolist()])})\n",
    "            ''', Dumpdb)\n",
    "\n",
    "rmanual_accts = pd.merge(rmanual_accts, aml, on = 'client_id', how = 'left')"
   ]
  },
  {
   "cell_type": "code",
   "execution_count": 0,
   "metadata": {
    "application/vnd.databricks.v1+cell": {
     "cellMetadata": {
      "byteLimit": 2048000,
      "rowLimit": 10000
     },
     "inputWidgets": {},
     "nuid": "91ea08f9-d4fa-4aa1-887c-e51bd963000b",
     "showTitle": false,
     "title": ""
    }
   },
   "outputs": [],
   "source": [
    "rmanual_accts.head()"
   ]
  },
  {
   "cell_type": "code",
   "execution_count": 0,
   "metadata": {
    "application/vnd.databricks.v1+cell": {
     "cellMetadata": {
      "byteLimit": 2048000,
      "rowLimit": 10000
     },
     "inputWidgets": {},
     "nuid": "6fb0b457-2ccb-45ed-a8d8-3b0e9607aa2f",
     "showTitle": false,
     "title": ""
    },
    "tags": []
   },
   "outputs": [],
   "source": [
    "officr = pd.read_sql(f'''\n",
    "                select\n",
    "                a.client_id,\n",
    "                dac.client_id as account_officer_id,\n",
    "                dac.client_name as account_officer_name\n",
    "                from dwh_all_clients dac\n",
    "                left join \n",
    "                            (select\n",
    "                            client_id,\n",
    "                            referred_by_id\n",
    "                            from dwh_all_clients dcl\n",
    "                            where client_id in ({','.join([str(x) for x in rmanual_accts['client_id'].tolist()])})) a on a.referred_by_id = dac.client_id\n",
    "                where dac.client_id in (\n",
    "                                    select\n",
    "                                    referred_by_id\n",
    "                                    from dwh_all_clients\n",
    "                                    where client_id in ({','.join([str(x) for x in rmanual_accts['client_id'].tolist()])}))\n",
    "                ''', conn)\n",
    "\n",
    "rmanual_accts = pd.merge(rmanual_accts, officr, on = 'client_id', how = 'left')\n",
    "\n",
    "rmanual_accts.head()"
   ]
  },
  {
   "cell_type": "code",
   "execution_count": 0,
   "metadata": {
    "application/vnd.databricks.v1+cell": {
     "cellMetadata": {
      "byteLimit": 2048000,
      "rowLimit": 10000
     },
     "inputWidgets": {},
     "nuid": "d286c8ee-7262-46aa-8a05-82959ee27db0",
     "showTitle": false,
     "title": ""
    },
    "tags": []
   },
   "outputs": [],
   "source": [
    "rmanual_accts[rmanual_accts['client_name'].isna()]"
   ]
  },
  {
   "cell_type": "code",
   "execution_count": 0,
   "metadata": {
    "application/vnd.databricks.v1+cell": {
     "cellMetadata": {
      "byteLimit": 2048000,
      "rowLimit": 10000
     },
     "inputWidgets": {},
     "nuid": "dbb276a0-a6df-4423-8d1b-aaf20ae3063c",
     "showTitle": false,
     "title": ""
    },
    "tags": []
   },
   "outputs": [],
   "source": [
    "rmanual_accts = rmanual_accts[rmanual_accts['product_id'].isin([24, 26, 29, 33, 212])]\n",
    "rmanual_accts"
   ]
  },
  {
   "cell_type": "code",
   "execution_count": 0,
   "metadata": {
    "application/vnd.databricks.v1+cell": {
     "cellMetadata": {
      "byteLimit": 2048000,
      "rowLimit": 10000
     },
     "inputWidgets": {},
     "nuid": "6f33b243-3aab-47db-99a5-97f7caa5e88e",
     "showTitle": false,
     "title": ""
    },
    "tags": []
   },
   "outputs": [],
   "source": [
    "with pd.ExcelWriter(f\"/Workspace/ReportDump/Tier_Level_Alert/Manually activated {yesterday}.xlsx\") as writer:\n",
    "    rmanual_accts.to_excel(writer, sheet_name = 'Sheet 1', index = False)"
   ]
  },
  {
   "cell_type": "code",
   "execution_count": 0,
   "metadata": {
    "application/vnd.databricks.v1+cell": {
     "cellMetadata": {
      "byteLimit": 2048000,
      "rowLimit": 10000
     },
     "inputWidgets": {},
     "nuid": "f6626c13-b90c-4cf2-930f-9cac9ef750e6",
     "showTitle": false,
     "title": ""
    }
   },
   "outputs": [],
   "source": [
    "# FILE TO SEND AND ITS PATH\n",
    "filename = f'Manually activated {yesterday}.xlsx'\n",
    "SourcePathName  = \"/Workspace/ReportDump/Tier_Level_Alert/\" + filename\n",
    "\n",
    "\n",
    "import csv, smtplib, ssl\n",
    "from email.mime.multipart import MIMEMultipart\n",
    "from email.mime.base import MIMEBase\n",
    "from email.mime.text import MIMEText\n",
    "from email import encoders\n",
    "\n",
    "\n",
    "\n",
    "msg = MIMEMultipart()\n",
    "msg['From'] = 'auto-report@vfdtech.ng'\n",
    "msg['To'] = f'compliance@vfd-mfb.com, damilola.fatunmise@vfd-mfb.com, temitope.osinubi@vfd-mfb.com, bright.bassey@vfd-mfb.com, joseph.ogbeche@vfd-mfb.com'\n",
    "# msg['cc'] = 'productteam@vfd-mfb.com, salesteam@vfd-mfb.com'\n",
    "msg['Bcc'] = ' data-team@vfdtech.ng'\n",
    "msg['Subject'] = f'Manual Individual and Corporate accounts activated on {yesterday}'\n",
    "body = f'Please find attached report for {yesterday}'\n",
    "msg.attach(MIMEText(body, 'plain'))\n",
    "\n",
    "\n",
    "## ATTACHMENT PART OF THE CODE IS HERE\n",
    "attachment = open(SourcePathName, 'rb')\n",
    "part = MIMEBase('application', \"octet-stream\")\n",
    "part.set_payload((attachment).read())\n",
    "encoders.encode_base64(part)\n",
    "part.add_header('Content-Disposition', \"attachment; filename= %s\" % filename)\n",
    "msg.attach(part)\n",
    "\n",
    "server = smtplib.SMTP('smtp.office365.com', 587)  ### put your relevant SMTP here\n",
    "server.ehlo()\n",
    "server.starttls()\n",
    "server.ehlo()\n",
    "server.login(username, passwd)  ### if applicable\n",
    "server.send_message(msg)\n",
    "server.quit()"
   ]
  },
  {
   "cell_type": "markdown",
   "metadata": {
    "application/vnd.databricks.v1+cell": {
     "cellMetadata": {
      "byteLimit": 2048000,
      "rowLimit": 10000
     },
     "inputWidgets": {},
     "nuid": "a7684fda-2459-4f76-9f2a-663a0df0b487",
     "showTitle": false,
     "title": ""
    }
   },
   "source": [
    "## Monthly Manualy opened Accounts report"
   ]
  },
  {
   "cell_type": "code",
   "execution_count": 0,
   "metadata": {
    "application/vnd.databricks.v1+cell": {
     "cellMetadata": {
      "byteLimit": 2048000,
      "rowLimit": 10000
     },
     "inputWidgets": {},
     "nuid": "d11fd34c-99ff-4148-b7c8-21c130b893c2",
     "showTitle": false,
     "title": ""
    },
    "tags": []
   },
   "outputs": [],
   "source": [
    "prev_mth = (datetime.today() - timedelta(days = 1)).strftime('%Y-%m')\n",
    "\n",
    "curr_mth = datetime.today().strftime('%Y-%m')\n",
    "\n",
    "if prev_mth == curr_mth:\n",
    "    print(\"Current month still running\")\n",
    "else:\n",
    "    print(\"Happy new month!\\n\")\n",
    "    mth_manual_accts = pd.read_sql(f'''\n",
    "                select \n",
    "                distinct\n",
    "                dac.client_id,\n",
    "                dac.client_name,\n",
    "                dac.client_tier,\n",
    "                dbw.bvn,\n",
    "                dab.account_no,\n",
    "                dbw.restriction_status,\n",
    "                dbw.narration_description,\n",
    "                dbw.block_narration_comment,\n",
    "                daa.product_id,\n",
    "                daa.product_name,\n",
    "                dab.balance,\n",
    "                dab.approvedon_date as activation_date,\n",
    "                dac.email_address,\n",
    "                dac.mobile_number,\n",
    "                dac.mailing_address,\n",
    "                dab.request_sbumittedby_user_fullname as submission_request_username,\n",
    "                dab.activatedby_user_fullname\n",
    "                from dwh_account_balances dab\n",
    "                left join dwh_all_accounts daa on daa.account_id = dab.account_id\n",
    "                left join dwh_all_clients dac on dac.client_id = daa.client_id\n",
    "                left join dwh_bvn_watchlist dbw on dbw.client_id = dac.client_id\n",
    "                where dab.request_submittedby_userid  != 31\n",
    "                and left(dab.approvedon_date, 7) = '{prev_mth}'\n",
    "                ''', conn)\n",
    "    \n",
    "    \n",
    "    ## AML rating score \n",
    "    aml = pd.read_sql(f'''\n",
    "                select\n",
    "                client_id as client_id,\n",
    "                final_risk_score as aml_risk_score,\n",
    "                case when final_risk_score <= 1.5 then 'Low risk'\n",
    "                    when final_risk_score > 1.5  and final_risk_score < 4 then 'Medium risk'\n",
    "                    when final_risk_score >= 4 then 'High risk' end as aml_risk_rating\n",
    "                from aml_customer_risk_rating acr\n",
    "                where client_id in ({','.join([str(x) for x in mth_manual_accts['client_id'].tolist()])})\n",
    "                ''', Dumpdb)\n",
    "\n",
    "    mth_manual_accts = pd.merge(mth_manual_accts, aml, on = 'client_id', how = 'left')\n",
    "    \n",
    "    \n",
    "\n",
    "    officr = pd.read_sql(f'''\n",
    "                    select\n",
    "                    a.client_id,\n",
    "                    dac.client_id as account_officer_id,\n",
    "                    dac.client_name as account_officer_name\n",
    "                    from dwh_all_clients dac\n",
    "                    left join \n",
    "                                (select\n",
    "                                client_id,\n",
    "                                referred_by_id\n",
    "                                from dwh_all_clients dcl\n",
    "                                where client_id in ({','.join([str(x) for x in mth_manual_accts['client_id'].tolist()])})) a on a.referred_by_id = dac.client_id\n",
    "                    where dac.client_id in (\n",
    "                                        select\n",
    "                                        referred_by_id\n",
    "                                        from dwh_all_clients\n",
    "                                        where client_id in ({','.join([str(x) for x in mth_manual_accts['client_id'].tolist()])}))\n",
    "                    ''', conn)\n",
    "\n",
    "    mth_manual_accts = pd.merge(mth_manual_accts, officr, on = 'client_id', how = 'left')\n",
    "\n",
    "\n",
    "\n",
    "    mth_manual_accts = mth_manual_accts[mth_manual_accts['product_id'].isin([24, 26, 29, 33, 212])].reset_index(drop = True)\n",
    "    with pd.ExcelWriter(f\"/Workspace/ReportDump/Tier_Level_Alert/Manually activated {prev_mth}.xlsx\") as writer:\n",
    "        mth_manual_accts.to_excel(writer, sheet_name = 'Sheet 1', index = False)\n",
    "        \n",
    "\n",
    "\n",
    "\n",
    "    # FILE TO SEND AND ITS PATH\n",
    "    filename = f'Manually activated {prev_mth}.xlsx'\n",
    "    SourcePathName  = \"/Workspace/ReportDump/Tier_Level_Alert/\" + filename\n",
    "\n",
    "\n",
    "    import csv, smtplib, ssl\n",
    "    from email.mime.multipart import MIMEMultipart\n",
    "    from email.mime.base import MIMEBase\n",
    "    from email.mime.text import MIMEText\n",
    "    from email import encoders\n",
    "\n",
    "\n",
    "\n",
    "    msg = MIMEMultipart()\n",
    "    msg['From'] = 'auto-report@vfdtech.ng'\n",
    "    msg['To'] = f'compliance@vfd-mfb.com, damilola.fatunmise@vfd-mfb.com, temitope.osinubi@vfd-mfb.com, bright.bassey@vfd-mfb.com, joseph.ogbeche@vfd-mfb.com'\n",
    "    # msg['cc'] = 'productteam@vfd-mfb.com, salesteam@vfd-mfb.com'\n",
    "    msg['Bcc'] = ' data-team@vfdtech.ng'\n",
    "    msg['Subject'] = f'Manual Individual and Corporate accounts activated on {prev_mth}'\n",
    "    body = f'Please find attached report for {prev_mth}'\n",
    "    msg.attach(MIMEText(body, 'plain'))\n",
    "\n",
    "\n",
    "    ## ATTACHMENT PART OF THE CODE IS HERE\n",
    "    attachment = open(SourcePathName, 'rb')\n",
    "    part = MIMEBase('application', \"octet-stream\")\n",
    "    part.set_payload((attachment).read())\n",
    "    encoders.encode_base64(part)\n",
    "    part.add_header('Content-Disposition', \"attachment; filename= %s\" % filename)\n",
    "    msg.attach(part)\n",
    "\n",
    "    server = smtplib.SMTP('smtp.office365.com', 587)  ### put your relevant SMTP here\n",
    "    server.ehlo()\n",
    "    server.starttls()\n",
    "    server.ehlo()\n",
    "    server.login(username, passwd)  ### if applicable\n",
    "    server.send_message(msg)\n",
    "    server.quit()"
   ]
  },
  {
   "cell_type": "code",
   "execution_count": 0,
   "metadata": {
    "application/vnd.databricks.v1+cell": {
     "cellMetadata": {
      "byteLimit": 2048000,
      "rowLimit": 10000
     },
     "inputWidgets": {},
     "nuid": "22bc8f46-a514-4b2d-b32f-23ca459f8ae2",
     "showTitle": false,
     "title": ""
    },
    "tags": []
   },
   "outputs": [],
   "source": [
    "import gc\n",
    "gc.collect()"
   ]
  },
  {
   "cell_type": "code",
   "execution_count": 0,
   "metadata": {
    "application/vnd.databricks.v1+cell": {
     "cellMetadata": {
      "byteLimit": 2048000,
      "rowLimit": 10000
     },
     "inputWidgets": {},
     "nuid": "61e71c41-66d3-495f-bc2f-f077267e7a3c",
     "showTitle": false,
     "title": ""
    }
   },
   "outputs": [],
   "source": [
    "import datetime\n",
    "last_run_date = datetime.datetime.now()\n",
    "\n",
    "print(\"Last run date:\", last_run_date)"
   ]
  },
  {
   "cell_type": "code",
   "execution_count": 0,
   "metadata": {
    "application/vnd.databricks.v1+cell": {
     "cellMetadata": {
      "byteLimit": 2048000,
      "rowLimit": 10000
     },
     "inputWidgets": {},
     "nuid": "dc3d940b-a8b6-44bd-b5a7-6565b8af216c",
     "showTitle": false,
     "title": ""
    }
   },
   "outputs": [],
   "source": []
  }
 ],
 "metadata": {
  "application/vnd.databricks.v1+notebook": {
   "dashboards": [],
   "environmentMetadata": null,
   "language": "python",
   "notebookMetadata": {
    "pythonIndentUnit": 4
   },
   "notebookName": "tier transaction alert",
   "widgets": {}
  },
  "kernelspec": {
   "display_name": "Python 3 (ipykernel)",
   "language": "python",
   "name": "python3"
  },
  "language_info": {
   "codemirror_mode": {
    "name": "ipython",
    "version": 3
   },
   "file_extension": ".py",
   "mimetype": "text/x-python",
   "name": "python",
   "nbconvert_exporter": "python",
   "pygments_lexer": "ipython3",
   "version": "3.8.16"
  }
 },
 "nbformat": 4,
 "nbformat_minor": 0
}
