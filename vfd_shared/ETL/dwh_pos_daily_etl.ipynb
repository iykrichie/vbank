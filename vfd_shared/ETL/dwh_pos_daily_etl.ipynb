{
 "cells": [
  {
   "cell_type": "code",
   "execution_count": 0,
   "metadata": {
    "application/vnd.databricks.v1+cell": {
     "cellMetadata": {
      "byteLimit": 2048000,
      "rowLimit": 10000
     },
     "inputWidgets": {},
     "nuid": "8c125252-1f48-46c3-9b04-cf7faf0f81ce",
     "showTitle": false,
     "title": ""
    }
   },
   "outputs": [],
   "source": [
    "print(\"Healthy\")"
   ]
  },
  {
   "cell_type": "code",
   "execution_count": 0,
   "metadata": {
    "application/vnd.databricks.v1+cell": {
     "cellMetadata": {
      "byteLimit": 2048000,
      "rowLimit": 10000
     },
     "inputWidgets": {},
     "nuid": "1e9d9e2a-afbe-4854-b8d7-f9d163dd4835",
     "showTitle": false,
     "title": ""
    }
   },
   "outputs": [],
   "source": [
    "import json\n",
    "from datetime import datetime, timedelta\n",
    "from pyspark.sql.functions import lit\n",
    "import dask\n",
    "import dask.dataframe as dd\n",
    "from sqlalchemy import create_engine"
   ]
  },
  {
   "cell_type": "code",
   "execution_count": 0,
   "metadata": {
    "application/vnd.databricks.v1+cell": {
     "cellMetadata": {
      "byteLimit": 2048000,
      "rowLimit": 10000
     },
     "inputWidgets": {},
     "nuid": "ec02d9e7-eed5-4088-a71c-470363ec1056",
     "showTitle": false,
     "title": ""
    },
    "tags": []
   },
   "outputs": [],
   "source": [
    "import json\n",
    "from re import search\n",
    "from sqlalchemy import create_engine\n",
    "import duckdb\n",
    "\n",
    "import pandas as pd \n",
    "import numpy as np \n",
    "import mysql.connector\n",
    "\n",
    "import warnings\n",
    "warnings.filterwarnings('ignore')\n",
    "\n",
    "import json\n",
    "with open('/Workspace/Credentials/db_data.json', 'r') as fp:\n",
    "    data = json.load(fp)\n",
    "\n",
    "from datetime import datetime, timedelta\n",
    "today = datetime.today().strftime('%Y-%m-%d')\n",
    "yesterday =  (datetime.today() - timedelta(days = 1)).strftime('%Y-%m-%d')\n",
    "\n",
    "\n",
    "Dumpdb = mysql.connector.connect(\n",
    "  host=data['Dumpdb']['host'],\n",
    "  user=data['Dumpdb']['user'],\n",
    "  passwd=data['Dumpdb']['passwd'],\n",
    "  database = data['Dumpdb']['database']\n",
    ")\n",
    "\n",
    "\n",
    "\n",
    "Mifosdb = mysql.connector.connect(\n",
    "  host=data['mifos']['host'],\n",
    "  user=data['mifos']['user'],\n",
    "  passwd=data['mifos']['passwd'],\n",
    "  database = data['mifos']['database']\n",
    ")\n",
    "\n",
    "\n",
    "vbizdb = mysql.connector.connect(\n",
    "     host=data['vbizdb']['host'],\n",
    "  user=data['vbizdb']['user'],\n",
    "  passwd=data['vbizdb']['passwd'],\n",
    "  database = data['vbizdb']['database']\n",
    ")\n",
    "\n",
    "\n",
    "host = data['redshift']['host']\n",
    "user = data['redshift']['user']\n",
    "passwd = data['redshift']['passwd']\n",
    "database = data['redshift']['database']\n",
    "\n",
    "conn = create_engine(f\"postgresql+psycopg2://{user}:{passwd}@{host}:5439/{database}\")\n",
    "pd.set_option('display.float_format', lambda x: '%.2f' % x)"
   ]
  },
  {
   "cell_type": "code",
   "execution_count": 0,
   "metadata": {
    "application/vnd.databricks.v1+cell": {
     "cellMetadata": {
      "byteLimit": 2048000,
      "rowLimit": 10000
     },
     "inputWidgets": {},
     "nuid": "06467834-64bf-4535-b1eb-f391b619b6bd",
     "showTitle": false,
     "title": ""
    },
    "tags": []
   },
   "outputs": [],
   "source": [
    "from datetime import datetime, timedelta\n",
    "today = datetime.today().strftime('%Y-%m-%d')\n",
    "yesterday =  (datetime.today() - timedelta(days = 2)).strftime('%Y-%m-%d')\n",
    "last_7_days = (datetime.today() - timedelta(days = 8)).strftime('%Y-%m-%d')\n",
    "\n",
    "\n",
    "print(yesterday)\n",
    "print(last_7_days)\n"
   ]
  },
  {
   "cell_type": "code",
   "execution_count": 0,
   "metadata": {
    "application/vnd.databricks.v1+cell": {
     "cellMetadata": {
      "byteLimit": 2048000,
      "rowLimit": 10000
     },
     "inputWidgets": {},
     "nuid": "42f008da-a632-410d-b13d-85806af66c3b",
     "showTitle": false,
     "title": ""
    }
   },
   "outputs": [],
   "source": [
    "def load_table(schema_name, table_name, dataframe):\n",
    "\n",
    "    chunk_size = 50000\n",
    "    num_rows = len(dataframe)\n",
    "\n",
    "    conn = create_engine(f\"postgresql+psycopg2://{user}:{passwd}@{host}:5439/{database}\")\n",
    "    num_iterations = (num_rows // chunk_size) + 1 if num_rows % chunk_size != 0 else num_rows // chunk_size\n",
    "\n",
    "    for i in range(num_iterations):\n",
    "        start_idx = i * chunk_size\n",
    "        end_idx = (i + 1) * chunk_size if (i + 1) * chunk_size < num_rows else num_rows\n",
    "\n",
    "        chunk_df = dataframe.iloc[start_idx:end_idx]\n",
    "\n",
    "        chunk_df.to_sql(schema= schema_name, name = table_name, con =conn, index = False, if_exists = 'append', chunksize = 5000, method = 'multi')\n",
    "\n",
    "    print(\"Data loaded successfully.\")\n",
    "    "
   ]
  },
  {
   "cell_type": "code",
   "execution_count": 0,
   "metadata": {
    "application/vnd.databricks.v1+cell": {
     "cellMetadata": {
      "byteLimit": 2048000,
      "rowLimit": 10000
     },
     "inputWidgets": {},
     "nuid": "eafc81d0-488a-41f6-a924-04b1f3c524a5",
     "showTitle": false,
     "title": ""
    },
    "tags": []
   },
   "outputs": [],
   "source": [
    "df_max = pd.read_sql(f'''\n",
    "SELECT \n",
    "MAX(transaction_date) as max_transaction_date,\n",
    "MAX(transaction_id) AS max_transaction_id\n",
    "FROM dwh_lux_pos_transactions\n",
    "''', conn)\n",
    "df_max"
   ]
  },
  {
   "cell_type": "code",
   "execution_count": 0,
   "metadata": {
    "application/vnd.databricks.v1+cell": {
     "cellMetadata": {
      "byteLimit": 2048000,
      "rowLimit": 10000
     },
     "inputWidgets": {},
     "nuid": "ee47d7cf-3986-4d51-b75e-de52fcd4349e",
     "showTitle": false,
     "title": ""
    }
   },
   "outputs": [],
   "source": [
    "len(df_max)"
   ]
  },
  {
   "cell_type": "code",
   "execution_count": 0,
   "metadata": {
    "application/vnd.databricks.v1+cell": {
     "cellMetadata": {
      "byteLimit": 2048000,
      "rowLimit": 10000
     },
     "inputWidgets": {},
     "nuid": "699d97fc-3a72-4f62-931f-39ce269f38d2",
     "showTitle": false,
     "title": ""
    },
    "tags": []
   },
   "outputs": [],
   "source": [
    "DEFAULT_ID = 0\n",
    "DEFAULT_DATE = '2000-01-01 00:00:00'\n",
    "\n",
    "LAST_TIME =  df_max['max_transaction_date'][0] \n",
    "LAST_ID = df_max['max_transaction_id'][0] \n",
    "\n",
    "if LAST_ID is None:\n",
    "    LAST_ID = DEFAULT_ID\n",
    "\n",
    "if LAST_TIME is None:\n",
    "    LAST_TIME = DEFAULT_DATE\n",
    "\n",
    "print(LAST_TIME, \" - \",  LAST_ID)"
   ]
  },
  {
   "cell_type": "markdown",
   "metadata": {
    "application/vnd.databricks.v1+cell": {
     "cellMetadata": {
      "byteLimit": 2048000,
      "rowLimit": 10000
     },
     "inputWidgets": {},
     "nuid": "e46cb9fb-efb0-452d-90fd-b32b2d9f3e00",
     "showTitle": false,
     "title": ""
    },
    "tags": []
   },
   "source": [
    "redshift_df = pd.read_sql_query(f'''\n",
    "SELECT \n",
    "transaction_id \n",
    "FROM dwh_lux_pos_transactions\n",
    "WHERE transaction_id is not null\n",
    "AND transaction_id != '';\n",
    "                ''', conn)\n",
    "redshift_df\n",
    "redshift_df = redshift_df.drop_duplicates(subset=['transaction_id'])\n",
    "\n",
    "dump_df = pd.read_sql_query(f'''\n",
    "SELECT lmt.CREDIT_RESOURCE AS 'transaction_id'\n",
    "FROM LUX_MERCHANT_TRANSACTIONS lmt\n",
    "WHERE lmt.CREDIT_RESOURCE IS NOT NULL\n",
    "AND lmt.CREDIT_RESOURCE != '';\n",
    "                ''', Dumpdb)"
   ]
  },
  {
   "cell_type": "markdown",
   "metadata": {
    "application/vnd.databricks.v1+cell": {
     "cellMetadata": {
      "byteLimit": 2048000,
      "rowLimit": 10000
     },
     "inputWidgets": {},
     "nuid": "93645585-83bf-4eb4-b545-d061b6b06c31",
     "showTitle": false,
     "title": ""
    },
    "tags": []
   },
   "source": [
    "print(len(redshift_df), len(dump_df))"
   ]
  },
  {
   "cell_type": "markdown",
   "metadata": {
    "application/vnd.databricks.v1+cell": {
     "cellMetadata": {
      "byteLimit": 2048000,
      "rowLimit": 10000
     },
     "inputWidgets": {},
     "nuid": "71cac8f7-9406-460b-aefb-f38cd088a039",
     "showTitle": false,
     "title": ""
    },
    "tags": []
   },
   "source": [
    "merged_df = dump_df.merge(redshift_df, how='outer', indicator=True)\n",
    "\n",
    "# Filter out the rows that are only in the left DataFrame (df1)\n",
    "missing_df = merged_df[merged_df['_merge'] == 'left_only']\n",
    "\n",
    "# Drop the '_merge' column if not needed\n",
    "missing_df = missing_df.drop(columns='_merge')\n",
    "\n",
    "missing_df.head()"
   ]
  },
  {
   "cell_type": "markdown",
   "metadata": {
    "application/vnd.databricks.v1+cell": {
     "cellMetadata": {
      "byteLimit": 2048000,
      "rowLimit": 10000
     },
     "inputWidgets": {},
     "nuid": "46d33d52-58bd-402a-8664-e1cd97e95d84",
     "showTitle": false,
     "title": ""
    },
    "tags": []
   },
   "source": [
    "len(missing_df)"
   ]
  },
  {
   "cell_type": "code",
   "execution_count": 0,
   "metadata": {
    "application/vnd.databricks.v1+cell": {
     "cellMetadata": {
      "byteLimit": 2048000,
      "rowLimit": 10000
     },
     "inputWidgets": {},
     "nuid": "707b7c03-9fe3-470c-a623-250f7bc1cca1",
     "showTitle": false,
     "title": ""
    }
   },
   "outputs": [],
   "source": [
    "with open('/Workspace/Credentials/db_data.json', 'r') as fp:\n",
    "    data = json.load(fp)\n",
    "\n",
    "\n",
    "# MIFOS_DB\n",
    "mifos_driver = \"org.mariadb.jdbc.Driver\"\n",
    "mifos_database_host = data['mifos']['host']\n",
    "mifos_database_port = \"3306\" # update if you use a non-default port\n",
    "mifos_database_name = data['mifos']['database']\n",
    "mifos_user=data['mifos']['user']\n",
    "mifos_password = data['mifos']['passwd']\n",
    "mifos_url = f\"jdbc:mysql://{mifos_database_host}:{mifos_database_port}/{mifos_database_name}\"\n",
    "\n",
    "# REDSHIFT_DWH\n",
    "redshift_driver = \"org.postgresql.Driver\"\n",
    "redshift_host = data['redshift']['host']\n",
    "redshift_db_name = data['redshift']['database']\n",
    "redshift_user = data['redshift']['user']\n",
    "redshift_password = data['redshift']['passwd']\n",
    "redshift_url = f\"jdbc:postgresql://{redshift_host}:5439/{redshift_db_name}\"\n",
    "\n",
    "# DUMP_DB\n",
    "dump_driver = mifos_driver\n",
    "dump_host = data['Dumpdb']['host']\n",
    "dump_db_name = data['Dumpdb']['database']\n",
    "dump_user = data['Dumpdb']['user']\n",
    "dump_password = data['Dumpdb']['passwd']\n",
    "dump_url = f\"jdbc:mysql://{dump_host}:3306/{dump_db_name}\"\n",
    "\n",
    "\n",
    "# redshift connection for dask\n",
    "redshift_conn = f'postgresql://{redshift_user}:{redshift_password}@{redshift_host}:5439/{redshift_db_name}'\n",
    "\n",
    "\n",
    "# Define function to extract data from dbs\n",
    "def extract_function(query, url, user, password):\n",
    "    df = spark.read \\\n",
    "                .format(\"jdbc\") \\\n",
    "                .option(\"query\", query) \\\n",
    "                .option(\"url\", url) \\\n",
    "                .option(\"user\", user) \\\n",
    "                .option(\"password\", password) \\\n",
    "                .option(\"connectTimeout\", \"1000\") \\\n",
    "                .option(\"treatEmptyValueAsNulls\",\"true\") \\\n",
    "                .option(\"maxRowsInMemory\",200) \\\n",
    "                .load()\n",
    "    return df\n"
   ]
  },
  {
   "cell_type": "code",
   "execution_count": 0,
   "metadata": {
    "application/vnd.databricks.v1+cell": {
     "cellMetadata": {
      "byteLimit": 2048000,
      "rowLimit": 10000
     },
     "inputWidgets": {},
     "nuid": "f1edea56-0f0f-468d-bc42-f2d306ae9776",
     "showTitle": false,
     "title": ""
    }
   },
   "outputs": [],
   "source": [
    "#AND lmt.CREDIT_RESOURCE IN ({','.join([str(x) for x in missing_df['transaction_id'].tolist()])}) \n",
    "## For Mifos\n",
    "sql = f'''\n",
    "SELECT \n",
    "lmt.TRANSACTION_TIME AS 'transaction_date',\n",
    "lmt.TRANSACTION_TYPE AS 'transaction_type',\n",
    "lmt.REFERENCE AS 'reference',\n",
    "lmt.TERMINAL_ID AS 'terminal_id',\n",
    "lmt.STATUS_CODE AS 'status_code',\n",
    "lmt.STATUS_DESCRIPTION AS 'status_description',\n",
    "'LUX' AS 'vendor',\n",
    "lmt.AMOUNT AS 'amount',\n",
    "lmt.SETTLED_AMOUNT AS 'settled_amount',\n",
    "-- lmt.Vendor fee\n",
    "-- lmt.Lux fee\n",
    "lmt.PAN as card_pan,\n",
    "lmt.CARD_EXPIRY AS 'card_expiry',\n",
    "lmt.CARD_TYPE as 'card_type',\n",
    "lmt.CARD_BANK as 'card_bank',\n",
    "lmt.RRN AS 'rrn',\n",
    "lmt.STAN AS 'stan',\n",
    "lmt.PROCESSOR as processor,\n",
    "lmt.MERCHANT_ID AS 'merchant_id',\n",
    "ifnull(lmt.ACCOUNT_NUMBER, 0) as account_no,\n",
    "lmt.CREDIT_RESOURCE AS 'transaction_id',\n",
    "lmt.BATCH_NUMBER as 'batch_no',\n",
    "LEFT(lmt.PAN, 6) AS 'first_six_digits',\n",
    "RIGHT(lmt.PAN, 4) AS 'last_four_digits',\n",
    "NOW() AS load_date\n",
    "FROM LUX_MERCHANT_TRANSACTIONS lmt\n",
    "left JOIN MM_POS_TERMINALS mpt ON mpt.MERCHANT_ID = lmt.MERCHANT_ID\n",
    "where lmt.STATUS_CODE = '00'\n",
    "AND lmt.CREDIT_RESOURCE > {LAST_ID} AND  lmt.TRANSACTION_TIME > '{LAST_TIME}'\n",
    "group by lmt.CREDIT_RESOURCE\n",
    "order by lmt.TRANSACTION_TIME\n",
    "LIMIT 1000000\n",
    "'''       \n",
    "#                  \n",
    "# apply function\n",
    "dflux = extract_function(query=sql, url=dump_url, user=dump_user, password=dump_password)\n",
    "dflux.persist()\n",
    "dflux = dflux.toPandas()"
   ]
  },
  {
   "cell_type": "code",
   "execution_count": 0,
   "metadata": {
    "application/vnd.databricks.v1+cell": {
     "cellMetadata": {
      "byteLimit": 2048000,
      "rowLimit": 10000
     },
     "inputWidgets": {},
     "nuid": "b86f9479-1c30-4f03-a839-23afa99f4e70",
     "showTitle": false,
     "title": ""
    }
   },
   "outputs": [],
   "source": [
    "dflux.head(1)"
   ]
  },
  {
   "cell_type": "code",
   "execution_count": 0,
   "metadata": {
    "application/vnd.databricks.v1+cell": {
     "cellMetadata": {
      "byteLimit": 2048000,
      "rowLimit": 10000
     },
     "inputWidgets": {},
     "nuid": "38dd9f0d-8fb7-4f45-bbd4-ce64c7a87611",
     "showTitle": false,
     "title": ""
    },
    "tags": []
   },
   "outputs": [],
   "source": [
    "#lux = f'''  '''\n",
    "#dflux = pd.read_sql_query(lux, Dumpdb)\n",
    "\n",
    "dflux['account_no'] = dflux['account_no'].astype(str)\n",
    "\n",
    "print(dflux['account_no'].nunique())\n",
    "dflux.head(1)"
   ]
  },
  {
   "cell_type": "code",
   "execution_count": 0,
   "metadata": {
    "application/vnd.databricks.v1+cell": {
     "cellMetadata": {
      "byteLimit": 2048000,
      "rowLimit": 10000
     },
     "inputWidgets": {},
     "nuid": "acc1173a-426a-461a-a7f9-23fdc78b0a01",
     "showTitle": false,
     "title": ""
    },
    "tags": []
   },
   "outputs": [],
   "source": [
    "%%time\n",
    "accts = ','.join([str(x) for x in dflux['account_no'].unique().tolist()])\n",
    "clt_name = pd.read_sql(f'''\n",
    "            select \n",
    "            dac.client_id,\n",
    "            dac.client_name ,\n",
    "            daa.account_no,\n",
    "            daa.product_id,\n",
    "            daa.product_name\n",
    "            from dwh_all_clients dac \n",
    "            join dwh_all_accounts daa on daa.client_id  = dac.client_id \n",
    "            where daa.account_no in ({accts})\n",
    "            ''', conn)\n",
    "\n",
    "dflw = pd.merge(dflux, clt_name, on = 'account_no', how = 'left')\n",
    "\n",
    "dflw['charges'] = dflw['amount'].astype(float) - dflw['settled_amount'].astype(float)\n",
    "\n",
    "dflw['amount'] = dflw['amount'].astype(float)\n",
    "\n",
    "dflw = dflw[['transaction_date', 'transaction_type', 'reference', 'terminal_id', 'client_id', 'client_name',\n",
    "   'status_code', 'status_description', 'vendor', 'amount', 'settled_amount', 'charges',\n",
    "    'card_pan', 'card_expiry', 'card_type', 'card_bank', 'rrn', 'stan', 'processor', 'merchant_id',\n",
    "   'account_no', 'product_id', 'product_name', 'transaction_id', 'first_six_digits', 'last_four_digits',\n",
    "   'batch_no']]"
   ]
  },
  {
   "cell_type": "code",
   "execution_count": 0,
   "metadata": {
    "application/vnd.databricks.v1+cell": {
     "cellMetadata": {
      "byteLimit": 2048000,
      "rowLimit": 10000
     },
     "inputWidgets": {},
     "nuid": "7434955c-2db9-4d1e-a90e-ce862d574bef",
     "showTitle": false,
     "title": ""
    },
    "tags": []
   },
   "outputs": [],
   "source": [
    "len(dflw)"
   ]
  },
  {
   "cell_type": "code",
   "execution_count": 0,
   "metadata": {
    "application/vnd.databricks.v1+cell": {
     "cellMetadata": {
      "byteLimit": 2048000,
      "rowLimit": 10000
     },
     "inputWidgets": {},
     "nuid": "a755c452-1953-4399-83ec-c09f0b62ea67",
     "showTitle": false,
     "title": ""
    },
    "tags": []
   },
   "outputs": [],
   "source": [
    "%%time\n",
    "\n",
    "load_table('public','dwh_lux_pos_transactions',dflw)\n",
    "\n",
    "#dflw.to_sql(\"dwh_lux_pos_transactions\", conn, index = False, if_exists = 'replace', chunksize = 10000, method = 'multi')"
   ]
  },
  {
   "cell_type": "markdown",
   "metadata": {
    "application/vnd.databricks.v1+cell": {
     "cellMetadata": {
      "byteLimit": 2048000,
      "rowLimit": 10000
     },
     "inputWidgets": {},
     "nuid": "3dba2575-b82f-434a-aa0c-cf081a08676e",
     "showTitle": false,
     "title": ""
    }
   },
   "source": [
    "## FAILED POS TRANSACTIONS"
   ]
  },
  {
   "cell_type": "code",
   "execution_count": 0,
   "metadata": {
    "application/vnd.databricks.v1+cell": {
     "cellMetadata": {
      "byteLimit": 2048000,
      "rowLimit": 10000
     },
     "inputWidgets": {},
     "nuid": "04d1c221-e577-4828-b6f8-287c2376e631",
     "showTitle": false,
     "title": ""
    },
    "tags": []
   },
   "outputs": [],
   "source": [
    "sql = f'''\n",
    "SELECT \n",
    "lmt.TRANSACTION_TIME AS 'transaction_date',\n",
    "lmt.TRANSACTION_TYPE AS 'transaction_type',\n",
    "lmt.REFERENCE AS 'reference',\n",
    "lmt.TERMINAL_ID AS 'terminal_id',\n",
    "lmt.STATUS_CODE AS 'status_code',\n",
    "lmt.STATUS_DESCRIPTION AS 'status_description',\n",
    "'LUX' AS 'vendor',\n",
    "lmt.AMOUNT AS 'amount',\n",
    "lmt.SETTLED_AMOUNT AS 'settled_amount',\n",
    "-- lmt.Vendor fee\n",
    "-- lmt.Lux fee\n",
    "lmt.PAN as card_pan,\n",
    "lmt.CARD_EXPIRY AS 'card_expiry',\n",
    "lmt.CARD_TYPE as 'card_type',\n",
    "lmt.CARD_BANK as 'card_bank',\n",
    "lmt.RRN AS 'rrn',\n",
    "lmt.STAN AS 'stan',\n",
    "lmt.PROCESSOR as processor,\n",
    "lmt.MERCHANT_ID AS 'merchant_id',\n",
    "ifnull(lmt.ACCOUNT_NUMBER, 0) as account_no,\n",
    "lmt.CREDIT_RESOURCE AS 'transaction_id',\n",
    "lmt.BATCH_NUMBER as 'batch_no',\n",
    "LEFT(lmt.PAN, 6) AS 'first_six_digits',\n",
    "RIGHT(lmt.PAN, 4) AS 'last_four_digits',\n",
    "NOW() AS load_date\n",
    "FROM LUX_MERCHANT_TRANSACTIONS lmt\n",
    "left JOIN MM_POS_TERMINALS mpt ON mpt.MERCHANT_ID = lmt.MERCHANT_ID\n",
    "where lmt.STATUS_CODE != '00'\n",
    "AND LEFT(lmt.TRANSACTION_TIME,10) >= DATE_SUB(CURRENT_DATE(), INTERVAL 3 MONTH)\n",
    "order by lmt.TRANSACTION_TIME\n",
    "'''                    \n",
    "# apply function\n",
    "dflux = extract_function(query=sql, url=dump_url, user=dump_user, password=dump_password)\n",
    "dflux.persist()\n",
    "dflux = dflux.toPandas()\n",
    "\n",
    "dflux['account_no'] = dflux['account_no'].astype(str)\n",
    "len(dflux)"
   ]
  },
  {
   "cell_type": "code",
   "execution_count": 0,
   "metadata": {
    "application/vnd.databricks.v1+cell": {
     "cellMetadata": {
      "byteLimit": 2048000,
      "rowLimit": 10000
     },
     "inputWidgets": {},
     "nuid": "abd0a159-70cb-4494-a834-88cf07365f79",
     "showTitle": false,
     "title": ""
    }
   },
   "outputs": [],
   "source": [
    "dflux.head()"
   ]
  },
  {
   "cell_type": "code",
   "execution_count": 0,
   "metadata": {
    "application/vnd.databricks.v1+cell": {
     "cellMetadata": {
      "byteLimit": 2048000,
      "rowLimit": 10000
     },
     "inputWidgets": {},
     "nuid": "c5be335c-bf80-4ade-8e6a-c0fe523d9d68",
     "showTitle": false,
     "title": ""
    }
   },
   "outputs": [],
   "source": [
    "\n",
    "\n",
    "accts = ','.join([str(x) for x in dflux['account_no'].unique().tolist()])\n",
    "clt_name = pd.read_sql(f'''\n",
    "            select \n",
    "            dac.client_id,\n",
    "            dac.client_name ,\n",
    "            daa.account_no,\n",
    "            daa.product_id,\n",
    "            daa.product_name\n",
    "            from dwh_all_clients dac \n",
    "            join dwh_all_accounts daa on daa.client_id  = dac.client_id \n",
    "            where daa.account_no in ({accts})\n",
    "            ''', conn)\n",
    "\n",
    "dflw = pd.merge(dflux, clt_name, on = 'account_no', how = 'left')\n",
    "\n",
    "dflw['charges'] = dflw['amount'].astype(float) - dflw['settled_amount'].astype(float)\n",
    "\n",
    "dflw['amount'] = dflw['amount'].astype(float)\n",
    "\n",
    "dflw = dflw[['transaction_date', 'transaction_type', 'reference', 'terminal_id', 'client_id', 'client_name',\n",
    "   'status_code', 'status_description', 'vendor', 'amount', 'settled_amount', 'charges',\n",
    "    'card_pan', 'card_expiry', 'card_type', 'card_bank', 'rrn', 'stan', 'processor', 'merchant_id',\n",
    "   'account_no', 'product_id', 'product_name', 'transaction_id', 'first_six_digits', 'last_four_digits',\n",
    "   'batch_no']]\n",
    "dflw.head()"
   ]
  },
  {
   "cell_type": "code",
   "execution_count": 0,
   "metadata": {
    "application/vnd.databricks.v1+cell": {
     "cellMetadata": {
      "byteLimit": 2048000,
      "rowLimit": 10000
     },
     "inputWidgets": {},
     "nuid": "a8c15cc0-a1f2-458c-a39f-551a5b8544ea",
     "showTitle": false,
     "title": ""
    },
    "tags": []
   },
   "outputs": [],
   "source": [
    "len(dflw)"
   ]
  },
  {
   "cell_type": "code",
   "execution_count": 0,
   "metadata": {
    "application/vnd.databricks.v1+cell": {
     "cellMetadata": {
      "byteLimit": 2048000,
      "rowLimit": 10000
     },
     "inputWidgets": {},
     "nuid": "6b89fe9f-045e-4ae0-8d61-01134863542b",
     "showTitle": false,
     "title": ""
    }
   },
   "outputs": [],
   "source": [
    "def load_table(schema_name, table_name, dataframe, if_exists_action ):\n",
    "\n",
    "    chunk_size = 10000\n",
    "    num_rows = len(dataframe)\n",
    "\n",
    "    conn = create_engine(f\"postgresql+psycopg2://{user}:{passwd}@{host}:5439/{database}\")\n",
    "    num_iterations = (num_rows // chunk_size) + 1 if num_rows % chunk_size != 0 else num_rows // chunk_size\n",
    "\n",
    "    for i in range(num_iterations):\n",
    "        start_idx = i * chunk_size\n",
    "        end_idx = (i + 1) * chunk_size if (i + 1) * chunk_size < num_rows else num_rows\n",
    "\n",
    "        chunk_df = dataframe.iloc[start_idx:end_idx]\n",
    "\n",
    "        chunk_df.to_sql(schema= schema_name, name = table_name, con =conn, index = False, if_exists = if_exists_action, chunksize = 5000, method = 'multi')\n",
    "\n",
    "    print(\"Data loaded successfully.\")\n",
    "    "
   ]
  },
  {
   "cell_type": "code",
   "execution_count": 0,
   "metadata": {
    "application/vnd.databricks.v1+cell": {
     "cellMetadata": {
      "byteLimit": 2048000,
      "rowLimit": 10000
     },
     "inputWidgets": {},
     "nuid": "37cd52a8-cc5e-4e2e-acea-124cd1a91352",
     "showTitle": false,
     "title": ""
    },
    "tags": []
   },
   "outputs": [],
   "source": [
    "%%time\n",
    "\n",
    "load_table('public','dwh_lux_pos_transactions_failed',dflw, 'replace')"
   ]
  },
  {
   "cell_type": "markdown",
   "metadata": {
    "application/vnd.databricks.v1+cell": {
     "cellMetadata": {
      "byteLimit": 2048000,
      "rowLimit": 10000
     },
     "inputWidgets": {},
     "nuid": "934cc55f-feed-4597-bd0e-6456aaa2ec15",
     "showTitle": false,
     "title": ""
    }
   },
   "source": [
    "## Vpay pos ETL"
   ]
  },
  {
   "cell_type": "code",
   "execution_count": 0,
   "metadata": {
    "application/vnd.databricks.v1+cell": {
     "cellMetadata": {
      "byteLimit": 2048000,
      "rowLimit": 10000
     },
     "inputWidgets": {},
     "nuid": "58e617d5-9340-4885-9b30-587947d19587",
     "showTitle": false,
     "title": ""
    },
    "tags": []
   },
   "outputs": [],
   "source": [
    "vplast = pd.read_sql_query(f'''\n",
    "                select\n",
    "                max(id) as last_tid,\n",
    "                max(transaction_date) as last_date\n",
    "                from dwh_vpay_pos_transactions\n",
    "                ''', conn)\n",
    "vtr = vplast['last_tid'][0], vplast['last_date'][0]\n",
    "\n",
    "vtr[0], vtr[1]"
   ]
  },
  {
   "cell_type": "code",
   "execution_count": 0,
   "metadata": {
    "application/vnd.databricks.v1+cell": {
     "cellMetadata": {
      "byteLimit": 2048000,
      "rowLimit": 10000
     },
     "inputWidgets": {},
     "nuid": "343f9e95-0603-44b4-be1a-7d6ad87943bb",
     "showTitle": false,
     "title": ""
    },
    "tags": []
   },
   "outputs": [],
   "source": [
    "%%time\n",
    "\n",
    "## Vpay pos transactions \n",
    "vp = f'''\n",
    "SELECT \n",
    "tw.id,\n",
    "tw.TRANSACTION_ID as transaction_reference,\n",
    "tw.STATEMENT_IDS as transaction_id,\n",
    "tw.WALLET_NAME as partner,\n",
    "tw.TRANSACTION_TYPE as transaction_type,\n",
    "tw.TRANSACTION_RESPONSE as status_code,\n",
    "tw.FROM_ACCOUNT_NO as 3rd_party_account,\n",
    "tw.FROM_BANK as 3rd_party_bank_code,\n",
    "al.bank_name,\n",
    "tw.TO_ACCOUNT_NO as account_no,\n",
    "tw.AMOUNT as amount,\n",
    "tw.TIME as transaction_date\n",
    "FROM TM_WALLET_TRANSACTIONS tw\n",
    "left join AM_LOCAL_BANKS al on al.NIP_CODE = tw.FROM_BANK\n",
    "WHERE tw.WALLET_NAME LIKE '%vpos%'\n",
    "and tw.id > {vtr[0]}\n",
    "'''\n",
    "\n",
    "dfvp = pd.read_sql_query(vp, Dumpdb)\n",
    "\n",
    "dfvp"
   ]
  },
  {
   "cell_type": "code",
   "execution_count": 0,
   "metadata": {
    "application/vnd.databricks.v1+cell": {
     "cellMetadata": {
      "byteLimit": 2048000,
      "rowLimit": 10000
     },
     "inputWidgets": {},
     "nuid": "2c955bc9-de36-492d-8958-1b7957ac87b5",
     "showTitle": false,
     "title": ""
    },
    "tags": []
   },
   "outputs": [],
   "source": [
    "%%time\n",
    "def get_account_details(account_no_list):\n",
    "    accts = ','.join([str(x) for x in account_no_list])\n",
    "\n",
    "  \n",
    "    mif = f'''select replace(mc.display_name, 'null', '') as client_name, sa.account_no, sa.id, sa.product_id, sa.account_balance_derived, sa.approvedon_date, mc.referred_by_id\n",
    "    from m_client mc join m_savings_account sa on sa.client_id = mc.id \n",
    "    where sa.account_no in ({accts})\n",
    "    '''\n",
    "    try:\n",
    "        dfmif = pd.read_sql_query(mif, Mifosdb)\n",
    "        \n",
    "        output =  dfmif\n",
    "\n",
    "    except Exception as e:\n",
    "        \n",
    "        print(e)\n",
    "        \n",
    "        output = (f'''An error occured! Error details - {e}.\n",
    "        NOTE - This function only takes list as argument.''')\n",
    "                \n",
    "    return output\n",
    "        \n",
    "                                                                                                        \n",
    "if len(dfvp) > 0:\n",
    "    dfcl = get_account_details(dfvp['account_no'].tolist())[['client_name', 'account_no']]\n",
    "    full = pd.merge(dfvp, dfcl, on = 'account_no', how = 'left')\n",
    "    \n",
    "    full.to_sql('dwh_vpay_pos_transactions', conn, index = False, if_exists = 'append', chunksize = 10000, method = 'multi')\n",
    "    \n",
    "else:\n",
    "    print(\"No transactions to load at this time\")"
   ]
  },
  {
   "cell_type": "code",
   "execution_count": 0,
   "metadata": {
    "application/vnd.databricks.v1+cell": {
     "cellMetadata": {
      "byteLimit": 2048000,
      "rowLimit": 10000
     },
     "inputWidgets": {},
     "nuid": "646dfad1-facf-45b9-81cb-68caeea8334f",
     "showTitle": false,
     "title": ""
    }
   },
   "outputs": [],
   "source": [
    "%%time\n",
    "## \n",
    "df_ter = f'''\n",
    "SELECT \n",
    "p.id,\n",
    "mc.display_name AS client_name, \n",
    "msa.account_no, \n",
    "p.TERMINAL_ID AS terminal_id, \n",
    "p.savings_account_id,\n",
    "msp.name AS savings_account_product,\n",
    "p.MSC_PERCENT,\n",
    "p.DELAYED_SETTLEMENT,\n",
    "p.BULK_SETTLEMENT,\n",
    "p.DELAYED_HOUR_TIME,\n",
    "p.OWNED_BY_VFD,\n",
    "p.TRF_CHARGE,\n",
    "p.TRF_CAP,\n",
    "p.payment_type,\n",
    "NOW() AS load_date\n",
    "FROM POS_TERMINALS p\n",
    "LEFT JOIN m_savings_account msa ON msa.id = p.savings_account_id\n",
    "LEFT JOIN m_savings_product msp ON msp.id = msa.product_id\n",
    "LEFT JOIN m_client mc ON mc.id = msa.client_id\n",
    "WHERE p.id > 1\n",
    "ORDER BY 1;\n",
    "'''\n",
    "df_ter = pd.read_sql_query(df_ter, Mifosdb)\n",
    "df_ter.head()"
   ]
  },
  {
   "cell_type": "code",
   "execution_count": 0,
   "metadata": {
    "application/vnd.databricks.v1+cell": {
     "cellMetadata": {
      "byteLimit": 2048000,
      "rowLimit": 10000
     },
     "inputWidgets": {},
     "nuid": "76043dc7-2170-424c-bea1-d8267e015da2",
     "showTitle": false,
     "title": ""
    }
   },
   "outputs": [],
   "source": [
    "def load_table(schema_name, table_name, dataframe, if_exists_action ):\n",
    "\n",
    "    chunk_size = 10000\n",
    "    num_rows = len(dataframe)\n",
    "\n",
    "    conn = create_engine(f\"postgresql+psycopg2://{user}:{passwd}@{host}:5439/{database}\")\n",
    "    num_iterations = (num_rows // chunk_size) + 1 if num_rows % chunk_size != 0 else num_rows // chunk_size\n",
    "\n",
    "    for i in range(num_iterations):\n",
    "        start_idx = i * chunk_size\n",
    "        end_idx = (i + 1) * chunk_size if (i + 1) * chunk_size < num_rows else num_rows\n",
    "\n",
    "        chunk_df = dataframe.iloc[start_idx:end_idx]\n",
    "\n",
    "        chunk_df.to_sql(schema= schema_name, name = table_name, con =conn, index = False, if_exists = if_exists_action, chunksize = 5000, method = 'multi')\n",
    "\n",
    "    print(\"Data loaded successfully.\")\n",
    "    "
   ]
  },
  {
   "cell_type": "code",
   "execution_count": 0,
   "metadata": {
    "application/vnd.databricks.v1+cell": {
     "cellMetadata": {
      "byteLimit": 2048000,
      "rowLimit": 10000
     },
     "inputWidgets": {},
     "nuid": "9921f4b5-fd5f-4159-9a42-cfc2668cc377",
     "showTitle": false,
     "title": ""
    }
   },
   "outputs": [],
   "source": [
    "load_table('public', 'dwh_pos_customers', df_ter, 'replace')"
   ]
  },
  {
   "cell_type": "code",
   "execution_count": 0,
   "metadata": {
    "application/vnd.databricks.v1+cell": {
     "cellMetadata": {
      "byteLimit": 2048000,
      "rowLimit": 10000
     },
     "inputWidgets": {},
     "nuid": "53eca3c4-e465-4075-9f90-43f8f5ceec81",
     "showTitle": false,
     "title": ""
    }
   },
   "outputs": [],
   "source": [
    "load_table('public', 'dwh_pos_categories', df_ter, 'replace')"
   ]
  },
  {
   "cell_type": "code",
   "execution_count": 0,
   "metadata": {
    "application/vnd.databricks.v1+cell": {
     "cellMetadata": {
      "byteLimit": 2048000,
      "rowLimit": 10000
     },
     "inputWidgets": {},
     "nuid": "9c192342-c74b-4aee-be38-a72653083bee",
     "showTitle": false,
     "title": ""
    },
    "tags": []
   },
   "outputs": [],
   "source": [
    "import datetime\n",
    "last_run_date = datetime.datetime.now()\n",
    "\n",
    "print(\"Last run date:\", last_run_date)"
   ]
  },
  {
   "cell_type": "code",
   "execution_count": 0,
   "metadata": {
    "application/vnd.databricks.v1+cell": {
     "cellMetadata": {},
     "inputWidgets": {},
     "nuid": "215db682-809f-4ec5-96eb-1add1d9f4d6c",
     "showTitle": false,
     "title": ""
    }
   },
   "outputs": [],
   "source": []
  }
 ],
 "metadata": {
  "application/vnd.databricks.v1+notebook": {
   "dashboards": [],
   "environmentMetadata": null,
   "language": "python",
   "notebookMetadata": {
    "pythonIndentUnit": 4
   },
   "notebookName": "dwh_pos_daily_etl",
   "widgets": {}
  },
  "kernelspec": {
   "display_name": "Python 3 (ipykernel)",
   "language": "python",
   "name": "python3"
  },
  "language_info": {
   "codemirror_mode": {
    "name": "ipython",
    "version": 3
   },
   "file_extension": ".py",
   "mimetype": "text/x-python",
   "name": "python",
   "nbconvert_exporter": "python",
   "pygments_lexer": "ipython3",
   "version": "3.8.16"
  }
 },
 "nbformat": 4,
 "nbformat_minor": 0
}
