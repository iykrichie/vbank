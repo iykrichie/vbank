{
 "cells": [
  {
   "cell_type": "code",
   "execution_count": 0,
   "metadata": {
    "application/vnd.databricks.v1+cell": {
     "cellMetadata": {
      "byteLimit": 2048000,
      "rowLimit": 10000
     },
     "inputWidgets": {},
     "nuid": "8442afd7-e024-4578-8ebf-d6369426b746",
     "showTitle": false,
     "title": ""
    }
   },
   "outputs": [],
   "source": [
    "print(\"Healthy\")"
   ]
  },
  {
   "cell_type": "code",
   "execution_count": 0,
   "metadata": {
    "application/vnd.databricks.v1+cell": {
     "cellMetadata": {
      "byteLimit": 2048000,
      "rowLimit": 10000
     },
     "inputWidgets": {},
     "nuid": "cf881d23-37dc-4465-8866-13f09319e433",
     "showTitle": false,
     "title": ""
    },
    "tags": []
   },
   "outputs": [],
   "source": [
    "from datetime import datetime, timedelta\n",
    "\n",
    "from re import search\n",
    "from sqlalchemy import create_engine\n",
    "import duckdb\n",
    "\n",
    "import pandas as pd \n",
    "import numpy as np \n",
    "import mysql.connector\n",
    "\n",
    "\n",
    "import warnings\n",
    "warnings.filterwarnings('ignore')\n",
    "\n",
    "pd.set_option('display.max_columns', None)\n",
    "\n",
    "\n",
    "import json\n",
    "\n",
    "import json\n",
    "with open('/Workspace/Credentials/db_data.json', 'r') as fp:\n",
    "    data = json.load(fp)\n",
    "\n",
    "\n",
    "Dumpdb = mysql.connector.connect(\n",
    "  host=data['Dumpdb']['host'],\n",
    "  user=data['Dumpdb']['user'],\n",
    "  passwd=data['Dumpdb']['passwd'],\n",
    "  database = data['Dumpdb']['database']\n",
    ")\n",
    "\n",
    "\n",
    "Mifosdb = mysql.connector.connect(\n",
    "  host=data['mifos']['host'],\n",
    "  user=data['mifos']['user'],\n",
    "  passwd=data['mifos']['passwd'],\n",
    "  database = data['mifos']['database']\n",
    ")\n",
    "\n",
    "\n",
    "vbizdb = mysql.connector.connect(\n",
    "     host=data['vbizdb']['host'],\n",
    "  user=data['vbizdb']['user'],\n",
    "  passwd=data['vbizdb']['passwd'],\n",
    "  database = data['vbizdb']['database']\n",
    ")\n",
    "\n",
    "host = data['redshift']['host']\n",
    "user = data['redshift']['user']\n",
    "passwd = data['redshift']['passwd']\n",
    "database = data['redshift']['database']\n",
    "\n",
    "conn = create_engine(f\"postgresql+psycopg2://{user}:{passwd}@{host}:5439/{database}\")\n",
    "pd.set_option('display.float_format', lambda x: '%.2f' % x)\n",
    "\n",
    "engine = create_engine(f\"postgresql+psycopg2://{user}:{passwd}@{host}:5439/{database}\")\n"
   ]
  },
  {
   "cell_type": "code",
   "execution_count": 0,
   "metadata": {
    "application/vnd.databricks.v1+cell": {
     "cellMetadata": {
      "byteLimit": 2048000,
      "rowLimit": 10000
     },
     "inputWidgets": {},
     "nuid": "ab5f7a79-1d47-438e-a117-0377d7d234a2",
     "showTitle": false,
     "title": ""
    },
    "tags": []
   },
   "outputs": [],
   "source": [
    "def load_table(schema_name, table_name, dataframe):\n",
    "    sql = f'''\n",
    "    DROP TABLE IF EXISTS {schema_name}.{table_name};\n",
    "    '''\n",
    "\n",
    "    with engine.begin() as con:     \n",
    "        con.execute(sql)\n",
    "\n",
    "    chunk_size = 10000\n",
    "    num_rows = len(dataframe)\n",
    "\n",
    "    conn = create_engine(f\"postgresql+psycopg2://{user}:{passwd}@{host}:5439/{database}\")\n",
    "    num_iterations = (num_rows // chunk_size) + 1 if num_rows % chunk_size != 0 else num_rows // chunk_size\n",
    "\n",
    "    for i in range(num_iterations):\n",
    "        start_idx = i * chunk_size\n",
    "        end_idx = (i + 1) * chunk_size if (i + 1) * chunk_size < num_rows else num_rows\n",
    "\n",
    "        chunk_df = dataframe.iloc[start_idx:end_idx]\n",
    "\n",
    "        chunk_df.to_sql(schema= schema_name, name = table_name, con =conn, index = False, if_exists = 'replace', chunksize = 5000, method = 'multi')\n",
    "\n",
    "    print(\"Data loaded successfully.\")\n",
    "    "
   ]
  },
  {
   "cell_type": "code",
   "execution_count": 0,
   "metadata": {
    "application/vnd.databricks.v1+cell": {
     "cellMetadata": {
      "byteLimit": 2048000,
      "rowLimit": 10000
     },
     "inputWidgets": {},
     "nuid": "c6a05400-24c0-4655-937b-b9de8608b5ff",
     "showTitle": false,
     "title": ""
    },
    "tags": []
   },
   "outputs": [],
   "source": [
    "import pandas as pd\n",
    "from datetime import datetime, timedelta\n",
    "\n",
    "# Define start and end dates\n",
    "start_date = datetime(2018, 1, 1)\n",
    "end_date = datetime.now() - timedelta(days = 1)\n",
    "\n",
    "# Generate list of dates\n",
    "date_range = pd.date_range(start=start_date, end=end_date, freq='D')\n",
    "\n",
    "# Create DataFrame\n",
    "df = pd.DataFrame({'date': date_range})\n",
    "\n",
    "# Display DataFrame\n",
    "df.head()"
   ]
  },
  {
   "cell_type": "code",
   "execution_count": 0,
   "metadata": {
    "application/vnd.databricks.v1+cell": {
     "cellMetadata": {
      "byteLimit": 2048000,
      "rowLimit": 10000
     },
     "inputWidgets": {},
     "nuid": "85a6dc9c-6acb-4f3c-a859-e144dc5404bf",
     "showTitle": false,
     "title": ""
    },
    "tags": []
   },
   "outputs": [],
   "source": [
    "import datetime\n",
    "RUNDAY = 1\n",
    "day = datetime.datetime.today().day\n",
    "if day == RUNDAY:\n",
    "    print(\"Healthy\")\n",
    "else:\n",
    "    pass  "
   ]
  },
  {
   "cell_type": "code",
   "execution_count": 0,
   "metadata": {
    "application/vnd.databricks.v1+cell": {
     "cellMetadata": {
      "byteLimit": 2048000,
      "rowLimit": 10000
     },
     "inputWidgets": {},
     "nuid": "21e12d2d-5054-4442-aaeb-8a162a30bc82",
     "showTitle": false,
     "title": ""
    },
    "tags": []
   },
   "outputs": [],
   "source": [
    "%%time\n",
    "if day == RUNDAY:\n",
    "\n",
    "    Retail_Customers_MoM = pd.read_sql(f'''\n",
    "    SELECT left(mc.activation_date,7) AS 'Month', \n",
    "    COUNT(mc.id) as Customers, \n",
    "    NOW() AS load_date\n",
    "    FROM m_savings_account msa\n",
    "    LEFT JOIN m_client mc ON mc.id = msa.client_id\n",
    "    LEFT JOIN m_savings_product msp ON msp.id = msa.product_id\n",
    "    WHERE msa.product_id IN (29,31,33)\n",
    "    AND left(mc.activation_date,7) < LEFT(CURRENT_DATE(),7)\n",
    "    GROUP BY 1\n",
    "    ORDER BY 1;\n",
    "    ''', Mifosdb)\n",
    "    Retail_Customers_MoM\n",
    "\n",
    "\n",
    "    load_table('gold','Retail_Customers_MoM', Retail_Customers_MoM)    \n",
    "    \n",
    "else:\n",
    "    pass  "
   ]
  },
  {
   "cell_type": "code",
   "execution_count": 0,
   "metadata": {
    "application/vnd.databricks.v1+cell": {
     "cellMetadata": {
      "byteLimit": 2048000,
      "rowLimit": 10000
     },
     "inputWidgets": {},
     "nuid": "296eb4c4-e758-4122-95ca-16386505e5c8",
     "showTitle": false,
     "title": ""
    },
    "tags": []
   },
   "outputs": [],
   "source": [
    "%%time\n",
    "Retail_Customers_MTD = pd.read_sql(f'''\n",
    "SELECT CAST(left(mc.activation_date,10) AS DATE) AS Date, COUNT(mc.id) as Customers, NOW() AS load_date\n",
    "FROM m_savings_account msa\n",
    "LEFT JOIN m_client mc ON mc.id = msa.client_id\n",
    "LEFT JOIN m_savings_product msp ON msp.id = msa.product_id\n",
    "WHERE msa.product_id IN (29,31,33)\n",
    "AND left(mc.activation_date,4) = LEFT(CURRENT_DATE(),4)\n",
    "AND LEFT(mc.activation_date,10) < CURRENT_DATE()\n",
    "GROUP BY 1\n",
    "ORDER BY 1;\n",
    "''', Mifosdb)\n",
    "Retail_Customers_MTD\n",
    "\n",
    "load_table('gold','Retail_Customers_MTD', Retail_Customers_MTD)  "
   ]
  },
  {
   "cell_type": "code",
   "execution_count": 0,
   "metadata": {
    "application/vnd.databricks.v1+cell": {
     "cellMetadata": {
      "byteLimit": 2048000,
      "rowLimit": 10000
     },
     "inputWidgets": {},
     "nuid": "c17478ee-ac0c-45a3-ac61-98c934caea32",
     "showTitle": false,
     "title": ""
    },
    "tags": []
   },
   "outputs": [],
   "source": [
    "%%time\n",
    "if day == RUNDAY:\n",
    "\n",
    "    Retail_Tier_MoM = pd.read_sql(f'''\n",
    "    SELECT \n",
    "    LEFT(mc.activation_date, 7) AS Month,\n",
    "    IFNULL(COUNT(case WHEN mc.client_level_cv_id = '99' then mc.id END) ,0) AS Tier_1,\n",
    "    IFNULL(COUNT(case WHEN mc.client_level_cv_id = '100' then mc.id END) ,0) AS Tier_2,\n",
    "    IFNULL(COUNT(case WHEN mc.client_level_cv_id = '101' then mc.id END) ,0) AS Tier_3,\n",
    "    COUNT(mc.id) AS Total_Customers, \n",
    "    NOW() AS load_date\n",
    "    FROM m_savings_account msa\n",
    "    LEFT JOIN m_client mc ON mc.id = msa.client_id\n",
    "    LEFT JOIN m_savings_product msp ON msp.id = msa.product_id\n",
    "    WHERE msa.product_id IN (29,31,33)\n",
    "    AND left(mc.activation_date, 7) < LEFT(NOW(), 7)\n",
    "    GROUP BY 1\n",
    "    ORDER BY 1;;\n",
    "    ''', Mifosdb)\n",
    "    Retail_Tier_MoM\n",
    "\n",
    "    load_table('gold','Retail_Tier_MoM',Retail_Tier_MoM )    \n",
    "    \n",
    "else:\n",
    "    pass  "
   ]
  },
  {
   "cell_type": "code",
   "execution_count": 0,
   "metadata": {
    "application/vnd.databricks.v1+cell": {
     "cellMetadata": {
      "byteLimit": 2048000,
      "rowLimit": 10000
     },
     "inputWidgets": {},
     "nuid": "8dbe1ff0-d39d-4508-9436-7c2e8989ee60",
     "showTitle": false,
     "title": ""
    },
    "tags": []
   },
   "outputs": [],
   "source": [
    "%%time\n",
    "Retail_Tier_MTD = pd.read_sql(f'''\n",
    "SELECT \n",
    "CAST(LEFT(mc.activation_date, 10) AS DATE) AS Date,\n",
    "IFNULL(COUNT(case WHEN mc.client_level_cv_id = '99' then mc.id END) ,0) AS Tier_1,\n",
    "IFNULL(COUNT(case WHEN mc.client_level_cv_id = '100' then mc.id END) ,0) AS Tier_2,\n",
    "IFNULL(COUNT(case WHEN mc.client_level_cv_id = '101' then mc.id END) ,0) AS Tier_3,\n",
    "COUNT(mc.id) AS Total_Customers, \n",
    "NOW() AS load_date\n",
    "FROM m_savings_account msa\n",
    "LEFT JOIN m_client mc ON mc.id = msa.client_id\n",
    "LEFT JOIN m_savings_product msp ON msp.id = msa.product_id\n",
    "WHERE msa.product_id IN (29,31,33)\n",
    "AND left(mc.activation_date, 4) < LEFT(NOW(), 4)\n",
    "GROUP BY 1\n",
    "ORDER BY 1;;\n",
    "''', Mifosdb)\n",
    "Retail_Tier_MTD\n",
    "\n",
    "\n",
    "load_table('gold','Retail_Tier_MTD', Retail_Tier_MTD)  "
   ]
  },
  {
   "cell_type": "code",
   "execution_count": 0,
   "metadata": {
    "application/vnd.databricks.v1+cell": {
     "cellMetadata": {
      "byteLimit": 2048000,
      "rowLimit": 10000
     },
     "inputWidgets": {},
     "nuid": "c1187e5a-87d1-4fe0-8e73-ffbaf3059c9f",
     "showTitle": false,
     "title": ""
    },
    "tags": []
   },
   "outputs": [],
   "source": [
    "%%time\n",
    "Retail_Gender = pd.read_sql(f'''\n",
    "select lower(gender) as Gender, count(distinct client_id) as Customers, GETDATE() AS load_date\n",
    "from dwh_demographics dd \n",
    "where gender is not null\n",
    "and gender != ''\n",
    "group by 1\n",
    "order by 1;\n",
    "''', conn)\n",
    "Retail_Gender\n",
    "\n",
    "load_table('gold','Retail_Gender', Retail_Gender) "
   ]
  },
  {
   "cell_type": "code",
   "execution_count": 0,
   "metadata": {
    "application/vnd.databricks.v1+cell": {
     "cellMetadata": {
      "byteLimit": 2048000,
      "rowLimit": 10000
     },
     "inputWidgets": {},
     "nuid": "e9ab2d01-b794-490c-8b37-2f8b99b19d68",
     "showTitle": false,
     "title": ""
    },
    "tags": []
   },
   "outputs": [],
   "source": [
    "%%time\n",
    "if day == RUNDAY:\n",
    "\n",
    "    WhatsApp_Onboard_MoM = pd.read_sql(f'''\n",
    "    SELECT LEFT(USC.TIMESTAMP, 7) AS Month, COUNT(*) AS Customers, NOW() AS load_date\n",
    "    from UM_SOCIAL_CLIENTS USC\n",
    "    WHERE USC.ID > 1\n",
    "    AND LEFT(USC.TIMESTAMP, 7) != LEFT(NOW(),7)\n",
    "    GROUP BY 1\n",
    "    ORDER BY 1;\n",
    "    ''', Dumpdb)\n",
    "    WhatsApp_Onboard_MoM\n",
    "\n",
    "    load_table('gold','WhatsApp_Onboard_MoM',WhatsApp_Onboard_MoM )    \n",
    "    \n",
    "else:\n",
    "    pass  "
   ]
  },
  {
   "cell_type": "code",
   "execution_count": 0,
   "metadata": {
    "application/vnd.databricks.v1+cell": {
     "cellMetadata": {
      "byteLimit": 2048000,
      "rowLimit": 10000
     },
     "inputWidgets": {},
     "nuid": "69ddd200-aea9-40fe-b92d-1d58940c1163",
     "showTitle": false,
     "title": ""
    },
    "tags": []
   },
   "outputs": [],
   "source": [
    "%%time\n",
    "WhatsApp_Onboard_MTD = pd.read_sql(f'''\n",
    "SELECT LEFT(USC.TIMESTAMP, 10) AS Date, COUNT(*) AS Customers, NOW() AS load_date\n",
    "from UM_SOCIAL_CLIENTS USC\n",
    "WHERE USC.ID > 1\n",
    "AND LEFT(USC.TIMESTAMP, 4) = LEFT(NOW(),4)\n",
    "GROUP BY 1\n",
    "ORDER BY 1;\n",
    "''', Dumpdb)\n",
    "WhatsApp_Onboard_MTD\n",
    "\n",
    "load_table('gold','WhatsApp_Onboard_MTD', WhatsApp_Onboard_MTD )"
   ]
  },
  {
   "cell_type": "code",
   "execution_count": 0,
   "metadata": {
    "application/vnd.databricks.v1+cell": {
     "cellMetadata": {
      "byteLimit": 2048000,
      "rowLimit": 10000
     },
     "inputWidgets": {},
     "nuid": "8e4e2ea9-483b-45cf-86b8-5b03c2dc7664",
     "showTitle": false,
     "title": ""
    },
    "tags": []
   },
   "outputs": [],
   "source": [
    "%%time\n",
    "if day == RUNDAY:\n",
    "\n",
    "    Backend_Onboard_MoM = pd.read_sql(f'''\n",
    "    SELECT LEFT(mc.activation_date,7) AS Month, count(mc.id) AS 'Accounts', NOW() AS load_date\n",
    "    FROM m_savings_account msa\n",
    "    JOIN m_client mc ON mc.id = msa.client_id\n",
    "    WHERE msa.product_id IN (29,31,33)\n",
    "    AND msa.approvedon_userid != '31'\n",
    "    AND LEFT(mc.activation_date,7) != LEFT(NOW(), 7)\n",
    "    GROUP BY 1\n",
    "    ORDER BY 1;\n",
    "    ''', Mifosdb)\n",
    "    Backend_Onboard_MoM\n",
    "\n",
    "    load_table('gold','Backend_Onboard_MoM', Backend_Onboard_MoM)    \n",
    "    \n",
    "else:\n",
    "    pass  \n"
   ]
  },
  {
   "cell_type": "code",
   "execution_count": 0,
   "metadata": {
    "application/vnd.databricks.v1+cell": {
     "cellMetadata": {
      "byteLimit": 2048000,
      "rowLimit": 10000
     },
     "inputWidgets": {},
     "nuid": "a79a3d63-71b9-4072-a642-a446a45ce91a",
     "showTitle": false,
     "title": ""
    },
    "tags": []
   },
   "outputs": [],
   "source": [
    "%%time\n",
    "\n",
    "if day == RUNDAY:\n",
    "    intra_mom = pd.read_sql(f'''\n",
    "    select\n",
    "    left(dat.transaction_date, 7) as month,\n",
    "    isnull(count(case when channel IS NULL then transaction_id  end), 0) as NULL_Volume,\n",
    "    isnull(count(case when channel IS NULL then transaction_id end), 0) as NULL_Volume,\n",
    "    isnull(count(case when channel = 'MOBILE' then transaction_id  end), 0) as MOBILE_Volume,\n",
    "    isnull(count(case when channel = 'USSD' then transaction_id end), 0) as USSD_Volume,\n",
    "    isnull(count(case when channel = 'CHATBOT' then transaction_id end), 0) as CHATBOT_Volume,\n",
    "    isnull(SUM(case when channel = 'MOBILE' then amount end) , 0) as MOBILE_intrabank_Value,\n",
    "    isnull(SUM(case when channel = 'USSD' then amount end), 0) as USSD_intrabank_Value,\n",
    "    isnull(SUM(case when channel = 'CHATBOT' then amount end), 0) as CHATBOT_intrabank_Value,\n",
    "    isnull(count(*), 0) as Total_Volume,\n",
    "    isnull(sum(amount), 0) as Total_Value,\n",
    "    GETDATE() AS load_date\n",
    "    from dwh_all_transactions dat\n",
    "    where left(dat.transaction_date, 7) < LEFT(GETDATE(), 7)\n",
    "    and (dat.channel in ('MOBILE', 'USSD', 'CHATBOT') OR dat.channel IS NULL)\n",
    "    and dat.partners_description = 'Internal transfer'\n",
    "    GROUP BY 1\n",
    "    order by 1\n",
    "    ''', conn)\n",
    "    intra_mom\n",
    "\n",
    "\n",
    "    load_table('gold','intra_mom', intra_mom)    \n",
    "    \n",
    "else:\n",
    "    pass"
   ]
  },
  {
   "cell_type": "code",
   "execution_count": 0,
   "metadata": {
    "application/vnd.databricks.v1+cell": {
     "cellMetadata": {
      "byteLimit": 2048000,
      "rowLimit": 10000
     },
     "inputWidgets": {},
     "nuid": "8d01a01a-62ce-4f9c-af77-8ff2badf238a",
     "showTitle": false,
     "title": ""
    },
    "tags": []
   },
   "outputs": [],
   "source": [
    "%%time\n",
    "intra_mtd = pd.read_sql(f'''\n",
    "select\n",
    "CAST(left(dat.transaction_date, 10) AS DATE) as Date,\n",
    "isnull(count(case when channel = 'MOBILE' then transaction_id  end) , 0) as MOBILE_intrabank_Volume,\n",
    "isnull(count(case when channel = 'USSD' then transaction_id end) , 0) as USSD_intrabank_Volume,\n",
    "isnull(count(case when channel = 'CHATBOT' then transaction_id end) , 0) as CHATBOT_intrabank_Volume,\n",
    "isnull(SUM(case when channel = 'MOBILE' then amount end) , 0) as MOBILE_intrabank_Value,\n",
    "isnull(SUM(case when channel = 'USSD' then amount end), 0) as USSD_intrabank_Value,\n",
    "isnull(SUM(case when channel = 'CHATBOT' then amount end), 0) as CHATBOT_intrabank_Value,\n",
    "isnull(count(*), 0) as Total_Volume,\n",
    "isnull(sum(amount), 0) as Total_Value,\n",
    "GETDATE() AS load_date\n",
    "from dwh_all_transactions dat\n",
    "where left(dat.transaction_date, 4) = LEFT(GETDATE(), 4)\n",
    "AND left(dat.transaction_date, 10) < cast(getdate() as date)\n",
    "and dat.channel in ('MOBILE', 'USSD', 'CHATBOT')\n",
    "and dat.partners_description = 'Internal transfer'\n",
    "GROUP BY 1\n",
    "order by 1\n",
    "''', conn)\n",
    "intra_mtd\n",
    "\n",
    "load_table('gold','intra_mtd', intra_mtd)"
   ]
  },
  {
   "cell_type": "code",
   "execution_count": 0,
   "metadata": {
    "application/vnd.databricks.v1+cell": {
     "cellMetadata": {
      "byteLimit": 2048000,
      "rowLimit": 10000
     },
     "inputWidgets": {},
     "nuid": "fc2c8ac6-b6ab-40c8-a05f-cb78a2a447cf",
     "showTitle": false,
     "title": ""
    },
    "tags": []
   },
   "outputs": [],
   "source": [
    "%%time\n",
    "\n",
    "if day == RUNDAY:\n",
    "\n",
    "    inter_failure_mom = pd.read_sql(f'''\n",
    "    SELECT LEFT(MBS.POSTING_DATE, 7) AS Month,\n",
    "    count(case when CHANNEL = 'MOBILE' then ID  end) as MOBILE_Failure_Volume,\n",
    "    count(case when CHANNEL = 'USSD' then ID end) as USSD_interbank_Volume,\n",
    "    count(case when CHANNEL = 'CHATBOT' then ID end) as CHATBOT_Failure_Volume,\n",
    "    SUM(case when CHANNEL = 'MOBILE' then AMOUNT end) as MOBILE_Failure_Value,\n",
    "    SUM(case when CHANNEL = 'USSD' then AMOUNT end) as USSD_Failure_Value,\n",
    "    SUM(case when CHANNEL = 'CHATBOT' then AMOUNT end) as CHATBOT_Failure_Value,\n",
    "    count(*) as Total_Failure_Volume,\n",
    "    sum(amount) as Total_Failure_Value,\n",
    "    NOW() AS load_date\n",
    "    FROM MM_BANK_SETTLEMENTS MBS\n",
    "    WHERE LEFT(MBS.POSTING_DATE, 4) < LEFT(NOW(), 7)\n",
    "    AND MBS.PARTNERS = 'NIPCREDIT'\n",
    "    AND MBS.CHANNEL IN ('MOBILE', 'CHATBOT', 'USSD')\n",
    "    AND MBS.RESPONSE_CODE != '00'\n",
    "    GROUP BY 1\n",
    "    ORDER BY 1;\n",
    "    ''', Dumpdb)\n",
    "    inter_failure_mom\n",
    "\n",
    "    load_table('gold','inter_failure_mom',inter_failure_mom )    \n",
    "    \n",
    "else:\n",
    "    pass  "
   ]
  },
  {
   "cell_type": "code",
   "execution_count": 0,
   "metadata": {
    "application/vnd.databricks.v1+cell": {
     "cellMetadata": {
      "byteLimit": 2048000,
      "rowLimit": 10000
     },
     "inputWidgets": {},
     "nuid": "475b95c9-2bbe-406c-b9b8-c02e8d1c9d9e",
     "showTitle": false,
     "title": ""
    },
    "tags": []
   },
   "outputs": [],
   "source": [
    "%%time\n",
    "inter_failure_mtd = pd.read_sql(f'''\n",
    "SELECT CAST(LEFT(MBS.POSTING_DATE, 10) AS Date) AS Date,\n",
    "count(case when CHANNEL = 'MOBILE' then ID  end) as MOBILE_Failure_Volume,\n",
    "count(case when CHANNEL = 'USSD' then ID end) as USSD_interbank_Volume,\n",
    "count(case when CHANNEL = 'CHATBOT' then ID end) as CHATBOT_Failure_Volume,\n",
    "SUM(case when CHANNEL = 'MOBILE' then AMOUNT end) as MOBILE_Failure_Value,\n",
    "SUM(case when CHANNEL = 'USSD' then AMOUNT end) as USSD_Failure_Value,\n",
    "SUM(case when CHANNEL = 'CHATBOT' then AMOUNT end) as CHATBOT_Failure_Value,\n",
    "count(*) as Total_Failure_Volume,\n",
    "sum(amount) as Total_Failure_Value,\n",
    "NOW() AS load_date\n",
    "FROM MM_BANK_SETTLEMENTS MBS\n",
    "WHERE LEFT(MBS.POSTING_DATE, 4) = LEFT(NOW(), 4)\n",
    "AND MBS.PARTNERS = 'NIPCREDIT'\n",
    "AND MBS.CHANNEL IN ('MOBILE', 'CHATBOT', 'USSD')\n",
    "AND MBS.RESPONSE_CODE != '00'\n",
    "GROUP BY 1\n",
    "ORDER BY 1;\n",
    "''', Dumpdb)\n",
    "inter_failure_mtd\n",
    "\n",
    "load_table('gold','inter_failure_mtd',inter_failure_mtd )"
   ]
  },
  {
   "cell_type": "code",
   "execution_count": 0,
   "metadata": {
    "application/vnd.databricks.v1+cell": {
     "cellMetadata": {
      "byteLimit": 2048000,
      "rowLimit": 10000
     },
     "inputWidgets": {},
     "nuid": "845ee468-0806-40c4-84a8-3b5f7f924b37",
     "showTitle": false,
     "title": ""
    },
    "tags": []
   },
   "outputs": [],
   "source": [
    "%%time\n",
    "\n",
    "if day == RUNDAY:\n",
    "\n",
    "    avg_customer_trxn_inter_mom = pd.read_sql(f'''\n",
    "    select left(dat.transaction_date,7) as Month,\n",
    "        COUNT(DISTINCT dat.client_id) AS total_customers,\n",
    "        COUNT(*) / COUNT(DISTINCT dat.client_id) AS avg_transactions_per_customer,\n",
    "        GETDATE() AS load_date\n",
    "    from dwh_all_transactions dat \n",
    "    where left(dat.transaction_date,7)  < LEFT(GETDATE(), 7)\n",
    "    and dat.transaction_type  = 'withdrawal'\n",
    "    and channel in ('MOBILE', 'USSD', 'CHATBOT')\n",
    "    and response_code in ('00', '201', '200', '9000')\n",
    "    group by 1\n",
    "    order by 1;\n",
    "                    ''', conn)\n",
    "    avg_customer_trxn_inter_mom\n",
    "\n",
    "    load_table('gold','avg_customer_trxn_inter_mom', avg_customer_trxn_inter_mom)    \n",
    "    \n",
    "else:\n",
    "    pass  "
   ]
  },
  {
   "cell_type": "code",
   "execution_count": 0,
   "metadata": {
    "application/vnd.databricks.v1+cell": {
     "cellMetadata": {
      "byteLimit": 2048000,
      "rowLimit": 10000
     },
     "inputWidgets": {},
     "nuid": "f3787d79-4da7-493a-8639-3732afc7892b",
     "showTitle": false,
     "title": ""
    },
    "tags": []
   },
   "outputs": [],
   "source": [
    "%%time\n",
    "\n",
    "avg_customer_trxn_inter_mtd = pd.read_sql(f'''\n",
    "select CAST(left(dat.transaction_date,10) AS Date) as Date,\n",
    "    COUNT(DISTINCT dat.client_id) AS total_customers,\n",
    "    COUNT(*) / COUNT(DISTINCT dat.client_id) AS avg_transactions_per_customer,\n",
    "    GETDATE() AS load_date\n",
    "from dwh_all_transactions dat \n",
    "where left(dat.transaction_date,4) = LEFT(GETDATE(), 4)\n",
    "and dat.transaction_type  = 'withdrawal'\n",
    "and channel in ('MOBILE', 'USSD', 'CHATBOT')\n",
    "and response_code in ('00', '201', '200', '9000')\n",
    "group by 1\n",
    "order by 1;\n",
    "                ''', conn)\n",
    "avg_customer_trxn_inter_mtd\n",
    "\n",
    "\n",
    "load_table('gold','avg_customer_trxn_inter_mtd',avg_customer_trxn_inter_mtd )"
   ]
  },
  {
   "cell_type": "code",
   "execution_count": 0,
   "metadata": {
    "application/vnd.databricks.v1+cell": {
     "cellMetadata": {
      "byteLimit": 2048000,
      "rowLimit": 10000
     },
     "inputWidgets": {},
     "nuid": "41c9c3f1-f864-4900-a194-d8de97542a90",
     "showTitle": false,
     "title": ""
    },
    "tags": []
   },
   "outputs": [],
   "source": [
    "%%time\n",
    "\n",
    "if day == RUNDAY:\n",
    "\n",
    "    free_extra_inter_mom = pd.read_sql(f'''\n",
    "    with tbl as (\n",
    "        select left(dat.transaction_date,7) as month, \n",
    "        dat.client_id , \n",
    "        count(*) as tra_count,\n",
    "        case when count(*) < 50  then count(*) else 50 end as free_transfer,\n",
    "        case when count(*) < 51  then 0 else count(*) - 50 end as additional_transfer\n",
    "        from dwh_all_transactions dat \n",
    "        where left(dat.transaction_date,7) < LEFT(GETDATE(), 7)\n",
    "        and dat.transaction_type  = 'withdrawal'\n",
    "        and dat.partners  = 'NIPCREDIT'\n",
    "        and channel in ('MOBILE', 'USSD', 'CHATBOT')\n",
    "        and response_code = '00'\n",
    "        group by 2,1\n",
    "    )\n",
    "    select month, \n",
    "    sum(tra_count) total_trf,\n",
    "    sum(free_transfer) as total_free_trf,\n",
    "    sum(additional_transfer) as total_additional_trf,\n",
    "    GETDATE() AS load_date\n",
    "    from tbl\n",
    "    group by 1\n",
    "    order by 1;\n",
    "                    ''', conn)\n",
    "    free_extra_inter_mom\n",
    "    \n",
    "    load_table('gold','free_extra_inter_mom',free_extra_inter_mom )    \n",
    "    \n",
    "else:\n",
    "    pass  "
   ]
  },
  {
   "cell_type": "code",
   "execution_count": 0,
   "metadata": {
    "application/vnd.databricks.v1+cell": {
     "cellMetadata": {
      "byteLimit": 2048000,
      "rowLimit": 10000
     },
     "inputWidgets": {},
     "nuid": "5e696500-4255-4237-a758-b4070c7382e5",
     "showTitle": false,
     "title": ""
    },
    "tags": []
   },
   "outputs": [],
   "source": [
    "%%time\n",
    "free_extra_inter_mtd = pd.read_sql(f'''\n",
    "with tbl as (\n",
    "\tselect CAST(left(dat.transaction_date,10) AS DATE) as Date, \n",
    "\tdat.client_id, \n",
    "\tcount(*) as tra_count,\n",
    "\tcase when count(*) < 50  then count(*) else 50 end as free_transfer,\n",
    "\tcase when count(*) < 51  then 0 else count(*) - 50 end as additional_transfer\n",
    "\tfrom dwh_all_transactions dat \n",
    "\twhere left(dat.transaction_date,4) = LEFT(GETDATE(), 4)\n",
    "\tand dat.transaction_type  = 'withdrawal'\n",
    "\tand dat.partners  = 'NIPCREDIT'\n",
    "\tand channel in ('MOBILE', 'USSD', 'CHATBOT')\n",
    "\tand response_code = '00'\n",
    "\tgroup by 2,1\n",
    ")\n",
    "select Date, \n",
    "sum(tra_count) total_trf,\n",
    "sum(free_transfer) as total_free_trf,\n",
    "sum(additional_transfer) as total_additional_trf,\n",
    "GETDATE() AS load_date\n",
    "from tbl\n",
    "group by 1\n",
    "order by 1;\n",
    "                ''', conn)\n",
    "free_extra_inter_mtd\n",
    "\n",
    "load_table('gold','free_extra_inter_mtd', free_extra_inter_mtd)"
   ]
  },
  {
   "cell_type": "code",
   "execution_count": 0,
   "metadata": {
    "application/vnd.databricks.v1+cell": {
     "cellMetadata": {
      "byteLimit": 2048000,
      "rowLimit": 10000
     },
     "inputWidgets": {},
     "nuid": "9aaba707-0a76-448a-8ee7-bd5f1424ad3d",
     "showTitle": false,
     "title": ""
    },
    "tags": []
   },
   "outputs": [],
   "source": [
    "%%time\n",
    "\n",
    "if day == RUNDAY:\n",
    "\n",
    "    intbank_out_mom = pd.read_sql(f'''\n",
    "    select\n",
    "    left(transaction_date, 7) as Month,\n",
    "    isnull(count(case when channel IS NULL then transaction_id  end),0) as NULL_interbank_Volume,\n",
    "    isnull(count(case when channel IS NULL then transaction_id end),0) as NULL_interbank_Volume,\n",
    "    isnull(count(case when channel = 'MOBILE' then transaction_id  end),0) as MOBILE_interbank_Volume,\n",
    "    isnull(count(case when channel = 'USSD' then transaction_id end),0) as USSD_interbank_Volume,\n",
    "    isnull(count(case when channel = 'CHATBOT' then transaction_id end),0) as CHATBOT_interbank_Volume,\n",
    "    isnull(SUM(case when channel = 'MOBILE' then amount end),0) as MOBILE_interbank_Value,\n",
    "    isnull(SUM(case when channel = 'USSD' then amount end),0) as USSD_interbank_Value,\n",
    "    isnull(SUM(case when channel = 'CHATBOT' then amount end),0) as CHATBOT_interbank_Value,\n",
    "    isnull(count(*),0) as Total_Volume,\n",
    "    isnull(sum(amount),0) as Total_Value,\n",
    "    GETDATE() AS load_date\n",
    "    from dwh_interbank_outflows\n",
    "    where  left(transaction_date, 7) < LEFT(GETDATE(),7)\n",
    "    and transaction_status = 'success'\n",
    "    and (channel in ('MOBILE', 'USSD', 'CHATBOT') OR channel IS NULL)\n",
    "    GROUP BY 1\n",
    "    order by 1\n",
    "                    ''', conn)\n",
    "    intbank_out_mom\n",
    "\n",
    "\n",
    "    load_table('gold','intbank_out_mom',intbank_out_mom )    \n",
    "    \n",
    "else:\n",
    "    pass  "
   ]
  },
  {
   "cell_type": "code",
   "execution_count": 0,
   "metadata": {
    "application/vnd.databricks.v1+cell": {
     "cellMetadata": {
      "byteLimit": 2048000,
      "rowLimit": 10000
     },
     "inputWidgets": {},
     "nuid": "3ff1bd58-9f9c-4f2e-bf23-f32212add5ec",
     "showTitle": false,
     "title": ""
    },
    "tags": []
   },
   "outputs": [],
   "source": [
    "%%time\n",
    "intbank_out_mtd = pd.read_sql(f'''\n",
    "select\n",
    "CAST(left(transaction_date, 10) AS DATE) as Date,\n",
    "isnull(count(case when channel = 'MOBILE' then transaction_id  end),0) as MOBILE_interbank_Volume,\n",
    "isnull(count(case when channel = 'USSD' then transaction_id end),0) as USSD_interbank_Volume,\n",
    "isnull(count(case when channel = 'CHATBOT' then transaction_id end),0) as CHATBOT_interbank_Volume,\n",
    "isnull(SUM(case when channel = 'MOBILE' then amount end),0) as MOBILE_interbank_Value,\n",
    "isnull(SUM(case when channel = 'USSD' then amount end),0) as USSD_interbank_Value,\n",
    "isnull(SUM(case when channel = 'CHATBOT' then amount end),0) as CHATBOT_interbank_Value,\n",
    "isnull(count(*),0) as Total_Volume,\n",
    "isnull(sum(amount),0) as Total_Value,\n",
    "GETDATE() AS load_date\n",
    "from dwh_interbank_outflows\n",
    "where  left(transaction_date, 4) = LEFT(GETDATE(),4)\n",
    "and transaction_status = 'success'\n",
    "and channel in ('MOBILE', 'USSD', 'CHATBOT')\n",
    "GROUP BY 1\n",
    "order by 1\n",
    "                ''', conn)\n",
    "intbank_out_mtd\n",
    "\n",
    "load_table('gold','intbank_out_mtd', intbank_out_mtd)"
   ]
  },
  {
   "cell_type": "code",
   "execution_count": 0,
   "metadata": {
    "application/vnd.databricks.v1+cell": {
     "cellMetadata": {
      "byteLimit": 2048000,
      "rowLimit": 10000
     },
     "inputWidgets": {},
     "nuid": "cff66d50-9c02-4c36-865b-10a652ceb890",
     "showTitle": false,
     "title": ""
    },
    "tags": []
   },
   "outputs": [],
   "source": [
    "%%time\n",
    "if day == RUNDAY:\n",
    "    intbank_out_failed_mom = pd.read_sql(f'''\n",
    "    SELECT LEFT(MBS.POSTING_DATE, 7) AS Month,\n",
    "    IFNULL(count(case when CHANNEL = 'MOBILE' then ID  end) ,0) as MOBILE_interbank_Failure_Volume,\n",
    "    IFNULL(count(case when CHANNEL = 'USSD' then ID end) ,0) as USSD_interbank_Failure_Volume,\n",
    "    IFNULL(count(case when CHANNEL = 'CHATBOT' then ID end) ,0) as CHATBOT_interbank_Failure_Volume,\n",
    "    IFNULL(SUM(case when CHANNEL = 'MOBILE' then AMOUNT end) ,0) as MOBILE_interbank_Failure_Value,\n",
    "    IFNULL(SUM(case when CHANNEL = 'USSD' then AMOUNT end) ,0) as USSD_interbank_Failure_Value,\n",
    "    IFNULL(SUM(case when CHANNEL = 'CHATBOT' then AMOUNT end) ,0) as CHATBOT_interbank_Failure_Value,\n",
    "    IFNULL(count(*) ,0) as Total_Failure_Volume,\n",
    "    IFNULL(sum(amount) ,0) as Total_Failure_Value,\n",
    "    NOW() AS load_date\n",
    "    FROM MM_BANK_SETTLEMENTS MBS\n",
    "    WHERE LEFT(MBS.POSTING_DATE, 7) < LEFT(CURRENT_DATE(), 7)\n",
    "    AND MBS.PARTNERS = 'NIPCREDIT'\n",
    "    AND MBS.CHANNEL IN ('MOBILE', 'CHATBOT', 'USSD')\n",
    "    AND MBS.RESPONSE_CODE != '00'\n",
    "    GROUP BY 1\n",
    "    ORDER BY 1;\n",
    "                    ''', Dumpdb)\n",
    "    intbank_out_failed_mom\n",
    "\n",
    "\n",
    "    load_table('gold','intbank_out_failed_mom',intbank_out_failed_mom )    \n",
    "    \n",
    "else:\n",
    "    pass  "
   ]
  },
  {
   "cell_type": "code",
   "execution_count": 0,
   "metadata": {
    "application/vnd.databricks.v1+cell": {
     "cellMetadata": {
      "byteLimit": 2048000,
      "rowLimit": 10000
     },
     "inputWidgets": {},
     "nuid": "51facc28-ef55-40ff-965f-21b6e71056c3",
     "showTitle": false,
     "title": ""
    }
   },
   "outputs": [],
   "source": [
    "%%time\n",
    "intbank_out_failed_mtd = pd.read_sql(f'''\n",
    "SELECT CAST(LEFT(MBS.POSTING_DATE, 10) AS DATE) AS Date,\n",
    "IFNULL(count(case when CHANNEL = 'MOBILE' then ID  end) ,0) as MOBILE_interbank_Failure_Volume,\n",
    "IFNULL(count(case when CHANNEL = 'USSD' then ID end) ,0) as USSD_interbank_Failure_Volume,\n",
    "IFNULL(count(case when CHANNEL = 'CHATBOT' then ID end) ,0) as CHATBOT_interbank_Failure_Volume,\n",
    "IFNULL(SUM(case when CHANNEL = 'MOBILE' then AMOUNT end) ,0) as MOBILE_interbank_Failure_Value,\n",
    "IFNULL(SUM(case when CHANNEL = 'USSD' then AMOUNT end) ,0) as USSD_interbank_Failure_Value,\n",
    "IFNULL(SUM(case when CHANNEL = 'CHATBOT' then AMOUNT end) ,0) as CHATBOT_interbank_Failure_Value,\n",
    "IFNULL(count(*) ,0) as Total_Failure_Volume,\n",
    "IFNULL(sum(amount) ,0) as Total_Failure_Value,\n",
    "NOW() AS load_date\n",
    "FROM MM_BANK_SETTLEMENTS MBS\n",
    "WHERE LEFT(MBS.POSTING_DATE, 4) = LEFT(CURRENT_DATE(), 4)\n",
    "AND MBS.PARTNERS = 'NIPCREDIT'\n",
    "AND MBS.CHANNEL IN ('MOBILE', 'CHATBOT', 'USSD')\n",
    "AND MBS.RESPONSE_CODE != '00'\n",
    "GROUP BY 1\n",
    "ORDER BY 1;\n",
    "                ''', Dumpdb)\n",
    "intbank_out_failed_mtd\n",
    "\n",
    "load_table('gold','intbank_out_failed_mtd', intbank_out_failed_mtd)"
   ]
  },
  {
   "cell_type": "code",
   "execution_count": 0,
   "metadata": {
    "application/vnd.databricks.v1+cell": {
     "cellMetadata": {
      "byteLimit": 2048000,
      "rowLimit": 10000
     },
     "inputWidgets": {},
     "nuid": "007576d4-ee0e-411f-9267-99407cd3ac2c",
     "showTitle": false,
     "title": ""
    },
    "tags": []
   },
   "outputs": [],
   "source": [
    "%%time\n",
    "if day == RUNDAY:\n",
    "    \n",
    "    bil_mom = pd.read_sql(f'''\n",
    "    select\n",
    "    left(transaction_date, 7) as Month,\n",
    "    ISNULL(count(case when channel = 'MOBILE' then id end) ,0) as MOBILE_Bills_Volume,\n",
    "    ISNULL(count(case when channel = 'USSD' then id end) ,0) as USSD_Bills_Volume,\n",
    "    ISNULL(count(case when channel = 'CHATBOT' then id end) ,0) as CHATBOT_Bills_Volume,\n",
    "    ISNULL(SUM(case when channel = 'MOBILE' then amount end) ,0) as MOBILE_Bills_Value,\n",
    "    ISNULL(SUM(case when channel = 'USSD' then amount end) ,0) as USSD_Bills_Value,\n",
    "    ISNULL(SUM(case when channel = 'CHATBOT' then amount end) ,0) as CHATBOT_Bills_Value,\n",
    "    ISNULL(count(*) ,0) as Total_Volume,\n",
    "    ISNULL(sum(amount) ,0) as Total_Value,\n",
    "    GETDATE() AS load_date\n",
    "    from dwh_bills_only\n",
    "    where  left(transaction_date, 7) < LEFT(GETDATE(), 7)\n",
    "    and transaction_status = 'success'\n",
    "    and channel in ('MOBILE', 'USSD', 'CHATBOT')\n",
    "    GROUP BY 1\n",
    "    order by 1\n",
    "                    ''', conn)\n",
    "    bil_mom\n",
    "    load_table('gold','bil_mom',bil_mom )    \n",
    "    \n",
    "else:\n",
    "    pass  "
   ]
  },
  {
   "cell_type": "code",
   "execution_count": 0,
   "metadata": {
    "application/vnd.databricks.v1+cell": {
     "cellMetadata": {
      "byteLimit": 2048000,
      "rowLimit": 10000
     },
     "inputWidgets": {},
     "nuid": "ae88e5cb-eead-4f1d-865c-6c1cf18ec6d2",
     "showTitle": false,
     "title": ""
    },
    "tags": []
   },
   "outputs": [],
   "source": [
    "%%time\n",
    "bil_mtd = pd.read_sql(f'''\n",
    "select\n",
    "CAST(left(transaction_date, 10) AS DATE) as Date,\n",
    "ISNULL(count(case when channel = 'MOBILE' then id end) ,0) as MOBILE_Bills_Volume,\n",
    "ISNULL(count(case when channel = 'USSD' then id end) ,0) as USSD_Bills_Volume,\n",
    "ISNULL(count(case when channel = 'CHATBOT' then id end) ,0) as CHATBOT_Bills_Volume,\n",
    "ISNULL(SUM(case when channel = 'MOBILE' then amount end) ,0) as MOBILE_Bills_Value,\n",
    "ISNULL(SUM(case when channel = 'USSD' then amount end) ,0) as USSD_Bills_Value,\n",
    "ISNULL(SUM(case when channel = 'CHATBOT' then amount end) ,0) as CHATBOT_Bills_Value,\n",
    "ISNULL(count(*) ,0) as Total_Volume,\n",
    "ISNULL(sum(amount) ,0) as Total_Value,\n",
    "GETDATE() AS load_date\n",
    "from dwh_bills_only\n",
    "where  left(transaction_date, 4) = LEFT(GETDATE(), 4)\n",
    "and transaction_status = 'success'\n",
    "and channel in ('MOBILE', 'USSD', 'CHATBOT')\n",
    "GROUP BY 1\n",
    "order by 1\n",
    "                ''', conn)\n",
    "bil_mtd\n",
    "load_table('gold','bil_mtd',bil_mtd)"
   ]
  },
  {
   "cell_type": "code",
   "execution_count": 0,
   "metadata": {
    "application/vnd.databricks.v1+cell": {
     "cellMetadata": {
      "byteLimit": 2048000,
      "rowLimit": 10000
     },
     "inputWidgets": {},
     "nuid": "22d55762-bdcf-406d-b022-a63892105725",
     "showTitle": false,
     "title": ""
    },
    "tags": []
   },
   "outputs": [],
   "source": [
    "%%time\n",
    "if day == RUNDAY:\n",
    "\n",
    "    top_biller_mom = pd.read_sql(f'''\n",
    "    WITH monthly_counts AS (\n",
    "        SELECT\n",
    "            LEFT(transaction_date, 7) AS month,\n",
    "            biller,\n",
    "            COUNT(*) AS biller_count\n",
    "        FROM\n",
    "            dwh_bills_only\n",
    "            where left(transaction_date, 7) < left(getdate(),7)\n",
    "            and transaction_status  = 'success'\n",
    "        GROUP BY\n",
    "            month,\n",
    "            biller\n",
    "    )\n",
    "\n",
    "    SELECT\n",
    "        month,\n",
    "        biller,\n",
    "        biller_count,\n",
    "        getdate() as load_date\n",
    "    FROM (\n",
    "        SELECT\n",
    "            month,\n",
    "            biller,\n",
    "            biller_count,\n",
    "            RANK() OVER (PARTITION BY month ORDER BY biller_count DESC) AS ranking\n",
    "        FROM\n",
    "            monthly_counts\n",
    "    ) ranked_counts\n",
    "    WHERE\n",
    "        ranking = 1\n",
    "    ORDER BY\n",
    "        month, ranking;\n",
    "                    ''', conn)\n",
    "    top_biller_mom\n",
    "\n",
    "    load_table('gold','top_biller_mom', top_biller_mom)    \n",
    "    \n",
    "else:\n",
    "    pass "
   ]
  },
  {
   "cell_type": "code",
   "execution_count": 0,
   "metadata": {
    "application/vnd.databricks.v1+cell": {
     "cellMetadata": {
      "byteLimit": 2048000,
      "rowLimit": 10000
     },
     "inputWidgets": {},
     "nuid": "5c621a52-1c43-430e-90d0-19ab8101cf85",
     "showTitle": false,
     "title": ""
    },
    "tags": []
   },
   "outputs": [],
   "source": [
    "%%time\n",
    "top_biller_mtd = pd.read_sql(f'''\n",
    "WITH daily_counts AS (\n",
    "    SELECT\n",
    "        DATE_TRUNC('day', transaction_date) AS date,\n",
    "        biller,\n",
    "        COUNT(*) AS biller_count\n",
    "    FROM\n",
    "        dwh_bills_only\n",
    "        where left(transaction_date, 4) = LEFT(GETDATE(), 4)\n",
    "        and left(transaction_date, 10) < cast(getdate() as date)\n",
    "        and transaction_status  = 'success'\n",
    "    GROUP BY\n",
    "        date,\n",
    "        biller\n",
    ")\n",
    "\n",
    "SELECT\n",
    "    date,\n",
    "    biller,\n",
    "    biller_count\n",
    "FROM (\n",
    "    SELECT\n",
    "        date,\n",
    "        biller,\n",
    "        biller_count,\n",
    "        RANK() OVER (PARTITION BY date ORDER BY biller_count DESC) AS ranking\n",
    "    FROM\n",
    "        daily_counts\n",
    ") ranked_counts\n",
    "WHERE\n",
    "    ranking = 1\n",
    "ORDER BY\n",
    "    date, ranking;\n",
    "                ''', conn)\n",
    "top_biller_mtd\n",
    "\n",
    "load_table('gold','top_biller_mtd', top_biller_mtd)"
   ]
  },
  {
   "cell_type": "code",
   "execution_count": 0,
   "metadata": {
    "application/vnd.databricks.v1+cell": {
     "cellMetadata": {
      "byteLimit": 2048000,
      "rowLimit": 10000
     },
     "inputWidgets": {},
     "nuid": "201e96b2-d8b2-4cc6-9095-c75afdc68684",
     "showTitle": false,
     "title": ""
    },
    "tags": []
   },
   "outputs": [],
   "source": [
    "%%time\n",
    "if day == RUNDAY:\n",
    "\n",
    "    bills_mom = pd.read_sql(f'''\n",
    "        SELECT\n",
    "            LEFT(transaction_date, 7) AS month,\n",
    "            biller,\n",
    "            COUNT(*) AS biller_count\n",
    "        FROM\n",
    "            dwh_bills_only\n",
    "            where left(transaction_date, 7) < left(getdate(),7)\n",
    "            and transaction_status  = 'success'\n",
    "        GROUP BY 1,2\n",
    "        order by 1,2;\n",
    "                    ''', conn)\n",
    "    bills_mom\n",
    "\n",
    "    load_table('gold','bills_mom', bills_mom)    \n",
    "    \n",
    "else:\n",
    "    pass  \n"
   ]
  },
  {
   "cell_type": "code",
   "execution_count": 0,
   "metadata": {
    "application/vnd.databricks.v1+cell": {
     "cellMetadata": {
      "byteLimit": 2048000,
      "rowLimit": 10000
     },
     "inputWidgets": {},
     "nuid": "b9c3ca6c-a358-4508-9cd0-0b62b2517646",
     "showTitle": false,
     "title": ""
    },
    "tags": []
   },
   "outputs": [],
   "source": [
    "%%time\n",
    "bills_mtd = pd.read_sql(f'''\n",
    "    SELECT\n",
    "        CAST(LEFT(transaction_date, 10) AS DATE) AS Date,\n",
    "        biller,\n",
    "        COUNT(*) AS biller_count\n",
    "    FROM\n",
    "        dwh_bills_only\n",
    "        where left(transaction_date, 4) = left(getdate(),4)\n",
    "        and transaction_status  = 'success'\n",
    "    GROUP BY 1,2\n",
    "    order by 1,2;\n",
    "                ''', conn)\n",
    "bills_mtd\n",
    "load_table('gold','bills_mtd', bills_mtd)"
   ]
  },
  {
   "cell_type": "code",
   "execution_count": 0,
   "metadata": {
    "application/vnd.databricks.v1+cell": {
     "cellMetadata": {
      "byteLimit": 2048000,
      "rowLimit": 10000
     },
     "inputWidgets": {},
     "nuid": "1a591616-901e-4199-be2d-5fceca350f0d",
     "showTitle": false,
     "title": ""
    },
    "tags": []
   },
   "outputs": [],
   "source": [
    "%%time\n",
    "if day == RUNDAY:\n",
    "    airtime_mom = pd.read_sql(f'''\n",
    "        SELECT\n",
    "            LEFT(transaction_date, 7) AS month,\n",
    "            biller,\n",
    "            COUNT(*) AS biller_count\n",
    "        FROM\n",
    "            dwh_airtime_only dao \n",
    "            where left(transaction_date, 7) < left(getdate(),7)\n",
    "            and transaction_status  = 'success'\n",
    "        GROUP BY 1,2\n",
    "        order by 1,2;\n",
    "\n",
    "                    ''', conn)\n",
    "    airtime_mom\n",
    "\n",
    "    load_table('gold','airtime_mom',airtime_mom )    \n",
    "    \n",
    "else:\n",
    "    pass  "
   ]
  },
  {
   "cell_type": "code",
   "execution_count": 0,
   "metadata": {
    "application/vnd.databricks.v1+cell": {
     "cellMetadata": {
      "byteLimit": 2048000,
      "rowLimit": 10000
     },
     "inputWidgets": {},
     "nuid": "8b3f9c20-a495-4564-b0a2-5f42f875f660",
     "showTitle": false,
     "title": ""
    },
    "tags": []
   },
   "outputs": [],
   "source": [
    "%%time\n",
    "airtime_mtd = pd.read_sql(f'''\n",
    "    SELECT\n",
    "        CAST(LEFT(transaction_date, 10) AS DATE) AS Date,\n",
    "        biller,\n",
    "        COUNT(*) AS biller_count\n",
    "    FROM\n",
    "        dwh_airtime_only dao \n",
    "        where left(transaction_date, 4) = left(getdate(),4)\n",
    "        and transaction_status  = 'success'\n",
    "    GROUP BY 1,2\n",
    "    order by 1,2;\n",
    "\n",
    "                ''', conn)\n",
    "airtime_mtd\n",
    "load_table('gold','airtime_mtd', airtime_mtd)"
   ]
  },
  {
   "cell_type": "code",
   "execution_count": 0,
   "metadata": {
    "application/vnd.databricks.v1+cell": {
     "cellMetadata": {
      "byteLimit": 2048000,
      "rowLimit": 10000
     },
     "inputWidgets": {},
     "nuid": "131a5297-e187-4735-86cc-7f1cfe2076da",
     "showTitle": false,
     "title": ""
    },
    "tags": []
   },
   "outputs": [],
   "source": [
    "%%time\n",
    "purchased_bill = pd.read_sql(f'''\n",
    "select count(distinct client_id) as Purchase_Bill_Customers, GETDATE() AS Load_date\n",
    "from dwh_bills_only;\n",
    "                ''', conn)\n",
    "purchased_bill\n",
    "\n",
    "load_table('gold','purchased_bill',purchased_bill )"
   ]
  },
  {
   "cell_type": "code",
   "execution_count": 0,
   "metadata": {
    "application/vnd.databricks.v1+cell": {
     "cellMetadata": {
      "byteLimit": 2048000,
      "rowLimit": 10000
     },
     "inputWidgets": {},
     "nuid": "82d76aa9-0941-4dff-ad8f-7a5827c52960",
     "showTitle": false,
     "title": ""
    },
    "tags": []
   },
   "outputs": [],
   "source": [
    "%%time\n",
    "if day == RUNDAY:\n",
    "\n",
    "    airt_mom = pd.read_sql(f'''\n",
    "    select\n",
    "    left(transaction_date, 7) as month,\n",
    "    ISNULL(count(case when channel = 'MOBILE' then id end) , 0) as MOBILE_Airtime_Volume,\n",
    "    ISNULL(count(case when channel = 'USSD' then id end) , 0) as USSD_Airtime_Volume,\n",
    "    ISNULL(count(case when channel = 'CHATBOT' then id end) , 0) as CHATBOT_Airtime_Volume,\n",
    "    ISNULL(SUM(case when channel = 'MOBILE' then amount end) , 0) as MOBILE_Airtime_Value,\n",
    "    ISNULL(SUM(case when channel = 'USSD' then amount end) , 0) as USSD_Airtime_Value,\n",
    "    ISNULL(SUM(case when channel = 'CHATBOT' then amount end) , 0) as CHATBOT_Airtime_Value,\n",
    "    ISNULL(count(*) , 0) as Total_Volume,\n",
    "    ISNULL(sum(amount), 0) as Total_Value,\n",
    "    GETDATE() AS load_date\n",
    "    from dwh_airtime_only\n",
    "    where  left(transaction_date, 7) < LEFT(GETDATE(), 7)\n",
    "    and transaction_status = 'success'\n",
    "    and channel in ('MOBILE', 'USSD', 'CHATBOT')\n",
    "    GROUP BY 1\n",
    "    order by 1\n",
    "                    ''', conn)\n",
    "    airt_mom\n",
    "\n",
    "    load_table('gold','airt_mom', airt_mom)    \n",
    "    \n",
    "else:\n",
    "    pass  "
   ]
  },
  {
   "cell_type": "code",
   "execution_count": 0,
   "metadata": {
    "application/vnd.databricks.v1+cell": {
     "cellMetadata": {
      "byteLimit": 2048000,
      "rowLimit": 10000
     },
     "inputWidgets": {},
     "nuid": "8bdb8ad3-05ee-454e-bba3-fbe94ff5542a",
     "showTitle": false,
     "title": ""
    },
    "tags": []
   },
   "outputs": [],
   "source": [
    "%%time\n",
    "airt_mtd = pd.read_sql(f'''\n",
    "select\n",
    "CAST(left(transaction_date, 10) AS DATE) as Date,\n",
    "ISNULL(count(case when channel = 'MOBILE' then id end) , 0) as MOBILE_Airtime_Volume,\n",
    "ISNULL(count(case when channel = 'USSD' then id end) , 0) as USSD_Airtime_Volume,\n",
    "ISNULL(count(case when channel = 'CHATBOT' then id end) , 0) as CHATBOT_Airtime_Volume,\n",
    "ISNULL(SUM(case when channel = 'MOBILE' then amount end) , 0) as MOBILE_Airtime_Value,\n",
    "ISNULL(SUM(case when channel = 'USSD' then amount end) , 0) as USSD_Airtime_Value,\n",
    "ISNULL(SUM(case when channel = 'CHATBOT' then amount end) , 0) as CHATBOT_Airtime_Value,\n",
    "ISNULL(count(*) , 0) as Total_Volume,\n",
    "ISNULL(sum(amount), 0) as Total_Value,\n",
    "GETDATE() AS load_date\n",
    "from dwh_airtime_only\n",
    "where  left(transaction_date, 4) = LEFT(GETDATE(), 4)\n",
    "and transaction_status = 'success'\n",
    "and channel in ('MOBILE', 'USSD', 'CHATBOT')\n",
    "GROUP BY 1\n",
    "order by 1\n",
    "                ''', conn)\n",
    "airt_mtd\n",
    "load_table('gold','airt_mtd',airt_mtd )"
   ]
  },
  {
   "cell_type": "code",
   "execution_count": 0,
   "metadata": {
    "application/vnd.databricks.v1+cell": {
     "cellMetadata": {
      "byteLimit": 2048000,
      "rowLimit": 10000
     },
     "inputWidgets": {},
     "nuid": "68fcba73-0063-4a56-95c6-eaa500bd7b78",
     "showTitle": false,
     "title": ""
    },
    "tags": []
   },
   "outputs": [],
   "source": [
    "%%time\n",
    "if day == RUNDAY:\n",
    "    top_airt_mom = pd.read_sql(f'''\n",
    "        WITH monthly_counts AS (\n",
    "            SELECT\n",
    "                DATE_TRUNC('month', transaction_date) AS month,\n",
    "                biller,\n",
    "                COUNT(*) AS biller_count\n",
    "            FROM\n",
    "                dwh_airtime_only\n",
    "                where left(transaction_date, 7) < LEFT(GETDATE(), 7)\n",
    "                and transaction_status  = 'success'\n",
    "            GROUP BY\n",
    "                month,\n",
    "                biller\n",
    "        )\n",
    "\n",
    "        SELECT\n",
    "            month,\n",
    "            biller,\n",
    "            biller_count,\n",
    "            GETDATE() AS load_date\n",
    "        FROM (\n",
    "            SELECT\n",
    "                month,\n",
    "                biller,\n",
    "                biller_count,\n",
    "                RANK() OVER (PARTITION BY month ORDER BY biller_count DESC) AS ranking\n",
    "            FROM\n",
    "                monthly_counts\n",
    "        ) ranked_counts\n",
    "        WHERE\n",
    "            ranking = 1\n",
    "        ORDER BY\n",
    "            month, ranking;\n",
    "                        ''', conn)\n",
    "    top_airt_mom\n",
    "\n",
    "    load_table('gold','top_airt_mom', top_airt_mom)    \n",
    "    \n",
    "else:\n",
    "    pass "
   ]
  },
  {
   "cell_type": "code",
   "execution_count": 0,
   "metadata": {
    "application/vnd.databricks.v1+cell": {
     "cellMetadata": {
      "byteLimit": 2048000,
      "rowLimit": 10000
     },
     "inputWidgets": {},
     "nuid": "ae1fbb2f-c5dc-4ab1-95d9-22258a93d6d7",
     "showTitle": false,
     "title": ""
    },
    "tags": []
   },
   "outputs": [],
   "source": [
    "%%time\n",
    "top_airt_mtd = pd.read_sql(f'''\n",
    "WITH daily_counts AS (\n",
    "    SELECT\n",
    "        DATE_TRUNC('day', transaction_date) AS Date,\n",
    "        biller,\n",
    "        COUNT(*) AS biller_count\n",
    "    FROM\n",
    "        dwh_airtime_only\n",
    "        where left(transaction_date, 4) = LEFT(getdate() ,4)\n",
    "        and transaction_status  = 'success'\n",
    "    GROUP BY\n",
    "        Date,\n",
    "        biller\n",
    ")\n",
    "\n",
    "SELECT\n",
    "    Date,\n",
    "    biller,\n",
    "    biller_count,\n",
    "    GETDATE() AS load_date\n",
    "FROM (\n",
    "    SELECT\n",
    "        Date,\n",
    "        biller,\n",
    "        biller_count,\n",
    "        RANK() OVER (PARTITION BY Date ORDER BY biller_count DESC) AS ranking\n",
    "    FROM\n",
    "        daily_counts\n",
    ") ranked_counts\n",
    "WHERE\n",
    "    ranking = 1\n",
    "ORDER BY\n",
    "    Date, ranking;\n",
    "                ''', conn)\n",
    "top_airt_mtd\n",
    "\n",
    "load_table('gold','top_airt_mtd', top_airt_mtd)"
   ]
  },
  {
   "cell_type": "code",
   "execution_count": 0,
   "metadata": {
    "application/vnd.databricks.v1+cell": {
     "cellMetadata": {
      "byteLimit": 2048000,
      "rowLimit": 10000
     },
     "inputWidgets": {},
     "nuid": "1251d677-fb92-43a1-a00f-fa5f64c8b24d",
     "showTitle": false,
     "title": ""
    },
    "tags": []
   },
   "outputs": [],
   "source": [
    "%%time\n",
    "purchased_airtime = pd.read_sql(f'''\n",
    "select count(distinct client_id) as Purchase_Airtime, GETDATE() AS Load_date\n",
    "from dwh_airtime_only;\n",
    "                ''', conn)\n",
    "purchased_airtime\n",
    "load_table('gold','purchased_airtime', purchased_airtime)"
   ]
  },
  {
   "cell_type": "code",
   "execution_count": 0,
   "metadata": {
    "application/vnd.databricks.v1+cell": {
     "cellMetadata": {
      "byteLimit": 2048000,
      "rowLimit": 10000
     },
     "inputWidgets": {},
     "nuid": "5bfead71-5690-4d32-9049-7c05e1abec82",
     "showTitle": false,
     "title": ""
    },
    "tags": []
   },
   "outputs": [],
   "source": [
    "%%time\n",
    "if day == RUNDAY:\n",
    "    df_card_mom = pd.read_sql(f'''\n",
    "    SELECT LEFT(TVT.LOCAL_TRANSACTION_TIME,7) AS Month, \n",
    "    IFNULL(COUNT(CASE WHEN TVT.TRANSACTION_TYPE = 'cashWithdrawal'  THEN TRANSACTION_TYPE END) ,0) AS ATM_Wdl_Volume,\n",
    "    IFNULL(SUM(CASE WHEN TVT.TRANSACTION_TYPE = 'cashWithdrawal'  THEN TVT.AMOUNT END) ,0) AS ATM_Wdl_Value,\n",
    "    IFNULL(COUNT(CASE WHEN TVT.TRANSACTION_TYPE = 'debitGoodsAndServices'  THEN TRANSACTION_TYPE END) ,0) AS POS_Volume,\n",
    "    IFNULL(SUM(CASE WHEN TVT.TRANSACTION_TYPE = 'debitGoodsAndServices'  THEN TVT.AMOUNT END),0) AS POS_Value,\n",
    "    IFNULL(COUNT(CASE WHEN TVT.TRANSACTION_TYPE = 'paymentFromAccount' THEN TRANSACTION_TYPE END),0) AS Web_payment_volume,\n",
    "    IFNULL(SUM(CASE WHEN TVT.TRANSACTION_TYPE = 'paymentFromAccount'  THEN TVT.AMOUNT END),0) AS Web_payment_Value,\n",
    "    IFNULL(COUNT(CASE WHEN TVT.TRANSACTION_TYPE = 'accountTransfer'  THEN TRANSACTION_TYPE END),0) AS ATM_Transfer_volume,\n",
    "    IFNULL(SUM(CASE WHEN TVT.TRANSACTION_TYPE = 'accountTransfer'   THEN TVT.AMOUNT END),0) AS ATM_Transfer_Value,\n",
    "    IFNULL(COUNT(*),0) AS Total_Cards_Volume, \n",
    "    IFNULL(SUM(TVT.AMOUNT),0) AS Total_Card_Value,\n",
    "    NOW() AS load_date\n",
    "    FROM TM_VERVE_TRANSACTIONS TVT \n",
    "    WHERE TVT.TRANSACTION_STATUS = 'success'\n",
    "    AND LEFT(TVT.LOCAL_TRANSACTION_TIME,7) < LEFT(NOW(), 7)\n",
    "    GROUP BY 1\n",
    "    ORDER BY 1;\n",
    "                    ''', Dumpdb)\n",
    "    df_card_mom\n",
    "\n",
    "\n",
    "    load_table('gold','df_card_mom', df_card_mom)    \n",
    "    \n",
    "else:\n",
    "    pass"
   ]
  },
  {
   "cell_type": "code",
   "execution_count": 0,
   "metadata": {
    "application/vnd.databricks.v1+cell": {
     "cellMetadata": {
      "byteLimit": 2048000,
      "rowLimit": 10000
     },
     "inputWidgets": {},
     "nuid": "dcfe4c97-9278-4d3b-96b7-34258db6c5db",
     "showTitle": false,
     "title": ""
    },
    "tags": []
   },
   "outputs": [],
   "source": [
    "%%time\n",
    "df_card_mtd = pd.read_sql(f'''\n",
    "SELECT CAST(LEFT(TVT.LOCAL_TRANSACTION_TIME,10) AS DATE) AS Date, \n",
    "IFNULL(COUNT(CASE WHEN TVT.TRANSACTION_TYPE = 'cashWithdrawal'  THEN TRANSACTION_TYPE END) ,0) AS ATM_Wdl_Volume,\n",
    "IFNULL(SUM(CASE WHEN TVT.TRANSACTION_TYPE = 'cashWithdrawal'  THEN TVT.AMOUNT END) ,0) AS ATM_Wdl_Value,\n",
    "IFNULL(COUNT(CASE WHEN TVT.TRANSACTION_TYPE = 'debitGoodsAndServices'  THEN TRANSACTION_TYPE END) ,0) AS POS_Volume,\n",
    "IFNULL(SUM(CASE WHEN TVT.TRANSACTION_TYPE = 'debitGoodsAndServices'  THEN TVT.AMOUNT END),0) AS POS_Value,\n",
    "IFNULL(COUNT(CASE WHEN TVT.TRANSACTION_TYPE = 'paymentFromAccount' THEN TRANSACTION_TYPE END),0) AS Web_payment_volume,\n",
    "IFNULL(SUM(CASE WHEN TVT.TRANSACTION_TYPE = 'paymentFromAccount'  THEN TVT.AMOUNT END),0) AS Web_payment_Value,\n",
    "IFNULL(COUNT(CASE WHEN TVT.TRANSACTION_TYPE = 'accountTransfer'  THEN TRANSACTION_TYPE END),0) AS ATM_Transfer_volume,\n",
    "IFNULL(SUM(CASE WHEN TVT.TRANSACTION_TYPE = 'accountTransfer'   THEN TVT.AMOUNT END),0) AS ATM_Transfer_Value,\n",
    "IFNULL(COUNT(*),0) AS Total_Cards_Volume, \n",
    "IFNULL(SUM(TVT.AMOUNT),0) AS Total_Card_Value,\n",
    "NOW() AS load_date\n",
    "FROM TM_VERVE_TRANSACTIONS TVT \n",
    "WHERE TVT.TRANSACTION_STATUS = 'success'\n",
    "AND LEFT(TVT.LOCAL_TRANSACTION_TIME,4) = LEFT(NOW(), 4)\n",
    "GROUP BY 1\n",
    "ORDER BY 1;\n",
    "                ''', Dumpdb)\n",
    "df_card_mtd\n",
    "\n",
    "load_table('gold','df_card_mtd', df_card_mtd)"
   ]
  },
  {
   "cell_type": "code",
   "execution_count": 0,
   "metadata": {
    "application/vnd.databricks.v1+cell": {
     "cellMetadata": {
      "byteLimit": 2048000,
      "rowLimit": 10000
     },
     "inputWidgets": {},
     "nuid": "70f5567c-cc29-4efb-9ad0-dbde854a773d",
     "showTitle": false,
     "title": ""
    },
    "tags": []
   },
   "outputs": [],
   "source": [
    "%%time\n",
    "if day == RUNDAY:\n",
    "    phy_crd_issue_mom = pd.read_sql(f'''\n",
    "    SELECT LEFT(CPAM.DATE_CREATED, 7) AS Month, \n",
    "    COUNT(*) AS Physical_Card_Issuance,\n",
    "    NOW() AS load_date\n",
    "    FROM CM_PAN_ACCOUNT_MAPPER CPAM\n",
    "    WHERE LEFT(CPAM.DATE_CREATED, 7) < LEFT(NOW(),7)\n",
    "    GROUP BY 1\n",
    "    ORDER BY 1;\n",
    "                    ''', Dumpdb)\n",
    "    phy_crd_issue_mom\n",
    "\n",
    "    load_table('gold','phy_crd_issue_mom', phy_crd_issue_mom)    \n",
    "    \n",
    "else:\n",
    "    pass  "
   ]
  },
  {
   "cell_type": "code",
   "execution_count": 0,
   "metadata": {
    "application/vnd.databricks.v1+cell": {
     "cellMetadata": {
      "byteLimit": 2048000,
      "rowLimit": 10000
     },
     "inputWidgets": {},
     "nuid": "7b519af6-ae57-4f2f-a429-d2f1ff982b83",
     "showTitle": false,
     "title": ""
    },
    "tags": []
   },
   "outputs": [],
   "source": [
    "%%time\n",
    "phy_crd_issue_mtd = pd.read_sql(f'''\n",
    "SELECT CAST(LEFT(CPAM.DATE_CREATED, 10) AS DATE) AS Date, \n",
    "COUNT(*) AS Physical_Card_Issuance,\n",
    "NOW() AS load_date\n",
    "FROM CM_PAN_ACCOUNT_MAPPER CPAM\n",
    "WHERE LEFT(CPAM.DATE_CREATED, 4) = LEFT(NOW(),4)\n",
    "GROUP BY 1\n",
    "ORDER BY 1;\n",
    "                ''', Dumpdb)\n",
    "phy_crd_issue_mtd\n",
    "load_table('gold','phy_crd_issue_mtd', phy_crd_issue_mtd)"
   ]
  },
  {
   "cell_type": "code",
   "execution_count": 0,
   "metadata": {
    "application/vnd.databricks.v1+cell": {
     "cellMetadata": {
      "byteLimit": 2048000,
      "rowLimit": 10000
     },
     "inputWidgets": {},
     "nuid": "1323d489-edc2-47e3-b08c-e1ab87ef6c71",
     "showTitle": false,
     "title": ""
    },
    "tags": []
   },
   "outputs": [],
   "source": [
    "%%time\n",
    "if day == RUNDAY:\n",
    "    card_status_mom = pd.read_sql(f'''\n",
    "    SELECT LEFT(CVD.DATE_CREATED, 7) AS Month,\n",
    "    IFNULL(COUNT(case when CVD.PAN_TYPE = 'PHYSICAL' THEN CVD.ID END) ,0) AS Total_Physical,\n",
    "    IFNULL(COUNT(case when CVD.PAN_TYPE = 'VIRTUAL' THEN CVD.ID END) ,0) AS Total_Virtual,\n",
    "    IFNULL(COUNT(case when CVD.C_STATUS = 'ACTIVE' THEN CVD.ID END) ,0) AS Total_ACTIVE,\n",
    "    IFNULL(COUNT(case when CVD.C_STATUS = 'EXPIRED' THEN CVD.ID END) ,0) AS Total_EXPIRED,\n",
    "    IFNULL(COUNT(case when CVD.C_STATUS = 'BLOCKED' THEN CVD.ID END) ,0) AS Total_BLOCKED,\n",
    "    NOW() AS load_date\n",
    "    FROM CM_VERVE_DETAILS CVD\n",
    "    WHERE LEFT(CVD.DATE_CREATED, 7) < LEFT(NOW(), 7)\n",
    "    GROUP BY 1\n",
    "    ORDER BY 1;\n",
    "                    ''', Dumpdb)\n",
    "    card_status_mom\n",
    "\n",
    "    load_table('gold','card_status_mom', card_status_mom)    \n",
    "    \n",
    "else:\n",
    "    pass  "
   ]
  },
  {
   "cell_type": "code",
   "execution_count": 0,
   "metadata": {
    "application/vnd.databricks.v1+cell": {
     "cellMetadata": {
      "byteLimit": 2048000,
      "rowLimit": 10000
     },
     "inputWidgets": {},
     "nuid": "03ea1e9d-b03f-465a-9a6b-a5b22dbeb3e4",
     "showTitle": false,
     "title": ""
    },
    "tags": []
   },
   "outputs": [],
   "source": [
    "%%time\n",
    "card_status_mtd = pd.read_sql(f'''\n",
    "SELECT \n",
    "CAST(LEFT(CVD.DATE_CREATED, 10) AS DATE) AS Date,\n",
    "IFNULL(COUNT(case when CVD.PAN_TYPE = 'PHYSICAL' THEN CVD.ID END) ,0) AS Total_Physical,\n",
    "IFNULL(COUNT(case when CVD.PAN_TYPE = 'VIRTUAL' THEN CVD.ID END) ,0) AS Total_Virtual,\n",
    "IFNULL(COUNT(case when CVD.C_STATUS = 'ACTIVE' THEN CVD.ID END) ,0) AS Total_ACTIVE,\n",
    "IFNULL(COUNT(case when CVD.C_STATUS = 'EXPIRED' THEN CVD.ID END) ,0) AS Total_EXPIRED,\n",
    "IFNULL(COUNT(case when CVD.C_STATUS = 'BLOCKED' THEN CVD.ID END) ,0) AS Total_BLOCKED,\n",
    "NOW() AS load_date\n",
    "FROM CM_VERVE_DETAILS CVD\n",
    "WHERE LEFT(CVD.DATE_CREATED, 4) = LEFT(NOW(), 4)\n",
    "GROUP BY 1\n",
    "ORDER BY 1;\n",
    "                ''', Dumpdb)\n",
    "card_status_mtd\n",
    "load_table('gold','card_status_mtd', card_status_mtd)"
   ]
  },
  {
   "cell_type": "code",
   "execution_count": 0,
   "metadata": {
    "application/vnd.databricks.v1+cell": {
     "cellMetadata": {
      "byteLimit": 2048000,
      "rowLimit": 10000
     },
     "inputWidgets": {},
     "nuid": "8a4ad891-21a7-40d7-b982-57bcff71f21e",
     "showTitle": false,
     "title": ""
    },
    "tags": []
   },
   "outputs": [],
   "source": [
    "%%time\n",
    "card_to_expire = pd.read_sql(f'''\n",
    "SELECT CAST(CVD.EXPIRY_DATE AS SIGNED) as EXPIRY_DATE, \n",
    "COUNT(*) AS Cards_To_Expire,\n",
    "NOW() AS load_date\n",
    "FROM CM_VERVE_DETAILS CVD\n",
    "WHERE left(CVD.EXPIRY_DATE,2) = SUBSTRING(CURRENT_DATE(), 3,2)\n",
    "GROUP BY 1\n",
    "ORDER BY 1;\n",
    "                ''', Dumpdb)\n",
    "card_to_expire\n",
    "load_table('gold','card_to_expire', card_to_expire)"
   ]
  },
  {
   "cell_type": "code",
   "execution_count": 0,
   "metadata": {
    "application/vnd.databricks.v1+cell": {
     "cellMetadata": {
      "byteLimit": 2048000,
      "rowLimit": 10000
     },
     "inputWidgets": {},
     "nuid": "a3ac02b2-3551-4ad5-b73b-2425c7c12f42",
     "showTitle": false,
     "title": ""
    },
    "tags": []
   },
   "outputs": [],
   "source": [
    "%%time\n",
    "if day == RUNDAY:\n",
    "    Retail_Accounts_MoM = pd.read_sql(f'''\n",
    "    SELECT LEFT(msa.approvedon_date,7) AS Month, \n",
    "    msp.name AS Account_Product, \n",
    "    COUNT(msa.id) AS No_Accounts,\n",
    "    NOW() as load_date\n",
    "    FROM m_savings_account msa\n",
    "    LEFT JOIN m_client mc ON mc.id = msa.client_id\n",
    "    LEFT JOIN m_savings_product msp ON msp.id = msa.product_id\n",
    "    WHERE msa.product_id IN (24,30,33)\n",
    "    AND LEFT(msa.approvedon_date,7) < LEFT(NOW(),7)\n",
    "    GROUP BY 2,1\n",
    "    ORDER BY 2,1;\n",
    "    ''', Mifosdb)\n",
    "    Retail_Accounts_MoM\n",
    "\n",
    "\n",
    "    load_table('gold','Retail_Accounts_MoM', Retail_Accounts_MoM)    \n",
    "    \n",
    "else:\n",
    "    pass  "
   ]
  },
  {
   "cell_type": "code",
   "execution_count": 0,
   "metadata": {
    "application/vnd.databricks.v1+cell": {
     "cellMetadata": {
      "byteLimit": 2048000,
      "rowLimit": 10000
     },
     "inputWidgets": {},
     "nuid": "89868cd7-31e7-4c01-be5a-ce69a6a9b617",
     "showTitle": false,
     "title": ""
    },
    "tags": []
   },
   "outputs": [],
   "source": [
    "%%time\n",
    "Retail_Accounts_MTD = pd.read_sql(f'''\n",
    "SELECT CAST(LEFT(msa.approvedon_date,10) AS DATE) AS Date, \n",
    "msp.name AS Account_Product, \n",
    "COUNT(msa.id) AS No_Accounts,\n",
    "NOW() as load_date\n",
    "FROM m_savings_account msa\n",
    "LEFT JOIN m_client mc ON mc.id = msa.client_id\n",
    "LEFT JOIN m_savings_product msp ON msp.id = msa.product_id\n",
    "WHERE msa.product_id IN (24,30,33)\n",
    "AND LEFT(msa.approvedon_date,4) < LEFT(NOW(),4)\n",
    "GROUP BY 2,1\n",
    "ORDER BY 2,1;\n",
    "''', Mifosdb)\n",
    "Retail_Accounts_MTD\n",
    "\n",
    "load_table('gold','Retail_Accounts_MTD', Retail_Accounts_MTD)"
   ]
  },
  {
   "cell_type": "code",
   "execution_count": 0,
   "metadata": {
    "application/vnd.databricks.v1+cell": {
     "cellMetadata": {
      "byteLimit": 2048000,
      "rowLimit": 10000
     },
     "inputWidgets": {},
     "nuid": "d057779d-ad88-4259-9128-f7a2379d4a05",
     "showTitle": false,
     "title": ""
    }
   },
   "outputs": [],
   "source": [
    "%%time\n",
    "if day == RUNDAY:\n",
    "    lux_pos_trxn_mom = pd.read_sql(f'''\n",
    "    SELECT  \n",
    "    LEFT(LMT.TRANSACTION_TIME, 7) AS Month,\n",
    "    COUNT(case when LMT.STATUS_CODE = '00' then LMT.ID END) AS POS_Success_Volume,\n",
    "    COUNT(case when LMT.STATUS_CODE != '00' then LMT.ID END) AS POS_Failed_Volume,\n",
    "    SUM( case when LMT.STATUS_CODE = '00' then LMT.AMOUNT END) AS POS_Success_Value,\n",
    "    SUM( case when LMT.STATUS_CODE != '00' then LMT.AMOUNT END) AS POS_Failed_Value,\n",
    "    NOW() AS load_date\n",
    "    FROM LUX_MERCHANT_TRANSACTIONS LMT\n",
    "    WHERE LEFT(LMT.TRANSACTION_TIME, 7) < LEFT(NOW(), 7)\n",
    "    group BY 1\n",
    "    ORDER BY 1;\n",
    "                    ''', Dumpdb)\n",
    "    lux_pos_trxn_mom\n",
    "\n",
    "\n",
    "    load_table('gold','lux_pos_trxn_mom', lux_pos_trxn_mom)    \n",
    "    \n",
    "else:\n",
    "    pass "
   ]
  },
  {
   "cell_type": "code",
   "execution_count": 0,
   "metadata": {
    "application/vnd.databricks.v1+cell": {
     "cellMetadata": {
      "byteLimit": 2048000,
      "rowLimit": 10000
     },
     "inputWidgets": {},
     "nuid": "3faf3a6c-be4f-46fa-9237-6fbbb8b4224d",
     "showTitle": false,
     "title": ""
    },
    "tags": []
   },
   "outputs": [],
   "source": [
    "%%time\n",
    "lux_pos_trxn_mtd = pd.read_sql(f'''\n",
    "SELECT  \n",
    "LEFT(LMT.TRANSACTION_TIME, 10) AS Date,\n",
    "COUNT(case when LMT.STATUS_CODE = '00' then LMT.ID END) AS POS_Success_Volume,\n",
    "COUNT(case when LMT.STATUS_CODE != '00' then LMT.ID END) AS POS_Failed_Volume,\n",
    "SUM( case when LMT.STATUS_CODE = '00' then LMT.AMOUNT END) AS POS_Success_Value,\n",
    "SUM( case when LMT.STATUS_CODE != '00' then LMT.AMOUNT END) AS POS_Failed_Value,\n",
    "NOW() AS load_date\n",
    "FROM LUX_MERCHANT_TRANSACTIONS LMT\n",
    "WHERE LEFT(LMT.TRANSACTION_TIME, 4) = LEFT(NOW(), 4)\n",
    "group BY 1\n",
    "ORDER BY 1;\n",
    "                ''', Dumpdb)\n",
    "lux_pos_trxn_mtd\n",
    "load_table('gold','lux_pos_trxn_mtd', lux_pos_trxn_mtd)"
   ]
  },
  {
   "cell_type": "code",
   "execution_count": 0,
   "metadata": {
    "application/vnd.databricks.v1+cell": {
     "cellMetadata": {
      "byteLimit": 2048000,
      "rowLimit": 10000
     },
     "inputWidgets": {},
     "nuid": "eb84caa5-9b0b-4ec5-925c-34f1e7432e76",
     "showTitle": false,
     "title": ""
    },
    "tags": []
   },
   "outputs": [],
   "source": [
    "%%time\n",
    "if day == RUNDAY:\n",
    "    vpay_trxn_mom = pd.read_sql(f'''\n",
    "    SELECT \n",
    "    left(tw.TIME, 7) AS Month,\n",
    "    count(tw.TRANSACTION_ID) as Vpay_Volume,\n",
    "    sum(tw.AMOUNT) AS Vpay_Value,\n",
    "    NOW() AS load_date\n",
    "    FROM TM_WALLET_TRANSACTIONS tw\n",
    "    WHERE tw.WALLET_NAME LIKE '%vpos%'\n",
    "    and left(tw.TIME, 7) < LEFT(NOW(), 7)\n",
    "    GROUP BY 1\n",
    "    ORDER BY 1;\n",
    "                    ''', Dumpdb)\n",
    "    vpay_trxn_mom\n",
    "\n",
    "    load_table('gold','vpay_trxn_mom', vpay_trxn_mom)    \n",
    "    \n",
    "else:\n",
    "    pass  "
   ]
  },
  {
   "cell_type": "code",
   "execution_count": 0,
   "metadata": {
    "application/vnd.databricks.v1+cell": {
     "cellMetadata": {
      "byteLimit": 2048000,
      "rowLimit": 10000
     },
     "inputWidgets": {},
     "nuid": "b98ecda9-a87b-449c-9040-d8838a943e17",
     "showTitle": false,
     "title": ""
    },
    "tags": []
   },
   "outputs": [],
   "source": [
    "%%time\n",
    "vpay_trxn_mtd = pd.read_sql(f'''\n",
    "SELECT \n",
    "left(tw.TIME, 10) AS Month,\n",
    "count(tw.TRANSACTION_ID) as Vpay_Volume,\n",
    "sum(tw.AMOUNT) AS Vpay_Value,\n",
    "NOW() AS load_date\n",
    "FROM TM_WALLET_TRANSACTIONS tw\n",
    "WHERE tw.WALLET_NAME LIKE '%vpos%'\n",
    "and left(tw.TIME, 4) = LEFT(NOW(), 4)\n",
    "GROUP BY 1\n",
    "ORDER BY 1;\n",
    "                ''', Dumpdb)\n",
    "vpay_trxn_mtd\n",
    "load_table('gold','vpay_trxn_mtd', vpay_trxn_mtd)"
   ]
  },
  {
   "cell_type": "code",
   "execution_count": 0,
   "metadata": {
    "application/vnd.databricks.v1+cell": {
     "cellMetadata": {
      "byteLimit": 2048000,
      "rowLimit": 10000
     },
     "inputWidgets": {},
     "nuid": "20ccbae7-1734-4a32-8ad1-4d46ffa128d0",
     "showTitle": false,
     "title": ""
    },
    "tags": []
   },
   "outputs": [],
   "source": [
    "%%time\n",
    "if day == RUNDAY:\n",
    "    fd_corporate_mom = pd.read_sql(f'''\n",
    "    SELECT LEFT(st.transaction_date, 7) AS Month, \n",
    "    sum(st.amount) AS Corporate_FD_Amount,\n",
    "    NOW() AS load_date\n",
    "    from m_savings_account_transaction st\n",
    "    inner join m_savings_account msa on msa.id =st.savings_account_id\n",
    "    inner join m_savings_product msp on msp.id=msa.product_id\n",
    "    left join m_client cl on cl.id=msa.client_id\n",
    "    where st.is_reversed=0\n",
    "    AND msa.product_id = '36'\n",
    "    AND st.transaction_type_enum = 1\n",
    "    and LEFT(st.transaction_date, 7) < LEFT(NOW(), 7)\n",
    "    AND cl.id IN (\n",
    "        SELECT DISTINCT msa.client_id\n",
    "        FROM m_savings_account msa\n",
    "        WHERE msa.product_id = '26'\n",
    "    )\n",
    "    GROUP BY 1\n",
    "    ORDER BY 1;\n",
    "                    ''', Mifosdb)\n",
    "    fd_corporate_mom\n",
    "\n",
    "\n",
    "    load_table('gold','fd_corporate_mom', fd_corporate_mom)    \n",
    "    \n",
    "else:\n",
    "    pass "
   ]
  },
  {
   "cell_type": "code",
   "execution_count": 0,
   "metadata": {
    "application/vnd.databricks.v1+cell": {
     "cellMetadata": {
      "byteLimit": 2048000,
      "rowLimit": 10000
     },
     "inputWidgets": {},
     "nuid": "3325d7f0-18e7-4b02-8a00-e14c1ca9b3ad",
     "showTitle": false,
     "title": ""
    },
    "tags": []
   },
   "outputs": [],
   "source": [
    "%%time\n",
    "fd_corporate_mtd = pd.read_sql(f'''\n",
    "SELECT CAST(LEFT(st.transaction_date, 10) AS DATE) AS Date, \n",
    "sum(st.amount) AS Corporate_FD_Amount,\n",
    "NOW() AS load_date\n",
    "from m_savings_account_transaction st\n",
    "inner join m_savings_account msa on msa.id =st.savings_account_id\n",
    "inner join m_savings_product msp on msp.id=msa.product_id\n",
    "left join m_client cl on cl.id=msa.client_id\n",
    "where st.is_reversed=0\n",
    "AND msa.product_id = '36'\n",
    "AND st.transaction_type_enum = 1\n",
    "and LEFT(st.transaction_date, 4) = LEFT(NOW(), 4)\n",
    "AND cl.id IN (\n",
    "\tSELECT DISTINCT msa.client_id\n",
    "\tFROM m_savings_account msa\n",
    "\tWHERE msa.product_id = '26'\n",
    ")\n",
    "GROUP BY 1\n",
    "ORDER BY 1;\n",
    "                ''', Mifosdb)\n",
    "fd_corporate_mtd\n",
    "load_table('gold','fd_corporate_mtd', fd_corporate_mtd)"
   ]
  },
  {
   "cell_type": "code",
   "execution_count": 0,
   "metadata": {
    "application/vnd.databricks.v1+cell": {
     "cellMetadata": {
      "byteLimit": 2048000,
      "rowLimit": 10000
     },
     "inputWidgets": {},
     "nuid": "901dfb70-04f4-4d77-9d84-0c47d9757e4b",
     "showTitle": false,
     "title": ""
    },
    "tags": []
   },
   "outputs": [],
   "source": [
    "%%time\n",
    "if day == RUNDAY:\n",
    "    fd_retail_mom = pd.read_sql(f'''\n",
    "    SELECT LEFT(st.transaction_date, 7) AS Month, \n",
    "    sum(st.amount) AS Retail_FD_Amount,\n",
    "    NOW() AS load_date\n",
    "    from m_savings_account_transaction st\n",
    "    inner join m_savings_account msa on msa.id =st.savings_account_id\n",
    "    inner join m_savings_product msp on msp.id=msa.product_id\n",
    "    left join m_client cl on cl.id=msa.client_id\n",
    "    where st.is_reversed=0\n",
    "    AND msa.product_id = '36'\n",
    "    AND st.transaction_type_enum = 1\n",
    "    and LEFT(st.transaction_date, 7) < LEFT(NOW(), 7)\n",
    "    AND cl.id IN (\n",
    "        SELECT DISTINCT msa.client_id\n",
    "        FROM m_savings_account msa\n",
    "        WHERE msa.product_id IN ('29', '31', '33')\n",
    "    )\n",
    "    GROUP BY 1\n",
    "    ORDER BY 1;\n",
    "                    ''', Mifosdb)\n",
    "    fd_retail_mom\n",
    "\n",
    "    load_table('gold','fd_retail_mom', fd_retail_mom)    \n",
    "    \n",
    "else:\n",
    "    pass  "
   ]
  },
  {
   "cell_type": "code",
   "execution_count": 0,
   "metadata": {
    "application/vnd.databricks.v1+cell": {
     "cellMetadata": {
      "byteLimit": 2048000,
      "rowLimit": 10000
     },
     "inputWidgets": {},
     "nuid": "f26cc46d-f646-42d1-8a79-835b105c7f22",
     "showTitle": false,
     "title": ""
    },
    "tags": []
   },
   "outputs": [],
   "source": [
    "%%time\n",
    "fd_retail_mtd = pd.read_sql(f'''\n",
    "SELECT CAST(LEFT(st.transaction_date, 10) AS DATE) AS Date, \n",
    "sum(st.amount) AS Retail_FD_Amount,\n",
    "NOW() AS load_date\n",
    "from m_savings_account_transaction st\n",
    "inner join m_savings_account msa on msa.id =st.savings_account_id\n",
    "inner join m_savings_product msp on msp.id=msa.product_id\n",
    "left join m_client cl on cl.id=msa.client_id\n",
    "where st.is_reversed=0\n",
    "AND msa.product_id = '36'\n",
    "AND st.transaction_type_enum = 1\n",
    "and LEFT(st.transaction_date, 4) = LEFT(NOW(), 4)\n",
    "AND cl.id IN (\n",
    "\tSELECT DISTINCT msa.client_id\n",
    "\tFROM m_savings_account msa\n",
    "\tWHERE msa.product_id IN ('29', '31', '33')\n",
    ")\n",
    "GROUP BY 1\n",
    "ORDER BY 1;\n",
    "                ''', Mifosdb)\n",
    "fd_retail_mtd\n",
    "\n",
    "load_table('gold','fd_retail_mtd', fd_retail_mtd)"
   ]
  },
  {
   "cell_type": "code",
   "execution_count": 0,
   "metadata": {
    "application/vnd.databricks.v1+cell": {
     "cellMetadata": {
      "byteLimit": 2048000,
      "rowLimit": 10000
     },
     "inputWidgets": {},
     "nuid": "465b8fda-2e83-4e02-820d-7bff19e8614f",
     "showTitle": false,
     "title": ""
    }
   },
   "outputs": [],
   "source": [
    "%%time\n",
    "if day == RUNDAY:\n",
    "    account_product_trxn_mom = pd.read_sql(f'''\n",
    "    select left(dat.transaction_date,7) as month, \n",
    "    dat.product_name, \n",
    "    isnull(count(case when channel = 'MOBILE' then dat.transaction_id end) ,0) as Mobile_Volume,\n",
    "    isnull(count(case when channel = 'USSD' then dat.transaction_id end) ,0) as USSD_Volume,\n",
    "    isnull(count(case when channel = 'CHATBOT' then dat.transaction_id end) ,0) as CHATBOT_Volume,\n",
    "    isnull(SUM(case when channel = 'MOBILE' then dat.amount  end) ,0) as Mobile_Value,\n",
    "    isnull(SUM(case when channel = 'USSD' then dat.amount  end) ,0) as USSD_Value,\n",
    "    isnull(SUM(case when channel = 'CHATBOT' then dat.amount  end) ,0) as CHATBOT_Value,\n",
    "    isnull(count(*) ,0) as Transaction_Count, \n",
    "    isnull(sum(dat.amount) ,0) as Transaction_Value,\n",
    "    GETDATE() as load_date\n",
    "    from dwh_all_transactions dat \n",
    "    where left(dat.transaction_date,7) < LEFT(GETDATE(), 7) \n",
    "    and dat.transaction_type  = 'withdrawal'\n",
    "    and channel in ('MOBILE', 'USSD', 'CHATBOT')\n",
    "    and response_code in ('00', '201', '200', '9000')\n",
    "    group by 2,1\n",
    "    order by 2, 1;\n",
    "                    ''', conn)\n",
    "    account_product_trxn_mom\n",
    "\n",
    "\n",
    "    load_table('gold','account_product_trxn_mom', account_product_trxn_mom)    \n",
    "    \n",
    "else:\n",
    "    pass "
   ]
  },
  {
   "cell_type": "code",
   "execution_count": 0,
   "metadata": {
    "application/vnd.databricks.v1+cell": {
     "cellMetadata": {
      "byteLimit": 2048000,
      "rowLimit": 10000
     },
     "inputWidgets": {},
     "nuid": "05e07745-a9b5-41f2-964e-f55f27744393",
     "showTitle": false,
     "title": ""
    }
   },
   "outputs": [],
   "source": [
    "%%time\n",
    "account_product_trxn_mtd = pd.read_sql(f'''\n",
    "select \n",
    "CAST(left(dat.transaction_date,10) AS DATE) as Date, \n",
    "dat.product_name, \n",
    "isnull(count(case when channel = 'MOBILE' then dat.transaction_id end) ,0) as Mobile_Volume,\n",
    "isnull(count(case when channel = 'USSD' then dat.transaction_id end) ,0) as USSD_Volume,\n",
    "isnull(count(case when channel = 'CHATBOT' then dat.transaction_id end) ,0) as CHATBOT_Volume,\n",
    "isnull(SUM(case when channel = 'MOBILE' then dat.amount  end) ,0) as Mobile_Value,\n",
    "isnull(SUM(case when channel = 'USSD' then dat.amount  end) ,0) as USSD_Value,\n",
    "isnull(SUM(case when channel = 'CHATBOT' then dat.amount  end) ,0) as CHATBOT_Value,\n",
    "isnull(count(*) ,0) as Transaction_Count, \n",
    "isnull(sum(dat.amount) ,0) as Transaction_Value,\n",
    "GETDATE() as load_date\n",
    "from dwh_all_transactions dat \n",
    "where left(dat.transaction_date,4) = LEFT(GETDATE(), 4) \n",
    "and dat.transaction_type  = 'withdrawal'\n",
    "and channel in ('MOBILE', 'USSD', 'CHATBOT')\n",
    "and response_code in ('00', '201', '200', '9000')\n",
    "group by 2,1\n",
    "order by 2,1;\n",
    "                ''', conn)\n",
    "account_product_trxn_mtd\n",
    "load_table('gold','account_product_trxn_mtd', account_product_trxn_mtd)"
   ]
  },
  {
   "cell_type": "code",
   "execution_count": 0,
   "metadata": {
    "application/vnd.databricks.v1+cell": {
     "cellMetadata": {
      "byteLimit": 2048000,
      "rowLimit": 10000
     },
     "inputWidgets": {},
     "nuid": "cb87a42e-a291-42dc-90b2-9f0e6678d15a",
     "showTitle": false,
     "title": ""
    }
   },
   "outputs": [],
   "source": [
    "%%time\n",
    "if day == RUNDAY:\n",
    "    product_liq_mom = pd.read_sql(f'''\n",
    "    SELECT left(matt.transaction_date, 7) AS Month, \n",
    "    msp.name AS Product_Name, \n",
    "    COUNT(*) No_of_Liquidation,  \n",
    "    SUM(msat.amount) AS Liquidation_Value, \n",
    "    NOW() AS load_date\n",
    "    from m_account_transfer_transaction matt\n",
    "    JOIN m_savings_account_transaction msat ON msat.id = matt.to_savings_transaction_id OR msat.id = matt.from_savings_transaction_id\n",
    "    JOIN m_savings_account msa ON msa.id = msat.savings_account_id\n",
    "    JOIN m_client mc ON mc.id = msa.client_id\n",
    "    JOIN m_savings_product msp ON msp.id = msa.product_id\n",
    "    WHERE left(matt.transaction_date, 7) < LEFT(NOW(), 7)\n",
    "    AND msa.product_id IN ('36', '30')\n",
    "    AND matt.description LIKE '%liq%'\n",
    "    AND msat.transaction_type_enum ='2'\n",
    "    GROUP BY 2, 1\n",
    "    ORDER BY 2, 1;\n",
    "                    ''', Mifosdb)\n",
    "    product_liq_mom\n",
    "\n",
    "\n",
    "    load_table('gold','product_liq_mom', product_liq_mom)    \n",
    "    \n",
    "else:\n",
    "    pass  "
   ]
  },
  {
   "cell_type": "code",
   "execution_count": 0,
   "metadata": {
    "application/vnd.databricks.v1+cell": {
     "cellMetadata": {
      "byteLimit": 2048000,
      "rowLimit": 10000
     },
     "inputWidgets": {},
     "nuid": "bff7f568-6be0-4efd-acf0-f008fa5eb4b2",
     "showTitle": false,
     "title": ""
    }
   },
   "outputs": [],
   "source": [
    "%%time\n",
    "product_liq_mtd = pd.read_sql(f'''\n",
    "SELECT \n",
    "CAST(left(matt.transaction_date, 10) AS DATE) AS Date, \n",
    "msp.name AS Product_Name, \n",
    "COUNT(*) No_of_Liquidation,  \n",
    "SUM(msat.amount) AS Liquidation_Value, \n",
    "NOW() AS load_date\n",
    "from m_account_transfer_transaction matt\n",
    "JOIN m_savings_account_transaction msat ON msat.id = matt.to_savings_transaction_id OR msat.id = matt.from_savings_transaction_id\n",
    "JOIN m_savings_account msa ON msa.id = msat.savings_account_id\n",
    "JOIN m_client mc ON mc.id = msa.client_id\n",
    "JOIN m_savings_product msp ON msp.id = msa.product_id\n",
    "WHERE left(matt.transaction_date, 4) = LEFT(NOW(), 4)\n",
    "AND msa.product_id IN ('36', '30')\n",
    "AND matt.description LIKE '%liq%'\n",
    "AND msat.transaction_type_enum ='2'\n",
    "GROUP BY 2, 1\n",
    "ORDER BY 2, 1;\n",
    "                ''', Mifosdb)\n",
    "product_liq_mtd\n",
    "load_table('gold','product_liq_mtd', product_liq_mtd)"
   ]
  },
  {
   "cell_type": "code",
   "execution_count": 0,
   "metadata": {
    "application/vnd.databricks.v1+cell": {
     "cellMetadata": {
      "byteLimit": 2048000,
      "rowLimit": 10000
     },
     "inputWidgets": {},
     "nuid": "49a4d327-150c-4c2d-b91c-9f1edc80424d",
     "showTitle": false,
     "title": ""
    },
    "tags": []
   },
   "outputs": [],
   "source": [
    "%%time\n",
    "if day == RUNDAY:\n",
    "    cardless_mom = pd.read_sql(f'''\n",
    "    SELECT \n",
    "    LEFT(MBS.POSTING_DATE, 7) AS Month,\n",
    "    IFNULL(count(case when CHANNEL = 'MOBILE' then ID  END) ,0) as MOBILE_Volume,\n",
    "    IFNULL(count(case when CHANNEL = 'USSD' then ID END) ,0) as USSD_Volume,\n",
    "    IFNULL(count(case when CHANNEL = 'CHATBOT' then ID END) ,0) as CHATBOT_Volume,\n",
    "    IFNULL(SUM(case when CHANNEL = 'MOBILE' then AMOUNT END) ,0) as MOBILE_Value,\n",
    "    IFNULL(SUM(case when CHANNEL = 'USSD' then AMOUNT END) ,0) as USSD_Value,\n",
    "    IFNULL(SUM(case when CHANNEL = 'CHATBOT' then AMOUNT END) ,0) as CHATBOT_Value,\n",
    "    IFNULL(COUNT(*) ,0) as Total_Volume,\n",
    "    IFNULL(sum(amount) ,0) as Total_Value,\n",
    "    NOW() AS load_date\n",
    "    FROM MM_BANK_SETTLEMENTS MBS\n",
    "    WHERE LEFT(MBS.POSTING_DATE, 7) < LEFT(NOW(), 7)\n",
    "    AND MBS.PARTNERS = 'PAYCODE'\n",
    "    AND MBS.CHANNEL IN ('MOBILE', 'CHATBOT', 'USSD')\n",
    "    AND MBS.RESPONSE_CODE = '201'\n",
    "    GROUP BY 1\n",
    "    ORDER BY 1;\n",
    "                    ''', Dumpdb)\n",
    "    cardless_mom\n",
    "\n",
    "\n",
    "    load_table('gold','cardless_mom', cardless_mom)    \n",
    "    \n",
    "else:\n",
    "    pass  "
   ]
  },
  {
   "cell_type": "code",
   "execution_count": 0,
   "metadata": {
    "application/vnd.databricks.v1+cell": {
     "cellMetadata": {
      "byteLimit": 2048000,
      "rowLimit": 10000
     },
     "inputWidgets": {},
     "nuid": "9fa37d76-a05e-448e-831c-121fbf162f6c",
     "showTitle": false,
     "title": ""
    },
    "tags": []
   },
   "outputs": [],
   "source": [
    "%%time\n",
    "cardless_mtd = pd.read_sql(f'''\n",
    "SELECT \n",
    "CAST(LEFT(MBS.POSTING_DATE, 10) AS DATE) AS Date,\n",
    "IFNULL(count(case when CHANNEL = 'MOBILE' then ID  END) ,0) as MOBILE_Volume,\n",
    "IFNULL(count(case when CHANNEL = 'USSD' then ID END) ,0) as USSD_Volume,\n",
    "IFNULL(count(case when CHANNEL = 'CHATBOT' then ID END) ,0) as CHATBOT_Volume,\n",
    "IFNULL(SUM(case when CHANNEL = 'MOBILE' then AMOUNT END) ,0) as MOBILE_Value,\n",
    "IFNULL(SUM(case when CHANNEL = 'USSD' then AMOUNT END) ,0) as USSD_Value,\n",
    "IFNULL(SUM(case when CHANNEL = 'CHATBOT' then AMOUNT END) ,0) as CHATBOT_Value,\n",
    "IFNULL(COUNT(*) ,0) as Total_Volume,\n",
    "IFNULL(sum(amount) ,0) as Total_Value,\n",
    "NOW() AS load_date\n",
    "FROM MM_BANK_SETTLEMENTS MBS\n",
    "WHERE LEFT(MBS.POSTING_DATE, 4) = LEFT(NOW(), 4)\n",
    "AND MBS.PARTNERS = 'PAYCODE'\n",
    "AND MBS.CHANNEL IN ('MOBILE', 'CHATBOT', 'USSD')\n",
    "AND MBS.RESPONSE_CODE = '201'\n",
    "GROUP BY 1\n",
    "ORDER BY 1;\n",
    "                ''', Dumpdb)\n",
    "cardless_mtd\n",
    "load_table('gold','cardless_mtd', cardless_mtd)"
   ]
  },
  {
   "cell_type": "code",
   "execution_count": 0,
   "metadata": {
    "application/vnd.databricks.v1+cell": {
     "cellMetadata": {
      "byteLimit": 2048000,
      "rowLimit": 10000
     },
     "inputWidgets": {},
     "nuid": "72af4fa8-0ea5-4bff-931f-8cd9c2cb6f55",
     "showTitle": false,
     "title": ""
    },
    "tags": []
   },
   "outputs": [],
   "source": [
    "%%time\n",
    "if day == RUNDAY:\n",
    "    retail_onboard_channel_mom = pd.read_sql(f'''\n",
    "    SELECT LEFT(mc.activation_date, 7) AS MONTH,\n",
    "    COUNT(case when mc.activatedon_userid = 31 then mc.id END) AS 'Mobile',\n",
    "    COUNT(case when mc.activatedon_userid != 31 then mc.id END)  AS 'Others'\n",
    "    FROM m_client mc\n",
    "    LEFT JOIN m_savings_account msa ON msa.client_id = mc.id\n",
    "    WHERE LEFT(mc.activation_date, 7 ) < LEFT(CURRENT_DATE(),7)\n",
    "    AND msa.product_id IN ('29', '31', '33')\n",
    "    GROUP BY 1\n",
    "    ORDER BY 1;\n",
    "                    ''', Mifosdb)\n",
    "    retail_onboard_channel_mom\n",
    "\n",
    "\n",
    "    load_table('gold','retail_onboard_channel_mom', retail_onboard_channel_mom)    \n",
    "    \n",
    "else:\n",
    "    pass  "
   ]
  },
  {
   "cell_type": "code",
   "execution_count": 0,
   "metadata": {
    "application/vnd.databricks.v1+cell": {
     "cellMetadata": {
      "byteLimit": 2048000,
      "rowLimit": 10000
     },
     "inputWidgets": {},
     "nuid": "6b434e21-8fe2-4748-8f0b-48873ebeb7ec",
     "showTitle": false,
     "title": ""
    },
    "tags": []
   },
   "outputs": [],
   "source": [
    "%%time\n",
    "retail_onboard_channel_mtd = pd.read_sql(f'''\n",
    "SELECT CAST(LEFT(mc.activation_date, 10) AS DATE) AS Date,\n",
    "COUNT(case when mc.activatedon_userid = 31 then mc.id END) AS 'Mobile',\n",
    "COUNT(case when mc.activatedon_userid != 31 then mc.id END)  AS 'Others'\n",
    "FROM m_client mc\n",
    "LEFT JOIN m_savings_account msa ON msa.client_id = mc.id\n",
    "WHERE LEFT(mc.activation_date, 4) = LEFT(CURRENT_DATE(),4)\n",
    "AND msa.product_id IN ('29', '31', '33')\n",
    "GROUP BY 1\n",
    "ORDER BY 1;\n",
    "                ''', Mifosdb)\n",
    "retail_onboard_channel_mtd\n",
    "load_table('gold','retail_onboard_channel_mtd', retail_onboard_channel_mtd)"
   ]
  },
  {
   "cell_type": "code",
   "execution_count": 0,
   "metadata": {
    "application/vnd.databricks.v1+cell": {
     "cellMetadata": {
      "byteLimit": 2048000,
      "rowLimit": 10000
     },
     "inputWidgets": {},
     "nuid": "7c9a822c-5497-423a-96cf-a275f57eaebe",
     "showTitle": false,
     "title": ""
    },
    "tags": []
   },
   "outputs": [],
   "source": [
    "%%time\n",
    "accounts = pd.read_sql(f'''\n",
    "SELECT mc.activation_date AS DATE, obd.BVN\n",
    "FROM m_client mc\n",
    "LEFT JOIN m_savings_account msa ON msa.client_id = mc.id\n",
    "LEFT JOIN `Other Bank Details` obd ON obd.client_id = mc.id\n",
    "WHERE LEFT(mc.activation_date, 4 ) = LEFT(CURRENT_DATE(),4)\n",
    "AND LENGTH(obd.BVN) = 11 \n",
    "AND msa.product_id IN ('29', '31', '33');\n",
    "                ''', Mifosdb)\n",
    "accounts\n",
    "accounts['BVN2'] = \"'\" + accounts['BVN'] + \"'\"\n",
    "str = ','.join([str(x) for x in accounts['BVN2'].tolist()])\n",
    "\n",
    "gender = pd.read_sql(f'''\n",
    "SELECT A.BVN_REGNO AS BVN, A.BVN_GENDER GENDER\n",
    "FROM AM_VERIFIED_BVN A\n",
    "WHERE A.BVN_REGNO IN ({str})\n",
    "                ''', Dumpdb)\n",
    "accounts = accounts.merge(gender, how='left', on=\"BVN\")\n",
    "accounts\n",
    "del str\n",
    "\n",
    "retail_gender_mtd = accounts.groupby(['DATE', 'GENDER']).size().reset_index(name='Count')\n",
    "retail_gender_mtd\n",
    "\n",
    "load_table('gold','retail_gender_mtd', retail_gender_mtd)"
   ]
  },
  {
   "cell_type": "code",
   "execution_count": 0,
   "metadata": {
    "application/vnd.databricks.v1+cell": {
     "cellMetadata": {
      "byteLimit": 2048000,
      "rowLimit": 10000
     },
     "inputWidgets": {},
     "nuid": "2e0d660c-bc53-4d49-b83f-1dd0eb8746f0",
     "showTitle": false,
     "title": ""
    },
    "tags": []
   },
   "outputs": [],
   "source": [
    "%%time\n",
    "if day == RUNDAY:\n",
    "    qr_code_mom = pd.read_sql(f'''\n",
    "    SELECT LEFT(T.POSTING_DATE, 7)  AS MONTH,  T.QR_TYPE, T.TRANSACTION_STATUS,  COUNT(*) AS Volume, SUM(T.AMOUNT) AS Value, NOW() AS load_date\n",
    "    FROM TM_QRCODE_TRANSACTIONS T\n",
    "    WHERE LEFT(T.POSTING_DATE,  7) <  LEFT(CURRENT_DATE(),7)\n",
    "    GROUP BY 1, 2, 3\n",
    "    ORDER BY 1, 2, 3;\n",
    "\n",
    "                    ''', Dumpdb)\n",
    "    qr_code_mom.head()\n",
    "\n",
    "\n",
    "    load_table('gold','qr_code_mom', qr_code_mom)    \n",
    "    \n",
    "else:\n",
    "    pass  "
   ]
  },
  {
   "cell_type": "code",
   "execution_count": 0,
   "metadata": {
    "application/vnd.databricks.v1+cell": {
     "cellMetadata": {
      "byteLimit": 2048000,
      "rowLimit": 10000
     },
     "inputWidgets": {},
     "nuid": "999c07ae-aa6b-404d-a3d2-8f26866a324a",
     "showTitle": false,
     "title": ""
    }
   },
   "outputs": [],
   "source": [
    "%%time\n",
    "qr_code_mtd = pd.read_sql(f'''\n",
    "SELECT CAST(LEFT(T.POSTING_DATE, 10) AS DATE) AS DATE,  T.QR_TYPE, T.TRANSACTION_STATUS,  COUNT(*) AS Volume, SUM(T.AMOUNT) AS Value, NOW() AS load_date\n",
    "FROM TM_QRCODE_TRANSACTIONS T\n",
    "WHERE LEFT(T.POSTING_DATE,  4) =  LEFT(CURRENT_DATE(),4)\n",
    "GROUP BY 1, 2, 3\n",
    "ORDER BY 1, 2, 3;\n",
    "\n",
    "                ''', Dumpdb)\n",
    "qr_code_mtd.head()\n",
    "load_table('gold','qr_code_mtd', qr_code_mtd)"
   ]
  },
  {
   "cell_type": "code",
   "execution_count": 0,
   "metadata": {
    "application/vnd.databricks.v1+cell": {
     "cellMetadata": {
      "byteLimit": 2048000,
      "rowLimit": 10000
     },
     "inputWidgets": {},
     "nuid": "75ce9c9f-4188-4be9-9adb-af9a9b6a5f90",
     "showTitle": false,
     "title": ""
    }
   },
   "outputs": [],
   "source": [
    "%%time\n",
    "if day == RUNDAY:\n",
    "    vpay_mom = pd.read_sql(f'''\n",
    "    SELECT \n",
    "    left(tw.TIME, 7) AS MONTH,\n",
    "    COUNT(case when tw.TRANSACTION_RESPONSE = '00' then tw.ID END) AS Vpay_Success_Volume,\n",
    "    COUNT(case when tw.TRANSACTION_RESPONSE != '00' then tw.ID END) AS Vpay_Failed_Volume,\n",
    "    SUM(case when tw.TRANSACTION_RESPONSE = '00' then tw.AMOUNT END) AS Vpay_Success_Value,\n",
    "    SUM(case when tw.TRANSACTION_RESPONSE != '00' then tw.AMOUNT END) AS Vpay_Failed_Value,\n",
    "    NOW() AS load_date\n",
    "    FROM TM_WALLET_TRANSACTIONS tw\n",
    "    WHERE tw.WALLET_NAME LIKE '%vpos%'\n",
    "    AND left(tw.TIME, 7) < LEFT(NOW(), 7)\n",
    "    GROUP BY 1\n",
    "    ORDER BY 1;\n",
    "    ''', Dumpdb)\n",
    "    vpay_mom\n",
    "\n",
    "\n",
    "    load_table('gold','vpay_mom', vpay_mom)    \n",
    "    \n",
    "else:\n",
    "    pass  "
   ]
  },
  {
   "cell_type": "code",
   "execution_count": 0,
   "metadata": {
    "application/vnd.databricks.v1+cell": {
     "cellMetadata": {
      "byteLimit": 2048000,
      "rowLimit": 10000
     },
     "inputWidgets": {},
     "nuid": "b0b7fd4b-3574-4438-bff4-055275a90e27",
     "showTitle": false,
     "title": ""
    },
    "tags": []
   },
   "outputs": [],
   "source": [
    "%%time\n",
    "vpay_mtd = pd.read_sql(f'''\n",
    "SELECT \n",
    "CAST(left(tw.TIME, 10) AS DATE) AS DATE,\n",
    "COUNT(case when tw.TRANSACTION_RESPONSE = '00' then tw.ID END) AS Vpay_Success_Volume,\n",
    "COUNT(case when tw.TRANSACTION_RESPONSE != '00' then tw.ID END) AS Vpay_Failed_Volume,\n",
    "SUM(case when tw.TRANSACTION_RESPONSE = '00' then tw.AMOUNT END) AS Vpay_Success_Value,\n",
    "SUM(case when tw.TRANSACTION_RESPONSE != '00' then tw.AMOUNT END) AS Vpay_Failed_Value,\n",
    "NOW() AS load_date\n",
    "FROM TM_WALLET_TRANSACTIONS tw\n",
    "WHERE tw.WALLET_NAME LIKE '%vpos%'\n",
    "AND left(tw.TIME, 4) = LEFT(NOW(), 4)\n",
    "GROUP BY 1\n",
    "ORDER BY 1;\n",
    "''', Dumpdb)\n",
    "vpay_mtd\n",
    "load_table('gold','vpay_mtd', vpay_mtd)"
   ]
  },
  {
   "cell_type": "code",
   "execution_count": 0,
   "metadata": {
    "application/vnd.databricks.v1+cell": {
     "cellMetadata": {
      "byteLimit": 2048000,
      "rowLimit": 10000
     },
     "inputWidgets": {},
     "nuid": "bea6f05f-40d7-4382-8c07-27282d4f68f5",
     "showTitle": false,
     "title": ""
    },
    "tags": []
   },
   "outputs": [],
   "source": [
    "%%time\n",
    "\n",
    "if day == RUNDAY:\n",
    "\n",
    "    wallet_inter_intra_outflow_mom = pd.read_sql(f'''\n",
    "    SELECT \n",
    "    LEFT(TWT.TIME,7) AS MONTH, \n",
    "    COUNT( CASE WHEN TWT.TO_BANK = '999999' then TWT.ID END) AS Intra_Volume,\n",
    "    COUNT( CASE WHEN TWT.TO_BANK != '999999' then TWT.ID END) AS Inter_Volume,\n",
    "    SUM( CASE WHEN TWT.TO_BANK = '999999' then TWT.AMOUNT END) AS Inter_Value,\n",
    "    SUM( CASE WHEN TWT.TO_BANK != '999999' then TWT.AMOUNT END) AS Intra_Value,\n",
    "    NOW() AS load_date\n",
    "    FROM TM_WALLET_TRANSACTIONS TWT \n",
    "    WHERE LEFT(TWT.TIME,7) < LEFT(CURRENT_DATE(),7)\n",
    "    AND TWT.TRANSACTION_RESPONSE = '00'\n",
    "    AND TWT.TRANSACTION_TYPE = 'OUTFLOW'\n",
    "    AND TWT.WALLET_NAME != 'Victor Nwaka'\n",
    "    GROUP BY 1\n",
    "    ORDER BY 1;\n",
    "    ''', Dumpdb)\n",
    "    wallet_inter_intra_outflow_mom.head(5)\n",
    "    load_table('gold', 'wallet_inter_intra_outflow_mom', wallet_inter_intra_outflow_mom) \n",
    "    \n",
    "else:\n",
    "    pass  "
   ]
  },
  {
   "cell_type": "code",
   "execution_count": 0,
   "metadata": {
    "application/vnd.databricks.v1+cell": {
     "cellMetadata": {
      "byteLimit": 2048000,
      "rowLimit": 10000
     },
     "inputWidgets": {},
     "nuid": "28d8b211-79af-42d7-8f80-0c45c4573ac0",
     "showTitle": false,
     "title": ""
    },
    "tags": []
   },
   "outputs": [],
   "source": [
    "%%time\n",
    "wallet_inter_intra_outflow_mtd = pd.read_sql(f'''\n",
    "SELECT \n",
    "CAST(LEFT(TWT.TIME,10) AS DATE) AS DATE, \n",
    "COUNT( CASE WHEN TWT.TO_BANK = '999999' then TWT.ID END) AS Intra_Volume,\n",
    "COUNT( CASE WHEN TWT.TO_BANK != '999999' then TWT.ID END) AS Inter_Volume,\n",
    "SUM( CASE WHEN TWT.TO_BANK = '999999' then TWT.AMOUNT END) AS Inter_Value,\n",
    "SUM( CASE WHEN TWT.TO_BANK != '999999' then TWT.AMOUNT END) AS Intra_Value,\n",
    "NOW() AS load_date\n",
    "FROM TM_WALLET_TRANSACTIONS TWT \n",
    "WHERE LEFT(TWT.TIME,4) = LEFT(CURRENT_DATE(),4)\n",
    "AND TWT.TRANSACTION_RESPONSE = '00'\n",
    "AND TWT.TRANSACTION_TYPE = 'OUTFLOW'\n",
    "AND TWT.WALLET_NAME != 'Victor Nwaka'\n",
    "GROUP BY 1\n",
    "ORDER BY 1;\n",
    "''', Dumpdb)\n",
    "wallet_inter_intra_outflow_mtd.head(5)\n",
    "load_table('gold', 'wallet_inter_intra_outflow_mtd', wallet_inter_intra_outflow_mtd)"
   ]
  },
  {
   "cell_type": "code",
   "execution_count": 0,
   "metadata": {
    "application/vnd.databricks.v1+cell": {
     "cellMetadata": {
      "byteLimit": 2048000,
      "rowLimit": 10000
     },
     "inputWidgets": {},
     "nuid": "dcbd1d58-a36a-4b68-b04d-3bf4982c43c2",
     "showTitle": false,
     "title": ""
    },
    "tags": []
   },
   "outputs": [],
   "source": [
    "%%time\n",
    "if day == RUNDAY:\n",
    "    wallet_inter_intra_inflow_mom = pd.read_sql(f'''\n",
    "    SELECT \n",
    "    LEFT(TWT.TIME,7) AS MONTH, \n",
    "    COUNT( CASE WHEN TWT.TO_BANK = '999999' then TWT.ID END) AS Intra_Volume,\n",
    "    COUNT( CASE WHEN TWT.TO_BANK != '999999' then TWT.ID END) AS Inter_Volume,\n",
    "    SUM( CASE WHEN TWT.TO_BANK = '999999' then TWT.AMOUNT END) AS Inter_Value,\n",
    "    SUM( CASE WHEN TWT.TO_BANK != '999999' then TWT.AMOUNT END) AS Intra_Value,\n",
    "    NOW() AS load_date\n",
    "    FROM TM_WALLET_TRANSACTIONS TWT \n",
    "    WHERE LEFT(TWT.TIME,7) < LEFT(CURRENT_DATE(),7)\n",
    "    AND TWT.TRANSACTION_RESPONSE = '00'\n",
    "    AND TWT.TRANSACTION_TYPE = 'INFLOW'\n",
    "    AND TWT.WALLET_NAME != 'Victor Nwaka'\n",
    "    GROUP BY 1\n",
    "    ORDER BY 1;\n",
    "    ''', Dumpdb)\n",
    "    wallet_inter_intra_inflow_mom.head(5)\n",
    "    load_table('gold', 'wallet_inter_intra_inflow_mom', wallet_inter_intra_inflow_mom) \n",
    "    \n",
    "else:\n",
    "    pass  "
   ]
  },
  {
   "cell_type": "code",
   "execution_count": 0,
   "metadata": {
    "application/vnd.databricks.v1+cell": {
     "cellMetadata": {
      "byteLimit": 2048000,
      "rowLimit": 10000
     },
     "inputWidgets": {},
     "nuid": "7b427228-1045-47b7-ab06-a6bbefdda2ab",
     "showTitle": false,
     "title": ""
    },
    "tags": []
   },
   "outputs": [],
   "source": [
    "%%time\n",
    "wallet_inter_intra_inflow_mtd = pd.read_sql(f'''\n",
    "SELECT \n",
    "CAST(LEFT(TWT.TIME,10) AS DATE) AS DATE, \n",
    "COUNT( CASE WHEN TWT.TO_BANK = '999999' then TWT.ID END) AS Intra_Volume,\n",
    "COUNT( CASE WHEN TWT.TO_BANK != '999999' then TWT.ID END) AS Inter_Volume,\n",
    "SUM( CASE WHEN TWT.TO_BANK = '999999' then TWT.AMOUNT END) AS Inter_Value,\n",
    "SUM( CASE WHEN TWT.TO_BANK != '999999' then TWT.AMOUNT END) AS Intra_Value,\n",
    "NOW() AS load_date\n",
    "FROM TM_WALLET_TRANSACTIONS TWT \n",
    "WHERE LEFT(TWT.TIME,4) = LEFT(CURRENT_DATE(),4)\n",
    "AND TWT.TRANSACTION_RESPONSE = '00'\n",
    "AND TWT.TRANSACTION_TYPE = 'INFLOW'\n",
    "AND TWT.WALLET_NAME != 'Victor Nwaka'\n",
    "GROUP BY 1\n",
    "ORDER BY 1;\n",
    "''', Dumpdb)\n",
    "wallet_inter_intra_inflow_mtd.head(5)\n",
    "load_table('gold', 'wallet_inter_intra_inflow_mtd', wallet_inter_intra_inflow_mtd)"
   ]
  },
  {
   "cell_type": "code",
   "execution_count": 0,
   "metadata": {
    "application/vnd.databricks.v1+cell": {
     "cellMetadata": {
      "byteLimit": 2048000,
      "rowLimit": 10000
     },
     "inputWidgets": {},
     "nuid": "50983552-7795-4847-b157-8e7d87cda1c6",
     "showTitle": false,
     "title": ""
    },
    "tags": []
   },
   "outputs": [],
   "source": [
    "%%time\n",
    "if day == RUNDAY:\n",
    "    wallet_loans_mom = pd.read_sql(f'''\n",
    "    SELECT LEFT(T.DATE_CREATED, 7) AS MONTH,\n",
    "    COUNT(*) AS Loan_Volume,\n",
    "    SUM(T.AMOUNT) AS Loan_Value,\n",
    "    NOW() AS load_date\n",
    "    FROM TM_WALLET_LOAN_TRANSACTIONS T\n",
    "    WHERE LEFT(T.DATE_CREATED, 7) < LEFT(CURRENT_DATE(),7)\n",
    "    AND T.`STATUS` = '00'\n",
    "    GROUP BY 1\n",
    "    ORDER BY 1;\n",
    "\n",
    "    ''', Dumpdb)\n",
    "    wallet_loans_mom.head(5)\n",
    "\n",
    "\n",
    "    load_table('gold', 'wallet_loans_mom', wallet_loans_mom)  \n",
    "    \n",
    "else:\n",
    "    pass  "
   ]
  },
  {
   "cell_type": "code",
   "execution_count": 0,
   "metadata": {
    "application/vnd.databricks.v1+cell": {
     "cellMetadata": {
      "byteLimit": 2048000,
      "rowLimit": 10000
     },
     "inputWidgets": {},
     "nuid": "2c9167fc-85ef-482b-a6a7-7e3218aa89da",
     "showTitle": false,
     "title": ""
    },
    "tags": []
   },
   "outputs": [],
   "source": [
    "%%time\n",
    "wallet_loans_mtd = pd.read_sql(f'''\n",
    "SELECT CAST(LEFT(T.DATE_CREATED, 10) AS DATE) AS DATE,\n",
    "COUNT(*) AS Loan_Volume,\n",
    "SUM(T.AMOUNT) AS Loan_Value,\n",
    "NOW() AS load_date\n",
    "FROM TM_WALLET_LOAN_TRANSACTIONS T\n",
    "WHERE LEFT(T.DATE_CREATED, 4) = LEFT(CURRENT_DATE(),4)\n",
    "AND T.`STATUS` = '00'\n",
    "GROUP BY 1\n",
    "ORDER BY 1;\n",
    "\n",
    "''', Dumpdb)\n",
    "wallet_loans_mtd.head(5)\n",
    "load_table('gold', 'wallet_loans_mtd', wallet_loans_mtd)"
   ]
  },
  {
   "cell_type": "code",
   "execution_count": 0,
   "metadata": {
    "application/vnd.databricks.v1+cell": {
     "cellMetadata": {
      "byteLimit": 2048000,
      "rowLimit": 10000
     },
     "inputWidgets": {},
     "nuid": "fb482c5c-325c-4490-9848-5e2258404128",
     "showTitle": false,
     "title": ""
    },
    "tags": []
   },
   "outputs": [],
   "source": [
    "%%time\n",
    "if day == RUNDAY:\n",
    "    vbiz_dropoff_mom = pd.read_sql(f'''\n",
    "    SELECT left(o.createdAt, 7) AS MONTH, \n",
    "    COUNT(o.id) AS No_of_Dropoffs,\n",
    "    NOW() AS load_date\n",
    "    FROM onboarding o\n",
    "    WHERE left(o.createdAt, 7) < LEFT(CURRENT_DATE(), 7)\n",
    "    AND o.nuban IS NULL\n",
    "    GROUP BY 1\n",
    "    ORDER BY 1;\n",
    "    ''', vbizdb)\n",
    "    vbiz_dropoff_mom.head(5)\n",
    "    load_table('gold', 'vbiz_dropoff_mom', vbiz_dropoff_mom) \n",
    "    \n",
    "else:\n",
    "    pass  "
   ]
  },
  {
   "cell_type": "code",
   "execution_count": 0,
   "metadata": {
    "application/vnd.databricks.v1+cell": {
     "cellMetadata": {
      "byteLimit": 2048000,
      "rowLimit": 10000
     },
     "inputWidgets": {},
     "nuid": "d11b5cd7-8415-4181-b186-d7c2d9f338eb",
     "showTitle": false,
     "title": ""
    },
    "tags": []
   },
   "outputs": [],
   "source": [
    "%%time\n",
    "vbiz_dropoff_mtd = pd.read_sql(f'''\n",
    "SELECT CAST(left(o.createdAt, 10) AS DATE) AS DATE, \n",
    "COUNT(o.id) AS No_of_Dropoffs,\n",
    "NOW() AS load_date\n",
    "FROM onboarding o\n",
    "WHERE left(o.createdAt, 4) = LEFT(CURRENT_DATE(), 4)\n",
    "AND o.nuban IS NULL\n",
    "GROUP BY 1\n",
    "ORDER BY 1;\n",
    "''', vbizdb)\n",
    "vbiz_dropoff_mtd.head(5)\n",
    "load_table('gold', 'vbiz_dropoff_mtd', vbiz_dropoff_mtd)"
   ]
  },
  {
   "cell_type": "code",
   "execution_count": 0,
   "metadata": {
    "application/vnd.databricks.v1+cell": {
     "cellMetadata": {
      "byteLimit": 2048000,
      "rowLimit": 10000
     },
     "inputWidgets": {},
     "nuid": "9325e403-2529-4409-b9df-ea76f0a2bb0d",
     "showTitle": false,
     "title": ""
    },
    "tags": []
   },
   "outputs": [],
   "source": [
    "%%time\n",
    "if day == RUNDAY:\n",
    "    loan_disbursed_repaid_mom = pd.read_sql(f'''\n",
    "    SELECT LEFT(ml.disbursedon_date,7) AS Disbursedon_Date,\n",
    "    SUM(ml.principal_disbursed_derived) as Total_Principal_Disbursed, \n",
    "    SUM(ml.total_expected_repayment_derived) AS Total_Expected_Repayment, \n",
    "    SUM(ml.interest_charged_derived) AS Total_Interest_Charged,\n",
    "    SUM(ml.principal_repaid_derived) AS Total_Principal_Repaid,\n",
    "    NOW() AS load_date\n",
    "    FROM m_loan ml \n",
    "    WHERE left(ml.disbursedon_date,7) < LEFT(NOW(),7)\n",
    "    AND ml.disbursedon_date IS NOT NULL\n",
    "    GROUP BY 1\n",
    "    ORDER BY 1;\n",
    "    ''', Mifosdb)\n",
    "    loan_disbursed_repaid_mom.head()\n",
    "    load_table('gold', 'loan_disbursed_repaid_mom', loan_disbursed_repaid_mom)\n",
    "    \n",
    "else:\n",
    "    pass  "
   ]
  },
  {
   "cell_type": "code",
   "execution_count": 0,
   "metadata": {
    "application/vnd.databricks.v1+cell": {
     "cellMetadata": {
      "byteLimit": 2048000,
      "rowLimit": 10000
     },
     "inputWidgets": {},
     "nuid": "bba25f53-6610-49d7-b6c6-14a20fe61b4a",
     "showTitle": false,
     "title": ""
    },
    "tags": []
   },
   "outputs": [],
   "source": [
    "%%time\n",
    "loan_disbursed_repaid_mtd = pd.read_sql(f'''\n",
    "SELECT CAST(ml.disbursedon_date AS DATE) AS Disbursedon_Date,\n",
    "SUM(ml.principal_disbursed_derived) as Total_Principal_Disbursed, \n",
    "SUM(ml.total_expected_repayment_derived) AS Total_Expected_Repayment, \n",
    "SUM(ml.interest_charged_derived) AS Total_Interest_Charged,\n",
    "SUM(ml.principal_repaid_derived) AS Total_Principal_Repaid,\n",
    "NOW() AS load_date\n",
    "FROM m_loan ml \n",
    "WHERE left(ml.disbursedon_date,4) = LEFT(NOW(),4)\n",
    "AND ml.disbursedon_date IS NOT NULL\n",
    "GROUP BY 1\n",
    "ORDER BY 1;\n",
    "''', Mifosdb)\n",
    "loan_disbursed_repaid_mtd.head()\n",
    "load_table('gold', 'loan_disbursed_repaid_mtd', loan_disbursed_repaid_mtd)"
   ]
  },
  {
   "cell_type": "code",
   "execution_count": 0,
   "metadata": {
    "application/vnd.databricks.v1+cell": {
     "cellMetadata": {
      "byteLimit": 2048000,
      "rowLimit": 10000
     },
     "inputWidgets": {},
     "nuid": "c883c8c9-ffb0-409f-b7cc-6238c1ac7aa7",
     "showTitle": false,
     "title": ""
    },
    "tags": []
   },
   "outputs": [],
   "source": [
    "%%time\n",
    "if day == RUNDAY:\n",
    "    sms_mom = pd.read_sql(f'''\n",
    "    SELECT LEFT(cm.CREATED,7) AS MONTH,\n",
    "    count(*) as COUNT, \n",
    "    sum(cm.HOLD_AMOUNT) as hold_amount,\n",
    "    NOW() AS load_date\n",
    "    FROM CM_NOTIFICATIONS_CHGS cm\n",
    "    WHERE LEFT(cm.CREATED,7) < LEFT(NOW(),7)\n",
    "    GROUP BY 1\n",
    "    ORDER BY 1;\n",
    "    ''', Dumpdb)\n",
    "    sms_mom.head(5)\n",
    "    load_table('gold', 'sms_mom', sms_mom)  \n",
    "    \n",
    "else:\n",
    "    pass  "
   ]
  },
  {
   "cell_type": "code",
   "execution_count": 0,
   "metadata": {
    "application/vnd.databricks.v1+cell": {
     "cellMetadata": {
      "byteLimit": 2048000,
      "rowLimit": 10000
     },
     "inputWidgets": {},
     "nuid": "f3b957a7-9e7b-4866-940f-3ab026a687d3",
     "showTitle": false,
     "title": ""
    },
    "tags": []
   },
   "outputs": [],
   "source": [
    "%%time\n",
    "sms_mtd = pd.read_sql(f'''\n",
    "SELECT CAST(LEFT(cm.CREATED,10) AS DATE) AS DATE,\n",
    "count(*) as COUNT, \n",
    "sum(cm.HOLD_AMOUNT) as hold_amount,\n",
    "NOW() AS load_date\n",
    "FROM CM_NOTIFICATIONS_CHGS cm\n",
    "WHERE LEFT(cm.CREATED,4) = LEFT(NOW(),4)\n",
    "GROUP BY 1\n",
    "ORDER BY 1;\n",
    "''', Dumpdb)\n",
    "sms_mtd.head(5)\n",
    "load_table('gold', 'sms_mtd', sms_mtd)"
   ]
  },
  {
   "cell_type": "code",
   "execution_count": 0,
   "metadata": {
    "application/vnd.databricks.v1+cell": {
     "cellMetadata": {
      "byteLimit": 2048000,
      "rowLimit": 10000
     },
     "inputWidgets": {},
     "nuid": "8fb98016-14ed-4b7f-b694-c3d6cbd93fc9",
     "showTitle": false,
     "title": ""
    },
    "tags": []
   },
   "outputs": [],
   "source": [
    "%%time\n",
    "if day == RUNDAY:\n",
    "    corporate_transaction_mom = pd.read_sql(f'''\n",
    "    select LEFT(st.transaction_date,7)  AS Month,\n",
    "    COUNT(case when st.transaction_type_enum = '2'  then st.id end) as 'Debit_volume',\n",
    "    COUNT(case  when st.transaction_type_enum = '1' then st.id end) as 'Credit_volume',\n",
    "    SUM(case when st.transaction_type_enum = '2'  then st.amount end) as 'Debit_Value',\n",
    "    SUM(case  when st.transaction_type_enum = '1' then st.amount end) as 'Credit_Value',\n",
    "    NOW() AS load_date\n",
    "    from m_savings_account_transaction st\n",
    "    inner join m_savings_account msa on msa.id =st.savings_account_id\n",
    "    left join m_client cl on cl.id=msa.client_id\n",
    "    where st.is_reversed=0\n",
    "    AND LEFT(st.transaction_date,7) < LEFT(NOW(), 7)\n",
    "    AND msa.product_id = '26'\n",
    "    GROUP BY 1\n",
    "    ORDER BY 1\n",
    "    ''', Mifosdb)\n",
    "    corporate_transaction_mom.head(5)\n",
    "    load_table('gold', 'corporate_transaction_mom', corporate_transaction_mom)  \n",
    "    \n",
    "else:\n",
    "    pass  "
   ]
  },
  {
   "cell_type": "code",
   "execution_count": 0,
   "metadata": {
    "application/vnd.databricks.v1+cell": {
     "cellMetadata": {
      "byteLimit": 2048000,
      "rowLimit": 10000
     },
     "inputWidgets": {},
     "nuid": "6b42f7f7-b2f0-467b-9bb5-662205aac2a6",
     "showTitle": false,
     "title": ""
    },
    "tags": []
   },
   "outputs": [],
   "source": [
    "%%time\n",
    "corporate_transaction_mtd = pd.read_sql(f'''\n",
    "select CAST(LEFT(st.transaction_date,10) AS DATE)  AS DATE,\n",
    "COUNT(case when st.transaction_type_enum = '2'  then st.id end) as 'Debit_volume',\n",
    "COUNT(case  when st.transaction_type_enum = '1' then st.id end) as 'Credit_volume',\n",
    "SUM(case when st.transaction_type_enum = '2'  then st.amount end) as 'Debit_Value',\n",
    "SUM(case  when st.transaction_type_enum = '1' then st.amount end) as 'Credit_Value',\n",
    "NOW() AS load_date\n",
    "from m_savings_account_transaction st\n",
    "inner join m_savings_account msa on msa.id =st.savings_account_id\n",
    "left join m_client cl on cl.id=msa.client_id\n",
    "where st.is_reversed=0\n",
    "AND LEFT(st.transaction_date,4) = LEFT(NOW(), 4)\n",
    "AND msa.product_id = '26'\n",
    "GROUP BY 1\n",
    "ORDER BY 1\n",
    "''', Mifosdb)\n",
    "corporate_transaction_mtd.head(5)\n",
    "load_table('gold', 'corporate_transaction_mtd', corporate_transaction_mtd)"
   ]
  },
  {
   "cell_type": "code",
   "execution_count": 0,
   "metadata": {
    "application/vnd.databricks.v1+cell": {
     "cellMetadata": {
      "byteLimit": 2048000,
      "rowLimit": 10000
     },
     "inputWidgets": {},
     "nuid": "1598a651-f32e-4ae0-beff-9e4662e3fd60",
     "showTitle": false,
     "title": ""
    },
    "tags": []
   },
   "outputs": [],
   "source": [
    "%%time\n",
    "if day == RUNDAY:\n",
    "    wallet_api_mom = pd.read_sql(f'''\n",
    "    SELECT \n",
    "    LEFT(msc.DATE, 7) AS Month,\n",
    "    msc.SUBSCRIBER_USERNAME AS subscriber,\n",
    "    case when msc.API_RESOURCE_CONSUMED IN ('/bvn/basic', '/bvn/premium') AND msc.RESOURCE_VALUE LIKE '%/%' then \n",
    "      CONCAT(msc.API_RESOURCE_CONSUMED,'-account') ELSE msc.API_RESOURCE_CONSUMED END AS resource_consumed,\n",
    "    COUNT(*) AS COUNT,\n",
    "    NOW() AS load_date\n",
    "    FROM MS_SUBSCRIBERS_CALLS msc \n",
    "    WHERE LEFT(msc.DATE, 7) < LEFT(NOW(), 7)\n",
    "    and msc.SUBSCRIBER_USERNAME not in ('b.daniel','Victor Nwaka','v.nwaka','tunde_vfd_test')\n",
    "    AND msc.RESPONSE_STATUS NOT IN ('Fail', 'Failed', 'FAIL', 'FAILED')\n",
    "    GROUP BY 1,2,3\n",
    "    ORDER BY 1,2,3;\n",
    "    ''', Dumpdb)\n",
    "    wallet_api_mom.head(20)\n",
    "    load_table('gold', 'wallet_api_mom', wallet_api_mom)\n",
    "\n",
    "    \n",
    "else:\n",
    "    pass  "
   ]
  },
  {
   "cell_type": "code",
   "execution_count": 0,
   "metadata": {
    "application/vnd.databricks.v1+cell": {
     "cellMetadata": {
      "byteLimit": 2048000,
      "rowLimit": 10000
     },
     "inputWidgets": {},
     "nuid": "548e57d2-b442-493a-8194-015d6870bb27",
     "showTitle": false,
     "title": ""
    },
    "tags": []
   },
   "outputs": [],
   "source": [
    "%%time\n",
    "wallet_api_mtd = pd.read_sql(f'''\n",
    "SELECT \n",
    "CAST(LEFT(msc.DATE, 10) AS DATE) AS DATE,\n",
    "msc.SUBSCRIBER_USERNAME AS subscriber,\n",
    "case when msc.API_RESOURCE_CONSUMED IN ('/bvn/basic', '/bvn/premium') AND msc.RESOURCE_VALUE LIKE '%/%' then \n",
    "  CONCAT(msc.API_RESOURCE_CONSUMED,'-account') ELSE msc.API_RESOURCE_CONSUMED END AS resource_consumed,\n",
    "COUNT(*) AS COUNT,\n",
    "NOW() AS load_date\n",
    "FROM MS_SUBSCRIBERS_CALLS msc \n",
    "WHERE LEFT(msc.DATE, 7) = LEFT(NOW(), 7)\n",
    "and msc.SUBSCRIBER_USERNAME not in ('b.daniel','Victor Nwaka','v.nwaka','tunde_vfd_test')\n",
    "AND msc.RESPONSE_STATUS NOT IN ('Fail', 'Failed', 'FAIL', 'FAILED')\n",
    "GROUP BY 1,2,3\n",
    "ORDER BY 1,2,3;\n",
    "''', Dumpdb)\n",
    "wallet_api_mtd.head()\n",
    "load_table('gold', 'wallet_api_mtd', wallet_api_mtd)"
   ]
  },
  {
   "cell_type": "code",
   "execution_count": 0,
   "metadata": {
    "application/vnd.databricks.v1+cell": {
     "cellMetadata": {
      "byteLimit": 2048000,
      "rowLimit": 10000
     },
     "inputWidgets": {},
     "nuid": "c66d1ed7-dcb3-45d1-aed5-c46dae7f14e0",
     "showTitle": false,
     "title": ""
    },
    "tags": []
   },
   "outputs": [],
   "source": [
    "%%time\n",
    "if day == RUNDAY:\n",
    "    vbiz_payment_mom = pd.read_sql(f'''\n",
    "    SELECT LEFT(p.createdAt,7) AS MONTH,\n",
    "    COUNT(*) AS Volume,\n",
    "    SUM(p.amount) AS VALUE,\n",
    "    NOW() AS load_date\n",
    "    FROM payment p\n",
    "    WHERE p.`status` = 'success'\n",
    "    AND LEFT(p.createdAt,7) < LEFT(NOW(), 7)\n",
    "    GROUP BY 1\n",
    "    ORDER BY 1;\n",
    "\n",
    "    ''', vbizdb)\n",
    "    vbiz_payment_mom.head()\n",
    "    load_table('gold', 'vbiz_payment_mom', vbiz_payment_mom)\n",
    "    \n",
    "else:\n",
    "    pass  "
   ]
  },
  {
   "cell_type": "code",
   "execution_count": 0,
   "metadata": {
    "application/vnd.databricks.v1+cell": {
     "cellMetadata": {
      "byteLimit": 2048000,
      "rowLimit": 10000
     },
     "inputWidgets": {},
     "nuid": "89ddc618-a1fb-4727-b157-c9404fa51c5d",
     "showTitle": false,
     "title": ""
    },
    "tags": []
   },
   "outputs": [],
   "source": [
    "%%time\n",
    "vbiz_payment_mtd = pd.read_sql(f'''\n",
    "SELECT CAST(LEFT(p.createdAt,10) AS DATE) AS DATE,\n",
    "COUNT(*) AS Volume,\n",
    "SUM(p.amount) AS VALUE,\n",
    "NOW() AS load_date\n",
    "FROM payment p\n",
    "WHERE p.`status` = 'success'\n",
    "AND LEFT(p.createdAt,4) = LEFT(NOW(), 4)\n",
    "GROUP BY 1\n",
    "ORDER BY 1;\n",
    "''', vbizdb)\n",
    "vbiz_payment_mtd.head()\n",
    "load_table('gold', 'vbiz_payment_mtd', vbiz_payment_mtd)"
   ]
  },
  {
   "cell_type": "code",
   "execution_count": 0,
   "metadata": {
    "application/vnd.databricks.v1+cell": {
     "cellMetadata": {
      "byteLimit": 2048000,
      "rowLimit": 10000
     },
     "inputWidgets": {},
     "nuid": "18a0e2b3-cc61-44e5-9b7c-d34767679b88",
     "showTitle": false,
     "title": ""
    }
   },
   "outputs": [],
   "source": [
    "%%time\n",
    "if day == RUNDAY:\n",
    "    nomiworld_e_voucher_mom = pd.read_sql(f'''\n",
    "    select left(dat.transaction_date, 7) as month, \n",
    "    replace(replace(replace(dat.third_party_name, 'NOMIWORLD|',''), '|429', ''), '|133', '')  as e_voucher, \n",
    "    count(*) as Volume, \n",
    "    sum(dat.amount) as value,\n",
    "    getdate() as load_date\n",
    "    from dwh_all_transactions dat\n",
    "    where left(dat.transaction_date, 7) < left(getdate(), 7)\n",
    "    and dat.partners  = 'NOMIWORLD'\n",
    "    and dat.response_code  = '0'\n",
    "    group by 1,2\n",
    "    order by 1,2;\n",
    "    ''', conn)\n",
    "    nomiworld_e_voucher_mom.head()\n",
    "    load_table('gold', 'nomiworld_e_voucher_mom', nomiworld_e_voucher_mom) \n",
    "    \n",
    "else:\n",
    "    pass  "
   ]
  },
  {
   "cell_type": "code",
   "execution_count": 0,
   "metadata": {
    "application/vnd.databricks.v1+cell": {
     "cellMetadata": {
      "byteLimit": 2048000,
      "rowLimit": 10000
     },
     "inputWidgets": {},
     "nuid": "d4093aed-b1dc-4f5a-9551-f466377c6325",
     "showTitle": false,
     "title": ""
    },
    "tags": []
   },
   "outputs": [],
   "source": [
    "%%time\n",
    "nomiworld_e_voucher_mtd = pd.read_sql(f'''\n",
    "select CAST(left(dat.transaction_date, 10) AS DATE) AS DATE, \n",
    "replace(replace(replace(dat.third_party_name, 'NOMIWORLD|',''), '|429', ''), '|133', '')  as e_voucher, \n",
    "count(*) as Volume, \n",
    "sum(dat.amount) as value,\n",
    "getdate() as load_date\n",
    "from dwh_all_transactions dat\n",
    "where left(dat.transaction_date, 4) = left(getdate(), 4)\n",
    "and dat.partners  = 'NOMIWORLD'\n",
    "and dat.response_code  = '0'\n",
    "group by 1,2\n",
    "order by 1,2;\n",
    "''', conn)\n",
    "nomiworld_e_voucher_mtd.head()\n",
    "load_table('gold', 'nomiworld_e_voucher_mtd', nomiworld_e_voucher_mtd)"
   ]
  },
  {
   "cell_type": "code",
   "execution_count": 0,
   "metadata": {
    "application/vnd.databricks.v1+cell": {
     "cellMetadata": {
      "byteLimit": 2048000,
      "rowLimit": 10000
     },
     "inputWidgets": {},
     "nuid": "412b732c-74f1-4308-bc98-f65491c436da",
     "showTitle": false,
     "title": ""
    },
    "tags": []
   },
   "outputs": [],
   "source": [
    "%%time\n",
    "disbursed = pd.read_sql(f'''\n",
    "SELECT CAST(ml.disbursedon_date AS DATE) AS date,\n",
    "SUM(ml.principal_disbursed_derived) as Total_Disbursed\n",
    "FROM m_loan ml \n",
    "WHERE left(ml.disbursedon_date,10) < CURDATE()\n",
    "AND ml.disbursedon_date IS NOT NULL\n",
    "GROUP BY 1\n",
    "ORDER BY 1;\n",
    "''', Mifosdb)\n",
    "disbursed['date'] = pd.to_datetime(disbursed['date'])\n",
    "\n",
    "expected = pd.read_sql(f'''\n",
    "SELECT \n",
    "mlrs.duedate AS date,\n",
    "SUM(mlrs.principal_amount + mlrs.interest_amount) AS Expected_Repayment_Amount\n",
    "FROM m_loan_repayment_schedule mlrs\n",
    "GROUP BY 1\n",
    "ORDER BY 1;\n",
    "''', Mifosdb)\n",
    "expected['date'] = pd.to_datetime(expected['date'])\n",
    "\n",
    "\n",
    "actual = pd.read_sql(f'''\n",
    "SELECT \n",
    "mlt.transaction_date AS date,\n",
    "SUM(mlt.amount) AS Actual_Repayment_Amount\n",
    "FROM m_loan_transaction mlt\n",
    "WHERE mlt.transaction_type_enum = 2\n",
    "GROUP BY 1\n",
    "ORDER BY 1;\n",
    "''', Mifosdb)\n",
    "actual['date'] = pd.to_datetime(actual['date'])\n",
    "\n",
    "loan_disbursed_expected_actual_dod = df.merge(disbursed, how='left', on=\"date\")\n",
    "loan_disbursed_expected_actual_dod = loan_disbursed_expected_actual_dod.merge(expected, how='left', on=\"date\")\n",
    "loan_disbursed_expected_actual_dod = loan_disbursed_expected_actual_dod.merge(actual, how='left', on=\"date\")\n",
    "loan_disbursed_expected_actual_dod.fillna(0, inplace=True)\n",
    "loan_disbursed_expected_actual_dod['load_date'] = datetime.datetime.now()\n",
    "loan_disbursed_expected_actual_dod.head()\n",
    "\n",
    "load_table('gold', 'loan_disbursed_expected_actual_dod', loan_disbursed_expected_actual_dod)"
   ]
  }
 ],
 "metadata": {
  "application/vnd.databricks.v1+notebook": {
   "dashboards": [],
   "environmentMetadata": null,
   "language": "python",
   "notebookMetadata": {
    "pythonIndentUnit": 4
   },
   "notebookName": "gold_product",
   "widgets": {}
  },
  "kernelspec": {
   "display_name": "Python 3 (ipykernel)",
   "language": "python",
   "name": "python3"
  },
  "language_info": {
   "codemirror_mode": {
    "name": "ipython",
    "version": 3
   },
   "file_extension": ".py",
   "mimetype": "text/x-python",
   "name": "python",
   "nbconvert_exporter": "python",
   "pygments_lexer": "ipython3",
   "version": "3.8.16"
  }
 },
 "nbformat": 4,
 "nbformat_minor": 0
}
