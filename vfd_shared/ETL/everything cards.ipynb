{
 "cells": [
  {
   "cell_type": "code",
   "execution_count": 0,
   "metadata": {
    "application/vnd.databricks.v1+cell": {
     "cellMetadata": {
      "byteLimit": 2048000,
      "rowLimit": 10000
     },
     "inputWidgets": {},
     "nuid": "c055051c-f84f-420e-8cea-beebb962ed51",
     "showTitle": false,
     "title": ""
    }
   },
   "outputs": [],
   "source": [
    "print(\"Healthy\")"
   ]
  },
  {
   "cell_type": "code",
   "execution_count": 0,
   "metadata": {
    "application/vnd.databricks.v1+cell": {
     "cellMetadata": {
      "byteLimit": 2048000,
      "rowLimit": 10000
     },
     "inputWidgets": {},
     "nuid": "72fe9809-62a1-4440-a61f-9f55982d9516",
     "showTitle": false,
     "title": ""
    },
    "tags": []
   },
   "outputs": [],
   "source": [
    "from re import search\n",
    "from sqlalchemy import create_engine\n",
    "import duckdb\n",
    "\n",
    "import pandas as pd \n",
    "import numpy as np \n",
    "import mysql.connector\n",
    "\n",
    "\n",
    "pd.set_option('display.max_columns', None)\n",
    "\n",
    "\n",
    "import geopy\n",
    "from geopy.geocoders import ArcGIS, Nominatim\n",
    "\n",
    "import warnings\n",
    "warnings.filterwarnings('ignore')\n",
    "\n",
    "import json\n",
    "import json\n",
    "with open('/Workspace/Credentials/db_data.json', 'r') as fp:\n",
    "    data = json.load(fp)\n",
    "\n",
    "Dumpdb = mysql.connector.connect(\n",
    "  host=data['Dumpdb']['host'],\n",
    "  user=data['Dumpdb']['user'],\n",
    "  passwd=data['Dumpdb']['passwd'],\n",
    "  database = data['Dumpdb']['database']\n",
    ")\n",
    "\n",
    "\n",
    "Mifosdb = mysql.connector.connect(\n",
    "  host=data['mifos']['host'],\n",
    "  user=data['mifos']['user'],\n",
    "  passwd=data['mifos']['passwd'],\n",
    "  database = data['mifos']['database']\n",
    ")\n",
    "\n",
    "\n",
    "vbizdb = mysql.connector.connect(\n",
    "     host=data['vbizdb']['host'],\n",
    "  user=data['vbizdb']['user'],\n",
    "  passwd=data['vbizdb']['passwd'],\n",
    "  database = data['vbizdb']['database']\n",
    ")\n",
    "\n",
    "\n",
    "host = data['redshift']['host']\n",
    "user = data['redshift']['user']\n",
    "passwd = data['redshift']['passwd']\n",
    "database = data['redshift']['database']\n",
    "\n",
    "conn = create_engine(f\"postgresql+psycopg2://{user}:{passwd}@{host}:5439/{database}\")\n",
    "engine = conn\n",
    "\n",
    "pd.set_option('display.float_format', lambda x: '%.2f' % x)\n",
    "\n",
    "from datetime import datetime, timedelta\n",
    "today = datetime.today().strftime('%Y-%m-%d')\n",
    "yesterday =  (datetime.today() - timedelta(days = 1)).strftime('%Y-%m-%d')\n",
    "print(today)\n",
    "print(yesterday)\n",
    "\n",
    "\n",
    "last_2_wks = datetime.today() - timedelta(days = 14)\n",
    "last_2_wks = last_2_wks.strftime('%Y-%m-%d')\n",
    "print('------------------------------------')\n",
    "print(last_2_wks)\n",
    "\n",
    "print('\\n')\n",
    "now = datetime.today().strftime('%Y-%m-%d %H:%M:%S')\n",
    "\n",
    "last_30_mins = (datetime.today() - timedelta(days = 1)).strftime('%Y-%m-%d %H:%M:%S')\n",
    "trunc_last_30_mins = (datetime.today() - timedelta(days = 1)).strftime('%Y-%m-%d %H:%M')\n",
    "print(last_30_mins, 'to', now)"
   ]
  },
  {
   "cell_type": "code",
   "execution_count": 0,
   "metadata": {
    "application/vnd.databricks.v1+cell": {
     "cellMetadata": {
      "byteLimit": 2048000,
      "rowLimit": 10000
     },
     "inputWidgets": {},
     "nuid": "6832aa9c-73e5-4ecb-97e8-b6a5b77ffbcf",
     "showTitle": false,
     "title": ""
    },
    "tags": []
   },
   "outputs": [],
   "source": [
    "# all produced cards \n",
    "cvd = pd.read_sql_query(f'''\n",
    "                select\n",
    "                ID as id, \n",
    "                PAN_DATA as pan_data, \n",
    "                MASKED_PAN as masked_pan, \n",
    "                EXPIRY_DATE as expiry_date_code, \n",
    "                CUSTOMER_DATA_1,\n",
    "                CUSTOMER_DATA_2, \n",
    "                C_STATUS as card_status, \n",
    "                DATE_CREATED as created_date, \n",
    "               ACCOUNT_NO as account_no,\n",
    "               ACCOUNT_ID as account_id, \n",
    "               CLIENT_ID as client_id, \n",
    "               MOBILE_NO as mobile_no, \n",
    "               PAN_TYPE as pan_type\n",
    "                from CM_VERVE_DETAILS\n",
    "                ''', Dumpdb)\n",
    "details = pd.read_sql(f'''\n",
    "                select\n",
    "                client_id,\n",
    "                client_name,\n",
    "                email_address\n",
    "                from dwh_all_clients dac\n",
    "                where client_id in ({','.join([str(x) for x in cvd['client_id'].tolist()])})\n",
    "              ''', conn)\n",
    "\n",
    "details['client_id'] = details['client_id'].astype(str)\n",
    "\n",
    "final = pd.merge(cvd, details, on = 'client_id', how ='left')\n",
    "\n",
    "final"
   ]
  },
  {
   "cell_type": "code",
   "execution_count": 0,
   "metadata": {
    "application/vnd.databricks.v1+cell": {
     "cellMetadata": {
      "byteLimit": 2048000,
      "rowLimit": 10000
     },
     "inputWidgets": {},
     "nuid": "4679026b-6d71-4a4d-8641-1e6dc9744231",
     "showTitle": false,
     "title": ""
    },
    "tags": []
   },
   "outputs": [],
   "source": [
    "#final['expiry_date'] = ['20'+code[:2]+'-'+code[2:]+'-'+'01' for code in final['expiry_date_code']]\n",
    "#final['expiry_date'] = [datetime.strptime(date, '%Y-%m-%d') for date in final['expiry_date']]\n",
    "final"
   ]
  },
  {
   "cell_type": "code",
   "execution_count": 0,
   "metadata": {
    "application/vnd.databricks.v1+cell": {
     "cellMetadata": {
      "byteLimit": 2048000,
      "rowLimit": 10000
     },
     "inputWidgets": {},
     "nuid": "7e81ef94-53e4-4453-b95e-f0f4c3264efb",
     "showTitle": false,
     "title": ""
    },
    "tags": []
   },
   "outputs": [],
   "source": [
    "#inval = final[final['expiry_date'] == '2000-01']\n",
    "inval = final\n",
    "inval.to_excel(\"/Workspace/ReportDump/ETL_JOBS_FILES/Invalid card expiry dates.xlsx\", index = False)"
   ]
  },
  {
   "cell_type": "code",
   "execution_count": 0,
   "metadata": {
    "application/vnd.databricks.v1+cell": {
     "cellMetadata": {
      "byteLimit": 2048000,
      "rowLimit": 10000
     },
     "inputWidgets": {},
     "nuid": "b294795d-5236-42e3-98f0-97828c2c4686",
     "showTitle": false,
     "title": ""
    },
    "tags": []
   },
   "outputs": [],
   "source": [
    "final['expiry_date_code'].dtype"
   ]
  },
  {
   "cell_type": "code",
   "execution_count": 0,
   "metadata": {
    "application/vnd.databricks.v1+cell": {
     "cellMetadata": {
      "byteLimit": 2048000,
      "rowLimit": 10000
     },
     "inputWidgets": {},
     "nuid": "8818bada-8b3c-4c4b-ba94-4f38fd37074e",
     "showTitle": false,
     "title": ""
    },
    "tags": []
   },
   "outputs": [],
   "source": [
    "import os \n",
    "os.getcwd()"
   ]
  },
  {
   "cell_type": "markdown",
   "metadata": {
    "application/vnd.databricks.v1+cell": {
     "cellMetadata": {
      "byteLimit": 2048000,
      "rowLimit": 10000
     },
     "inputWidgets": {},
     "nuid": "2372591d-d8f5-41ec-a482-05ce013cc7b7",
     "showTitle": false,
     "title": ""
    }
   },
   "source": [
    "Virtual and Physical requests/produced cards from January to June 2023.\n",
    "\n",
    "Should have count and value with delivery address of physical Cards\n",
    "\n",
    "Failure report for Mobile and Cards. response code and error on column, while Montly volume and value on the rows"
   ]
  },
  {
   "cell_type": "code",
   "execution_count": 0,
   "metadata": {
    "application/vnd.databricks.v1+cell": {
     "cellMetadata": {
      "byteLimit": 2048000,
      "rowLimit": 10000
     },
     "inputWidgets": {},
     "nuid": "d46988d3-ba42-48fe-9df6-cbcc0d5e4746",
     "showTitle": false,
     "title": ""
    }
   },
   "outputs": [],
   "source": [
    "%%time\n",
    "final.to_sql('dwh_card_produced', engine, index = False, if_exists = 'replace', chunksize= 10000, method = 'multi')"
   ]
  },
  {
   "cell_type": "markdown",
   "metadata": {
    "application/vnd.databricks.v1+cell": {
     "cellMetadata": {
      "byteLimit": 2048000,
      "rowLimit": 10000
     },
     "inputWidgets": {},
     "nuid": "d6d32d6e-c694-45de-a0e9-bac17b5cea7d",
     "showTitle": false,
     "title": ""
    }
   },
   "source": [
    "\n",
    "Report of all card requests via the VBank app from November 2022 till date\n",
    " \n",
    "\n",
    "Request Date\n",
    "\n",
    "Balance on Request\n",
    "\n",
    "Name\n",
    "\n",
    "Email\n",
    "\n",
    "Phone\n",
    "\n",
    "Account Number\n",
    "\n",
    "Delivery Address\n",
    "\n",
    " \n",
    "\n",
    "Report of all accounts with POS on MIFOs as at date\n",
    "client_name\n",
    "\n",
    "account_no\n",
    "\n",
    "pos_type\n",
    "\n",
    "terminal_id\n",
    "\n",
    "PRODUCT NAME\n",
    "\n",
    "MSC_percent\n",
    "\n",
    "POS Configuration Date\n",
    "\n"
   ]
  },
  {
   "cell_type": "code",
   "execution_count": 0,
   "metadata": {
    "application/vnd.databricks.v1+cell": {
     "cellMetadata": {
      "byteLimit": 2048000,
      "rowLimit": 10000
     },
     "inputWidgets": {},
     "nuid": "eddb7805-745d-4f22-ac8f-9ccd70e2268f",
     "showTitle": false,
     "title": ""
    },
    "tags": []
   },
   "outputs": [],
   "source": [
    "cdrqst = pd.read_sql_query(f'''\n",
    "                select\n",
    "                ID as id, \n",
    "                NAME as client_name, \n",
    "                EMAIL as email_address, \n",
    "                PHONE as mobile_no, \n",
    "                ACCOUNT_NUMBER as account_no, \n",
    "                ACCOUNT_BALANCE as account_balance,\n",
    "                DELIVERY_ADDRESS as delivery_address, \n",
    "                DATE_CREATED as date_requested, \n",
    "                RESOURCE_ID as transaction_id\n",
    "                from CARD_REQUEST\n",
    "                -- where left(date_created, 7) = '2023-07'\n",
    "                ''', Dumpdb)\n",
    "\n",
    "cdrqst"
   ]
  },
  {
   "cell_type": "code",
   "execution_count": 0,
   "metadata": {
    "application/vnd.databricks.v1+cell": {
     "cellMetadata": {
      "byteLimit": 2048000,
      "rowLimit": 10000
     },
     "inputWidgets": {},
     "nuid": "b57c05bb-c6bd-4b92-b48e-f11590b1cd4e",
     "showTitle": false,
     "title": ""
    },
    "tags": []
   },
   "outputs": [],
   "source": [
    "# cdrqst[(cdrqst['transaction_id'].notna()) & (cdrqst['transaction_id'] != '')]"
   ]
  },
  {
   "cell_type": "code",
   "execution_count": 0,
   "metadata": {
    "application/vnd.databricks.v1+cell": {
     "cellMetadata": {
      "byteLimit": 2048000,
      "rowLimit": 10000
     },
     "inputWidgets": {},
     "nuid": "42723b32-98cc-4d3a-9b36-d83bda6f9d05",
     "showTitle": false,
     "title": ""
    },
    "tags": []
   },
   "outputs": [],
   "source": [
    "tid = cdrqst[(cdrqst['transaction_id'].notna()) & (cdrqst['transaction_id'] != '')]['transaction_id']\n",
    "chrg = pd.read_sql_query(f'''\n",
    "                        select\n",
    "                        client_id,\n",
    "                        transaction_id,\n",
    "                        amount as amount_charged,\n",
    "                        transaction_remarks\n",
    "                        from dwh_all_transactions\n",
    "                        where transaction_id in ({','.join([str(x) for x in tid])})\n",
    "                        group by 1, 2, 3, 4\n",
    "                        ''', conn)\n",
    "chrg['transaction_id'] = chrg['transaction_id'].astype(str)"
   ]
  },
  {
   "cell_type": "code",
   "execution_count": 0,
   "metadata": {
    "application/vnd.databricks.v1+cell": {
     "cellMetadata": {
      "byteLimit": 2048000,
      "rowLimit": 10000
     },
     "inputWidgets": {},
     "nuid": "7b42abc1-f46d-42bf-9ff3-149f2fc3b0d2",
     "showTitle": false,
     "title": ""
    },
    "tags": []
   },
   "outputs": [],
   "source": [
    "cdrqst = pd.merge(cdrqst, chrg, on = 'transaction_id', how = 'left')\n",
    "\n",
    "conditions = [\n",
    "    cdrqst['amount_charged'] <= 1000,\n",
    "    cdrqst['amount_charged'] > 1000\n",
    "]\n",
    "\n",
    "choices = ['Virtual', 'Physical']\n",
    "\n",
    "cdrqst['card_type'] = np.select(conditions, choices, default='Unclassified')\n",
    "cdrqst"
   ]
  },
  {
   "cell_type": "code",
   "execution_count": 0,
   "metadata": {
    "application/vnd.databricks.v1+cell": {
     "cellMetadata": {
      "byteLimit": 2048000,
      "rowLimit": 10000
     },
     "inputWidgets": {},
     "nuid": "481d351e-4b3e-4ef4-9586-e9c960380832",
     "showTitle": false,
     "title": ""
    },
    "tags": []
   },
   "outputs": [],
   "source": [
    "# with pd.ExcelWriter(\"C:/Users/babatunde.omotayo/Downloads/V_bank_tasks/misc folder/Billy/Virtual cards request details Jul-2023.xlsx\") as writer:\n",
    "#     vc.to_excel(writer, sheet_name = 'Sheet 1', index = False)"
   ]
  },
  {
   "cell_type": "code",
   "execution_count": 0,
   "metadata": {
    "application/vnd.databricks.v1+cell": {
     "cellMetadata": {
      "byteLimit": 2048000,
      "rowLimit": 10000
     },
     "inputWidgets": {},
     "nuid": "5218e3f4-6a76-4cbd-acaf-76a46153a88e",
     "showTitle": false,
     "title": ""
    },
    "tags": []
   },
   "outputs": [],
   "source": [
    "%%time\n",
    "## drop existing card request table\n",
    "q  = '''\n",
    "DROP TABLE dwh_card_requests CASCADE;\n",
    "'''\n",
    "with engine.begin() as conn:     \n",
    "    conn.execute(q)\n",
    "print('dwh_card_requests dropped successfully!\\n')\n",
    "\n",
    "\n",
    "## replace table\n",
    "cdrqst.to_sql('dwh_card_requests', engine, index = False, if_exists = 'replace', chunksize= 10000, method = 'multi')\n",
    "print('dwh_card_requests replaced successfully!')"
   ]
  },
  {
   "cell_type": "markdown",
   "metadata": {
    "application/vnd.databricks.v1+cell": {
     "cellMetadata": {
      "byteLimit": 2048000,
      "rowLimit": 10000
     },
     "inputWidgets": {},
     "nuid": "8e32310d-606c-4715-a608-2a51bacbadd5",
     "showTitle": false,
     "title": ""
    }
   },
   "source": [
    "### Card Transactions"
   ]
  },
  {
   "cell_type": "code",
   "execution_count": 0,
   "metadata": {
    "application/vnd.databricks.v1+cell": {
     "cellMetadata": {
      "byteLimit": 2048000,
      "rowLimit": 10000
     },
     "inputWidgets": {},
     "nuid": "3e83fc6b-c886-42a6-a978-a1e45ccfa8c9",
     "showTitle": false,
     "title": ""
    },
    "tags": []
   },
   "outputs": [],
   "source": [
    "## initialize DB connection afresh\n",
    "host = data['redshift']['host']\n",
    "user = data['redshift']['user']\n",
    "passwd = data['redshift']['passwd']\n",
    "database = data['redshift']['database']\n",
    "\n",
    "conn = create_engine(f\"postgresql+psycopg2://{user}:{passwd}@{host}:5439/{database}\")\n",
    "engine = conn"
   ]
  },
  {
   "cell_type": "code",
   "execution_count": 0,
   "metadata": {
    "application/vnd.databricks.v1+cell": {
     "cellMetadata": {
      "byteLimit": 2048000,
      "rowLimit": 10000
     },
     "inputWidgets": {},
     "nuid": "ead0a723-4ed8-4e41-80d4-4d6a3fc81565",
     "showTitle": false,
     "title": ""
    },
    "tags": []
   },
   "outputs": [],
   "source": [
    "## existing cards trxns \n",
    "ltr = pd.read_sql(f'''\n",
    "                select\n",
    "                max(id) as ltid\n",
    "                from dwh_card_transactions dct\n",
    "                ''', conn)\n",
    "\n",
    "ltid = ltr['ltid'].unique()[0]\n",
    "print(ltid)"
   ]
  },
  {
   "cell_type": "code",
   "execution_count": 0,
   "metadata": {
    "application/vnd.databricks.v1+cell": {
     "cellMetadata": {
      "byteLimit": 2048000,
      "rowLimit": 10000
     },
     "inputWidgets": {},
     "nuid": "52fa2e1f-0878-40ac-b21a-f81c1580f726",
     "showTitle": false,
     "title": ""
    }
   },
   "outputs": [],
   "source": [
    "%%time\n",
    "ctrans = pd.read_sql(f'''\n",
    "            select\n",
    "            *\n",
    "            from TM_VERVE_TRANSACTIONS \n",
    "            where id > {ltid}\n",
    "            ''', Dumpdb)\n",
    "\n",
    "ctrans = pd.DataFrame([row[1:] for row in ctrans.itertuples()], columns = [col.lower() for col in ctrans.columns])\n",
    "ctrans.rename(columns = {'source_accountno': 'account_no'}, inplace = True)\n",
    "\n",
    "if len(ctrans) >= 1:\n",
    "\n",
    "    det = pd.read_sql(f'''\n",
    "                select\n",
    "                ifnull(mc.id, mg.id) as client_id,\n",
    "                ifnull(replace(mc.display_name, 'null', ''), mg.display_name) as client_name,\n",
    "                sa.account_no\n",
    "                from m_savings_account sa\n",
    "                left join m_client mc on mc.id = sa.client_id\n",
    "                left join m_group mg on mg.id = sa.group_id\n",
    "                where sa.account_no in ({','.join([str(x) for x in ctrans['account_no'].tolist()])})\n",
    "                ''', Mifosdb)\n",
    "    final_trans = pd.merge(ctrans, det, on = 'account_no', how = 'left')\n",
    "    final_trans['field_127'] = final_trans['field_127'].fillna('0')\n",
    "    final_trans['error_message'] = final_trans['error_message'].fillna('0')\n",
    "    final_trans['field_127'] = [i[:256] for i in final_trans['field_127']]\n",
    "    final_trans['error_message'] = [i[:256] for i in final_trans['error_message']]\n",
    "    \n",
    "\n",
    "    final_trans.to_sql('dwh_card_transactions', engine, index = False, if_exists = 'append', chunksize= 10000, method = 'multi')\n",
    "    \n",
    "    \n",
    "else:\n",
    "    print(\"No card transactions to export at this time!\")\n",
    "    "
   ]
  }
 ],
 "metadata": {
  "application/vnd.databricks.v1+notebook": {
   "dashboards": [],
   "environmentMetadata": null,
   "language": "python",
   "notebookMetadata": {
    "pythonIndentUnit": 4
   },
   "notebookName": "everything cards",
   "widgets": {}
  },
  "kernelspec": {
   "display_name": "Python 3 (ipykernel)",
   "language": "python",
   "name": "python3"
  },
  "language_info": {
   "codemirror_mode": {
    "name": "ipython",
    "version": 3
   },
   "file_extension": ".py",
   "mimetype": "text/x-python",
   "name": "python",
   "nbconvert_exporter": "python",
   "pygments_lexer": "ipython3",
   "version": "3.8.16"
  }
 },
 "nbformat": 4,
 "nbformat_minor": 0
}
