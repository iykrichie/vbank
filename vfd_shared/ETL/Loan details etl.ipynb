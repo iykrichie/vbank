{
 "cells": [
  {
   "cell_type": "code",
   "execution_count": 0,
   "metadata": {
    "application/vnd.databricks.v1+cell": {
     "cellMetadata": {
      "byteLimit": 2048000,
      "rowLimit": 10000
     },
     "inputWidgets": {},
     "nuid": "9a7a1ab0-1449-40b6-820e-a92c39ae18a1",
     "showTitle": false,
     "title": ""
    }
   },
   "outputs": [],
   "source": [
    "print(\"Healthy\")"
   ]
  },
  {
   "cell_type": "code",
   "execution_count": 0,
   "metadata": {
    "application/vnd.databricks.v1+cell": {
     "cellMetadata": {
      "byteLimit": 2048000,
      "rowLimit": 10000
     },
     "inputWidgets": {},
     "nuid": "3a2e42c3-d1b4-4dba-a82a-440207e413e5",
     "showTitle": false,
     "title": ""
    },
    "tags": []
   },
   "outputs": [],
   "source": [
    "import pandas as pd \n",
    "import numpy as np \n",
    "import duckdb\n",
    "from re import search\n",
    "from sqlalchemy import create_engine\n",
    "\n",
    "import warnings\n",
    "warnings.filterwarnings('ignore')\n",
    "\n",
    "\n",
    "from datetime import datetime, timedelta\n",
    "d = datetime.today() - timedelta(days = 1)\n",
    "d = d.strftime('%Y-%m-%d')\n",
    "\n",
    "date = \"'\" + d + \"'\"\n",
    "print(date, d)\n",
    "\n",
    "import smtplib\n",
    "from email.mime.multipart import MIMEMultipart\n",
    "from email.mime.base import MIMEBase\n",
    "from email.mime.text import MIMEText\n",
    "from email import encoders\n",
    "\n",
    "import mysql.connector\n",
    "import json\n",
    "with open('/Workspace/Credentials/db_data.json', 'r') as fp:\n",
    "    data = json.load(fp)\n",
    "\n",
    "Dumpdb = mysql.connector.connect(\n",
    "  host=data['Dumpdb']['host'],\n",
    "  user=data['Dumpdb']['user'],\n",
    "  passwd=data['Dumpdb']['passwd'],\n",
    "  database = data['Dumpdb']['database']\n",
    ")\n",
    "\n",
    "\n",
    "Mifosdb = mysql.connector.connect(\n",
    "  host=data['mifos']['host'],\n",
    "  user=data['mifos']['user'],\n",
    "  passwd=data['mifos']['passwd'],\n",
    "  database = data['mifos']['database']\n",
    ")\n",
    "\n",
    "\n",
    "vbizdb = mysql.connector.connect(\n",
    "  host=data['vbizdb']['host'],\n",
    "  user=data['vbizdb']['user'],\n",
    "  passwd=data['vbizdb']['passwd'],\n",
    "  database = data['vbizdb']['database']\n",
    ")\n",
    "\n",
    "host = data['redshift']['host']\n",
    "user = data['redshift']['user']\n",
    "passwd = data['redshift']['passwd']\n",
    "database = data['redshift']['database']\n",
    "\n",
    "conn = create_engine(f\"postgresql+psycopg2://{user}:{passwd}@{host}:5439/{database}\")\n",
    "\n",
    "\n",
    "pd.set_option('display.float_format', lambda x: '%.2f' % x)\n",
    "pd.set_option('display.max_columns', None)\n"
   ]
  },
  {
   "cell_type": "code",
   "execution_count": 0,
   "metadata": {
    "application/vnd.databricks.v1+cell": {
     "cellMetadata": {
      "byteLimit": 2048000,
      "rowLimit": 10000
     },
     "inputWidgets": {},
     "nuid": "43c6d292-cf84-4636-8933-15ed8e8578c0",
     "showTitle": false,
     "title": ""
    }
   },
   "outputs": [],
   "source": [
    "# Load in credentials\n",
    "with open('/Workspace/Credentials/db_data.json', 'r') as fp:\n",
    "    data = json.load(fp)\n",
    "\n",
    "# MIFOS_DB\n",
    "mifos_driver = \"org.mariadb.jdbc.Driver\"\n",
    "mifos_database_host = data['mifos']['host']\n",
    "mifos_database_port = \"3306\" # update if you use a non-default port\n",
    "mifos_database_name = data['mifos']['database']\n",
    "mifos_user=data['mifos']['user']\n",
    "mifos_password = data['mifos']['passwd']\n",
    "mifos_url = f\"jdbc:mysql://{mifos_database_host}:{mifos_database_port}/{mifos_database_name}\"\n",
    "\n",
    "# REDSHIFT_DWH\n",
    "redshift_driver = \"org.postgresql.Driver\"\n",
    "redshift_host = data['redshift']['host']\n",
    "redshift_db_name = data['redshift']['database']\n",
    "redshift_user = data['redshift']['user']\n",
    "redshift_password = data['redshift']['passwd']\n",
    "redshift_url = f\"jdbc:postgresql://{redshift_host}:5439/{redshift_db_name}\"\n",
    "\n",
    "\n",
    "# redshift connection for dask\n",
    "redshift_conn = f'postgresql://{redshift_user}:{redshift_password}@{redshift_host}:5439/{redshift_db_name}'"
   ]
  },
  {
   "cell_type": "code",
   "execution_count": 0,
   "metadata": {
    "application/vnd.databricks.v1+cell": {
     "cellMetadata": {
      "byteLimit": 2048000,
      "rowLimit": 10000
     },
     "inputWidgets": {},
     "nuid": "d68d513b-f0ab-417b-a714-58e10ce66925",
     "showTitle": false,
     "title": ""
    }
   },
   "outputs": [],
   "source": [
    "def load_table(schema_name, table_name, dataframe):\n",
    "    engine = create_engine(f'postgresql+psycopg2://{redshift_user}:{redshift_password}@{redshift_host}:5439/{redshift_db_name}')\n",
    "    \n",
    "    sql = f'''\n",
    "    CALL truncate_if_exists('{schema_name}', '{table_name}');\n",
    "    '''\n",
    "\n",
    "    with engine.begin() as con:     \n",
    "        con.execute(sql)    \n",
    "\n",
    "    chunk_size = 10000\n",
    "    num_rows = len(dataframe)\n",
    "\n",
    "    conn = create_engine(f'postgresql+psycopg2://{redshift_user}:{redshift_password}@{redshift_host}:5439/{redshift_db_name}')\n",
    "    num_iterations = (num_rows // chunk_size) + 1 if num_rows % chunk_size != 0 else num_rows // chunk_size\n",
    "\n",
    "    for i in range(num_iterations):\n",
    "        start_idx = i * chunk_size\n",
    "        end_idx = (i + 1) * chunk_size if (i + 1) * chunk_size < num_rows else num_rows\n",
    "\n",
    "        chunk_df = dataframe.iloc[start_idx:end_idx]\n",
    "\n",
    "        chunk_df.to_sql(schema= schema_name, name = table_name, con =conn, index = False, if_exists = 'append', chunksize = 5000, method = 'multi')\n",
    "\n",
    "    print(\"Data loaded successfully.\")\n",
    "    "
   ]
  },
  {
   "cell_type": "code",
   "execution_count": 0,
   "metadata": {
    "application/vnd.databricks.v1+cell": {
     "cellMetadata": {
      "byteLimit": 2048000,
      "rowLimit": 10000
     },
     "inputWidgets": {},
     "nuid": "8913b25b-b37e-4669-b612-33ffc8cc5715",
     "showTitle": false,
     "title": ""
    },
    "tags": []
   },
   "outputs": [],
   "source": [
    "%%time\n",
    "ld = pd.read_sql_query(f'''\n",
    "                    select\n",
    "                    ml.id as loan_id,\n",
    "                    ml.account_no,\n",
    "                    ml.external_id,\n",
    "                    ml.client_id,\n",
    "                    ml.group_id,\n",
    "                    replace(ifnull(mc.display_name, mg.display_name), 'null', '') as client_name,\n",
    "                    case when isnull(ml.group_id) then 'No' else 'Yes' end as 'is_group',\n",
    "                    \n",
    "                    ml.glim_id,\n",
    "                    ml.product_id,\n",
    "                    mpl.name as product_name,\n",
    "                    ml.fund_id,\n",
    "                    \n",
    "                    ml.loan_officer_id,\n",
    "                    i.officer_name as loan_officername,\n",
    "                    \n",
    "                    ml.loanpurpose_cv_id,\n",
    "                    g.code_value as loan_purpose,\n",
    "                    \n",
    "                    ml.loan_status_id,\n",
    "                    a.enum_message_property as loan_status,\n",
    "                    \n",
    "                    ml.loan_type_enum,\n",
    "                    lt.enum_message_property as loan_type,\n",
    "                    \n",
    "                    ml.currency_code,\n",
    "                    ml.currency_digits,\n",
    "                    ml.currency_multiplesof,\n",
    "                    ml.principal_amount_proposed,\n",
    "                    ml.principal_amount,\n",
    "                    ml.approved_principal,\n",
    "                    ml.net_disbursal_amount,\n",
    "                    ml.arrearstolerance_amount,\n",
    "                    ml.is_floating_interest_rate,\n",
    "                    ml.interest_rate_differential,\n",
    "                    ml.nominal_interest_rate_per_period,\n",
    "                    \n",
    "                    ml.interest_period_frequency_enum,\n",
    "                    b.enum_message_property as interest_period_frequency,\n",
    "                    \n",
    "                    ml.annual_nominal_interest_rate,\n",
    "                    \n",
    "                    ml.interest_method_enum,\n",
    "                    c.enum_message_property as interest_method,\n",
    "                    \n",
    "                    ml.interest_calculated_in_period_enum,\n",
    "                    d.enum_message_property as interest_calculation_period,\n",
    "                    \n",
    "                    ml.allow_partial_period_interest_calcualtion,\n",
    "                    ml.term_frequency,\n",
    "                    \n",
    "                    ml.term_period_frequency_enum,\n",
    "                    f.enum_message_property as term_period_frequency,\n",
    "                    \n",
    "                    ml.repay_every,\n",
    "                    \n",
    "                    ml.repayment_period_frequency_enum,\n",
    "                    ab.enum_message_property as repayment_period_frequency,\n",
    "                    \n",
    "                    ml.number_of_repayments,\n",
    "                    ml.grace_on_principal_periods,\n",
    "                    ml.recurring_moratorium_principal_periods,\n",
    "                     ml.grace_on_interest_periods,\n",
    "                     ml.grace_interest_free_periods,\n",
    "                     \n",
    "                     ml.amortization_method_enum,\n",
    "                     am.enum_message_property as amortization_method,\n",
    "                     \n",
    "                     ml.submittedon_date,\n",
    "                     \n",
    "                     ml.submittedon_userid,\n",
    "                     j.officer_name as submitted_by_officername,\n",
    "                     \n",
    "                     ml.approvedon_date,\n",
    "                     ml.approvedon_userid,\n",
    "                     k.officer_name as approved_by_officername,\n",
    "                     \n",
    "                     ml.expected_disbursedon_date,\n",
    "                     ml.expected_firstrepaymenton_date,\n",
    "                     ml.interest_calculated_from_date,\n",
    "                     ml.disbursedon_date,\n",
    "                     ml.disbursedon_userid,\n",
    "                     l.officer_name as disbursed_by_officername,\n",
    "                     \n",
    "                     ml.expected_maturedon_date,\n",
    "                     ml.maturedon_date,\n",
    "                     ml.closedon_date,\n",
    "                     \n",
    "                     ml.closedon_userid,\n",
    "                     m.officer_name as closed_by_officername,\n",
    "                     \n",
    "                     ml.total_charges_due_at_disbursement_derived,\n",
    "                     ml.principal_disbursed_derived,\n",
    "                     ml.principal_repaid_derived,\n",
    "                     ml.principal_writtenoff_derived,\n",
    "                     ml.principal_outstanding_derived,\n",
    "                     ml.interest_charged_derived,\n",
    "                     ml.interest_repaid_derived,\n",
    "                     ml.interest_waived_derived,\n",
    "                     ml.interest_writtenoff_derived,\n",
    "                     ml.interest_outstanding_derived,\n",
    "                     ml.fee_charges_charged_derived,\n",
    "                     ml.fee_charges_repaid_derived,\n",
    "                     ml.fee_charges_waived_derived,\n",
    "                     ml.fee_charges_writtenoff_derived,\n",
    "                     ml.fee_charges_outstanding_derived,\n",
    "                     ml.penalty_charges_charged_derived,\n",
    "                     ml.penalty_charges_repaid_derived,\n",
    "                     ml.penalty_charges_waived_derived,\n",
    "                     ml.penalty_charges_writtenoff_derived,\n",
    "                     ml.penalty_charges_outstanding_derived,\n",
    "                     ml.total_expected_repayment_derived,\n",
    "                     ml.total_repayment_derived,\n",
    "                     ml.total_expected_costofloan_derived,\n",
    "                     ml.total_costofloan_derived,\n",
    "                    ml.total_waived_derived,\n",
    "                     ml.total_writtenoff_derived,\n",
    "                     ml.total_outstanding_derived,\n",
    "                     ml.total_overpaid_derived,\n",
    "                     ml.rejectedon_date,\n",
    "                     \n",
    "                     ml.rejectedon_userid,\n",
    "                     n.officer_name as rejected_by_officername,\n",
    "                     \n",
    "                     ml.rescheduledon_date,\n",
    "                     \n",
    "                     ml.rescheduledon_userid,\n",
    "                     o.officer_name as rescheduled_by_officername,\n",
    "                     \n",
    "                     ml.withdrawnon_date,\n",
    "                     \n",
    "                     ml.withdrawnon_userid,\n",
    "                     p.officer_name as withdrawn_by_officername,\n",
    "                     \n",
    "                     ml.writtenoffon_date,\n",
    "                     \n",
    "                     \n",
    "                     ml.loan_transaction_strategy_id,\n",
    "                     e.enum_message_property as loan_transaction_strategy,\n",
    "                     \n",
    "                     ml.sync_disbursement_with_meeting,\n",
    "                     ml.loan_counter,\n",
    "                     ml.loan_product_counter,\n",
    "                     ml.fixed_emi_amount,\n",
    "                     ml.max_outstanding_loan_balance,\n",
    "                     ml.grace_on_arrears_ageing,\n",
    "                     ml.is_npa,\n",
    "                     ml.total_recovered_derived,\n",
    "                     ml.accrued_till,\n",
    "                     ml.interest_recalcualated_on,\n",
    "                     ml.days_in_month_enum,\n",
    "                     ml.days_in_year_enum,\n",
    "                     ml.interest_recalculation_enabled,\n",
    "                     ml.guarantee_amount_derived,\n",
    "                     ml.create_standing_instruction_at_disbursement,\n",
    "                     ml.version,\n",
    "                     ml.writeoff_reason_cv_id,\n",
    "                     h.code_value as writeoff_reason,\n",
    "                     \n",
    "                     ml.loan_sub_status_id,\n",
    "                     ml.is_topup,\n",
    "                     ml.is_equal_amortization,\n",
    "                     ml.fixed_principal_percentage_per_installment,\n",
    "                     now() as load_date\n",
    "\n",
    "                    from m_loan ml\n",
    "                    left join m_client mc on mc.id = ml.client_id\n",
    "                    left join m_group mg on mg.id = ml.group_id\n",
    "                    left join m_product_loan mpl  on mpl.id = ml.product_id\n",
    "\n",
    "                    left join (select enum_id, enum_message_property from r_enum_value where enum_name = 'loan_status_id') a on a.enum_id = ml.loan_status_id\n",
    "                    \n",
    "                    left join (select enum_id, enum_message_property from r_enum_value where enum_name = 'loan_type_enum') lt on lt.enum_id = ml.loan_type_enum\n",
    "                    \n",
    "                    left join (select enum_id, enum_message_property from r_enum_value where enum_name = 'interest_period_frequency_enum') b on b.enum_id = ml.interest_period_frequency_enum\n",
    "                    \n",
    "                    left join (select enum_id, enum_message_property from r_enum_value where enum_name = 'interest_method_enum') c on c.enum_id = ml.interest_method_enum\n",
    "                    \n",
    "                    left join (select enum_id, enum_message_property from r_enum_value where enum_name = 'interest_calculated_in_period_enum') d on d.enum_id = ml.interest_calculated_in_period_enum                    \n",
    "                    \n",
    "                    left join (select enum_id, enum_message_property from r_enum_value where enum_name = 'loan_transaction_strategy_id') e on e.enum_id = ml.loan_transaction_strategy_id \n",
    "                    \n",
    "                    left join (select enum_id, enum_message_property from r_enum_value where enum_name = 'repayment_period_frequency_enum') ab on ab.enum_id = ml.repayment_period_frequency_enum \n",
    "                    \n",
    "                    left join (select enum_id, enum_message_property from r_enum_value where enum_name = 'amortization_method_enum') am on am.enum_id = ml.amortization_method_enum \n",
    "                    \n",
    "                    left join (select enum_id, enum_message_property from r_enum_value where enum_name = 'term_period_frequency_enum') f on f.enum_id = ml.term_period_frequency_enum \n",
    "                    \n",
    "                    left join (select code_id, code_value from m_code_value where code_id = 3) g on g.code_id = ml.loanpurpose_cv_id\n",
    "                    \n",
    "                    left join (select code_id, code_value from m_code_value where code_id = 26) h on h.code_id = ml.writeoff_reason_cv_id\n",
    "                    \n",
    "                    left join (select id, concat(firstname, ' ', lastname) as officer_name from m_appuser) i on i.id = ml.loan_officer_id\n",
    "                    \n",
    "                    left join (select id, concat(firstname, ' ', lastname) as officer_name from m_appuser) j on j.id = ml.submittedon_userid\n",
    "                    \n",
    "                    left join (select id, concat(firstname, ' ', lastname) as officer_name from m_appuser) k on k.id = ml.approvedon_userid\n",
    "                    \n",
    "                    left join (select id, concat(firstname, ' ', lastname) as officer_name from m_appuser) l on l.id = ml.disbursedon_userid\n",
    "                    \n",
    "                    left join (select id, concat(firstname, ' ', lastname) as officer_name from m_appuser) m on m.id = ml.closedon_userid\n",
    "                    \n",
    "                    left join (select id, concat(firstname, ' ', lastname) as officer_name from m_appuser) n on n.id = ml.rejectedon_userid\n",
    "                    \n",
    "                    left join (select id, concat(firstname, ' ', lastname) as officer_name from m_appuser) o on o.id = ml.rescheduledon_userid\n",
    "                    \n",
    "                    left join (select id, concat(firstname, ' ', lastname) as officer_name from m_appuser) p on p.id = ml.withdrawnon_userid\n",
    "                            \n",
    "                    \n",
    "                    ''', Mifosdb)\n",
    "\n",
    "ld.head()"
   ]
  },
  {
   "cell_type": "code",
   "execution_count": 0,
   "metadata": {
    "application/vnd.databricks.v1+cell": {
     "cellMetadata": {
      "byteLimit": 2048000,
      "rowLimit": 10000
     },
     "inputWidgets": {},
     "nuid": "f06e8419-6741-47bf-abe1-3d3a8c57531f",
     "showTitle": false,
     "title": ""
    },
    "tags": []
   },
   "outputs": [],
   "source": [
    "ld.shape"
   ]
  },
  {
   "cell_type": "code",
   "execution_count": 0,
   "metadata": {
    "application/vnd.databricks.v1+cell": {
     "cellMetadata": {
      "byteLimit": 2048000,
      "rowLimit": 10000
     },
     "inputWidgets": {},
     "nuid": "de8651d0-7602-4f02-b075-c4c27f844f62",
     "showTitle": false,
     "title": ""
    },
    "tags": []
   },
   "outputs": [],
   "source": [
    "%%time\n",
    "load_table('public','dwh_loan_details', ld )\n",
    "#ld.to_sql('dwh_loan_details', conn, index = False, if_exists = 'replace', chunksize = 10000, method = 'multi')"
   ]
  },
  {
   "cell_type": "markdown",
   "metadata": {
    "application/vnd.databricks.v1+cell": {
     "cellMetadata": {
      "byteLimit": 2048000,
      "rowLimit": 10000
     },
     "inputWidgets": {},
     "nuid": "8afb6306-8ef5-42d5-9528-86a2e1423bf5",
     "showTitle": false,
     "title": ""
    }
   },
   "source": [
    "## Loan repayment schedule etl"
   ]
  },
  {
   "cell_type": "code",
   "execution_count": 0,
   "metadata": {
    "application/vnd.databricks.v1+cell": {
     "cellMetadata": {
      "byteLimit": 2048000,
      "rowLimit": 10000
     },
     "inputWidgets": {},
     "nuid": "467e797f-9c1d-455c-9339-8c9f16b85698",
     "showTitle": false,
     "title": ""
    },
    "tags": []
   },
   "outputs": [],
   "source": [
    "%%time\n",
    "# loan repayment schedule table\n",
    "\n",
    "mlrs = pd.read_sql(f'''\n",
    "                select\n",
    "                *\n",
    "                from m_loan_repayment_schedule mlrs\n",
    "                ''', Mifosdb)\n",
    "\n",
    "mlrs = pd.merge(mlrs, ld[['loan_id', 'loan_status_id', 'disbursedon_date', 'maturedon_date', 'number_of_repayments', \n",
    "                          'principal_disbursed_derived', 'total_outstanding_derived', 'interest_charged_derived','load_date']],\n",
    "                on = 'loan_id', how = 'left')\n",
    "mlrs.head()"
   ]
  },
  {
   "cell_type": "code",
   "execution_count": 0,
   "metadata": {
    "application/vnd.databricks.v1+cell": {
     "cellMetadata": {
      "byteLimit": 2048000,
      "rowLimit": 10000
     },
     "inputWidgets": {},
     "nuid": "b176be03-41da-4097-b987-4b8776758f37",
     "showTitle": false,
     "title": ""
    }
   },
   "outputs": [],
   "source": [
    "mlrs.shape"
   ]
  },
  {
   "cell_type": "code",
   "execution_count": 0,
   "metadata": {
    "application/vnd.databricks.v1+cell": {
     "cellMetadata": {
      "byteLimit": 2048000,
      "rowLimit": 10000
     },
     "inputWidgets": {},
     "nuid": "fd104e71-f5cf-4be6-8ef6-25c0573b770c",
     "showTitle": false,
     "title": ""
    },
    "tags": []
   },
   "outputs": [],
   "source": [
    "%%time \n",
    "load_table('public','dwh_loan_repayment_schedule', mlrs )\n",
    "#mlrs.to_sql(\"dwh_loan_repayment_schedule\", conn, index = False, if_exists = 'replace', chunksize = 10000, method = 'multi')"
   ]
  },
  {
   "cell_type": "markdown",
   "metadata": {
    "application/vnd.databricks.v1+cell": {
     "cellMetadata": {
      "byteLimit": 2048000,
      "rowLimit": 10000
     },
     "inputWidgets": {},
     "nuid": "1e75a28f-0fc4-4798-b1de-55e7db33f317",
     "showTitle": false,
     "title": ""
    }
   },
   "source": [
    "### Daily expected repayment aggregate etl 2022 to Date - 1 (t-1)"
   ]
  },
  {
   "cell_type": "code",
   "execution_count": 0,
   "metadata": {
    "application/vnd.databricks.v1+cell": {
     "cellMetadata": {
      "byteLimit": 2048000,
      "rowLimit": 10000
     },
     "inputWidgets": {},
     "nuid": "ec495413-3123-4083-a316-c9fcd84cdfd5",
     "showTitle": false,
     "title": ""
    },
    "tags": []
   },
   "outputs": [],
   "source": [
    "%%time\n",
    "dexprp = pd.read_sql(f'''\n",
    "                select\n",
    "                duedate as date,\n",
    "                sum(principal_amount + interest_amount) as total_expected_repayment\n",
    "                from dwh_loan_repayment_schedule\n",
    "                where left(duedate, 10) >= '2022-01-01' -- and left(duedate,10) < current_date\n",
    "                group by 1\n",
    "                order by 1\n",
    "                ''', conn)\n",
    "dexprp['date'] = dexprp['date'].astype(str) "
   ]
  },
  {
   "cell_type": "code",
   "execution_count": 0,
   "metadata": {
    "application/vnd.databricks.v1+cell": {
     "cellMetadata": {
      "byteLimit": 2048000,
      "rowLimit": 10000
     },
     "inputWidgets": {},
     "nuid": "62686819-eaf2-4931-8199-6cee362a516f",
     "showTitle": false,
     "title": ""
    },
    "tags": []
   },
   "outputs": [],
   "source": [
    "actrp = pd.read_sql(f'''\n",
    "                select\n",
    "                left(transaction_date, 10) as date,\n",
    "                sum(amount) as total_actual_repayment,\n",
    "                getdate() as load_date\n",
    "                from dwh_loan_transactions\n",
    "                where transaction_type_enum = 2\n",
    "                and left(transaction_date, 10) >= '2022-01-01' -- and left(transaction_date, 10) < current_date\n",
    "                group by 1\n",
    "                order by 1\n",
    "                ''', conn)\n",
    "\n",
    "actrp['date'] = actrp['date'].astype(str)"
   ]
  },
  {
   "cell_type": "code",
   "execution_count": 0,
   "metadata": {
    "application/vnd.databricks.v1+cell": {
     "cellMetadata": {
      "byteLimit": 2048000,
      "rowLimit": 10000
     },
     "inputWidgets": {},
     "nuid": "a1cbce61-0090-4a87-b2ef-1a834289176e",
     "showTitle": false,
     "title": ""
    },
    "tags": []
   },
   "outputs": [],
   "source": [
    "loan_rpmt = pd.merge(dexprp, actrp, on = 'date', how = 'left')\n",
    "loan_rpmt.head()"
   ]
  },
  {
   "cell_type": "code",
   "execution_count": 0,
   "metadata": {
    "application/vnd.databricks.v1+cell": {
     "cellMetadata": {
      "byteLimit": 2048000,
      "rowLimit": 10000
     },
     "inputWidgets": {},
     "nuid": "5574aa2d-386f-48aa-a1f0-b062d3867010",
     "showTitle": false,
     "title": ""
    },
    "tags": []
   },
   "outputs": [],
   "source": [
    "%%time\n",
    "load_table('public','dwh_daily_expected_vs_actual_repayment', loan_rpmt)\n",
    "#loan_rpmt.to_sql(\"dwh_daily_expected_vs_actual_repayment\", conn, index = False, if_exists = 'replace', chunksize = 10000, method = 'multi')"
   ]
  },
  {
   "cell_type": "markdown",
   "metadata": {
    "application/vnd.databricks.v1+cell": {
     "cellMetadata": {
      "byteLimit": 2048000,
      "rowLimit": 10000
     },
     "inputWidgets": {},
     "nuid": "2b4dfca1-d5f9-4962-ab3b-4553f2aae1e5",
     "showTitle": false,
     "title": ""
    },
    "tags": []
   },
   "source": [
    "## Staff Loan performance "
   ]
  },
  {
   "cell_type": "code",
   "execution_count": 0,
   "metadata": {
    "application/vnd.databricks.v1+cell": {
     "cellMetadata": {
      "byteLimit": 2048000,
      "rowLimit": 10000
     },
     "inputWidgets": {},
     "nuid": "f4838f92-74c2-4191-947f-e6e4a7b24934",
     "showTitle": false,
     "title": ""
    },
    "tags": []
   },
   "outputs": [],
   "source": [
    "## ref codes \n",
    "\n",
    "rfby = pd.read_sql(f'''\n",
    "                select\n",
    "                mc.id as client_id,\n",
    "                ifnull(mc.referred_by_id, 0) as referred_by_id\n",
    "                from m_client mc\n",
    "                where mc.id in ({','.join([str(x) for x in ld['client_id'].tolist()])})\n",
    "                ''', Mifosdb)\n",
    "\n",
    "\n",
    "rfcd = pd.read_sql(f'''\n",
    "            select\n",
    "            mc.id as referred_by_id,\n",
    "            mc.referral_id as staff_code\n",
    "            from m_client mc\n",
    "            where mc.id in ({','.join([str(x) for x in rfby['referred_by_id'].tolist()])})\n",
    "            ''', Mifosdb)\n",
    "\n",
    "\n",
    "rf = pd.merge(rfby, rfcd, on = 'referred_by_id', how = 'inner')\n",
    "\n",
    "rf.head()"
   ]
  },
  {
   "cell_type": "code",
   "execution_count": 0,
   "metadata": {
    "application/vnd.databricks.v1+cell": {
     "cellMetadata": {
      "byteLimit": 2048000,
      "rowLimit": 10000
     },
     "inputWidgets": {},
     "nuid": "a3c9cf0f-d1d3-4330-a643-880139d5429f",
     "showTitle": false,
     "title": ""
    },
    "tags": []
   },
   "outputs": [],
   "source": [
    "#rfby['referred_by_id'].dtype"
   ]
  },
  {
   "cell_type": "code",
   "execution_count": 0,
   "metadata": {
    "application/vnd.databricks.v1+cell": {
     "cellMetadata": {
      "byteLimit": 2048000,
      "rowLimit": 10000
     },
     "inputWidgets": {},
     "nuid": "00c81bf3-9451-44d7-8305-4ea5356de056",
     "showTitle": false,
     "title": ""
    },
    "tags": []
   },
   "outputs": [],
   "source": [
    "final = pd.merge(ld, rf, on = 'client_id', how = 'inner')\n",
    "final.head()"
   ]
  },
  {
   "cell_type": "code",
   "execution_count": 0,
   "metadata": {
    "application/vnd.databricks.v1+cell": {
     "cellMetadata": {
      "byteLimit": 2048000,
      "rowLimit": 10000
     },
     "inputWidgets": {},
     "nuid": "2b5889a8-567e-4959-9dc5-c0fca70449da",
     "showTitle": false,
     "title": ""
    },
    "tags": []
   },
   "outputs": [],
   "source": [
    "%%time\n",
    "load_table('public','dwh_staff_loan_performance', final)\n",
    "#final.to_sql(\"dwh_staff_loan_performance\", conn, index = False, if_exists = 'replace', chunksize = 10000, method = 'multi')"
   ]
  }
 ],
 "metadata": {
  "application/vnd.databricks.v1+notebook": {
   "dashboards": [],
   "environmentMetadata": null,
   "language": "python",
   "notebookMetadata": {
    "pythonIndentUnit": 4
   },
   "notebookName": "Loan details etl",
   "widgets": {}
  },
  "kernelspec": {
   "display_name": "Python 3 (ipykernel)",
   "language": "python",
   "name": "python3"
  },
  "language_info": {
   "codemirror_mode": {
    "name": "ipython",
    "version": 3
   },
   "file_extension": ".py",
   "mimetype": "text/x-python",
   "name": "python",
   "nbconvert_exporter": "python",
   "pygments_lexer": "ipython3",
   "version": "3.8.16"
  }
 },
 "nbformat": 4,
 "nbformat_minor": 0
}
