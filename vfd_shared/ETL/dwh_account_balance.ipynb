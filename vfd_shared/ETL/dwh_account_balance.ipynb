{
 "cells": [
  {
   "cell_type": "code",
   "execution_count": 0,
   "metadata": {
    "application/vnd.databricks.v1+cell": {
     "cellMetadata": {
      "byteLimit": 2048000,
      "rowLimit": 10000
     },
     "inputWidgets": {},
     "nuid": "06e2057f-602d-4772-b20b-02855b224ba2",
     "showTitle": false,
     "title": ""
    }
   },
   "outputs": [],
   "source": [
    "print(\"Healthy\")"
   ]
  },
  {
   "cell_type": "code",
   "execution_count": 0,
   "metadata": {
    "application/vnd.databricks.v1+cell": {
     "cellMetadata": {
      "byteLimit": 2048000,
      "rowLimit": 10000
     },
     "inputWidgets": {},
     "nuid": "c0b913dd-0c4d-45c9-b9c1-bb4a1e2f019c",
     "showTitle": false,
     "title": ""
    },
    "tags": []
   },
   "outputs": [],
   "source": [
    "from re import search\n",
    "from sqlalchemy import create_engine\n",
    "import duckdb\n",
    "\n",
    "import pandas as pd \n",
    "import numpy as np \n",
    "import mysql.connector\n",
    "\n",
    "pd.set_option('display.max_columns', None)\n",
    "\n",
    "import warnings\n",
    "warnings.filterwarnings('ignore')\n",
    "\n",
    "import json\n",
    "with open('/Workspace/Credentials/db_data.json', 'r') as fp:\n",
    "    data = json.load(fp)\n",
    "\n",
    "Dumpdb = mysql.connector.connect(\n",
    "  host=data['Dumpdb']['host'],\n",
    "  user=data['Dumpdb']['user'],\n",
    "  passwd=data['Dumpdb']['passwd'],\n",
    "  database = data['Dumpdb']['database']\n",
    ")\n",
    "\n",
    "\n",
    "Mifosdb = mysql.connector.connect(\n",
    "  host=data['mifos']['host'],\n",
    "  user=data['mifos']['user'],\n",
    "  passwd=data['mifos']['passwd'],\n",
    "  database = data['mifos']['database']\n",
    ")\n",
    "\n",
    "host = data['redshift']['host']\n",
    "user = data['redshift']['user']\n",
    "passwd = data['redshift']['passwd']\n",
    "database = data['redshift']['database']\n",
    "\n",
    "conn = create_engine(f\"postgresql+psycopg2://{user}:{passwd}@{host}:5439/{database}\")\n",
    "\n",
    "pd.set_option('display.float_format', lambda x: '%.2f' % x)\n",
    "\n",
    "from datetime import datetime, timedelta\n",
    "today = datetime.today().strftime('%Y-%m-%d')\n",
    "yesterday =  (datetime.today() - timedelta(days = 1)).strftime('%Y-%m-%d')\n",
    "print(today)\n",
    "print(yesterday)"
   ]
  },
  {
   "cell_type": "code",
   "execution_count": 0,
   "metadata": {
    "application/vnd.databricks.v1+cell": {
     "cellMetadata": {
      "byteLimit": 2048000,
      "rowLimit": 10000
     },
     "inputWidgets": {},
     "nuid": "5aaeaab2-b075-4231-99ba-2e52747f2789",
     "showTitle": false,
     "title": ""
    },
    "tags": []
   },
   "outputs": [],
   "source": [
    "engine = create_engine(f\"postgresql+psycopg2://{user}:{passwd}@{host}:5439/{database}\")\n",
    "sql = f'''\n",
    "DROP TABLE IF EXISTS public.dwh_account_balances;\n",
    "'''\n",
    "\n",
    "with engine.begin() as con:     \n",
    "    con.execute(sql)\n",
    "\n",
    "def load_table(schema_name, table_name, dataframe):\n",
    "    chunk_size = 10000\n",
    "    num_rows = len(dataframe)\n",
    "\n",
    "    conn = create_engine(f\"postgresql+psycopg2://{user}:{passwd}@{host}:5439/{database}\")\n",
    "    num_iterations = (num_rows // chunk_size) + 1 if num_rows % chunk_size != 0 else num_rows // chunk_size\n",
    "\n",
    "    for i in range(num_iterations):\n",
    "        start_idx = i * chunk_size\n",
    "        end_idx = (i + 1) * chunk_size if (i + 1) * chunk_size < num_rows else num_rows\n",
    "\n",
    "        chunk_df = dataframe.iloc[start_idx:end_idx]\n",
    "\n",
    "        chunk_df.to_sql(schema= schema_name, name = table_name, con =conn, index = False, if_exists = 'append', chunksize = 5000, method = 'multi')\n",
    "\n",
    "    print(\"Data loaded successfully.\")\n",
    "    "
   ]
  },
  {
   "cell_type": "markdown",
   "metadata": {
    "application/vnd.databricks.v1+cell": {
     "cellMetadata": {
      "byteLimit": 2048000,
      "rowLimit": 10000
     },
     "inputWidgets": {},
     "nuid": "8cb4aa69-ad3d-4e5a-94bc-ee13b2885127",
     "showTitle": false,
     "title": ""
    }
   },
   "source": [
    "### Account balance ETL"
   ]
  },
  {
   "cell_type": "code",
   "execution_count": 0,
   "metadata": {
    "application/vnd.databricks.v1+cell": {
     "cellMetadata": {
      "byteLimit": 2048000,
      "rowLimit": 10000
     },
     "inputWidgets": {},
     "nuid": "0e23c402-1d2e-42a3-ab7f-b47db0d07b54",
     "showTitle": false,
     "title": ""
    }
   },
   "outputs": [],
   "source": [
    "%%time\n",
    "\n",
    "Mifosdb = mysql.connector.connect(\n",
    "  host=data['mifos']['host'],\n",
    "  user=data['mifos']['user'],\n",
    "  passwd=data['mifos']['passwd'],\n",
    "  database = data['mifos']['database']\n",
    ")\n",
    "\n",
    "df_max = pd.read_sql_query(f\"\"\"\n",
    "select\n",
    "MAX(id) as last\n",
    "from m_savings_account \n",
    "\"\"\", Mifosdb)\n",
    "last = (df_max['last'][0])\n",
    "print(last, \" Max ID\")\n",
    "\n",
    "start = 6000 \n",
    "end = last  \n",
    "\n",
    "batch_size = 300000\n",
    "\n",
    "for batch_start in range(start, end, batch_size):\n",
    "    batch_end = min(batch_start + batch_size - 1, end)\n",
    "\n",
    "    aBal = pd.read_sql_query(f\"\"\"\n",
    "    select\n",
    "    ifnull(sa.client_id, sa.group_id) as client_id,\n",
    "    sa.id as account_id,\n",
    "    sa.account_no,\n",
    "    sa.account_balance_derived as balance,\n",
    "    sa.product_id,\n",
    "    sp.name as product_type,\n",
    "    ifnull(sa.submittedon_userid, 0) as request_submittedby_userid,\n",
    "    mpus.username as request_submittedby_username,\n",
    "    concat(mpus.firstname,' ', mpus.lastname) as request_sbumittedby_user_fullname,\n",
    "\n",
    "    ifnull(sa.activatedon_userid, 0) as activatedby_userid,\n",
    "    map.username as activatedby_username,\n",
    "    concat(map.firstname,' ', map.lastname) as activatedby_user_fullname,\n",
    "\n",
    "    ifnull(sa.approvedon_userid, 0) as approvedby_userid,\n",
    "    mapu.username as approvedby_username,\n",
    "    concat(mapu.firstname,' ', mapu.lastname) as approvedby_user_fullname,\n",
    "\n",
    "    sa.nominal_annual_interest_rate,\n",
    "    sa.nominal_annual_interest_rate_overdraft,\n",
    "    sa.approvedon_date,\n",
    "    sa.closedon_date\n",
    "    from m_savings_account sa\n",
    "    left join m_appuser mpus on mpus.id = sa.submittedon_userid\n",
    "    left join m_appuser mapu on mapu.id = sa.approvedon_userid\n",
    "    left join m_appuser map on map.id = sa.activatedon_userid\n",
    "\n",
    "    join m_savings_product sp on sp.id = sa.product_id\n",
    "    where (sa.account_no != '' and !isnull(sa.account_no))\n",
    "    AND sa.id BETWEEN {batch_start} AND {batch_end}\n",
    "\n",
    "    \"\"\", Mifosdb)\n",
    "    aBal['account_no'] = aBal['account_no'].astype('int64')\n",
    "    print(f\"Batch from {batch_start} to {batch_end}:\")\n",
    "\n",
    "    load_table('public', 'dwh_account_balances', aBal)\n",
    "    #aBal.to_sql('dwh_account_balances', conn, index = False, if_exists = 'replace', chunksize = 10000, method = 'multi')"
   ]
  },
  {
   "cell_type": "markdown",
   "metadata": {
    "application/vnd.databricks.v1+cell": {
     "cellMetadata": {
      "byteLimit": 2048000,
      "rowLimit": 10000
     },
     "inputWidgets": {},
     "nuid": "a48c1747-85f8-4f79-bfbd-1fce532540fe",
     "showTitle": false,
     "title": ""
    }
   },
   "source": [
    "### Fixed Term Deposits ETL"
   ]
  },
  {
   "cell_type": "code",
   "execution_count": 0,
   "metadata": {
    "application/vnd.databricks.v1+cell": {
     "cellMetadata": {
      "byteLimit": 2048000,
      "rowLimit": 10000
     },
     "inputWidgets": {},
     "nuid": "86b5ffd6-2c51-4c9a-a4a4-017f97f6584a",
     "showTitle": false,
     "title": ""
    },
    "tags": []
   },
   "outputs": [],
   "source": [
    "%%time\n",
    "\n",
    "## term deposits ETL\n",
    "Mifosdb = mysql.connector.connect(\n",
    "  host=data['mifos']['host'],\n",
    "  user=data['mifos']['user'],\n",
    "  passwd=data['mifos']['passwd'],\n",
    "  database = data['mifos']['database']\n",
    ")\n",
    "\n",
    "ftd = pd.read_sql(f\"\"\"\n",
    "            select \n",
    "            mdat.id,\n",
    "            sa.account_no,\n",
    "            ifnull(sa.client_id, sa.group_id) as client_id,\n",
    "            savings_account_id as account_id,\n",
    "            sa.approvedon_date as start_date,\n",
    "            min_deposit_term,\n",
    "            max_deposit_term,\n",
    "            min_deposit_term_type_enum,\n",
    "            max_deposit_term_type_enum,\n",
    "            in_multiples_of_deposit_term,\n",
    "            pre_closure_penal_applicable,\n",
    "            pre_closure_penal_interest,\n",
    "            deposit_period,\n",
    "            deposit_period_frequency_enum,\n",
    "            deposit_amount,\n",
    "            maturity_amount,\n",
    "            maturity_date,\n",
    "            on_account_closure_enum,\n",
    "            expected_firstdepositon_date,\n",
    "            transfer_interest_to_linked_account,\n",
    "            interest_carried_forward_on_top_up,\n",
    "            target_amount,\n",
    "            target_maturity_amount,\n",
    "            pre_closure_charge_applicable,\n",
    "            auto_rollover,\n",
    "            transfer_to_savings_account_id\n",
    "            from m_deposit_account_term_and_preclosure mdat\n",
    "            join m_savings_account sa on sa.id = mdat.savings_account_id\n",
    "            \"\"\", Mifosdb)\n",
    "\n",
    "ftd.head()"
   ]
  },
  {
   "cell_type": "code",
   "execution_count": 0,
   "metadata": {
    "application/vnd.databricks.v1+cell": {
     "cellMetadata": {
      "byteLimit": 2048000,
      "rowLimit": 10000
     },
     "inputWidgets": {},
     "nuid": "c5184b94-1091-4699-b448-73cd053653e2",
     "showTitle": false,
     "title": ""
    }
   },
   "outputs": [],
   "source": [
    "ftd.shape"
   ]
  },
  {
   "cell_type": "code",
   "execution_count": 0,
   "metadata": {
    "application/vnd.databricks.v1+cell": {
     "cellMetadata": {
      "byteLimit": 2048000,
      "rowLimit": 10000
     },
     "inputWidgets": {},
     "nuid": "610438bc-e8cb-4408-915f-e02eafa4d375",
     "showTitle": false,
     "title": ""
    },
    "tags": []
   },
   "outputs": [],
   "source": [
    "%%time\n",
    "\n",
    "engine = create_engine(f\"postgresql+psycopg2://{user}:{passwd}@{host}:5439/{database}\")\n",
    "sql = f'''\n",
    "DROP TABLE IF EXISTS public.dwh_term_deposit;\n",
    "'''\n",
    "\n",
    "with engine.begin() as con:     \n",
    "    con.execute(sql)\n",
    "\n",
    "load_table('public', 'dwh_term_deposit', ftd)\n",
    "#ftd.to_sql(\"dwh_term_deposit\", conn, index = False, if_exists = 'replace', chunksize = 10000, method = 'multi')"
   ]
  },
  {
   "cell_type": "code",
   "execution_count": 0,
   "metadata": {
    "application/vnd.databricks.v1+cell": {
     "cellMetadata": {
      "byteLimit": 2048000,
      "rowLimit": 10000
     },
     "inputWidgets": {},
     "nuid": "63d4b9a7-87a1-4bf1-8601-c2155c6141aa",
     "showTitle": false,
     "title": ""
    }
   },
   "outputs": [],
   "source": [
    "del ftd"
   ]
  },
  {
   "cell_type": "markdown",
   "metadata": {
    "application/vnd.databricks.v1+cell": {
     "cellMetadata": {
      "byteLimit": 2048000,
      "rowLimit": 10000
     },
     "inputWidgets": {},
     "nuid": "8a009dc3-572f-4e68-9560-0797510eff90",
     "showTitle": false,
     "title": ""
    }
   },
   "source": [
    "### Term Deposit Maturity ETL"
   ]
  },
  {
   "cell_type": "code",
   "execution_count": 0,
   "metadata": {
    "application/vnd.databricks.v1+cell": {
     "cellMetadata": {
      "byteLimit": 2048000,
      "rowLimit": 10000
     },
     "inputWidgets": {},
     "nuid": "def84e1f-e3b0-4bd0-b537-001122099d76",
     "showTitle": false,
     "title": ""
    }
   },
   "outputs": [],
   "source": [
    "%%time\n",
    "\n",
    "Mifosdb = mysql.connector.connect(\n",
    "  host=data['mifos']['host'],\n",
    "  user=data['mifos']['user'],\n",
    "  passwd=data['mifos']['passwd'],\n",
    "  database = data['mifos']['database']\n",
    ")\n",
    "fd = pd.read_sql(f'''\n",
    "SELECT\n",
    "mda.id,\n",
    "sa.id as account_id,\n",
    "sa.account_no,\n",
    "a.enum_message_property as status,\n",
    "sa.status_enum,\n",
    "sa.closedon_date,\n",
    "min_deposit_term,\n",
    "max_deposit_term,\n",
    "deposit_period,\n",
    "deposit_amount,\n",
    "account_balance_derived as current_balance,\n",
    "maturity_amount,\n",
    "maturity_date\n",
    "from m_deposit_account_term_and_preclosure mda\n",
    "left join m_savings_account sa on sa.id = mda.savings_account_id\n",
    "left join (select enum_name, enum_id, enum_message_property from r_enum_value where enum_name = 'status_enum') a on a.enum_id = sa.status_enum\n",
    "''', Mifosdb)\n",
    "\n",
    "print(fd.columns.tolist(), \"\\n\")\n",
    "fd = fd[fd['status'] == 'Active'].reset_index(drop = True)\n",
    "fd.head()"
   ]
  },
  {
   "cell_type": "code",
   "execution_count": 0,
   "metadata": {
    "application/vnd.databricks.v1+cell": {
     "cellMetadata": {
      "byteLimit": 2048000,
      "rowLimit": 10000
     },
     "inputWidgets": {},
     "nuid": "55b9db00-b3fb-4664-b58d-1d3aed2c7fb8",
     "showTitle": false,
     "title": ""
    },
    "tags": []
   },
   "outputs": [],
   "source": [
    "fd.shape"
   ]
  },
  {
   "cell_type": "code",
   "execution_count": 0,
   "metadata": {
    "application/vnd.databricks.v1+cell": {
     "cellMetadata": {
      "byteLimit": 2048000,
      "rowLimit": 10000
     },
     "inputWidgets": {},
     "nuid": "e20f467c-b3a6-4394-96c4-5dc28149f490",
     "showTitle": false,
     "title": ""
    }
   },
   "outputs": [],
   "source": [
    "from datetime import date\n",
    "fd['days_to_maturity'] = [datetime.strptime(str(x), \"%Y-%m-%d\").date() for x in fd['maturity_date']]\n",
    "fd['days_to_maturity'] = fd['days_to_maturity'] - date.today()\n",
    "fd['days_to_maturity'] = [str(x).split(' ')[0] for x in fd['days_to_maturity']]\n"
   ]
  },
  {
   "cell_type": "code",
   "execution_count": 0,
   "metadata": {
    "application/vnd.databricks.v1+cell": {
     "cellMetadata": {
      "byteLimit": 2048000,
      "rowLimit": 10000
     },
     "inputWidgets": {},
     "nuid": "8b17c540-93a3-494a-bbd2-f2658bea6cf3",
     "showTitle": false,
     "title": ""
    }
   },
   "outputs": [],
   "source": [
    "fd = duckdb.query(f\"\"\"\n",
    "select\n",
    "id,\n",
    "account_id,\n",
    "account_no,\n",
    "status,\n",
    "status_enum,\n",
    "closedon_date,\n",
    "min_deposit_term,\n",
    "max_deposit_term,\n",
    "deposit_period,\n",
    "deposit_amount,\n",
    "current_balance,\n",
    "maturity_amount,\n",
    "maturity_date,\n",
    "days_to_maturity\n",
    "from fd\n",
    "\"\"\").to_df()\n",
    "\n",
    "\"\"\"\n",
    ",\n",
    "case when maturity_date >= DATE_TRUNC('WEEK', now())\n",
    "    AND maturity_date < DATE_TRUNC('WEEK', now()) + INTERVAL '1 WEEK' then 'Yes' else 'No' end as maturing_within_the_week,\n",
    "case when maturity_date >= DATE_TRUNC('MONTH', now())\n",
    "    AND maturity_date < DATE_TRUNC('MONTH', now()) + INTERVAL '1 MONTH' then 'Yes' else 'No' end as maturing_within_the_month\n",
    "\"\"\"\n",
    "\n",
    "fd.head()"
   ]
  },
  {
   "cell_type": "code",
   "execution_count": 0,
   "metadata": {
    "application/vnd.databricks.v1+cell": {
     "cellMetadata": {
      "byteLimit": 2048000,
      "rowLimit": 10000
     },
     "inputWidgets": {},
     "nuid": "a1072268-3aa1-42ee-8227-5cddb9289c0d",
     "showTitle": false,
     "title": ""
    },
    "tags": []
   },
   "outputs": [],
   "source": [
    "%%time\n",
    "\n",
    "engine = create_engine(f\"postgresql+psycopg2://{user}:{passwd}@{host}:5439/{database}\")\n",
    "sql = f'''\n",
    "DROP TABLE IF EXISTS public.dwh_term_deposits_maturity;\n",
    "'''\n",
    "\n",
    "with engine.begin() as con:     \n",
    "    con.execute(sql)\n",
    "    \n",
    "load_table('public', 'dwh_term_deposits_maturity',fd)\n",
    "#fd.to_sql(\"dwh_term_deposits_maturity\", conn, index = False, if_exists= 'replace', chunksize = 10000, method = 'multi')"
   ]
  },
  {
   "cell_type": "code",
   "execution_count": 0,
   "metadata": {
    "application/vnd.databricks.v1+cell": {
     "cellMetadata": {
      "byteLimit": 2048000,
      "rowLimit": 10000
     },
     "inputWidgets": {},
     "nuid": "ab4ee53f-a3ec-420b-994c-b8c1d67422af",
     "showTitle": false,
     "title": ""
    },
    "tags": []
   },
   "outputs": [],
   "source": [
    "# This script was migrated here due to the report having a dependency on the updated version of the dwh_account_balance table\n",
    "#exec(open(\"Shared/PRODUCTION/AUTO-REPORT/Fresh FD Bookings.py\").read())  #Downloads/V_bank_tasks/projects/Fresh FD Bookings/Fresh fd bookings daily report.py"
   ]
  },
  {
   "cell_type": "markdown",
   "metadata": {
    "application/vnd.databricks.v1+cell": {
     "cellMetadata": {
      "byteLimit": 2048000,
      "rowLimit": 10000
     },
     "inputWidgets": {},
     "nuid": "ba37117c-56cd-45b7-a471-d71aa8079a82",
     "showTitle": false,
     "title": ""
    }
   },
   "source": [
    "## Daily vs expected maturity amount "
   ]
  },
  {
   "cell_type": "code",
   "execution_count": 0,
   "metadata": {
    "application/vnd.databricks.v1+cell": {
     "cellMetadata": {
      "byteLimit": 2048000,
      "rowLimit": 10000
     },
     "inputWidgets": {},
     "nuid": "6ccbe48c-1e73-42e2-9198-ee241ac0b0fd",
     "showTitle": false,
     "title": ""
    },
    "tags": []
   },
   "outputs": [],
   "source": [
    "dly_exptd_maturity = duckdb.query(f'''\n",
    "            select\n",
    "            maturity_date,\n",
    "            sum(maturity_amount) as expected_maturity_amount,\n",
    "            sum(current_balance) as actual_maturity_amount\n",
    "            from fd\n",
    "            group by 1\n",
    "            order by 1\n",
    "            ''').to_df()\n",
    "dly_exptd_maturity"
   ]
  },
  {
   "cell_type": "code",
   "execution_count": 0,
   "metadata": {
    "application/vnd.databricks.v1+cell": {
     "cellMetadata": {
      "byteLimit": 2048000,
      "rowLimit": 10000
     },
     "inputWidgets": {},
     "nuid": "da137484-6b6c-49d7-8248-db67676003c3",
     "showTitle": false,
     "title": ""
    },
    "tags": []
   },
   "outputs": [],
   "source": [
    "%%time\n",
    "\n",
    "engine = create_engine(f\"postgresql+psycopg2://{user}:{passwd}@{host}:5439/{database}\")\n",
    "sql = f'''\n",
    "DROP TABLE IF EXISTS public.dwh_daily_expected_vs_actual_maturing_deposits;\n",
    "'''\n",
    "\n",
    "with engine.begin() as con:     \n",
    "    con.execute(sql)\n",
    "    \n",
    "\n",
    "load_table('public', 'dwh_daily_expected_vs_actual_maturing_deposits', dly_exptd_maturity)\n",
    "#dly_exptd_maturity.to_sql(\"dwh_daily_expected_vs_actual_maturing_deposits\", conn, index = False, if_exists = 'replace', chunksize = 10000, method = 'multi')"
   ]
  },
  {
   "cell_type": "code",
   "execution_count": 0,
   "metadata": {
    "application/vnd.databricks.v1+cell": {
     "cellMetadata": {
      "byteLimit": 2048000,
      "rowLimit": 10000
     },
     "inputWidgets": {},
     "nuid": "9054422d-a3ef-44ee-ad31-06df9ae21695",
     "showTitle": false,
     "title": ""
    }
   },
   "outputs": [],
   "source": [
    "import gc \n",
    "gc.collect()"
   ]
  },
  {
   "cell_type": "code",
   "execution_count": 0,
   "metadata": {
    "application/vnd.databricks.v1+cell": {
     "cellMetadata": {
      "byteLimit": 2048000,
      "rowLimit": 10000
     },
     "inputWidgets": {},
     "nuid": "c8734bdc-020d-4dfa-a2eb-e5f90c3f55f7",
     "showTitle": false,
     "title": ""
    },
    "tags": []
   },
   "outputs": [],
   "source": [
    "import datetime\n",
    "\n",
    "last_run_date = datetime.datetime.now()\n",
    "print(\"Last run date:\", last_run_date)\n"
   ]
  }
 ],
 "metadata": {
  "application/vnd.databricks.v1+notebook": {
   "dashboards": [],
   "environmentMetadata": null,
   "language": "python",
   "notebookMetadata": {
    "pythonIndentUnit": 4
   },
   "notebookName": "dwh_account_balance",
   "widgets": {}
  },
  "kernelspec": {
   "display_name": "Python 3 (ipykernel)",
   "language": "python",
   "name": "python3"
  },
  "language_info": {
   "codemirror_mode": {
    "name": "ipython",
    "version": 3
   },
   "file_extension": ".py",
   "mimetype": "text/x-python",
   "name": "python",
   "nbconvert_exporter": "python",
   "pygments_lexer": "ipython3",
   "version": "3.8.16"
  }
 },
 "nbformat": 4,
 "nbformat_minor": 0
}
