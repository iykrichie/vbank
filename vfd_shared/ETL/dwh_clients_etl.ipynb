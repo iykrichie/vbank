{
 "cells": [
  {
   "cell_type": "code",
   "execution_count": 0,
   "metadata": {
    "application/vnd.databricks.v1+cell": {
     "cellMetadata": {
      "byteLimit": 2048000,
      "rowLimit": 10000
     },
     "inputWidgets": {},
     "nuid": "c1410e1f-15f8-4a93-ad5b-93f0b297c957",
     "showTitle": false,
     "title": ""
    }
   },
   "outputs": [],
   "source": [
    "print(\"Healthy\")"
   ]
  },
  {
   "cell_type": "code",
   "execution_count": 0,
   "metadata": {
    "application/vnd.databricks.v1+cell": {
     "cellMetadata": {
      "byteLimit": 2048000,
      "rowLimit": 10000
     },
     "inputWidgets": {},
     "nuid": "716702e4-558a-40b2-b70f-58a0f818a97c",
     "showTitle": false,
     "title": ""
    },
    "tags": []
   },
   "outputs": [],
   "source": [
    "from re import search\n",
    "from sqlalchemy import create_engine\n",
    "import duckdb\n",
    "\n",
    "import pandas as pd \n",
    "import numpy as np \n",
    "import mysql.connector\n",
    "import pymysql\n",
    "\n",
    "\n",
    "pd.set_option('display.max_columns', None)\n",
    "\n",
    "\n",
    "import geopy\n",
    "from geopy.geocoders import ArcGIS, Nominatim\n",
    "\n",
    "import warnings\n",
    "warnings.filterwarnings('ignore')\n",
    "\n",
    "import json\n",
    "with open('/Workspace/Credentials/db_data.json', 'r') as fp:\n",
    "    data = json.load(fp)\n",
    "\n",
    "Dumpdb = mysql.connector.connect(\n",
    "  host=data['Dumpdb']['host'],\n",
    "  user=data['Dumpdb']['user'],\n",
    "  passwd=data['Dumpdb']['passwd'],\n",
    "  database = data['Dumpdb']['database']\n",
    ")\n",
    "\n",
    "\n",
    "Mifosdb = mysql.connector.connect(\n",
    "  host=data['mifos']['host'],\n",
    "  user=data['mifos']['user'],\n",
    "  passwd=data['mifos']['passwd'],\n",
    "  database = data['mifos']['database']\n",
    ")\n",
    "\n",
    "\n",
    "import pymysql\n",
    "mifos_conn = pymysql.connect(user = data['mifos']['user'], \n",
    "                           password = data['mifos']['passwd'], \n",
    "                           database = data['mifos']['database'], \n",
    "                           host = data['mifos']['host'])\n",
    "mifos_cursor = mifos_conn.cursor()\n",
    "\n",
    "\n",
    "#mifos_engine = create_engine(f\"mysql+pymysql://{data['mifos']['user']}:{data['mifos']['passwd']}@{data['mifos']['host']}:3306/{data['mifos']['database']}\")\n",
    "#mifos_connection = mifos_engine.connect()\n",
    "\n",
    "\n",
    "vbizdb = mysql.connector.connect(\n",
    "     host=data['vbizdb']['host'],\n",
    "  user=data['vbizdb']['user'],\n",
    "  passwd=data['vbizdb']['passwd'],\n",
    "  database = data['vbizdb']['database']\n",
    ")\n",
    "\n",
    "host = data['redshift']['host']\n",
    "user = data['redshift']['user']\n",
    "passwd = data['redshift']['passwd']\n",
    "database = data['redshift']['database']\n",
    "\n",
    "conn = create_engine(f\"postgresql+psycopg2://{user}:{passwd}@{host}:5439/{database}\")\n",
    "\n",
    "pd.set_option('display.float_format', lambda x: '%.2f' % x)\n",
    "\n",
    "from datetime import datetime, timedelta\n",
    "today = datetime.today().strftime('%Y-%m-%d')\n",
    "yesterday =  (datetime.today() - timedelta(days = 1)).strftime('%Y-%m-%d')\n",
    "print(today)\n",
    "print(yesterday)\n",
    "\n"
   ]
  },
  {
   "cell_type": "code",
   "execution_count": 0,
   "metadata": {
    "application/vnd.databricks.v1+cell": {
     "cellMetadata": {
      "byteLimit": 2048000,
      "rowLimit": 10000
     },
     "inputWidgets": {},
     "nuid": "4fd07f9c-970f-445a-9944-280d8c82b971",
     "showTitle": false,
     "title": ""
    },
    "tags": []
   },
   "outputs": [],
   "source": [
    "%%time\n",
    "## Client Image_id table to solely distinguish App registered customers\n",
    "\n",
    "cl_img = pd.read_sql(f'''\n",
    "            select\n",
    "            mc.id as client_id,\n",
    "            mc.activation_date,\n",
    "            ifnull(mc.activatedon_userid, 0) as activatedon_userid,\n",
    "            mc.submittedon_userid,\n",
    "            ifnull(mc.image_id, 0) as image_id,\n",
    "            case when image_id is not null then 1 else 0 end as is_appclient\n",
    "            from m_client mc\n",
    "            ''', Mifosdb)\n",
    "\n",
    "# identify wallet clients\n",
    "amw = pd.read_sql(f'''\n",
    "        select clientid  as client_id from AM_WALLET_CLIENTS\n",
    "        ''', Dumpdb)\n",
    "\n",
    "amw['client_id'] = amw['client_id'].astype('int64')\n",
    "\n",
    "# identify corporate clients\n",
    "corp = pd.read_sql(f'''\n",
    "                    SELECT\n",
    "                    mc.id AS client_id\n",
    "                    FROM m_client mc\n",
    "                    JOIN m_savings_account sa ON sa.client_id = mc.id\n",
    "                    WHERE sa.product_id = 26;\n",
    "                    ''', Mifosdb)\n",
    "\n",
    "cl_img['is_walletclient'] = np.where(cl_img['client_id'].isin(amw['client_id']), 1, 0)\n",
    "cl_img['is_corpclient'] = np.where(cl_img['client_id'].isin(corp['client_id']), 1, 0)\n",
    "\n",
    "\n",
    "# differentiating appclients aka retail customers from wallet customers and corporate customers to be used later --\n",
    "## for classification on the main client table\n",
    "appclient = cl_img[cl_img['is_appclient'] == 1]['client_id'].tolist()\n",
    "wallclient = cl_img[cl_img['is_walletclient'] == 1]['client_id'].tolist()\n",
    "corpclient = cl_img[cl_img['is_corpclient'] == 1]['client_id'].tolist()\n",
    "\n",
    "cl_img.head()"
   ]
  },
  {
   "cell_type": "code",
   "execution_count": 0,
   "metadata": {
    "application/vnd.databricks.v1+cell": {
     "cellMetadata": {
      "byteLimit": 2048000,
      "rowLimit": 10000
     },
     "inputWidgets": {},
     "nuid": "95861cfc-ce3a-4872-8533-dfecf3fa7378",
     "showTitle": false,
     "title": ""
    },
    "tags": []
   },
   "outputs": [],
   "source": [
    "%%time\n",
    "\n",
    "cl_img.to_sql(\"dwh_client_imageid\", conn, index = False, if_exists  = 'replace', chunksize = 10000, method = 'multi') "
   ]
  },
  {
   "cell_type": "markdown",
   "metadata": {
    "application/vnd.databricks.v1+cell": {
     "cellMetadata": {
      "byteLimit": 2048000,
      "rowLimit": 10000
     },
     "inputWidgets": {},
     "nuid": "20967946-3236-4533-917b-ac3fd85c502a",
     "showTitle": false,
     "title": ""
    }
   },
   "source": [
    "## Standard individual clients"
   ]
  },
  {
   "cell_type": "code",
   "execution_count": 0,
   "metadata": {
    "application/vnd.databricks.v1+cell": {
     "cellMetadata": {
      "byteLimit": 2048000,
      "rowLimit": 10000
     },
     "inputWidgets": {},
     "nuid": "878fc87f-4d7a-4235-80ff-05fef3469287",
     "showTitle": false,
     "title": ""
    },
    "tags": []
   },
   "outputs": [],
   "source": [
    "clt = pd.read_sql_query(f'''\n",
    "        select\n",
    "        max(client_id) as client\n",
    "        from dwh_all_clients\n",
    "        ''', conn)\n",
    "\n",
    "last_clt = clt['client'][0]\n",
    "\n",
    "print(last_clt)"
   ]
  },
  {
   "cell_type": "code",
   "execution_count": 0,
   "metadata": {
    "application/vnd.databricks.v1+cell": {
     "cellMetadata": {
      "byteLimit": 2048000,
      "rowLimit": 10000
     },
     "inputWidgets": {},
     "nuid": "49365bba-1eb1-4865-b284-3c961ffc0206",
     "showTitle": false,
     "title": ""
    }
   },
   "outputs": [],
   "source": [
    "import pymysql\n",
    "mifos_conn = pymysql.connect(user = data['mifos']['user'], \n",
    "                           password = data['mifos']['passwd'], \n",
    "                           database = data['mifos']['database'], \n",
    "                           host = data['mifos']['host'])\n",
    "mifos_cursor = mifos_conn.cursor()\n",
    "\n",
    "sql =f\"\"\"\n",
    "select\n",
    "mc.id client_id,\n",
    "replace(mc.display_name, 'null', '') as client_name,\n",
    "mc.firstname, \n",
    "mc.middlename, \n",
    "mc.lastname,\n",
    "case mc.status_enum \n",
    "when '0' then 'Invalid'\n",
    "when '100' then 'Pending'\n",
    "when '300' then 'Active'\n",
    "when '600' then 'Closed' end as 'client_status',\n",
    "mc.activation_date,\n",
    "mc.external_id,\n",
    "ai.`Mobile Number` as mobile_number,\n",
    "ai.`Email Address` as email_address,\n",
    "ai.`Mailing Address` as mailing_address,\n",
    "ai.`Local Govt AREA` as LGA,\n",
    "a.state,\n",
    "b.country,\n",
    "case mc.gender_cv_id\n",
    "when '29' then 'Male'\n",
    "when '30' then 'Female' end as 'client_gender',\n",
    "mc.date_of_birth,\n",
    "case mc.client_type_cv_id \n",
    "when '64' then 'Personal'\n",
    "when '65' then 'Official'\n",
    "when '66' then 'Business' end as 'client_type',\n",
    "case mc.client_classification_cv_id \n",
    "when '61' then 'Single'\n",
    "when '62' then 'Married'\n",
    "when '63' then 'Divorcee' end as 'marital_status',\n",
    "mc.referral_id as referral_code,\n",
    "mc.referred_by_id,\n",
    "mc.daily_withdraw_limit,\n",
    "mc.max_transaction_limit,\n",
    "case mc.client_level_cv_id \n",
    "when '99' then 'Tier 1'\n",
    "when '100' then 'Tier 2'\n",
    "when '101' then 'Tier 3' end as client_tier,\n",
    "odb.BVN,\n",
    "map.username as 'activation_request_made_by',\n",
    "mp.username as 'authorised_by',               \n",
    "mc.closedon_date\n",
    "from m_client mc\n",
    "left join m_savings_account sa on sa.client_id = mc.id\n",
    "left join m_savings_product sp on sp.id = sa.product_id\n",
    "left join `Other Bank Details` odb on odb.client_id = mc.id\n",
    "left join `Address Info` ai on ai.client_id = mc.id\n",
    "left join (SELECT\n",
    "        id state_code,\n",
    "        code_description AS state\n",
    "        FROM m_code_value\n",
    "        WHERE code_id in (27)) a on a.state_code = ai.state_cd_state\n",
    "left join (SELECT\n",
    "        id country_code,\n",
    "        code_description AS country\n",
    "        FROM m_code_value\n",
    "        WHERE code_id in (28)) b on b.country_code = ai.country_cd_country\n",
    "left join m_appuser map on map.id = mc.submittedon_userid\n",
    "left join m_appuser mp on mp.id = mc.activatedon_userid\n",
    "where sa.client_id > {last_clt}\n",
    "group by mc.id;\n",
    "\"\"\"\n",
    "mifos_cursor.execute(sql)\n",
    "all_clts = pd.DataFrame(mifos_cursor.fetchall())\n",
    "\n",
    "all_clts = all_clts.rename(columns={\n",
    "    0: \"client_id\",\n",
    "    1: \"client_name\",\n",
    "    2: \"firstname\",\n",
    "    3: \"middlename\",\n",
    "    4: \"lastname\",\n",
    "    5: \"status_enum\",\n",
    "    6: \"client_status\",\n",
    "    7: \"activation_date\",\n",
    "    8: \"mobile_number\",\n",
    "    9: \"email_address\",\n",
    "    10: \"mailing_address\",\n",
    "    11: \"LGA\",\n",
    "    12: \"state\",\n",
    "    13: \"country\",\n",
    "    14: \"client_gender\",\n",
    "    15: \"date_of_birth\",\n",
    "    16: \"client_type\",\n",
    "    17: \"marital_status\",\n",
    "    18: \"referral_code\",\n",
    "    19: \"referred_by_id\",\n",
    "    20: \"daily_withdraw_limit\",\n",
    "    21: \"max_transaction_limit\",\n",
    "    22: \"client_tier\",\n",
    "    23: \"BVN\",\n",
    "    24: \"activation_request_made_by\",\n",
    "    25: \"authorised_by\",\n",
    "    26: \"closedon_date\",\n",
    "})\n",
    "\n",
    "all_clts.head()"
   ]
  },
  {
   "cell_type": "code",
   "execution_count": 0,
   "metadata": {
    "application/vnd.databricks.v1+cell": {
     "cellMetadata": {
      "byteLimit": 2048000,
      "rowLimit": 10000
     },
     "inputWidgets": {},
     "nuid": "d74eb971-6f6e-45e0-9584-4283c406ae6c",
     "showTitle": false,
     "title": ""
    },
    "tags": []
   },
   "outputs": [],
   "source": [
    "all_clts['client_category'] = np.where((all_clts['client_id'].isin(appclient)), 'Retail client',\n",
    "                               np.where((all_clts['client_id'].isin(wallclient)), 'Wallet client',\n",
    "                                        np.where((all_clts['client_id'].isin(corpclient)), 'Corporate client', 'Unclassified')))"
   ]
  },
  {
   "cell_type": "code",
   "execution_count": 0,
   "metadata": {
    "application/vnd.databricks.v1+cell": {
     "cellMetadata": {
      "byteLimit": 2048000,
      "rowLimit": 10000
     },
     "inputWidgets": {},
     "nuid": "21e921b6-39c6-4141-aed9-0156ba0797b4",
     "showTitle": false,
     "title": ""
    },
    "tags": []
   },
   "outputs": [],
   "source": [
    "%%time\n",
    "# identification number\n",
    "\n",
    "um = pd.read_sql_query(f'''\n",
    "            select\n",
    "            ui.client_id,\n",
    "            ui.identity_number\n",
    "            from UM_IDENTITY_RECORDS ui\n",
    "            ''', Dumpdb)\n",
    "um['client_id'] = um['client_id'].astype('int64')"
   ]
  },
  {
   "cell_type": "code",
   "execution_count": 0,
   "metadata": {
    "application/vnd.databricks.v1+cell": {
     "cellMetadata": {
      "byteLimit": 2048000,
      "rowLimit": 10000
     },
     "inputWidgets": {},
     "nuid": "b1b924b0-df20-4a18-b2ef-b55928581b68",
     "showTitle": false,
     "title": ""
    },
    "tags": []
   },
   "outputs": [],
   "source": [
    "full = pd.merge(all_clts, um, on = 'client_id', how = 'left')\n",
    "full = full.drop_duplicates(subset = 'client_id').reset_index(drop = True)\n",
    "\n",
    "print('\\n', full.shape)"
   ]
  },
  {
   "cell_type": "code",
   "execution_count": 0,
   "metadata": {
    "application/vnd.databricks.v1+cell": {
     "cellMetadata": {
      "byteLimit": 2048000,
      "rowLimit": 10000
     },
     "inputWidgets": {},
     "nuid": "c65ac748-0ff7-4085-bb5c-27c95fd98f83",
     "showTitle": false,
     "title": ""
    },
    "tags": []
   },
   "outputs": [],
   "source": [
    "%%time\n",
    "full.to_sql('dwh_all_clients', conn, index=False, if_exists='append', chunksize= 10000, method = 'multi')"
   ]
  },
  {
   "cell_type": "markdown",
   "metadata": {
    "application/vnd.databricks.v1+cell": {
     "cellMetadata": {
      "byteLimit": 2048000,
      "rowLimit": 10000
     },
     "inputWidgets": {},
     "nuid": "1012e6c5-ef9b-4790-8e30-45e9d554ade1",
     "showTitle": false,
     "title": ""
    }
   },
   "source": [
    "## Corporate CAC details"
   ]
  },
  {
   "cell_type": "code",
   "execution_count": 0,
   "metadata": {
    "application/vnd.databricks.v1+cell": {
     "cellMetadata": {
      "byteLimit": 2048000,
      "rowLimit": 10000
     },
     "inputWidgets": {},
     "nuid": "c11fd527-e6d1-4257-9de4-dad5fd84f081",
     "showTitle": false,
     "title": ""
    },
    "tags": []
   },
   "outputs": [],
   "source": [
    "%%time\n",
    "\n",
    "cac = pd.read_sql(f'''\n",
    "SELECT \n",
    "id, client_id, incorp_no as cac_no, incorp_validity_till as cac_expiry_date\n",
    "FROM m_client_non_person mnp\n",
    "''', Mifosdb)\n",
    "cac"
   ]
  },
  {
   "cell_type": "code",
   "execution_count": 0,
   "metadata": {
    "application/vnd.databricks.v1+cell": {
     "cellMetadata": {
      "byteLimit": 2048000,
      "rowLimit": 10000
     },
     "inputWidgets": {},
     "nuid": "8937032f-3704-4964-963d-4560327cb103",
     "showTitle": false,
     "title": ""
    },
    "tags": []
   },
   "outputs": [],
   "source": [
    "%%time\n",
    "\n",
    "cac.to_sql(\"dwh_corporate_cac_details\", conn, index = False, if_exists = 'replace', chunksize = 10000, method = 'multi')"
   ]
  },
  {
   "cell_type": "markdown",
   "metadata": {
    "application/vnd.databricks.v1+cell": {
     "cellMetadata": {
      "byteLimit": 2048000,
      "rowLimit": 10000
     },
     "inputWidgets": {},
     "nuid": "0c0f030f-592d-4f2b-82ff-2c9a36d9ab11",
     "showTitle": false,
     "title": ""
    }
   },
   "source": [
    "## Joint Account / Group clients "
   ]
  },
  {
   "cell_type": "code",
   "execution_count": 0,
   "metadata": {
    "application/vnd.databricks.v1+cell": {
     "cellMetadata": {
      "byteLimit": 2048000,
      "rowLimit": 10000
     },
     "inputWidgets": {},
     "nuid": "2f42530b-4c74-46ca-ba95-1f7ccc2bbdda",
     "showTitle": false,
     "title": ""
    },
    "tags": []
   },
   "outputs": [],
   "source": [
    "\n",
    "# grp = pd.read_sql_query(f'''\n",
    "#         select\n",
    "#         max(group_client_id) as group\n",
    "#         from dwh_group_clients\n",
    "#         ''', conn)\n",
    "\n",
    "# last_grp = grp['group'][0]\n",
    "\n",
    "# last_grp"
   ]
  },
  {
   "cell_type": "code",
   "execution_count": 0,
   "metadata": {
    "application/vnd.databricks.v1+cell": {
     "cellMetadata": {
      "byteLimit": 2048000,
      "rowLimit": 10000
     },
     "inputWidgets": {},
     "nuid": "162d0d42-03c8-410a-a78f-699fa492a4c5",
     "showTitle": false,
     "title": ""
    },
    "tags": []
   },
   "outputs": [],
   "source": [
    "Mifosdb = mysql.connector.connect(\n",
    "  host=data['mifos']['host'],\n",
    "  user=data['mifos']['user'],\n",
    "  passwd=data['mifos']['passwd'],\n",
    "  database = data['mifos']['database']\n",
    ")\n",
    "\n",
    "all_grp = pd.read_sql_query(f'''\n",
    "                select\n",
    "                mg.id as group_client_id,\n",
    "                ifnull(mgc.client_id, 0) as linked_client_id,\n",
    "                mg.external_id,\n",
    "                case mg.status_enum \n",
    "                    when '0' then 'Invalid'\n",
    "                    when '100' then 'Pending'\n",
    "                    when '300' then 'Active'\n",
    "                    when '600' then 'Closed' end as 'group_client_status',\n",
    "                mg.activation_date,\n",
    "                mg.office_id,\n",
    "                mg.staff_id,\n",
    "                mg.parent_id,\n",
    "                mg.level_id,\n",
    "                replace(mg.display_name, 'null', '') as group_client_name,\n",
    "                mg.hierarchy,\n",
    "                ifnull(mg.closure_reason_cv_id, 0) as closure_reason_id,\n",
    "                case mg.closure_reason_cv_id \n",
    "                    when '121' then 'Error creating' end as group_closure_reason_description,\n",
    "                ifnull(mg.submittedon_userid, 0) as submittedon_userid,\n",
    "                map.username as 'activation_request_submitted_by',\n",
    "                \n",
    "                ifnull(mg.activatedon_userid, 0) as activatedon_userid,\n",
    "                mp.username as 'activation_authorised_by', \n",
    "                \n",
    "                ifnull(mg.closedon_userid, 0) as closedon_userid,\n",
    "                mpp.username as 'closed_by',\n",
    "                mg.submittedon_date,\n",
    "                mg.closedon_date,\n",
    "                mg.account_no\n",
    "                \n",
    "                from m_group mg\n",
    "                left join m_group_client mgc on mgc.group_id = mg.id\n",
    "                left join m_savings_account sa on sa.group_id = mg.id\n",
    "                left join m_savings_product sp on sp.id = sa.product_id\n",
    "                left join m_appuser map on map.id = mg.submittedon_userid\n",
    "                left join m_appuser mp on mp.id = mg.activatedon_userid\n",
    "                left join m_appuser mpp on mpp.id = mg.closedon_userid\n",
    "                \n",
    "                -- where sa.group_id > \n",
    "                group by sa.group_id\n",
    "                ''', Mifosdb)\n",
    "\n",
    "all_grp"
   ]
  },
  {
   "cell_type": "code",
   "execution_count": 0,
   "metadata": {
    "application/vnd.databricks.v1+cell": {
     "cellMetadata": {
      "byteLimit": 2048000,
      "rowLimit": 10000
     },
     "inputWidgets": {},
     "nuid": "1106f54e-d6fb-4127-931e-fe657e0f284e",
     "showTitle": false,
     "title": ""
    },
    "tags": []
   },
   "outputs": [],
   "source": [
    "%%time\n",
    "\n",
    "all_grp.to_sql(\"dwh_group_clients\", conn, index = False, if_exists = 'replace', chunksize = 10000, method = 'multi')"
   ]
  },
  {
   "cell_type": "code",
   "execution_count": 0,
   "metadata": {
    "application/vnd.databricks.v1+cell": {
     "cellMetadata": {
      "byteLimit": 2048000,
      "rowLimit": 10000
     },
     "inputWidgets": {},
     "nuid": "362f4aa1-5e2d-4170-afbf-e1ec4c2cfe05",
     "showTitle": false,
     "title": ""
    }
   },
   "outputs": [],
   "source": []
  }
 ],
 "metadata": {
  "application/vnd.databricks.v1+notebook": {
   "dashboards": [],
   "environmentMetadata": null,
   "language": "python",
   "notebookMetadata": {
    "pythonIndentUnit": 4
   },
   "notebookName": "dwh_clients_etl",
   "widgets": {}
  },
  "kernelspec": {
   "display_name": "Python 3 (ipykernel)",
   "language": "python",
   "name": "python3"
  },
  "language_info": {
   "codemirror_mode": {
    "name": "ipython",
    "version": 3
   },
   "file_extension": ".py",
   "mimetype": "text/x-python",
   "name": "python",
   "nbconvert_exporter": "python",
   "pygments_lexer": "ipython3",
   "version": "3.8.16"
  }
 },
 "nbformat": 4,
 "nbformat_minor": 0
}
