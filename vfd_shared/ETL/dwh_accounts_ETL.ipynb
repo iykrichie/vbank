{
 "cells": [
  {
   "cell_type": "code",
   "execution_count": 0,
   "metadata": {
    "application/vnd.databricks.v1+cell": {
     "cellMetadata": {
      "byteLimit": 2048000,
      "rowLimit": 10000
     },
     "inputWidgets": {},
     "nuid": "9a5c7d3d-2244-487b-aaa5-167266635d33",
     "showTitle": false,
     "title": ""
    }
   },
   "outputs": [],
   "source": [
    "print(\"Healthy\")"
   ]
  },
  {
   "cell_type": "code",
   "execution_count": 0,
   "metadata": {
    "application/vnd.databricks.v1+cell": {
     "cellMetadata": {
      "byteLimit": 2048000,
      "rowLimit": 10000
     },
     "inputWidgets": {},
     "nuid": "76627d71-0bd2-455d-a8e0-5b6e54bf8b81",
     "showTitle": false,
     "title": ""
    },
    "tags": []
   },
   "outputs": [],
   "source": [
    "\n",
    "from re import search\n",
    "from sqlalchemy import create_engine\n",
    "import duckdb\n",
    "\n",
    "import pandas as pd \n",
    "import numpy as np \n",
    "import mysql.connector\n",
    "\n",
    "\n",
    "pd.set_option('display.max_columns', None)\n",
    "\n",
    "\n",
    "import geopy\n",
    "from geopy.geocoders import ArcGIS, Nominatim\n",
    "\n",
    "import warnings\n",
    "warnings.filterwarnings('ignore')\n",
    "\n",
    "import json\n",
    "with open('/Workspace/Credentials/db_data.json', 'r') as fp:\n",
    "    data = json.load(fp)\n",
    "\n",
    "Dumpdb = mysql.connector.connect(\n",
    "  host=data['Dumpdb']['host'],\n",
    "  user=data['Dumpdb']['user'],\n",
    "  passwd=data['Dumpdb']['passwd'],\n",
    "  database = data['Dumpdb']['database']\n",
    ")\n",
    "\n",
    "\n",
    "Mifosdb = mysql.connector.connect(\n",
    "  host=data['mifos']['host'],\n",
    "  user=data['mifos']['user'],\n",
    "  passwd=data['mifos']['passwd'],\n",
    "  database = data['mifos']['database']\n",
    ")\n",
    "\n",
    "\n",
    "vbizdb = mysql.connector.connect(\n",
    "     host=data['vbizdb']['host'],\n",
    "  user=data['vbizdb']['user'],\n",
    "  passwd=data['vbizdb']['passwd'],\n",
    "  database = data['vbizdb']['database']\n",
    ")\n",
    "\n",
    "host = data['redshift']['host']\n",
    "user = data['redshift']['user']\n",
    "passwd = data['redshift']['passwd']\n",
    "database = data['redshift']['database']\n",
    "\n",
    "conn = create_engine(f\"postgresql+psycopg2://{user}:{passwd}@{host}:5439/{database}\")\n",
    "\n",
    "pd.set_option('display.float_format', lambda x: '%.2f' % x)\n",
    "\n",
    "from datetime import datetime, timedelta\n",
    "today = datetime.today().strftime('%Y-%m-%d')\n",
    "yesterday =  (datetime.today() - timedelta(days = 1)).strftime('%Y-%m-%d')\n",
    "print(today)\n",
    "print(yesterday)\n",
    "\n"
   ]
  },
  {
   "cell_type": "code",
   "execution_count": 0,
   "metadata": {
    "application/vnd.databricks.v1+cell": {
     "cellMetadata": {
      "byteLimit": 2048000,
      "rowLimit": 10000
     },
     "inputWidgets": {},
     "nuid": "2ce903e0-6542-4970-acf7-2cf0900ed236",
     "showTitle": false,
     "title": ""
    },
    "tags": []
   },
   "outputs": [],
   "source": [
    "\n",
    "last_2_wks = datetime.today() - timedelta(days = 14)\n",
    "last_2_wks = last_2_wks.strftime('%Y-%m-%d')\n",
    "print('------------------------------------')\n",
    "print(last_2_wks)"
   ]
  },
  {
   "cell_type": "code",
   "execution_count": 0,
   "metadata": {
    "application/vnd.databricks.v1+cell": {
     "cellMetadata": {
      "byteLimit": 2048000,
      "rowLimit": 10000
     },
     "inputWidgets": {},
     "nuid": "44b2925c-080e-4208-8e61-031f6e1c149c",
     "showTitle": false,
     "title": ""
    },
    "tags": []
   },
   "outputs": [],
   "source": [
    "lac = pd.read_sql_query(f'''\n",
    "            select\n",
    "            max(account_id) as max_id,\n",
    "            max(activation_date) as max_date\n",
    "            from dwh_all_accounts\n",
    "            ''', conn)\n",
    "last_acct = lac['max_id'][0], '-', lac['max_date'][0]\n",
    "last_acct[0], last_acct[2]"
   ]
  },
  {
   "cell_type": "code",
   "execution_count": 0,
   "metadata": {
    "application/vnd.databricks.v1+cell": {
     "cellMetadata": {
      "byteLimit": 2048000,
      "rowLimit": 10000
     },
     "inputWidgets": {},
     "nuid": "6881367b-1109-43ba-aa69-60e5924d66fa",
     "showTitle": false,
     "title": ""
    },
    "tags": []
   },
   "outputs": [],
   "source": [
    "%%time\n",
    "all_accts = pd.read_sql_query(f'''\n",
    "                select\n",
    "                ifnull(mc.id, mg.id) client_id,\n",
    "                -- ifnull(mc.display_name, mg.display_name) as client_name,\n",
    "                sa.id account_id,\n",
    "                sa.account_no,\n",
    "                sp.name as product_name,\n",
    "                sp.id as product_id,\n",
    "                case when isnull(mc.id) then 'joint account' else 'standard account' end as 'account_category',\n",
    "                case when isnull(sa.closedon_date) then 'active' else 'closed' end as 'account_status',\n",
    "                sa.approvedon_date as activation_date,\n",
    "                sa.closedon_date\n",
    "                from m_savings_account sa\n",
    "                left join m_client mc on mc.id = sa.client_id\n",
    "                left join m_group mg on mg.id = sa.group_id\n",
    "                join m_savings_product sp on sp.id = sa.product_id\n",
    "                where sa.id > {last_acct[0]}\n",
    "                ''', Mifosdb)\n",
    "\n",
    "all_accts"
   ]
  },
  {
   "cell_type": "code",
   "execution_count": 0,
   "metadata": {
    "application/vnd.databricks.v1+cell": {
     "cellMetadata": {
      "byteLimit": 2048000,
      "rowLimit": 10000
     },
     "inputWidgets": {},
     "nuid": "62f13d52-04cc-4e36-9448-65d620db326f",
     "showTitle": false,
     "title": ""
    },
    "tags": []
   },
   "outputs": [],
   "source": [
    "all_accts.shape"
   ]
  },
  {
   "cell_type": "code",
   "execution_count": 0,
   "metadata": {
    "application/vnd.databricks.v1+cell": {
     "cellMetadata": {
      "byteLimit": 2048000,
      "rowLimit": 10000
     },
     "inputWidgets": {},
     "nuid": "a946685f-153b-4339-b252-ea6855f7d0a1",
     "showTitle": false,
     "title": ""
    },
    "tags": []
   },
   "outputs": [],
   "source": [
    "%%time\n",
    "all_accts.to_sql('dwh_all_accounts', conn, index=False, if_exists='append', chunksize= 10000, method = 'multi')"
   ]
  },
  {
   "cell_type": "markdown",
   "metadata": {
    "application/vnd.databricks.v1+cell": {
     "cellMetadata": {},
     "inputWidgets": {},
     "nuid": "b6878160-10cd-4c02-824b-7c73ec7ee086",
     "showTitle": false,
     "title": ""
    }
   },
   "source": [
    "## Product types ETL"
   ]
  },
  {
   "cell_type": "code",
   "execution_count": 0,
   "metadata": {
    "application/vnd.databricks.v1+cell": {
     "cellMetadata": {
      "byteLimit": 2048000,
      "rowLimit": 10000
     },
     "inputWidgets": {},
     "nuid": "626f59e4-9453-4675-843c-eb3ae8a9ec75",
     "showTitle": false,
     "title": ""
    },
    "tags": []
   },
   "outputs": [],
   "source": [
    "product = pd.read_sql_query(f'''\n",
    "        select\n",
    "        id product_id,\n",
    "        name as product_name,\n",
    "        short_name,\n",
    "        description\n",
    "        from m_savings_product \n",
    "        ''', Mifosdb)\n",
    "\n",
    "product"
   ]
  },
  {
   "cell_type": "code",
   "execution_count": 0,
   "metadata": {
    "application/vnd.databricks.v1+cell": {
     "cellMetadata": {
      "byteLimit": 2048000,
      "rowLimit": 10000
     },
     "inputWidgets": {},
     "nuid": "8df7b7ab-b9de-4ccf-8cd5-d301a9a7c0cb",
     "showTitle": false,
     "title": ""
    },
    "tags": []
   },
   "outputs": [],
   "source": [
    "%%time\n",
    "product.to_sql('dwh_product_types', conn, index = False, if_exists = 'replace', chunksize = 10000, method = 'multi')"
   ]
  },
  {
   "cell_type": "code",
   "execution_count": 0,
   "metadata": {
    "application/vnd.databricks.v1+cell": {
     "cellMetadata": {
      "byteLimit": 2048000,
      "rowLimit": 10000
     },
     "inputWidgets": {},
     "nuid": "71e186f6-22fb-45d3-aa5d-d02f5344f8d4",
     "showTitle": false,
     "title": ""
    },
    "tags": []
   },
   "outputs": [],
   "source": [
    "import datetime\n",
    "\n",
    "last_run_date = datetime.datetime.now()\n",
    "print(\"Last run date:\", last_run_date)\n"
   ]
  }
 ],
 "metadata": {
  "application/vnd.databricks.v1+notebook": {
   "dashboards": [],
   "environmentMetadata": null,
   "language": "python",
   "notebookMetadata": {
    "pythonIndentUnit": 4
   },
   "notebookName": "dwh_accounts_ETL",
   "widgets": {}
  },
  "kernelspec": {
   "display_name": "Python 3 (ipykernel)",
   "language": "python",
   "name": "python3"
  },
  "language_info": {
   "codemirror_mode": {
    "name": "ipython",
    "version": 3
   },
   "file_extension": ".py",
   "mimetype": "text/x-python",
   "name": "python",
   "nbconvert_exporter": "python",
   "pygments_lexer": "ipython3",
   "version": "3.8.16"
  }
 },
 "nbformat": 4,
 "nbformat_minor": 0
}
