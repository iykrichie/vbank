{
 "cells": [
  {
   "cell_type": "code",
   "execution_count": 0,
   "metadata": {
    "application/vnd.databricks.v1+cell": {
     "cellMetadata": {},
     "inputWidgets": {},
     "nuid": "68d1a300-b7c1-4114-8388-925c12ffb5f5",
     "showTitle": false,
     "title": ""
    },
    "tags": []
   },
   "outputs": [],
   "source": [
    "print(\"Active\")"
   ]
  },
  {
   "cell_type": "code",
   "execution_count": 0,
   "metadata": {
    "application/vnd.databricks.v1+cell": {
     "cellMetadata": {},
     "inputWidgets": {},
     "nuid": "8d37f661-383b-482d-9c15-9e86f01b5376",
     "showTitle": false,
     "title": ""
    },
    "tags": []
   },
   "outputs": [],
   "source": [
    "import time\n",
    "print(\"Started\")\n",
    "while True: \n",
    "    print(\"Running\")\n",
    "    time.sleep(6)"
   ]
  },
  {
   "cell_type": "code",
   "execution_count": 0,
   "metadata": {
    "application/vnd.databricks.v1+cell": {
     "cellMetadata": {},
     "inputWidgets": {},
     "nuid": "1609c058-e3d6-43cd-94d6-3cf2196d38b7",
     "showTitle": false,
     "title": ""
    }
   },
   "outputs": [],
   "source": []
  },
  {
   "cell_type": "code",
   "execution_count": 0,
   "metadata": {
    "application/vnd.databricks.v1+cell": {
     "cellMetadata": {},
     "inputWidgets": {},
     "nuid": "4438efbb-2b94-4f6a-9432-aacaf34c3a6e",
     "showTitle": false,
     "title": ""
    }
   },
   "outputs": [],
   "source": []
  },
  {
   "cell_type": "code",
   "execution_count": 0,
   "metadata": {
    "application/vnd.databricks.v1+cell": {
     "cellMetadata": {},
     "inputWidgets": {},
     "nuid": "4601e808-6f5b-4d22-9705-1e99dc921d78",
     "showTitle": false,
     "title": ""
    },
    "tags": []
   },
   "outputs": [],
   "source": [
    "n = 25\n",
    "while n >= 2:\n",
    "    print(n)\n",
    "\n",
    "    #Auto datetime\n",
    "    from datetime import datetime, timedelta\n",
    "    today = datetime.today() - timedelta(days = n-2)\n",
    "    today = today.strftime('%Y-%m-%d')\n",
    "    yesterday = datetime.today() - timedelta(days = n-1)\n",
    "    yesterday = yesterday.strftime('%Y_%m_%d')\n",
    "    Yesterday = datetime.today() - timedelta(days = n-1)\n",
    "    Yesterday = Yesterday.strftime('%Y-%m-%d')\n",
    "    two_days_ago = datetime.today() - timedelta(days = n)\n",
    "    two_days_ago = two_days_ago.strftime('%Y_%m_%d')\n",
    "    print(today)\n",
    "    print(Yesterday)\n",
    "    print(two_days_ago)\n",
    "    \n",
    "    \n",
    "    \n",
    "    print('Done')\n",
    "    print('\\n')\n",
    "    n -= 1"
   ]
  },
  {
   "cell_type": "code",
   "execution_count": 0,
   "metadata": {
    "application/vnd.databricks.v1+cell": {
     "cellMetadata": {},
     "inputWidgets": {},
     "nuid": "1c96861b-232d-4ac2-88a1-f6035938a583",
     "showTitle": false,
     "title": ""
    }
   },
   "outputs": [],
   "source": [
    "n = 50\n",
    "while n >= 2:\n",
    "    print(n)\n",
    "\n",
    "    \n",
    "    \n",
    "    \n",
    "    \n",
    "    print('Done')\n",
    "    print('\\n')\n",
    "    n -= 1"
   ]
  },
  {
   "cell_type": "code",
   "execution_count": 0,
   "metadata": {
    "application/vnd.databricks.v1+cell": {
     "cellMetadata": {},
     "inputWidgets": {},
     "nuid": "391e2b47-5660-4cf5-bb98-957ebdf0485d",
     "showTitle": false,
     "title": ""
    }
   },
   "outputs": [],
   "source": []
  },
  {
   "cell_type": "code",
   "execution_count": 0,
   "metadata": {
    "application/vnd.databricks.v1+cell": {
     "cellMetadata": {},
     "inputWidgets": {},
     "nuid": "4b463fff-0747-4a76-b5cf-41d033147e95",
     "showTitle": false,
     "title": ""
    }
   },
   "outputs": [],
   "source": []
  }
 ],
 "metadata": {
  "application/vnd.databricks.v1+notebook": {
   "dashboards": [],
   "environmentMetadata": null,
   "language": "python",
   "notebookMetadata": {
    "pythonIndentUnit": 4
   },
   "notebookName": "demo",
   "widgets": {}
  },
  "kernelspec": {
   "display_name": "Python 3 (ipykernel)",
   "language": "python",
   "name": "python3"
  },
  "language_info": {
   "codemirror_mode": {
    "name": "ipython",
    "version": 3
   },
   "file_extension": ".py",
   "mimetype": "text/x-python",
   "name": "python",
   "nbconvert_exporter": "python",
   "pygments_lexer": "ipython3",
   "version": "3.8.16"
  }
 },
 "nbformat": 4,
 "nbformat_minor": 0
}
