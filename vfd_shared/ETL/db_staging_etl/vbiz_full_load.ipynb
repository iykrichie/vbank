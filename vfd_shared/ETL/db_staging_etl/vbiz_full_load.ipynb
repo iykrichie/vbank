{
 "cells": [
  {
   "cell_type": "code",
   "execution_count": 0,
   "metadata": {
    "application/vnd.databricks.v1+cell": {
     "cellMetadata": {
      "byteLimit": 2048000,
      "rowLimit": 10000
     },
     "inputWidgets": {},
     "nuid": "3df80479-4c0d-4325-a68e-494b17f30838",
     "showTitle": false,
     "title": ""
    },
    "tags": []
   },
   "outputs": [],
   "source": [
    "print(\"Healthy\")"
   ]
  },
  {
   "cell_type": "code",
   "execution_count": 0,
   "metadata": {
    "application/vnd.databricks.v1+cell": {
     "cellMetadata": {
      "byteLimit": 2048000,
      "rowLimit": 10000
     },
     "inputWidgets": {},
     "nuid": "559be6a4-c0bb-48d3-b70f-1fbd06e124de",
     "showTitle": false,
     "title": ""
    },
    "tags": []
   },
   "outputs": [],
   "source": [
    "from re import search\n",
    "from sqlalchemy import create_engine\n",
    "import duckdb\n",
    "from datetime import datetime, timedelta\n",
    "\n",
    "import pandas as pd \n",
    "import numpy as np \n",
    "import mysql.connector\n",
    "\n",
    "pd.set_option('display.max_columns', None)\n",
    "\n",
    "import warnings\n",
    "warnings.filterwarnings('ignore')\n",
    "\n",
    "\n",
    "import json\n",
    "with open('/Workspace/Credentials/db_data.json', 'r') as fp:\n",
    "    data = json.load(fp)\n",
    "\n",
    "Dumpdb = mysql.connector.connect(\n",
    "  host=data['Dumpdb']['host'],\n",
    "  user=data['Dumpdb']['user'],\n",
    "  passwd=data['Dumpdb']['passwd'],\n",
    "  database = data['Dumpdb']['database']\n",
    ")\n",
    "\n",
    "\n",
    "MifosDB = mysql.connector.connect(\n",
    "  host=data['mifos']['host'],\n",
    "  user=data['mifos']['user'],\n",
    "  passwd=data['mifos']['passwd'],\n",
    "  database = data['mifos']['database']\n",
    ")\n",
    "\n",
    "\n",
    "vbizdb = mysql.connector.connect(\n",
    "host=data['vbizdb']['host'],\n",
    "  user=data['vbizdb']['user'],\n",
    "  passwd=data['vbizdb']['passwd'],\n",
    "  database = data['vbizdb']['database']\n",
    ")\n",
    "\n",
    "host = data['redshift']['host']\n",
    "user = data['redshift']['user']\n",
    "passwd = data['redshift']['passwd']\n",
    "database = data['redshift']['database']\n",
    "\n",
    "conn = create_engine(f\"postgresql+psycopg2://{user}:{passwd}@{host}:5439/{database}\")\n",
    "pd.set_option('display.float_format', lambda x: '%.2f' % x)\n",
    "\n"
   ]
  },
  {
   "cell_type": "code",
   "execution_count": 0,
   "metadata": {
    "application/vnd.databricks.v1+cell": {
     "cellMetadata": {
      "byteLimit": 2048000,
      "rowLimit": 10000
     },
     "inputWidgets": {},
     "nuid": "215a1072-1b0f-41d2-a539-9e043e36f78b",
     "showTitle": false,
     "title": ""
    },
    "tags": []
   },
   "outputs": [],
   "source": [
    "#   DROP TRUNCATE IF EXISTS {schema_name}.{table_name};\n",
    "def load_table(schema_name, table_name, dataframe):\n",
    "    engine = create_engine(f\"postgresql+psycopg2://{user}:{passwd}@{host}:5439/{database}\")\n",
    "    \n",
    "    sql = f'''\n",
    "    \n",
    "    -- Check if the table exists in the system catalog\n",
    "    SELECT COUNT(*)\n",
    "    FROM pg_tables\n",
    "    WHERE schemaname = '{schema_name}' -- adjust the schema if needed\n",
    "    AND tablename = '{table_name}'; -- adjust the table name\n",
    "\n",
    "    -- Truncate the table if it exists\n",
    "    TRUNCATE TABLE {schema_name}.{table_name}; -- adjust the table name\n",
    "    '''\n",
    "\n",
    "    with engine.begin() as con:     \n",
    "        con.execute(sql)\n",
    "\n",
    "    chunk_size = 10000\n",
    "    num_rows = len(dataframe)\n",
    "\n",
    "    conn = create_engine(f\"postgresql+psycopg2://{user}:{passwd}@{host}:5439/{database}\")\n",
    "    num_iterations = (num_rows // chunk_size) + 1 if num_rows % chunk_size != 0 else num_rows // chunk_size\n",
    "\n",
    "    for i in range(num_iterations):\n",
    "        start_idx = i * chunk_size\n",
    "        end_idx = (i + 1) * chunk_size if (i + 1) * chunk_size < num_rows else num_rows\n",
    "\n",
    "        chunk_df = dataframe.iloc[start_idx:end_idx]\n",
    "\n",
    "        chunk_df.to_sql(schema= schema_name, name = table_name, con =conn, index = False, if_exists = 'append', chunksize = 5000, method = 'multi')\n",
    "\n",
    "    print(\"Data loaded successfully.\")\n",
    "    "
   ]
  },
  {
   "cell_type": "code",
   "execution_count": 0,
   "metadata": {
    "application/vnd.databricks.v1+cell": {
     "cellMetadata": {
      "byteLimit": 2048000,
      "rowLimit": 10000
     },
     "inputWidgets": {},
     "nuid": "6ceac1b5-13a8-4bcf-80f3-3a7b8634d7f2",
     "showTitle": false,
     "title": ""
    },
    "tags": []
   },
   "outputs": [],
   "source": [
    "# Query to get all table names from information_schema.tables\n",
    "#query = \"SELECT table_name FROM information_schema.tables WHERE table_schema = 'vbiz'\"\n",
    "#tables =   pd.read_sql(query, con=vbizdb)\n",
    "#tables = [list(row) for row in tables.itertuples(index=False)]"
   ]
  },
  {
   "cell_type": "code",
   "execution_count": 0,
   "metadata": {
    "application/vnd.databricks.v1+cell": {
     "cellMetadata": {
      "byteLimit": 2048000,
      "rowLimit": 10000
     },
     "inputWidgets": {},
     "nuid": "bf1fbedd-040e-4a84-846b-39b3b3e151a6",
     "showTitle": false,
     "title": ""
    },
    "tags": []
   },
   "outputs": [],
   "source": [
    "tables = [\n",
    "'account',\n",
    "'approver',\n",
    "'audit',\n",
    "'bank',\n",
    "'batch',\n",
    "'beneficiary',\n",
    "'business',\n",
    "#'businessUser',\n",
    "'clocks',\n",
    "'document',\n",
    "'leader',\n",
    "'onboarding', \n",
    "#'passwordReset',\n",
    "'profile',\n",
    "#'refreshSession',\n",
    "#'subAccountConsentApproval',\n",
    "#'subAccountRequest',\n",
    "'taggable',\n",
    "#'user',\n",
    "#'workflowRequest'\n",
    "'payment',\n",
    "]\n",
    "print(tables)\n",
    "# 'businessLeader', 'onboardingOld',  'tag',"
   ]
  },
  {
   "cell_type": "code",
   "execution_count": 0,
   "metadata": {
    "application/vnd.databricks.v1+cell": {
     "cellMetadata": {
      "byteLimit": 2048000,
      "rowLimit": 10000
     },
     "inputWidgets": {},
     "nuid": "753fc4f3-83bd-4d31-9fd0-ac24923f6802",
     "showTitle": false,
     "title": ""
    },
    "tags": []
   },
   "outputs": [],
   "source": [
    "print(\"Started: \" + datetime.today().strftime('%Y-%m-%d %H:%M:%S'))\n",
    "\n",
    "# Loop through each table and transfer data from MySQL to MSSQL\n",
    "for table in tables:\n",
    "    # Read data from MySQL table\n",
    "    query = f\"SELECT *, NOW() AS load_date FROM {table} ORDER BY CreatedAt\"\n",
    "    print({table})\n",
    "    df = pd.read_sql(query, con=vbizdb)\n",
    "    \n",
    "    def truncate_string(s):\n",
    "        if isinstance(s, str):\n",
    "            return s[:65000]\n",
    "        else:\n",
    "            return s\n",
    "\n",
    "    # Apply the truncate_string function to all columns in the DataFrame\n",
    "    df = df.applymap(truncate_string)\n",
    "\n",
    "    # Write data to MSSQL table\n",
    "    load_table('vbiz', table, df)\n",
    "\n",
    "# Close database connections\n",
    "vbizdb.close()\n",
    "\n",
    "print(\"Ended: \" + datetime.today().strftime('%Y-%m-%d %H:%M:%S'))"
   ]
  }
 ],
 "metadata": {
  "application/vnd.databricks.v1+notebook": {
   "dashboards": [],
   "environmentMetadata": null,
   "language": "python",
   "notebookMetadata": {
    "pythonIndentUnit": 4
   },
   "notebookName": "vbiz_full_load",
   "widgets": {}
  },
  "kernelspec": {
   "display_name": "Python 3 (ipykernel)",
   "language": "python",
   "name": "python3"
  },
  "language_info": {
   "codemirror_mode": {
    "name": "ipython",
    "version": 3
   },
   "file_extension": ".py",
   "mimetype": "text/x-python",
   "name": "python",
   "nbconvert_exporter": "python",
   "pygments_lexer": "ipython3",
   "version": "3.8.16"
  }
 },
 "nbformat": 4,
 "nbformat_minor": 0
}
