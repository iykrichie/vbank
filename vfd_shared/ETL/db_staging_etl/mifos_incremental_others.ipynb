{
 "cells": [
  {
   "cell_type": "code",
   "execution_count": 0,
   "metadata": {
    "application/vnd.databricks.v1+cell": {
     "cellMetadata": {
      "byteLimit": 2048000,
      "rowLimit": 10000
     },
     "inputWidgets": {},
     "nuid": "80769c07-070c-4e7f-919e-3dbbfb5fb43c",
     "showTitle": false,
     "title": ""
    },
    "tags": []
   },
   "outputs": [],
   "source": [
    "print(\"Healthy\")"
   ]
  },
  {
   "cell_type": "code",
   "execution_count": 0,
   "metadata": {
    "application/vnd.databricks.v1+cell": {
     "cellMetadata": {
      "byteLimit": 2048000,
      "rowLimit": 10000
     },
     "inputWidgets": {},
     "nuid": "335743f3-1e1d-4a19-99d9-91015ee743de",
     "showTitle": false,
     "title": ""
    },
    "tags": []
   },
   "outputs": [],
   "source": [
    "from sqlalchemy import create_engine\n",
    "import json\n",
    "with open('/Workspace/Credentials/db_data.json', 'r') as fp:\n",
    "    data = json.load(fp)\n",
    "\n",
    "host = data['redshift']['host']\n",
    "user = data['redshift']['user']\n",
    "passwd = data['redshift']['passwd']\n",
    "database = data['redshift']['database']\n",
    "\n",
    "conn = create_engine(f\"postgresql+psycopg2://{user}:{passwd}@{host}:5439/{database}\")\n",
    "\n",
    "def load_table(schema_name, table_name, dataframe):\n",
    "    chunk_size = 10000\n",
    "    num_rows = len(dataframe)\n",
    "\n",
    "    conn = create_engine(f\"postgresql+psycopg2://{user}:{passwd}@{host}:5439/{database}\")\n",
    "    num_iterations = (num_rows // chunk_size) + 1 if num_rows % chunk_size != 0 else num_rows // chunk_size\n",
    "\n",
    "    for i in range(num_iterations):\n",
    "        start_idx = i * chunk_size\n",
    "        end_idx = (i + 1) * chunk_size if (i + 1) * chunk_size < num_rows else num_rows\n",
    "\n",
    "        chunk_df = dataframe.iloc[start_idx:end_idx]\n",
    "\n",
    "        chunk_df.to_sql(schema= schema_name, name = table_name, con =conn, index = False, if_exists = 'append', chunksize = 5000, method = 'multi')\n",
    "\n",
    "    #print(\"Data loaded successfully.\")\n",
    "    "
   ]
  },
  {
   "cell_type": "code",
   "execution_count": 0,
   "metadata": {
    "application/vnd.databricks.v1+cell": {
     "cellMetadata": {
      "byteLimit": 2048000,
      "rowLimit": 10000
     },
     "inputWidgets": {},
     "nuid": "b93c8ebe-cb2d-4753-b4b4-a5acef46707f",
     "showTitle": false,
     "title": ""
    },
    "tags": []
   },
   "outputs": [],
   "source": [
    "from datetime import datetime, timedelta\n",
    "print(\"Started: \" + datetime.today().strftime('%Y-%m-%d %H:%M:%S'))\n",
    "\n",
    "# Loop through each table and transfer data from MySQL to MSSQL\n",
    "import time\n",
    "while True:\n",
    "\n",
    "    from re import search\n",
    "    from sqlalchemy import create_engine\n",
    "    import duckdb\n",
    "\n",
    "    import pandas as pd \n",
    "    import numpy as np \n",
    "    import mysql.connector\n",
    "\n",
    "    pd.set_option('display.max_columns', None)\n",
    "\n",
    "    import warnings\n",
    "    warnings.filterwarnings('ignore')\n",
    "\n",
    "\n",
    "    MifosDB = mysql.connector.connect(\n",
    "      host=data['mifos']['host'],\n",
    "      user=data['mifos']['user'],\n",
    "      passwd=data['mifos']['passwd'],\n",
    "      database = data['mifos']['database']\n",
    "    )\n",
    "\n",
    "\n",
    "\n",
    "    conn = create_engine(f\"postgresql+psycopg2://{user}:{passwd}@{host}:5439/{database}\")\n",
    "    pd.set_option('display.float_format', lambda x: '%.2f' % x)\n",
    "\n",
    "\n",
    "\n",
    "    #Address Info\n",
    "    lastr = pd.read_sql_query(f'''select max(id) as ltr, max(load_date) as last_date from mifostenantprod_.m_address_info ''', conn)\n",
    "    ltr = (lastr['ltr'][0], lastr['last_date'][0])\n",
    "    #print(ltr[0], '-', ltr[1])    \n",
    "    query = f\"SELECT * FROM `Address Info` where id > {ltr[0]} ORDER BY id LIMIT 500000\"\n",
    "    df = pd.read_sql(query, con=MifosDB)\n",
    "    df['load_date'] = datetime.today().strftime('%Y-%m-%d %H:%M:%S')\n",
    "    print(len(df), f\" of table `Address Info`\")\n",
    "    load_table('mifostenantprod_', 'm_address_info', df)\n",
    "    #print(ltr[0], \"Ended: \" + datetime.today().strftime('%Y-%m-%d %H:%M:%S'))\n",
    "    #print('\\n\\n')\n",
    "\n",
    "\n",
    "    #Other Bank Details\n",
    "    lastr = pd.read_sql_query(f'''select max(client_id) as ltr, max(load_date) as last_date from mifostenantprod_.m_other_bank_details ''', conn)\n",
    "    ltr = (lastr['ltr'][0], lastr['last_date'][0])\n",
    "    #print(ltr[0], '-', ltr[1]) \n",
    "    query = f\"SELECT * FROM `Other Bank Details` WHERE client_id > {ltr[0]} ORDER BY client_id LIMIT 500000\"\n",
    "    df = pd.read_sql(query, con=MifosDB)\n",
    "    df['load_date'] = datetime.today().strftime('%Y-%m-%d %H:%M:%S')\n",
    "    print(len(df), f\" of table `Other Bank Details`\")\n",
    "    load_table('mifostenantprod_', 'm_other_bank_details', df)\n",
    "    #print(ltr[0], \"Ended: \" + datetime.today().strftime('%Y-%m-%d %H:%M:%S'))\n",
    "    #print('\\n\\n')        \n",
    "\n",
    "\n",
    "    #m_transaction_request\n",
    "    lastr = pd.read_sql_query(f'''select max(id) as ltr, max(load_date) as last_date from mifostenantprod_.m_transaction_request ''', conn)\n",
    "    ltr = (lastr['ltr'][0], lastr['last_date'][0])\n",
    "    #print(ltr[0], '-', ltr[1]) \n",
    "    query = f\"\"\"\n",
    "            SELECT \n",
    "            id, \n",
    "            del_flag, \n",
    "            m.deleted_on, \n",
    "            m.version, \n",
    "            m.category, \n",
    "            left(m.image_tag, 10000) AS image_tag, \n",
    "            m.latitude, \n",
    "            m.longitude, \n",
    "            LEFT(m.note_image, 10000) AS note_image,\n",
    "            LEFT(m.remarks, 10000) AS remarks,\n",
    "            LEFT(m.transaction_brand_name, 10000) AS transaction_brand_name,\n",
    "            m.transaction_id\n",
    "            FROM m_transaction_request m\n",
    "            where id > {ltr[0]}\n",
    "            ORDER BY id LIMIT  500000;\n",
    "            \"\"\"\n",
    "    df = pd.read_sql(query, con=MifosDB)\n",
    "    df['load_date'] = datetime.today().strftime('%Y-%m-%d %H:%M:%S')\n",
    "    print(len(df), f\" of table m_transaction_request\")\n",
    "    load_table('mifostenantprod_', 'm_transaction_request', df)\n",
    "    #print(ltr[0], \"Ended: \" + datetime.today().strftime('%Y-%m-%d %H:%M:%S'))\n",
    "    #print('\\n\\n')       \n",
    "\n",
    "\n",
    "\n",
    "    # Close database connections\n",
    "    MifosDB.close()\n",
    "\n",
    "time.sleep(30) #In Seconds"
   ]
  }
 ],
 "metadata": {
  "application/vnd.databricks.v1+notebook": {
   "dashboards": [],
   "environmentMetadata": null,
   "language": "python",
   "notebookMetadata": {
    "pythonIndentUnit": 4
   },
   "notebookName": "mifos_incremental_others",
   "widgets": {}
  },
  "kernelspec": {
   "display_name": "Python 3 (ipykernel)",
   "language": "python",
   "name": "python3"
  },
  "language_info": {
   "codemirror_mode": {
    "name": "ipython",
    "version": 3
   },
   "file_extension": ".py",
   "mimetype": "text/x-python",
   "name": "python",
   "nbconvert_exporter": "python",
   "pygments_lexer": "ipython3",
   "version": "3.8.16"
  }
 },
 "nbformat": 4,
 "nbformat_minor": 0
}
