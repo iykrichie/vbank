{
 "cells": [
  {
   "cell_type": "code",
   "execution_count": 0,
   "metadata": {
    "application/vnd.databricks.v1+cell": {
     "cellMetadata": {
      "byteLimit": 2048000,
      "rowLimit": 10000
     },
     "inputWidgets": {},
     "nuid": "702ffa8f-f051-43dc-9c6e-1706e8e26989",
     "showTitle": false,
     "title": ""
    }
   },
   "outputs": [],
   "source": [
    "print(\"Healthy\")"
   ]
  },
  {
   "cell_type": "code",
   "execution_count": 0,
   "metadata": {
    "application/vnd.databricks.v1+cell": {
     "cellMetadata": {
      "byteLimit": 2048000,
      "rowLimit": 10000
     },
     "inputWidgets": {},
     "nuid": "9536b05d-4dad-45d5-b819-2d22a8f3c420",
     "showTitle": false,
     "title": ""
    }
   },
   "outputs": [],
   "source": [
    "from IPython.display import display, HTML\n",
    "display(HTML(\"<style>.container { width:100% !important; }</style>\"))"
   ]
  },
  {
   "cell_type": "code",
   "execution_count": 0,
   "metadata": {
    "application/vnd.databricks.v1+cell": {
     "cellMetadata": {
      "byteLimit": 2048000,
      "rowLimit": 10000
     },
     "inputWidgets": {},
     "nuid": "e070f388-77de-4bbc-86f5-8dfb2881cd85",
     "showTitle": false,
     "title": ""
    }
   },
   "outputs": [],
   "source": [
    "import pandas as pd \n",
    "import numpy as np \n",
    "import duckdb\n",
    "from re import search\n",
    "\n",
    "import warnings\n",
    "warnings.filterwarnings('ignore')\n",
    "\n",
    "from datetime import datetime, timedelta\n",
    "d = datetime.today() - timedelta(days = 1)\n",
    "d = d.strftime('%Y-%m-%d')\n",
    "\n",
    "date = \"'\" + d + \"'\"\n",
    "print(date)\n",
    "\n",
    "\n",
    "e = datetime.today() - timedelta(days = 1)\n",
    "e = e.strftime('%Y-%m-%d')\n",
    "end = \"'\" + e + \"'\"\n",
    "print(end, ' as end')\n",
    "\n",
    "s = datetime.today() - timedelta(days = 8)\n",
    "s = s.strftime('%Y-%m-%d')\n",
    "start = \"'\" + s + \"'\"\n",
    "print(start, ' as start')\n",
    "\n",
    "import smtplib\n",
    "from email.mime.multipart import MIMEMultipart\n",
    "from email.mime.base import MIMEBase\n",
    "from email.mime.text import MIMEText\n",
    "from email import encoders\n",
    "\n",
    "\n",
    "import mysql.connector\n",
    "import json\n",
    "with open('/Workspace/Credentials/db_data.json', 'r') as fp:\n",
    "    data = json.load(fp)\n",
    "\n",
    "DumpDB = mysql.connector.connect(\n",
    "  host=data['Dumpdb']['host'],\n",
    "  user=data['Dumpdb']['user'],\n",
    "  passwd=data['Dumpdb']['passwd'],\n",
    "  database = data['Dumpdb']['database']\n",
    ")\n"
   ]
  },
  {
   "cell_type": "code",
   "execution_count": 0,
   "metadata": {
    "application/vnd.databricks.v1+cell": {
     "cellMetadata": {
      "byteLimit": 2048000,
      "rowLimit": 10000
     },
     "inputWidgets": {},
     "nuid": "2e586bb6-f2b5-49a9-87ed-aad038aa38cd",
     "showTitle": false,
     "title": ""
    }
   },
   "outputs": [],
   "source": [
    "username = data['auto-report']['email']\n",
    "passwd = data['auto-report']['passwd']\n",
    "print(username)"
   ]
  },
  {
   "cell_type": "code",
   "execution_count": 0,
   "metadata": {
    "application/vnd.databricks.v1+cell": {
     "cellMetadata": {
      "byteLimit": 2048000,
      "rowLimit": 10000
     },
     "inputWidgets": {},
     "nuid": "d43c90a7-be13-4f87-bcd1-56066edca536",
     "showTitle": false,
     "title": ""
    }
   },
   "outputs": [],
   "source": [
    "## Wallets list \n",
    "\n",
    "wl = [\n",
    "('Tradegrid', '1029004186', '[\"paul.adeyoyin@thetradegrid.com\"]'),\n",
    "('Creditchek Inc', '1030522484', '[\"finance@creditchek.africa\"]'),\n",
    "]\n",
    "\n",
    "df_wallets = pd.DataFrame(wl, columns = ['wallet_name', 'account_nos', 'email'])"
   ]
  },
  {
   "cell_type": "code",
   "execution_count": 0,
   "metadata": {
    "application/vnd.databricks.v1+cell": {
     "cellMetadata": {
      "byteLimit": 2048000,
      "rowLimit": 10000
     },
     "inputWidgets": {},
     "nuid": "44b0875e-18a2-4483-a15f-40d5b350896a",
     "showTitle": false,
     "title": ""
    }
   },
   "outputs": [],
   "source": [
    "t = []\n",
    "\n",
    "for i in df_wallets['account_nos']:\n",
    "    t.append((i[:11]))    \n",
    "    \n",
    "ti = ','.join([str(x) for x in t])\n",
    "ti = ti.replace('[', '')\n",
    "\n",
    "df_wallets['account_no'] = ti.split(',')"
   ]
  },
  {
   "cell_type": "code",
   "execution_count": 0,
   "metadata": {
    "application/vnd.databricks.v1+cell": {
     "cellMetadata": {
      "byteLimit": 2048000,
      "rowLimit": 10000
     },
     "inputWidgets": {},
     "nuid": "3dc5e4d1-8ce5-4f11-a8d5-c6488d5b57f6",
     "showTitle": false,
     "title": ""
    }
   },
   "outputs": [],
   "source": [
    "#df_wallets = df_wallets[33:34]\n",
    "df_wallets.head()"
   ]
  },
  {
   "cell_type": "code",
   "execution_count": 0,
   "metadata": {
    "application/vnd.databricks.v1+cell": {
     "cellMetadata": {
      "byteLimit": 2048000,
      "rowLimit": 10000
     },
     "inputWidgets": {},
     "nuid": "e0b25c6c-76e7-4799-8ebb-b2767cf9fd41",
     "showTitle": false,
     "title": ""
    }
   },
   "outputs": [],
   "source": [
    "Mifosdb = mysql.connector.connect(\n",
    "  host=data['mifos']['host'],\n",
    "  user=data['mifos']['user'],\n",
    "  passwd=data['mifos']['passwd'],\n",
    "  database = data['mifos']['database'],\n",
    "  auth_plugin = 'mysql_native_password',\n",
    ")\n",
    "\n",
    "nam = f'''\n",
    "    select\n",
    "    mc.display_name as client_name,\n",
    "    msa.account_no\n",
    "    from m_client mc\n",
    "    join m_savings_account msa on msa.client_id = mc.id\n",
    "    where msa.account_no in ({ti})\n",
    "    '''\n",
    "\n",
    "df_nam = pd.read_sql_query(nam, Mifosdb)\n",
    "\n",
    "df_wallets = pd.merge(df_wallets, df_nam, on = 'account_no', how = 'left')\n",
    "\n",
    "df_wallets = df_wallets[['client_name', 'wallet_name', 'account_no', 'account_nos', 'email']]\n",
    "\n",
    "df_wallets['show_beneficiary'] = ['Yes' if i == '1011974622' else 'No' for i in df_wallets['account_no']]\n",
    "df_wallets.head()\n"
   ]
  },
  {
   "cell_type": "code",
   "execution_count": 0,
   "metadata": {
    "application/vnd.databricks.v1+cell": {
     "cellMetadata": {
      "byteLimit": 2048000,
      "rowLimit": 10000
     },
     "inputWidgets": {},
     "nuid": "9286bf22-cc66-4430-9534-186456788648",
     "showTitle": false,
     "title": ""
    }
   },
   "outputs": [],
   "source": [
    "def statement_spool(account_no, show_beneficiary):\n",
    "    \n",
    "    show_beneficiary = show_beneficiary.upper()\n",
    "    \n",
    "    if show_beneficiary == 'NO':\n",
    "        comm = '-- '\n",
    "    elif show_beneficiary == 'YES':\n",
    "        comm = ''\n",
    "    \n",
    "    ptype = pd.read_sql_query(f'''\n",
    "    select \n",
    "    sa.account_no,\n",
    "    sa.product_id\n",
    "    from m_savings_account sa \n",
    "    where sa.account_no in ({account_no})\n",
    "    ''', Mifosdb)\n",
    "    \n",
    "    product_id = ptype['product_id'][0]\n",
    "    \n",
    "    inf = f'''\n",
    "    select\n",
    "    st.id as transaction_id,\n",
    "    mpd.receipt_number as session_id,\n",
    "    st.created_date as transaction_date,\n",
    "    msa.account_no as account_no,\n",
    "    msp.name as product,\n",
    "\n",
    "    ifnull(replace(mc.display_name, \"null\", \" \"), mg.display_name) as client_name,\n",
    "    \n",
    "    renum.enum_value as transaction_type,\n",
    "    {comm}mpd.account_number as beneficiary_account_no,\n",
    "    \n",
    "    ifnull(case when st.transaction_type_enum in (2,4,17,18,26)  then st.amount end ,0) as 'debit', \n",
    "    ifnull(case  when st.transaction_type_enum in (1,3) then st.amount end,0) as 'credit', \n",
    "    ifnull(st.running_balance_derived,0) as 'balance', \n",
    "    case st.is_reversed when 0 then 'No' else 'Yes' end as 'reversed',\n",
    "     \n",
    "    case when renum.enum_value like '%Stamp Duty%' then 'Stamp Duty' \n",
    "        when st.transaction_type_enum in (20, 21) then renum.enum_message_property else mtr.remarks end as 'narration'\n",
    "    \n",
    "        \n",
    "    \n",
    "    from m_savings_account_transaction st\n",
    "    left join m_savings_account msa on msa.id = st.savings_account_id\n",
    "    left join m_savings_product msp on msp.id = msa.product_id\n",
    "    left join (SELECT\n",
    "                rv.enum_name,\n",
    "                rv.enum_id,\n",
    "                rv.enum_message_property,\n",
    "                rv.enum_value\n",
    "                FROM r_enum_value rv\n",
    "                WHERE rv.enum_name = 'savings_transaction_type_enum') renum on renum.enum_id = st.transaction_type_enum\n",
    " \n",
    "    \n",
    "    left join m_client mc on mc.id = msa.client_id\n",
    "    left join m_group mg on mg.id = msa.group_id\n",
    "    left JOIN m_payment_detail mpd ON mpd.id = st.payment_detail_id\n",
    "    left JOIN m_payment_type mpt ON mpt.id = mpd.payment_type_id\n",
    "    left join m_transaction_request mtr on mtr.transaction_id = st.id\n",
    "    where st.transaction_type_enum in ('1', '2', '3', '4', '17', '18', '26') -- ('1', '2', '3', '5', '4', '17', '18', '26')\n",
    "    and left(st.created_date, 10) >= {start}  \n",
    "    and msa.product_id = '{product_id}'\n",
    "    and msa.account_no in ({account_no})\n",
    "    -- and st.is_reversed = 0\n",
    "    order by st.id\n",
    "    '''\n",
    "\n",
    "    df1 = pd.read_sql_query(inf, Mifosdb)\n",
    "\n",
    "    import pymysql\n",
    "    mifos_conn = pymysql.connect(user = data['mifos']['user'], \n",
    "                            password = data['mifos']['passwd'], \n",
    "                            database = data['mifos']['database'], \n",
    "                            host = data['mifos']['host'])\n",
    "    mifos_cursor = mifos_conn.cursor()\n",
    "\n",
    "    sql =f\"\"\"\n",
    "        SELECT msat.id AS 'Tranaction ID', msa.account_no as 'Account No', msat.amount as 'Amount', \n",
    "        mtr.notes AS 'Transaction Remark', msat.created_date AS 'Transaction Date'\n",
    "        FROM m_transaction_request mtr \n",
    "        JOIN m_savings_account_transaction msat ON msat.id = mtr.transaction_id\n",
    "        JOIN m_savings_account msa ON msa.id = msat.savings_account_id\n",
    "        WHERE msa.account_no in ({account_no})\n",
    "        AND mtr.notes LIKE '%Reversal Of transactionId%'\n",
    "        and left(msat.created_date, 10) >= {start}\n",
    "        ORDER BY msat.id ASC;\n",
    "    \"\"\"\n",
    "    mifos_cursor.execute(sql)\n",
    "    df2 = pd.DataFrame(mifos_cursor.fetchall())\n",
    "\n",
    "    df2 = df2.rename(columns={\n",
    "    0: \"Tranaction ID\",\n",
    "    1: \"Account No\",\n",
    "    2: \"Amount\",\n",
    "    3: \"Transaction Remark\",\n",
    "    4: \"Transaction Date\",\n",
    "    })\n",
    "    \n",
    "    return df1, df2\n"
   ]
  },
  {
   "cell_type": "code",
   "execution_count": 0,
   "metadata": {
    "application/vnd.databricks.v1+cell": {
     "cellMetadata": {
      "byteLimit": 2048000,
      "rowLimit": 10000
     },
     "inputWidgets": {},
     "nuid": "5f18c03b-c72b-452b-80f2-ec6e91cafaf7",
     "showTitle": false,
     "title": ""
    }
   },
   "outputs": [],
   "source": [
    "# fetch transaction references from wallet table and merge with output\n",
    "def merge_trf(output):\n",
    "    t = output[0]\n",
    "    s = t['session_id'].fillna(0).astype(str)\n",
    "    s = \"'\"+s+\"'\"\n",
    "    trf = pd.read_sql_query(f'''\n",
    "                select\n",
    "                distinct session_id,\n",
    "                transaction_id as Transaction_reference\n",
    "                from TM_WALLET_TRANSACTIONS\n",
    "                where session_id in ('0', {','.join([str(x) for x in s.tolist()])})\n",
    "                group by 1\n",
    "                ''', DumpDB)\n",
    "\n",
    "    trf = pd.merge(t, trf, on ='session_id', how = 'left')\n",
    "    \n",
    "    new_output = [trf, output[1]]\n",
    "    \n",
    "    return new_output"
   ]
  },
  {
   "cell_type": "code",
   "execution_count": 0,
   "metadata": {
    "application/vnd.databricks.v1+cell": {
     "cellMetadata": {
      "byteLimit": 2048000,
      "rowLimit": 10000
     },
     "inputWidgets": {},
     "nuid": "a1b0be39-9b5f-4714-8416-eb3513ce49f9",
     "showTitle": false,
     "title": ""
    }
   },
   "outputs": [],
   "source": [
    "def save_send_statement(merchant_name, client_name, output):\n",
    "    df1 = output[0]\n",
    "    df2 = output[1]\n",
    "    \n",
    "    with pd.ExcelWriter(f'/Workspace/ReportDump/Wallet_Account_Statements/{merchant_name}_Stmt_{start}_{end}.xlsx') as writer:\n",
    "        df1.to_excel(writer,sheet_name = 'Bank Statement', index = False)\n",
    "        df2.to_excel(writer,sheet_name = 'Reversal', index = False)\n",
    "\n",
    "        \n",
    "    ## FILE TO SEND AND ITS PATH\n",
    "    filename = f'{merchant_name}_Stmt_{start}_{end}.xlsx'\n",
    "    SourcePathName  = '/Workspace/ReportDump/Wallet_Account_Statements/' + filename \n",
    "\n",
    "    \n",
    "    msg = MIMEMultipart()\n",
    "    msg['From'] = 'auto-report@vfdtech.ng'\n",
    "    msg['To'] = f'{recipient}'\n",
    "    msg['CC'] = 'Olugbenga.Paseda@vfdtech.ng, Victor.Nwaka@vfd-mfb.com'\n",
    "    msg['BCC'] = 'ikechukwu.mbaliri@vfd-mfb.com, data-team@vfdtech.ng'\n",
    "\n",
    "    msg['Subject'] = 'V Account Statement'\n",
    "    body = f\"\"\"\n",
    "    Hello {client_name},\n",
    "\n",
    "    Your bank statement and reversals from {start} to {end} is attached for your review.\n",
    "\n",
    "    Regards,\n",
    "    \"\"\"\n",
    "    msg.attach(MIMEText(body, 'plain'))\n",
    "\n",
    "    ## ATTACHMENT PART OF THE CODE IS HERE\n",
    "    attachment = open(SourcePathName, 'rb')\n",
    "    part = MIMEBase('application', \"octet-stream\")\n",
    "    part.set_payload((attachment).read())\n",
    "    encoders.encode_base64(part)\n",
    "    part.add_header('Content-Disposition', \"attachment; filename= %s\" % filename)\n",
    "    msg.attach(part)\n",
    "\n",
    "    server = smtplib.SMTP('smtp.office365.com', 587)  ### put your relevant SMTP here\n",
    "    server.ehlo()\n",
    "    server.starttls()\n",
    "    server.ehlo()\n",
    "    server.login(username, passwd)  ### if applicable\n",
    "    server.send_message(msg)\n",
    "    server.quit()\n",
    "    \n",
    "    return (f'{merchant_name} statement sent successfully!')\n",
    "\n",
    "\n",
    "for row in df_wallets[:].itertuples():\n",
    "    \n",
    "    merchant_name = row[2]\n",
    "    client_name = row[1]\n",
    "    show_beneficiary = row[6]\n",
    "        \n",
    "    if search('\\[', row[4]) and search(']', row[4]):\n",
    "        a = row[4]\n",
    "        a = a.replace('[', '')\n",
    "        a = a.replace(']', '')\n",
    "        \n",
    "    else:\n",
    "        a = row[4]\n",
    "\n",
    "    if search('\\[', row[5]) and search(']', row[5]):\n",
    "        recipient = row[5]\n",
    "        recipient = recipient.replace('[', '')\n",
    "        recipient = recipient.replace(']', '')\n",
    "        recipient = ''.join([str(x) for x in recipient.split('\"')])\n",
    "        \n",
    "    else:\n",
    "        recipient = row[5]\n",
    "    \n",
    "    print(show_beneficiary)     \n",
    "    print(a)\n",
    "    print(recipient)\n",
    "    print('\\n')\n",
    "       \n",
    "    output = statement_spool(a, show_beneficiary)\n",
    "    \n",
    "    if merchant_name in ['Fusion', 'Sarepay']:\n",
    "        \n",
    "        new_output = merge_trf(output)\n",
    "    \n",
    "    else:\n",
    "        \n",
    "        new_output = output\n",
    "    \n",
    "    save_send_statement(merchant_name, client_name, new_output)\n",
    "    print(f'{merchant_name} statement sent successfully!')\n",
    "\n",
    "    \n"
   ]
  },
  {
   "cell_type": "code",
   "execution_count": 0,
   "metadata": {
    "application/vnd.databricks.v1+cell": {
     "cellMetadata": {
      "byteLimit": 2048000,
      "rowLimit": 10000
     },
     "inputWidgets": {},
     "nuid": "9fa3f5fb-f842-4e5f-be03-a283eddb829b",
     "showTitle": false,
     "title": ""
    }
   },
   "outputs": [],
   "source": []
  }
 ],
 "metadata": {
  "application/vnd.databricks.v1+notebook": {
   "dashboards": [],
   "environmentMetadata": null,
   "language": "python",
   "notebookMetadata": {
    "pythonIndentUnit": 4
   },
   "notebookName": "wallet_statement_reversal_weekly",
   "widgets": {}
  }
 },
 "nbformat": 4,
 "nbformat_minor": 0
}
