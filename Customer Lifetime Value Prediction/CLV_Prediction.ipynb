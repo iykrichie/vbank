{
 "cells": [
  {
   "cell_type": "markdown",
   "metadata": {
    "application/vnd.databricks.v1+cell": {
     "cellMetadata": {},
     "inputWidgets": {},
     "nuid": "5b91c7a9-befe-4693-9e60-2b337c7602b8",
     "showTitle": false,
     "title": ""
    }
   },
   "source": [
    "# **Predicting Customer Lifetime Value (CLV)**"
   ]
  },
  {
   "cell_type": "code",
   "execution_count": 0,
   "metadata": {
    "application/vnd.databricks.v1+cell": {
     "cellMetadata": {
      "byteLimit": 2048000,
      "rowLimit": 10000
     },
     "inputWidgets": {},
     "nuid": "7ea059cf-c55b-48c3-afc6-5e5a07812650",
     "showTitle": false,
     "title": ""
    }
   },
   "outputs": [],
   "source": [
    "import os\n",
    "current_working_directory = os.getcwd()\n",
    "print(current_working_directory)\n",
    "\n",
    "import pandas as pd\n",
    "\n",
    "# Correct method usage\n",
    "pd.set_option('display.max_columns', None)\n",
    "pd.set_option('display.max_rows', 80)\n",
    "pd.set_option('display.float_format', lambda x: '%.3f' % x)\n",
    "pd.set_option('display.width', 500)\n",
    "\n",
    "\n",
    "# pd.set_option('display.float_format', lambda x: '%.2f' % x)\n",
    "\n",
    "import numpy as np\n",
    "import warnings\n",
    "warnings.filterwarnings('ignore')\n",
    "\n",
    "# pip install lifetimes\n",
    "\n",
    "import datetime as dt\n",
    "import matplotlib.pyplot as plt\n",
    "\n",
    "from lifetimes import BetaGeoFitter\n",
    "from lifetimes import GammaGammaFitter\n",
    "from lifetimes.plotting import plot_period_transactions\n",
    "\n",
    "from sqlalchemy import create_engine\n",
    "\n",
    "import matplotlib.pyplot as plt\n",
    "import seaborn as sns\n",
    "\n"
   ]
  },
  {
   "cell_type": "code",
   "execution_count": 0,
   "metadata": {
    "application/vnd.databricks.v1+cell": {
     "cellMetadata": {
      "byteLimit": 2048000,
      "rowLimit": 10000
     },
     "inputWidgets": {},
     "nuid": "42eb0fed-12ce-41fb-80e2-349fb5e31f00",
     "showTitle": false,
     "title": ""
    }
   },
   "outputs": [],
   "source": [
    "\n",
    "import json\n",
    "with open('/Workspace/Credentials/db_data.json', 'r') as fp:\n",
    "    data = json.load(fp)\n",
    "\n",
    "\n",
    "host = data['redshift']['host']\n",
    "user = data['redshift']['user']\n",
    "passwd = data['redshift']['passwd']\n",
    "database = data['redshift']['database']\n",
    "\n",
    "conn = create_engine(f\"postgresql+psycopg2://{user}:{passwd}@{host}:5439/{database}\")"
   ]
  },
  {
   "cell_type": "code",
   "execution_count": 0,
   "metadata": {
    "application/vnd.databricks.v1+cell": {
     "cellMetadata": {
      "byteLimit": 2048000,
      "rowLimit": 10000
     },
     "inputWidgets": {},
     "nuid": "0e1ad4b8-cd20-4a64-b296-569697fb2476",
     "showTitle": false,
     "title": ""
    }
   },
   "outputs": [],
   "source": [
    "\n",
    "from datetime import datetime, timedelta\n",
    "today = datetime.today().strftime('%Y-%m-%d')\n",
    "yesterday =  (datetime.today() - timedelta(days = 1)).strftime('%Y-%m-%d')\n",
    "print(today)\n",
    "print(yesterday)\n",
    "\n",
    "\n",
    "last_2_wks = datetime.today() - timedelta(days = 14)\n",
    "last_2_wks = last_2_wks.strftime('%Y-%m-%d')\n",
    "print('------------------------------------')\n",
    "print(last_2_wks)\n",
    "\n",
    "print('\\n')\n",
    "now = datetime.today().strftime('%Y-%m-%d %H:%M:%S')\n",
    "\n",
    "last_30_mins = (datetime.today() - timedelta(days = 1)).strftime('%Y-%m-%d %H:%M:%S')\n",
    "trunc_last_30_mins = (datetime.today() - timedelta(days = 1)).strftime('%Y-%m-%d %H:%M')\n",
    "print(last_30_mins, 'to', now)"
   ]
  },
  {
   "cell_type": "code",
   "execution_count": 0,
   "metadata": {
    "application/vnd.databricks.v1+cell": {
     "cellMetadata": {
      "byteLimit": 2048000,
      "rowLimit": 10000
     },
     "inputWidgets": {},
     "nuid": "f466d444-8141-494e-b002-f829c87f8afb",
     "showTitle": false,
     "title": ""
    }
   },
   "outputs": [],
   "source": [
    "\n",
    "query = '''\n",
    "SELECT\n",
    "    dac.client_id,\n",
    "    dac.client_category,\n",
    "    COUNT(dat.transaction_id) AS Frequency,\n",
    "    SUM(dat.amount) AS Monetary,\n",
    "    DATEDIFF(DAYS, MAX(dat.transaction_date), CURRENT_DATE) AS Recency,\n",
    "    DATEDIFF(DAYS, MIN(dac.activation_date), CURRENT_DATE) AS T,\n",
    "    CURRENT_DATE AS rundate\n",
    "FROM\n",
    "    dwh_all_transactions dat\n",
    "LEFT JOIN\n",
    "    dwh_all_clients dac ON dat.client_id = dac.client_id\n",
    "LEFT JOIN\n",
    "    dwh_all_accounts daa ON dac.client_id = daa.client_id\n",
    "WHERE\n",
    "    dat.transaction_type_enum IN (1, 2)\n",
    "    AND UPPER(dac.client_category) NOT IN ('Unclassified')\n",
    "    AND dac.client_status = 'Active'\n",
    "    AND dat.transaction_date >= DATEADD(MONTH, -12, CURRENT_DATE)  -- Assuming a SQL-compatible syntax for date manipulation\n",
    "GROUP BY\n",
    "    dac.client_id,\n",
    "    dac.client_category\n",
    "HAVING COUNT(dat.transaction_id) > 0\n",
    "'''\n",
    "\n",
    "# Execute the query using the engine and read the result into a DataFrame\n",
    "query_df = pd.read_sql_query(query, conn)\n",
    "\n"
   ]
  },
  {
   "cell_type": "code",
   "execution_count": 0,
   "metadata": {
    "application/vnd.databricks.v1+cell": {
     "cellMetadata": {
      "byteLimit": 2048000,
      "rowLimit": 10000
     },
     "inputWidgets": {},
     "nuid": "477260b6-c4b3-4f11-9d55-657a2ae75a1d",
     "showTitle": false,
     "title": ""
    }
   },
   "outputs": [],
   "source": [
    "df = query_df"
   ]
  },
  {
   "cell_type": "code",
   "execution_count": 0,
   "metadata": {
    "application/vnd.databricks.v1+cell": {
     "cellMetadata": {
      "byteLimit": 2048000,
      "rowLimit": 10000
     },
     "inputWidgets": {},
     "nuid": "53704a58-42a0-4c19-8f12-34a172aa8869",
     "showTitle": false,
     "title": ""
    }
   },
   "outputs": [],
   "source": [
    "# Display the first few rows of the result\n",
    "df.head(3)"
   ]
  },
  {
   "cell_type": "code",
   "execution_count": 0,
   "metadata": {
    "application/vnd.databricks.v1+cell": {
     "cellMetadata": {
      "byteLimit": 2048000,
      "rowLimit": 10000
     },
     "inputWidgets": {},
     "nuid": "313f209b-185b-4294-a801-e386dea3114b",
     "showTitle": false,
     "title": ""
    }
   },
   "outputs": [],
   "source": [
    "print(df.info())\n",
    "df['rundate'] = df['rundate'].astype('datetime64[ns]')\n",
    "df.info()"
   ]
  },
  {
   "cell_type": "code",
   "execution_count": 0,
   "metadata": {
    "application/vnd.databricks.v1+cell": {
     "cellMetadata": {
      "byteLimit": 2048000,
      "rowLimit": 10000
     },
     "inputWidgets": {},
     "nuid": "764339ec-3a0b-4725-8efe-6d14baf90464",
     "showTitle": false,
     "title": ""
    }
   },
   "outputs": [],
   "source": [
    "clv_df = pd.DataFrame()\n",
    "clv_df[\"customer_id\"] = df[\"client_id\"]\n",
    "clv_df[\"frequency\"] = df[\"frequency\"]\n",
    "clv_df[\"T_weekly\"] = df[\"t\"] / 7\n",
    "clv_df[\"recency_clv_weekly\"] = df[\"recency\"] / 7\n",
    "clv_df[\"monetary_clv_avg\"] = df[\"monetary\"] / df[\"frequency\"]\n",
    "clv_df = clv_df[clv_df[\"T_weekly\"] >= 1]\n",
    "clv_df = clv_df[clv_df[\"recency_clv_weekly\"] >= 1]\n",
    "clv_df = clv_df[clv_df[\"frequency\"] >= 1]\n",
    "clv_df = clv_df[clv_df[\"monetary_clv_avg\"] >= 1]\n",
    "\n",
    "clv_df.describe().T"
   ]
  },
  {
   "cell_type": "code",
   "execution_count": 0,
   "metadata": {
    "application/vnd.databricks.v1+cell": {
     "cellMetadata": {
      "byteLimit": 2048000,
      "rowLimit": 10000
     },
     "inputWidgets": {},
     "nuid": "89f43709-a136-42b2-979a-80826511e633",
     "showTitle": false,
     "title": ""
    }
   },
   "outputs": [],
   "source": [
    "clv_df.head()"
   ]
  },
  {
   "cell_type": "code",
   "execution_count": 0,
   "metadata": {
    "application/vnd.databricks.v1+cell": {
     "cellMetadata": {
      "byteLimit": 2048000,
      "rowLimit": 10000
     },
     "inputWidgets": {},
     "nuid": "3578b54b-8409-4ea0-bb04-e8bdf3b5ab94",
     "showTitle": false,
     "title": ""
    }
   },
   "outputs": [],
   "source": [
    "'''\n",
    "clv_df[\"predicted_spend_value_3_months\"] = clv_df[\"frequency\"] * clv_df[\"predicted_purchases_3_months\"]\n",
    "clv_df[\"predicted_spend_value_6_months\"] = clv_df[\"frequency\"] * clv_df[\"predicted_purchases_6_months\"]\n",
    "\n",
    "'''"
   ]
  },
  {
   "cell_type": "code",
   "execution_count": 0,
   "metadata": {
    "application/vnd.databricks.v1+cell": {
     "cellMetadata": {
      "byteLimit": 2048000,
      "rowLimit": 10000
     },
     "inputWidgets": {},
     "nuid": "874a6d17-aa7d-4f7c-a88d-20c479c68879",
     "showTitle": false,
     "title": ""
    }
   },
   "outputs": [],
   "source": [
    "clv_df.head()"
   ]
  },
  {
   "cell_type": "code",
   "execution_count": 0,
   "metadata": {
    "application/vnd.databricks.v1+cell": {
     "cellMetadata": {
      "byteLimit": 2048000,
      "rowLimit": 10000
     },
     "inputWidgets": {},
     "nuid": "74f2fbf3-a647-4846-b7ac-35727e04fa4b",
     "showTitle": false,
     "title": ""
    }
   },
   "outputs": [],
   "source": [
    "# plot_period_transactions(bgf)"
   ]
  },
  {
   "cell_type": "code",
   "execution_count": 0,
   "metadata": {
    "application/vnd.databricks.v1+cell": {
     "cellMetadata": {
      "byteLimit": 2048000,
      "rowLimit": 10000
     },
     "inputWidgets": {},
     "nuid": "b63b8d60-a417-4ce0-9fae-67be829178ae",
     "showTitle": false,
     "title": ""
    }
   },
   "outputs": [],
   "source": [
    "bgf = BetaGeoFitter(penalizer_coef=0.001)\n",
    "\n",
    "bgf.fit(clv_df[\"frequency\"],\n",
    "        clv_df[\"recency_clv_weekly\"],\n",
    "        clv_df[\"T_weekly\"])"
   ]
  },
  {
   "cell_type": "code",
   "execution_count": 0,
   "metadata": {
    "application/vnd.databricks.v1+cell": {
     "cellMetadata": {
      "byteLimit": 2048000,
      "rowLimit": 10000
     },
     "inputWidgets": {},
     "nuid": "2eb33975-c7cd-4803-94cb-2ea6db86ee59",
     "showTitle": false,
     "title": ""
    }
   },
   "outputs": [],
   "source": [
    "# Predict number of transactions for the next 3 months \n",
    "clv_df[\"exp_sales_3_month\"] = bgf.predict(4 * 3,\n",
    "                                          clv_df[\"frequency\"],\n",
    "                                          clv_df[\"recency_clv_weekly\"],\n",
    "                                          clv_df[\"T_weekly\"])\n",
    "clv_df.sort_values(\"exp_sales_3_month\", ascending=False).head(10)"
   ]
  },
  {
   "cell_type": "code",
   "execution_count": 0,
   "metadata": {
    "application/vnd.databricks.v1+cell": {
     "cellMetadata": {
      "byteLimit": 2048000,
      "rowLimit": 10000
     },
     "inputWidgets": {},
     "nuid": "0a7f791f-aee2-4453-b561-957e9b640e15",
     "showTitle": false,
     "title": ""
    }
   },
   "outputs": [],
   "source": [
    "# Predict number of transactions for the next 6 months \n",
    "clv_df[\"exp_sales_6_month\"] = bgf.predict(4 * 6,\n",
    "                                          clv_df[\"frequency\"],\n",
    "                                          clv_df[\"recency_clv_weekly\"],\n",
    "                                          clv_df[\"T_weekly\"])\n",
    "clv_df.sort_values(\"exp_sales_6_month\", ascending=False).head(10)"
   ]
  },
  {
   "cell_type": "code",
   "execution_count": 0,
   "metadata": {
    "application/vnd.databricks.v1+cell": {
     "cellMetadata": {
      "byteLimit": 2048000,
      "rowLimit": 10000
     },
     "inputWidgets": {},
     "nuid": "7264ac5c-4bc2-4254-bd6f-68af74aa3793",
     "showTitle": false,
     "title": ""
    }
   },
   "outputs": [],
   "source": [
    "#fitting Gamma-Gamma model\n",
    "ggf = GammaGammaFitter(penalizer_coef=0.01)\n",
    "\n",
    "ggf.fit(clv_df['frequency'], clv_df['monetary_clv_avg'])\n",
    "clv_df['predicted_average_profit'] = ggf.conditional_expected_average_profit(clv_df['frequency'], clv_df['monetary_clv_avg'])"
   ]
  },
  {
   "cell_type": "code",
   "execution_count": 0,
   "metadata": {
    "application/vnd.databricks.v1+cell": {
     "cellMetadata": {
      "byteLimit": 2048000,
      "rowLimit": 10000
     },
     "inputWidgets": {},
     "nuid": "2a3ead80-5731-4da0-bdef-a98dc33cfcf2",
     "showTitle": false,
     "title": ""
    }
   },
   "outputs": [],
   "source": [
    "clv = ggf.customer_lifetime_value(bgf,\n",
    "                                    clv_df[\"frequency\"],\n",
    "                                    clv_df[\"recency_clv_weekly\"],\n",
    "                                    clv_df[\"T_weekly\"],\n",
    "                                    clv_df[\"monetary_clv_avg\"],\n",
    "                                    time=6,  #6months\n",
    "                                    freq='W', #Tenure frequency weekly\n",
    "                                    discount_rate=0.01)\n",
    "\n",
    "\n",
    "clv_df[\"clv\"] = clv\n",
    "clv"
   ]
  },
  {
   "cell_type": "code",
   "execution_count": 0,
   "metadata": {
    "application/vnd.databricks.v1+cell": {
     "cellMetadata": {
      "byteLimit": 2048000,
      "rowLimit": 10000
     },
     "inputWidgets": {},
     "nuid": "4b12b4bd-1631-4a88-bb31-37a6e3cb4c1e",
     "showTitle": false,
     "title": ""
    }
   },
   "outputs": [],
   "source": [
    "clv_df.sort_values(\"clv\", ascending=False).head(20)"
   ]
  },
  {
   "cell_type": "code",
   "execution_count": 0,
   "metadata": {
    "application/vnd.databricks.v1+cell": {
     "cellMetadata": {
      "byteLimit": 2048000,
      "rowLimit": 10000
     },
     "inputWidgets": {},
     "nuid": "05a8a2bb-8fed-4942-a55a-84645874c73e",
     "showTitle": false,
     "title": ""
    }
   },
   "outputs": [],
   "source": [
    "# Create segments according to CLV\n",
    "\n",
    "clv_df[\"segment\"] = pd.qcut(clv_df[\"clv\"], 4, labels=[\"D\", \"C\", \"B\", \"A\"])\n",
    "clv_df.groupby(\"segment\").agg({\"mean\", \"sum\"})"
   ]
  },
  {
   "cell_type": "code",
   "execution_count": 0,
   "metadata": {
    "application/vnd.databricks.v1+cell": {
     "cellMetadata": {
      "byteLimit": 2048000,
      "rowLimit": 10000
     },
     "inputWidgets": {},
     "nuid": "a1546625-ae04-4412-8aba-f49d9c3a9c89",
     "showTitle": false,
     "title": ""
    }
   },
   "outputs": [],
   "source": [
    "clv_df.info()"
   ]
  },
  {
   "cell_type": "code",
   "execution_count": 0,
   "metadata": {
    "application/vnd.databricks.v1+cell": {
     "cellMetadata": {
      "byteLimit": 2048000,
      "rowLimit": 10000
     },
     "inputWidgets": {},
     "nuid": "4cccb3e8-167f-48bf-a67a-4ced958c41bd",
     "showTitle": false,
     "title": ""
    }
   },
   "outputs": [],
   "source": [
    "clv_df.describe().T"
   ]
  },
  {
   "cell_type": "code",
   "execution_count": 0,
   "metadata": {
    "application/vnd.databricks.v1+cell": {
     "cellMetadata": {
      "byteLimit": 2048000,
      "rowLimit": 10000
     },
     "inputWidgets": {},
     "nuid": "e0234cff-aa1a-4fa4-9b9d-46ab3a98450d",
     "showTitle": false,
     "title": ""
    }
   },
   "outputs": [],
   "source": [
    "clv_df.groupby(\"segment\").agg({\"clv\" : [\"mean\", \"sum\", \"count\", \"max\", \"min\", \"std\"]})\n",
    "\n"
   ]
  },
  {
   "cell_type": "code",
   "execution_count": 0,
   "metadata": {
    "application/vnd.databricks.v1+cell": {
     "cellMetadata": {
      "byteLimit": 2048000,
      "rowLimit": 10000
     },
     "inputWidgets": {},
     "nuid": "c6bdbcd0-4e8c-4499-8249-59baa05bbb5d",
     "showTitle": false,
     "title": ""
    }
   },
   "outputs": [],
   "source": [
    "clv_df.shape\n"
   ]
  },
  {
   "cell_type": "code",
   "execution_count": 0,
   "metadata": {
    "application/vnd.databricks.v1+cell": {
     "cellMetadata": {
      "byteLimit": 2048000,
      "rowLimit": 10000
     },
     "inputWidgets": {},
     "nuid": "009142db-2452-4ff0-a7e4-439c64eaf7e7",
     "showTitle": false,
     "title": ""
    }
   },
   "outputs": [],
   "source": [
    "clv_df.sort_values(\"clv\", ascending=False).head(20)\n"
   ]
  },
  {
   "cell_type": "code",
   "execution_count": 0,
   "metadata": {
    "application/vnd.databricks.v1+cell": {
     "cellMetadata": {
      "byteLimit": 2048000,
      "rowLimit": 10000
     },
     "inputWidgets": {},
     "nuid": "01b3e8d0-d64b-46ad-b3a4-6210cf432dac",
     "showTitle": false,
     "title": ""
    }
   },
   "outputs": [],
   "source": [
    "clv_df.sort_values(\"clv\", ascending=False).tail(20)"
   ]
  },
  {
   "cell_type": "code",
   "execution_count": 0,
   "metadata": {
    "application/vnd.databricks.v1+cell": {
     "cellMetadata": {
      "byteLimit": 2048000,
      "rowLimit": 10000
     },
     "inputWidgets": {},
     "nuid": "00e08354-104c-4d6e-9149-7d0989e62c38",
     "showTitle": false,
     "title": ""
    }
   },
   "outputs": [],
   "source": [
    "clv_df[\"run_date\"] = today    \n",
    "from pyspark.sql import SparkSession\n",
    "\n",
    "# Create a SparkSession if not already created\n",
    "spark = SparkSession.builder.getOrCreate()\n",
    "\n",
    "# Convert Pandas DataFrame to Spark DataFrame\n",
    "spark_df = spark.createDataFrame(clv_df)\n",
    "\n",
    "# Write Spark DataFrame to table in Databricks\n",
    "spark_df.write \\\n",
    "    .mode(\"overwrite\") \\\n",
    "    .saveAsTable(\"vfd_databricks.default.clv_prediction\")\n"
   ]
  },
  {
   "cell_type": "code",
   "execution_count": 0,
   "metadata": {
    "application/vnd.databricks.v1+cell": {
     "cellMetadata": {
      "byteLimit": 2048000,
      "rowLimit": 10000
     },
     "inputWidgets": {},
     "nuid": "b551d32c-afd2-4359-8542-ca72cb4e045c",
     "showTitle": false,
     "title": ""
    }
   },
   "outputs": [],
   "source": [
    "\n",
    "%%time\n",
    "\n",
    "# Write DataFrame to Redshift\n",
    "# Assuming the table name should be 'dwh_rfm_clusters'\n",
    "table_name = 'dwh_customer_lifetime_value'\n",
    "\n",
    "# Write the DataFrame to the Redshift table\n",
    "clv_df.to_sql(name=table_name, con=conn, if_exists='replace', index=False, chunksize = 10000, method = 'multi')\n",
    "\n",
    "print(f\"Data successfully written to at: \", now)\n",
    "\n"
   ]
  },
  {
   "cell_type": "code",
   "execution_count": 0,
   "metadata": {
    "application/vnd.databricks.v1+cell": {
     "cellMetadata": {
      "byteLimit": 2048000,
      "rowLimit": 10000
     },
     "inputWidgets": {},
     "nuid": "98a828b6-99cc-4037-8b37-997fb349026e",
     "showTitle": false,
     "title": ""
    }
   },
   "outputs": [],
   "source": []
  }
 ],
 "metadata": {
  "application/vnd.databricks.v1+notebook": {
   "dashboards": [],
   "environmentMetadata": null,
   "language": "python",
   "notebookMetadata": {
    "mostRecentlyExecutedCommandWithImplicitDF": {
     "commandId": 1595764914849426,
     "dataframes": [
      "_sqldf"
     ]
    },
    "pythonIndentUnit": 4
   },
   "notebookName": "CLV_Prediction",
   "widgets": {}
  },
  "kernelspec": {
   "display_name": "dslab",
   "language": "python",
   "name": "dslab"
  },
  "language_info": {
   "codemirror_mode": {
    "name": "ipython",
    "version": 3
   },
   "file_extension": ".py",
   "mimetype": "text/x-python",
   "name": "python",
   "nbconvert_exporter": "python",
   "pygments_lexer": "ipython3",
   "version": "3.11.4"
  }
 },
 "nbformat": 4,
 "nbformat_minor": 0
}
